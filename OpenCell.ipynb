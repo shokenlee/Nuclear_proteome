{
 "cells": [
  {
   "cell_type": "code",
   "execution_count": 45,
   "id": "e50f7d4a-cae9-42f5-900a-a2376135c615",
   "metadata": {},
   "outputs": [],
   "source": [
    "import os, openpyxl\n",
    "import pyperclip as pc\n",
    "import pandas as pd"
   ]
  },
  {
   "cell_type": "markdown",
   "id": "aa71830d-fdfa-44a7-b8bd-ed3f718d5b49",
   "metadata": {},
   "source": [
    "### 1. Data import"
   ]
  },
  {
   "cell_type": "code",
   "execution_count": 2,
   "id": "79c066e4-c1f7-423f-afb8-83634bf934df",
   "metadata": {},
   "outputs": [],
   "source": [
    "path = './SourceData/OpenCell/science.abi6983_table_s6.xlsx'"
   ]
  },
  {
   "cell_type": "code",
   "execution_count": 30,
   "id": "5d07a58b-0576-4ebb-b0cf-a66f04e22f4c",
   "metadata": {},
   "outputs": [
    {
     "data": {
      "text/plain": [
       "['read_me',\n",
       " 'localization_annotations',\n",
       " 'localization_annotations_flatte',\n",
       " 'Fig S7B']"
      ]
     },
     "execution_count": 30,
     "metadata": {},
     "output_type": "execute_result"
    }
   ],
   "source": [
    "wb = openpyxl.load_workbook(path)\n",
    "wb.sheetnames"
   ]
  },
  {
   "cell_type": "code",
   "execution_count": 31,
   "id": "c3b926ce-abed-4545-93b3-82ef54d7019d",
   "metadata": {},
   "outputs": [
    {
     "data": {
      "text/html": [
       "<div>\n",
       "<style scoped>\n",
       "    .dataframe tbody tr th:only-of-type {\n",
       "        vertical-align: middle;\n",
       "    }\n",
       "\n",
       "    .dataframe tbody tr th {\n",
       "        vertical-align: top;\n",
       "    }\n",
       "\n",
       "    .dataframe thead th {\n",
       "        text-align: right;\n",
       "    }\n",
       "</style>\n",
       "<table border=\"1\" class=\"dataframe\">\n",
       "  <thead>\n",
       "    <tr style=\"text-align: right;\">\n",
       "      <th></th>\n",
       "      <th>0</th>\n",
       "      <th>1</th>\n",
       "      <th>2</th>\n",
       "      <th>3</th>\n",
       "    </tr>\n",
       "  </thead>\n",
       "  <tbody>\n",
       "    <tr>\n",
       "      <th>0</th>\n",
       "      <td>target_name</td>\n",
       "      <td>ensg_id</td>\n",
       "      <td>annotation_name</td>\n",
       "      <td>annotation_grade</td>\n",
       "    </tr>\n",
       "    <tr>\n",
       "      <th>1</th>\n",
       "      <td>AAMP</td>\n",
       "      <td>ENSG00000127837</td>\n",
       "      <td>cytoplasmic</td>\n",
       "      <td>3</td>\n",
       "    </tr>\n",
       "    <tr>\n",
       "      <th>2</th>\n",
       "      <td>AAMP</td>\n",
       "      <td>ENSG00000127837</td>\n",
       "      <td>nucleoplasm</td>\n",
       "      <td>1</td>\n",
       "    </tr>\n",
       "    <tr>\n",
       "      <th>3</th>\n",
       "      <td>AATF</td>\n",
       "      <td>ENSG00000275700</td>\n",
       "      <td>nucleolus_gc</td>\n",
       "      <td>3</td>\n",
       "    </tr>\n",
       "    <tr>\n",
       "      <th>4</th>\n",
       "      <td>ABCE1</td>\n",
       "      <td>ENSG00000164163</td>\n",
       "      <td>cytoplasmic</td>\n",
       "      <td>3</td>\n",
       "    </tr>\n",
       "  </tbody>\n",
       "</table>\n",
       "</div>"
      ],
      "text/plain": [
       "             0                1                2                 3\n",
       "0  target_name          ensg_id  annotation_name  annotation_grade\n",
       "1         AAMP  ENSG00000127837      cytoplasmic                 3\n",
       "2         AAMP  ENSG00000127837      nucleoplasm                 1\n",
       "3         AATF  ENSG00000275700     nucleolus_gc                 3\n",
       "4        ABCE1  ENSG00000164163      cytoplasmic                 3"
      ]
     },
     "execution_count": 31,
     "metadata": {},
     "output_type": "execute_result"
    }
   ],
   "source": [
    "ws = wb['localization_annotations_flatte']\n",
    "df = pd.DataFrame(ws.values)\n",
    "df.head()"
   ]
  },
  {
   "cell_type": "code",
   "execution_count": 32,
   "id": "0b32deb3-e58f-44b1-8208-c53d0612a887",
   "metadata": {},
   "outputs": [
    {
     "name": "stdout",
     "output_type": "stream",
     "text": [
      "0         target_name\n",
      "1             ensg_id\n",
      "2     annotation_name\n",
      "3    annotation_grade\n",
      "Name: 0, dtype: object\n"
     ]
    }
   ],
   "source": [
    "columns = df.iloc[0,[0,1,2,3]]\n",
    "print(columns)"
   ]
  },
  {
   "cell_type": "code",
   "execution_count": 35,
   "id": "e4716455-2e9f-432d-a629-1a78ada09a3e",
   "metadata": {},
   "outputs": [],
   "source": [
    "df.columns = columns\n",
    "df = df.iloc[1:, :]"
   ]
  },
  {
   "cell_type": "code",
   "execution_count": 36,
   "id": "d98d42a7-548a-4cdf-bb93-9601ecb8d201",
   "metadata": {},
   "outputs": [
    {
     "data": {
      "text/html": [
       "<div>\n",
       "<style scoped>\n",
       "    .dataframe tbody tr th:only-of-type {\n",
       "        vertical-align: middle;\n",
       "    }\n",
       "\n",
       "    .dataframe tbody tr th {\n",
       "        vertical-align: top;\n",
       "    }\n",
       "\n",
       "    .dataframe thead th {\n",
       "        text-align: right;\n",
       "    }\n",
       "</style>\n",
       "<table border=\"1\" class=\"dataframe\">\n",
       "  <thead>\n",
       "    <tr style=\"text-align: right;\">\n",
       "      <th></th>\n",
       "      <th>target_name</th>\n",
       "      <th>ensg_id</th>\n",
       "      <th>annotation_name</th>\n",
       "      <th>annotation_grade</th>\n",
       "    </tr>\n",
       "  </thead>\n",
       "  <tbody>\n",
       "    <tr>\n",
       "      <th>2745</th>\n",
       "      <td>ZNF326</td>\n",
       "      <td>ENSG00000162664</td>\n",
       "      <td>nucleolus_gc</td>\n",
       "      <td>3</td>\n",
       "    </tr>\n",
       "    <tr>\n",
       "      <th>2746</th>\n",
       "      <td>ZNF326</td>\n",
       "      <td>ENSG00000162664</td>\n",
       "      <td>nucleoplasm</td>\n",
       "      <td>3</td>\n",
       "    </tr>\n",
       "    <tr>\n",
       "      <th>2747</th>\n",
       "      <td>ZNF598</td>\n",
       "      <td>ENSG00000167962</td>\n",
       "      <td>cytoplasmic</td>\n",
       "      <td>3</td>\n",
       "    </tr>\n",
       "    <tr>\n",
       "      <th>2748</th>\n",
       "      <td>ZNF598</td>\n",
       "      <td>ENSG00000167962</td>\n",
       "      <td>er</td>\n",
       "      <td>1</td>\n",
       "    </tr>\n",
       "    <tr>\n",
       "      <th>2749</th>\n",
       "      <td>ZYX</td>\n",
       "      <td>ENSG00000159840</td>\n",
       "      <td>cell_contact</td>\n",
       "      <td>3</td>\n",
       "    </tr>\n",
       "  </tbody>\n",
       "</table>\n",
       "</div>"
      ],
      "text/plain": [
       "0    target_name          ensg_id annotation_name annotation_grade\n",
       "2745      ZNF326  ENSG00000162664    nucleolus_gc                3\n",
       "2746      ZNF326  ENSG00000162664     nucleoplasm                3\n",
       "2747      ZNF598  ENSG00000167962     cytoplasmic                3\n",
       "2748      ZNF598  ENSG00000167962              er                1\n",
       "2749         ZYX  ENSG00000159840    cell_contact                3"
      ]
     },
     "execution_count": 36,
     "metadata": {},
     "output_type": "execute_result"
    }
   ],
   "source": [
    "# df.head(n=12)\n",
    "df.tail()"
   ]
  },
  {
   "cell_type": "code",
   "execution_count": 34,
   "id": "cd739fc4-9527-43c8-98b2-2de128f1e4fe",
   "metadata": {},
   "outputs": [
    {
     "name": "stdout",
     "output_type": "stream",
     "text": [
      "<class 'pandas.core.frame.DataFrame'>\n",
      "RangeIndex: 2749 entries, 1 to 2749\n",
      "Data columns (total 4 columns):\n",
      " #   Column            Non-Null Count  Dtype \n",
      "---  ------            --------------  ----- \n",
      " 0   target_name       2749 non-null   object\n",
      " 1   ensg_id           2749 non-null   object\n",
      " 2   annotation_name   2749 non-null   object\n",
      " 3   annotation_grade  2749 non-null   object\n",
      "dtypes: object(4)\n",
      "memory usage: 86.0+ KB\n"
     ]
    }
   ],
   "source": [
    "df.info()"
   ]
  },
  {
   "cell_type": "markdown",
   "id": "2c7b44eb-1445-4eec-9543-8f99ee1189ee",
   "metadata": {},
   "source": [
    "### 2. ID conversion from Ensembl to UniprotKB"
   ]
  },
  {
   "cell_type": "code",
   "execution_count": 37,
   "id": "dc50c741-292b-4231-9e83-bdab922b8982",
   "metadata": {},
   "outputs": [
    {
     "data": {
      "text/plain": [
       "1310"
      ]
     },
     "execution_count": 37,
     "metadata": {},
     "output_type": "execute_result"
    }
   ],
   "source": [
    "ensg_id_list = df['ensg_id'].unique()\n",
    "len(ensg_id_list)"
   ]
  },
  {
   "cell_type": "code",
   "execution_count": 40,
   "id": "75b3ddc1-2ef4-44b3-8d76-177b75aaaefe",
   "metadata": {},
   "outputs": [],
   "source": [
    "ensg_id_list_spaced = ' '.join(ensg_id_list)"
   ]
  },
  {
   "cell_type": "code",
   "execution_count": 46,
   "id": "092b6796-55fd-42a7-a62f-3bf6ac7f4dba",
   "metadata": {},
   "outputs": [],
   "source": [
    "pc.copy(ensg_id_list_spaced)"
   ]
  },
  {
   "cell_type": "markdown",
   "id": "634efe2c-47e8-4577-8ce3-9bb62e845c7e",
   "metadata": {},
   "source": [
    "#### Paste to ID mapping on Uniprot, filter for Reviewed, then excel output downloaded"
   ]
  },
  {
   "cell_type": "markdown",
   "id": "cce806ef-e641-455b-9907-68a5f1bae88d",
   "metadata": {},
   "source": [
    "#### All of 1310 genes were converted to 1312 IDs"
   ]
  },
  {
   "cell_type": "code",
   "execution_count": 49,
   "id": "8e63d913-8a99-4d9b-9f85-b5a9263e315d",
   "metadata": {},
   "outputs": [
    {
     "name": "stderr",
     "output_type": "stream",
     "text": [
      "/Users/ShokenLEE/opt/anaconda3/lib/python3.8/site-packages/openpyxl/styles/stylesheet.py:221: UserWarning: Workbook contains no default style, apply openpyxl's default\n",
      "  warn(\"Workbook contains no default style, apply openpyxl's default\")\n"
     ]
    },
    {
     "name": "stdout",
     "output_type": "stream",
     "text": [
      "<class 'pandas.core.frame.DataFrame'>\n",
      "RangeIndex: 1312 entries, 0 to 1311\n",
      "Data columns (total 7 columns):\n",
      " #   Column                                                     Non-Null Count  Dtype \n",
      "---  ------                                                     --------------  ----- \n",
      " 0   yourlist:M202203266320BA52A5CE8FCD097CB85A53697A35478814R  1312 non-null   object\n",
      " 1   isomap:M202203266320BA52A5CE8FCD097CB85A53697A35478814R    685 non-null    object\n",
      " 2   Entry                                                      1312 non-null   object\n",
      " 3   Entry name                                                 1312 non-null   object\n",
      " 4   Protein names                                              1312 non-null   object\n",
      " 5   Gene names                                                 1312 non-null   object\n",
      " 6   Organism                                                   1312 non-null   object\n",
      "dtypes: object(7)\n",
      "memory usage: 71.9+ KB\n"
     ]
    }
   ],
   "source": [
    "# import of the output excel\n",
    "df_id_converted = pd.read_excel('./SourceData/OpenCell/Intermediate/Ensg_id_to_uniprot_id.xlsx')\n",
    "df_id_converted.info()"
   ]
  },
  {
   "cell_type": "code",
   "execution_count": 50,
   "id": "e4ad75f6-172e-48dd-a8f0-1193ae23e6a6",
   "metadata": {},
   "outputs": [
    {
     "data": {
      "text/html": [
       "<div>\n",
       "<style scoped>\n",
       "    .dataframe tbody tr th:only-of-type {\n",
       "        vertical-align: middle;\n",
       "    }\n",
       "\n",
       "    .dataframe tbody tr th {\n",
       "        vertical-align: top;\n",
       "    }\n",
       "\n",
       "    .dataframe thead th {\n",
       "        text-align: right;\n",
       "    }\n",
       "</style>\n",
       "<table border=\"1\" class=\"dataframe\">\n",
       "  <thead>\n",
       "    <tr style=\"text-align: right;\">\n",
       "      <th></th>\n",
       "      <th>ensg_id</th>\n",
       "      <th>Entry</th>\n",
       "      <th>Entry name</th>\n",
       "      <th>Protein names</th>\n",
       "      <th>Gene names</th>\n",
       "      <th>Organism</th>\n",
       "    </tr>\n",
       "  </thead>\n",
       "  <tbody>\n",
       "    <tr>\n",
       "      <th>0</th>\n",
       "      <td>ENSG00000127837</td>\n",
       "      <td>Q13685</td>\n",
       "      <td>AAMP_HUMAN</td>\n",
       "      <td>Angio-associated migratory cell protein</td>\n",
       "      <td>AAMP</td>\n",
       "      <td>Homo sapiens (Human)</td>\n",
       "    </tr>\n",
       "    <tr>\n",
       "      <th>1</th>\n",
       "      <td>ENSG00000275700</td>\n",
       "      <td>Q9NY61</td>\n",
       "      <td>AATF_HUMAN</td>\n",
       "      <td>Protein AATF (Apoptosis-antagonizing transcrip...</td>\n",
       "      <td>AATF CHE1 DED HSPC277</td>\n",
       "      <td>Homo sapiens (Human)</td>\n",
       "    </tr>\n",
       "    <tr>\n",
       "      <th>2</th>\n",
       "      <td>ENSG00000164163</td>\n",
       "      <td>P61221</td>\n",
       "      <td>ABCE1_HUMAN</td>\n",
       "      <td>ATP-binding cassette sub-family E member 1 (2'...</td>\n",
       "      <td>ABCE1 RLI RNASEL1 RNASELI RNS4I OK/SW-cl.40</td>\n",
       "      <td>Homo sapiens (Human)</td>\n",
       "    </tr>\n",
       "    <tr>\n",
       "      <th>3</th>\n",
       "      <td>ENSG00000159842</td>\n",
       "      <td>Q12979</td>\n",
       "      <td>ABR_HUMAN</td>\n",
       "      <td>Active breakpoint cluster region-related protein</td>\n",
       "      <td>ABR</td>\n",
       "      <td>Homo sapiens (Human)</td>\n",
       "    </tr>\n",
       "    <tr>\n",
       "      <th>4</th>\n",
       "      <td>ENSG00000114331</td>\n",
       "      <td>Q15057</td>\n",
       "      <td>ACAP2_HUMAN</td>\n",
       "      <td>Arf-GAP with coiled-coil, ANK repeat and PH do...</td>\n",
       "      <td>ACAP2 CENTB2 KIAA0041</td>\n",
       "      <td>Homo sapiens (Human)</td>\n",
       "    </tr>\n",
       "  </tbody>\n",
       "</table>\n",
       "</div>"
      ],
      "text/plain": [
       "           ensg_id   Entry   Entry name  \\\n",
       "0  ENSG00000127837  Q13685   AAMP_HUMAN   \n",
       "1  ENSG00000275700  Q9NY61   AATF_HUMAN   \n",
       "2  ENSG00000164163  P61221  ABCE1_HUMAN   \n",
       "3  ENSG00000159842  Q12979    ABR_HUMAN   \n",
       "4  ENSG00000114331  Q15057  ACAP2_HUMAN   \n",
       "\n",
       "                                       Protein names  \\\n",
       "0            Angio-associated migratory cell protein   \n",
       "1  Protein AATF (Apoptosis-antagonizing transcrip...   \n",
       "2  ATP-binding cassette sub-family E member 1 (2'...   \n",
       "3   Active breakpoint cluster region-related protein   \n",
       "4  Arf-GAP with coiled-coil, ANK repeat and PH do...   \n",
       "\n",
       "                                    Gene names              Organism  \n",
       "0                                         AAMP  Homo sapiens (Human)  \n",
       "1                        AATF CHE1 DED HSPC277  Homo sapiens (Human)  \n",
       "2  ABCE1 RLI RNASEL1 RNASELI RNS4I OK/SW-cl.40  Homo sapiens (Human)  \n",
       "3                                          ABR  Homo sapiens (Human)  \n",
       "4                        ACAP2 CENTB2 KIAA0041  Homo sapiens (Human)  "
      ]
     },
     "execution_count": 50,
     "metadata": {},
     "output_type": "execute_result"
    }
   ],
   "source": [
    "df_id_converted = df_id_converted.drop(['isomap:M202203266320BA52A5CE8FCD097CB85A53697A35478814R'], axis=1)\n",
    "df_id_converted = df_id_converted.rename(columns={'yourlist:M202203266320BA52A5CE8FCD097CB85A53697A35478814R': 'ensg_id'})\n",
    "df_id_converted.head()"
   ]
  },
  {
   "cell_type": "code",
   "execution_count": null,
   "id": "dccff6fd-6a21-422e-94f6-f7040e5e0f02",
   "metadata": {},
   "outputs": [],
   "source": []
  }
 ],
 "metadata": {
  "kernelspec": {
   "display_name": "Python 3",
   "language": "python",
   "name": "python3"
  },
  "language_info": {
   "codemirror_mode": {
    "name": "ipython",
    "version": 3
   },
   "file_extension": ".py",
   "mimetype": "text/x-python",
   "name": "python",
   "nbconvert_exporter": "python",
   "pygments_lexer": "ipython3",
   "version": "3.8.8"
  }
 },
 "nbformat": 4,
 "nbformat_minor": 5
}
