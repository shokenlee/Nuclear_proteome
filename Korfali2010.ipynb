{
 "cells": [
  {
   "cell_type": "markdown",
   "id": "b67f95c6-eefe-44e4-9f42-5441db830bee",
   "metadata": {},
   "source": [
    "## Korfali et al. 2010\n",
    "### Mouse leukocytes"
   ]
  },
  {
   "cell_type": "code",
   "execution_count": 1,
   "id": "fce1d57a-c3b0-41f0-88a9-d13bb14afab9",
   "metadata": {},
   "outputs": [],
   "source": [
    "import pandas as pd"
   ]
  },
  {
   "cell_type": "code",
   "execution_count": 3,
   "id": "7fbc63eb-2b99-418e-849f-e6e89fe535ee",
   "metadata": {},
   "outputs": [],
   "source": [
    "# Excel import\n",
    "df_Korfali_2010 = pd.read_excel('./SourceData/Papers/Korfali_2010/rk1-139_fromTableS5.xlsx')\n",
    "\n",
    "# convert to df\n",
    "df_Korfali_2010= pd.DataFrame(df_Korfali_2010.iloc[1:, 1])\n",
    "df_Korfali_2010.columns = ['Gene_name']\n",
    "df_Korfali_2010 = df_Korfali_2010.reset_index(drop=True)"
   ]
  },
  {
   "cell_type": "code",
   "execution_count": 5,
   "id": "0c2242df-79ec-4f1c-9181-cf58369f26d6",
   "metadata": {},
   "outputs": [],
   "source": [
    "# Manual inspection and correction\n",
    "df_Korfali_2010.iloc[15, 0] = 'DHRS7'\n",
    "df_Korfali_2010.iloc[39, 0] = 'NOC2L'\n",
    "df_Korfali_2010.iloc[58, 0] = 'METTL7A'\n",
    "df_Korfali_2010.iloc[104, 0] = 'TMEM189'"
   ]
  },
  {
   "cell_type": "code",
   "execution_count": 14,
   "id": "38c8c9f6-a65a-4152-a83f-18a4db28edf3",
   "metadata": {},
   "outputs": [
    {
     "name": "stdout",
     "output_type": "stream",
     "text": [
      "0 Q9UH99 SUN2\n",
      "40 Q3LXA3 TKFC\n",
      "80 Q6NXT6 TAPT1\n",
      "120 Q9Y2W6 TDRKH\n"
     ]
    }
   ],
   "source": [
    "# uniprot API URL\n",
    "WEBSITE_API = \"https://rest.uniprot.org/uniprotkb/\"\n",
    "\n",
    "# organism id\n",
    "organism_id_list = {'Homo sapiens': '9606', 'Mus musculus': '10090'}\n",
    "organism_id = organism_id_list['Homo sapiens']\n",
    "\n",
    "# find Uniprot Entry and gene names for each gene\n",
    "for i in range(len(df_Korfali_2010)):\n",
    "    \n",
    "    # gene name\n",
    "    gene = df_Korfali_2010.iloc[i, 0]\n",
    "\n",
    "    try:\n",
    "        # get response with gene name the query\n",
    "        r = get_url(f'{WEBSITE_API}/search?query=gene:{gene}+AND+organism_id:{organism_id}&fields=accession,gene_names')\n",
    "        result = r.json()['results'][0]\n",
    "        \n",
    "        ## get human or mouse entry\n",
    "        entry_converted = result['primaryAccession']\n",
    "        ## get gene name and check the names match between human's or mouse's and the given organism's\n",
    "        gene_obtained = result['genes'][0]['geneName']['value']\n",
    "    \n",
    "    except:\n",
    "        entry_converted = 'Not_found'\n",
    "        gene_obtained = 'Not_found'\n",
    "    \n",
    "    # Put the obtained Entry and gene name\n",
    "    df_Korfali_2010.loc[i, 'Entry_Korfali_2010'] = entry_converted\n",
    "    df_Korfali_2010.loc[i, 'Gene_name_obtained'] = gene_obtained\n",
    "    \n",
    "    if i % 40 == 0: print(i, entry_converted, gene_obtained)\n",
    "    \n",
    "    # take a break and go next\n",
    "    sleep(1)"
   ]
  },
  {
   "cell_type": "code",
   "execution_count": 28,
   "id": "c01c1885-94e5-4981-a5c2-3adb2e1bc3c5",
   "metadata": {},
   "outputs": [],
   "source": [
    "# # Manually check the result\n",
    "# df_Korfali_2010.head(n=50)\n",
    "# # df_Korfali_2010.tail(n=50)"
   ]
  },
  {
   "cell_type": "code",
   "execution_count": 15,
   "id": "aed1e2a2-f512-4d56-8a29-e5877407826e",
   "metadata": {},
   "outputs": [],
   "source": [
    "df_Korfali_2010 = df_Korfali_2010.drop(['Gene_name'], axis=1)"
   ]
  },
  {
   "cell_type": "code",
   "execution_count": 16,
   "id": "6009bfbf-ea7e-4c46-9f82-517b694d765c",
   "metadata": {},
   "outputs": [],
   "source": [
    "df_Korfali_2010.to_csv('./Output/Korfali_2010.csv', index=False)"
   ]
  }
 ],
 "metadata": {
  "kernelspec": {
   "display_name": "Python 3",
   "language": "python",
   "name": "python3"
  },
  "language_info": {
   "codemirror_mode": {
    "name": "ipython",
    "version": 3
   },
   "file_extension": ".py",
   "mimetype": "text/x-python",
   "name": "python",
   "nbconvert_exporter": "python",
   "pygments_lexer": "ipython3",
   "version": "3.8.8"
  }
 },
 "nbformat": 4,
 "nbformat_minor": 5
}
