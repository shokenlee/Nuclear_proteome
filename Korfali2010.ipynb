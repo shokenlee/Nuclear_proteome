{
 "cells": [
  {
   "cell_type": "markdown",
   "id": "b67f95c6-eefe-44e4-9f42-5441db830bee",
   "metadata": {},
   "source": [
    "## Korfali et al. 2010\n",
    "### Mouse leukocytes"
   ]
  },
  {
   "cell_type": "code",
   "execution_count": 4,
   "id": "fce1d57a-c3b0-41f0-88a9-d13bb14afab9",
   "metadata": {},
   "outputs": [],
   "source": [
    "import requests, json\n",
    "import numpy as np\n",
    "import pandas as pd\n",
    "from time import sleep\n",
    "from my_utils import get_url, find_duplicate\n",
    "import my_config"
   ]
  },
  {
   "cell_type": "code",
   "execution_count": 12,
   "id": "7fbc63eb-2b99-418e-849f-e6e89fe535ee",
   "metadata": {},
   "outputs": [],
   "source": [
    "# Excel import\n",
    "df_Korfali_2010 = pd.read_excel('./SourceData/Papers/Korfali_2010/rk1-139_fromTableS5.xlsx')\n",
    "\n",
    "# convert to df\n",
    "df_Korfali_2010= pd.DataFrame(df_Korfali_2010.iloc[1:, 1])\n",
    "df_Korfali_2010.columns = ['Gene_name']\n",
    "df_Korfali_2010 = df_Korfali_2010.reset_index(drop=True)"
   ]
  },
  {
   "cell_type": "code",
   "execution_count": 13,
   "id": "0c2242df-79ec-4f1c-9181-cf58369f26d6",
   "metadata": {},
   "outputs": [],
   "source": [
    "# Manual inspection and correction\n",
    "df_Korfali_2010.iloc[15, 0] = 'DHRS7'\n",
    "df_Korfali_2010.iloc[39, 0] = 'NOC2L'\n",
    "df_Korfali_2010.iloc[58, 0] = 'METTL7A'\n",
    "df_Korfali_2010.iloc[104, 0] = 'TMEM189'"
   ]
  },
  {
   "cell_type": "code",
   "execution_count": 14,
   "id": "38c8c9f6-a65a-4152-a83f-18a4db28edf3",
   "metadata": {},
   "outputs": [
    {
     "name": "stdout",
     "output_type": "stream",
     "text": [
      "0 Q9UH99 SUN2\n",
      "40 Q3LXA3 TKFC\n",
      "80 Q6NXT6 TAPT1\n",
      "Error in fetching LOC100130633: list index out of range\n",
      "Error in fetching TMPP: list index out of range\n",
      "120 Q9Y2W6 TDRKH\n",
      "Error in fetching MGC3196: list index out of range\n"
     ]
    }
   ],
   "source": [
    "# find Uniprot Entry and gene names for each gene\n",
    "for i in range(len(df_Korfali_2010)):\n",
    "    # default values\n",
    "    entry_converted = gene_obtained = 'Not_found'\n",
    "    \n",
    "    # gene name\n",
    "    gene = df_Korfali_2010.iloc[i, 0]\n",
    "\n",
    "    try:\n",
    "        # Query the gene name to get the Uniprot ID and the Uniprot-registered gene name\n",
    "        params = {\n",
    "        \"query\": f'gene:{gene} AND organism_id:{my_config.organism_id_list[\"Homo sapiens\"]}',\n",
    "        \"fields\": \"accession, gene_names\",\n",
    "        \"format\": \"json\"\n",
    "        }\n",
    "        \n",
    "        r = get_url(my_config.WEBSITE_API, params=params)\n",
    "        result = r.json()['results'][0]\n",
    "        entry_converted = result['primaryAccession']\n",
    "        gene_obtained = result['genes'][0]['geneName']['value']\n",
    "    \n",
    "    except Exception as e:\n",
    "        print(f'Error in fetching {gene}: {e}') \n",
    "    \n",
    "    # Put the obtained Entry and gene name\n",
    "    df_Korfali_2010.loc[i, 'Entry_Korfali_2010'] = entry_converted\n",
    "    df_Korfali_2010.loc[i, 'Gene_name_obtained'] = gene_obtained\n",
    "    \n",
    "    if i % 40 == 0: print(i, entry_converted, gene_obtained)\n",
    "    \n",
    "    # take a break and go next\n",
    "    sleep(1)"
   ]
  },
  {
   "cell_type": "markdown",
   "id": "dcaeed30-80b7-45f4-94a1-95906304f3af",
   "metadata": {},
   "source": [
    "### The three proteins that were not found seems to be removed from UniProt record. In the original paper they were hypothetical proteins\n",
    "### I remove those three"
   ]
  },
  {
   "cell_type": "code",
   "execution_count": 15,
   "id": "af26bfdd-e72a-4eba-95d9-85c530b412ea",
   "metadata": {
    "tags": []
   },
   "outputs": [],
   "source": [
    "df_Korfali_2010_cleaned = df_Korfali_2010[df_Korfali_2010.Entry_Korfali_2010 != 'Not_found']"
   ]
  },
  {
   "cell_type": "code",
   "execution_count": 23,
   "id": "9df00895-8c2b-4af4-bf8c-e6ca09422acc",
   "metadata": {
    "tags": []
   },
   "outputs": [
    {
     "name": "stdout",
     "output_type": "stream",
     "text": [
      "[]\n"
     ]
    }
   ],
   "source": [
    "df_Korfali_2010_cleaned = df_Korfali_2010_cleaned.drop(['Gene_name'], axis=1)\n",
    "\n",
    "# Duplicate check\n",
    "print(find_duplicate(df_Korfali_2010_cleaned.Entry_Korfali_2010.to_list()))"
   ]
  },
  {
   "cell_type": "code",
   "execution_count": 19,
   "id": "6009bfbf-ea7e-4c46-9f82-517b694d765c",
   "metadata": {},
   "outputs": [],
   "source": [
    "df_Korfali_2010_cleaned.to_csv('./Output/Korfali_2010.csv', index=False)"
   ]
  }
 ],
 "metadata": {
  "kernelspec": {
   "display_name": "Python 3 (ipykernel)",
   "language": "python",
   "name": "python3"
  },
  "language_info": {
   "codemirror_mode": {
    "name": "ipython",
    "version": 3
   },
   "file_extension": ".py",
   "mimetype": "text/x-python",
   "name": "python",
   "nbconvert_exporter": "python",
   "pygments_lexer": "ipython3",
   "version": "3.11.3"
  }
 },
 "nbformat": 4,
 "nbformat_minor": 5
}
