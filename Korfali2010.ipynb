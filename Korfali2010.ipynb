{
 "cells": [
  {
   "cell_type": "markdown",
   "id": "b67f95c6-eefe-44e4-9f42-5441db830bee",
   "metadata": {},
   "source": [
    "## Korfali et al. 2010\n",
    "### Mouse leukocytes"
   ]
  },
  {
   "cell_type": "code",
   "execution_count": 3,
   "id": "fce1d57a-c3b0-41f0-88a9-d13bb14afab9",
   "metadata": {},
   "outputs": [],
   "source": [
    "import pandas as pd\n",
    "from time import sleep\n",
    "from my_utils import get_url, find_duplicate\n",
    "import my_config"
   ]
  },
  {
   "cell_type": "code",
   "execution_count": 9,
   "id": "7fbc63eb-2b99-418e-849f-e6e89fe535ee",
   "metadata": {},
   "outputs": [],
   "source": [
    "# Gene names from Korfali_2010 table S5 were manually extracted from the PDF file and then saved as an excel file\n",
    "# read the excel file\n",
    "df_Korfali_2010_raw = pd.read_excel('./SourceData/Papers/Korfali_2010/rk1-139_fromTableS5.xlsx')\n",
    "\n",
    "# Clean up to a new df\n",
    "df_Korfali_2010= pd.DataFrame(df_Korfali_2010_raw.iloc[1:, 1])\n",
    "df_Korfali_2010.columns = ['Original_Gene_Name']\n",
    "df_Korfali_2010 = df_Korfali_2010.reset_index(drop=True)"
   ]
  },
  {
   "cell_type": "code",
   "execution_count": 17,
   "id": "5b4e580b-8e53-4198-9e86-b5f2a389fbae",
   "metadata": {
    "tags": []
   },
   "outputs": [
    {
     "name": "stdout",
     "output_type": "stream",
     "text": [
      "How many genes? 139\n"
     ]
    }
   ],
   "source": [
    "print('How many genes?', len(df_Korfali_2010.Original_Gene_Name))"
   ]
  },
  {
   "cell_type": "code",
   "execution_count": 11,
   "id": "38c8c9f6-a65a-4152-a83f-18a4db28edf3",
   "metadata": {},
   "outputs": [
    {
     "name": "stdout",
     "output_type": "stream",
     "text": [
      "0 UNC84B Q9UH99 SUN2\n",
      "10 LEMD3 Q9Y2U8 LEMD3\n",
      "Error in fetching NDHRS7 in index 15: list index out of range\n",
      "20 NCLN Q969V3 NCLN\n",
      "30 SCCPDH Q8NBX0 SCCPDH\n",
      "Error in fetching NNOC2L in index 39: list index out of range\n",
      "40 DAK Q3LXA3 TKFC\n",
      "50 ZMIZ2 Q8NF64 ZMIZ2\n",
      "Error in fetching NMTTL7A in index 58: list index out of range\n",
      "60 CKAP4 Q07065 CKAP4\n",
      "70 C9orf46 Q9HBL7 PLGRKT\n",
      "80 TAPT1 Q6NXT6 TAPT1\n",
      "Error in fetching LOC100130633 in index 88: list index out of range\n",
      "90 C15orf48 Q9C002 NMES1\n",
      "100 C16orf54 Q6UWD8 C16orf54\n",
      "Error in fetching TMPP in index 102: list index out of range\n",
      "Error in fetching NTMM189 in index 104: list index out of range\n",
      "110 TMEM179B Q7Z7N9 TMEM179B\n",
      "120 TDRKH Q9Y2W6 TDRKH\n",
      "130 TMEM93 Q9BV81 EMC6\n",
      "Error in fetching MGC3196 in index 132: list index out of range\n"
     ]
    }
   ],
   "source": [
    "# find Uniprot Entry and gene names for each gene\n",
    "for i in range(len(df_Korfali_2010)):\n",
    "    # default values\n",
    "    entry_converted = 'Not_Found'\n",
    "    gene_obtained = 'Not_Found'\n",
    "    \n",
    "    # gene name\n",
    "    gene = df_Korfali_2010.iloc[i, 0]\n",
    "\n",
    "    try:\n",
    "        # Query the gene name to get the Uniprot ID and the Uniprot-registered gene name\n",
    "        params = {\n",
    "        \"query\": f'gene:{gene} AND organism_id:{my_config.organism_id_list[\"Homo sapiens\"]}',\n",
    "        \"fields\": \"accession, gene_names\",\n",
    "        \"format\": \"json\"\n",
    "        }\n",
    "        \n",
    "        r = get_url(my_config.WEBSITE_API, params=params)\n",
    "        result = r.json()['results'][0]\n",
    "        entry_converted = result['primaryAccession']\n",
    "        gene_obtained = result['genes'][0].get('geneName', {}).get('value', 'Not_Found')\n",
    "    \n",
    "    except Exception as e:\n",
    "        print(f'Error in fetching {gene} in index {i}: {e}') \n",
    "    \n",
    "    # Put the obtained Entry and gene name\n",
    "    df_Korfali_2010.loc[i, 'Entry_Korfali_2010'] = entry_converted\n",
    "    df_Korfali_2010.loc[i, 'Gene_Name'] = gene_obtained\n",
    "    \n",
    "    # Log\n",
    "    if i % 10 == 0: print(i, gene, entry_converted, gene_obtained)\n",
    "    \n",
    "    # take a break and go next\n",
    "    sleep(1)"
   ]
  },
  {
   "cell_type": "markdown",
   "id": "37de4be4",
   "metadata": {},
   "source": [
    "#### What are the missing gene?\n",
    "#### Manual checking turned out the genes below were misspelled during the pdf extraction process. Manually searched UniProt and fixed the table"
   ]
  },
  {
   "cell_type": "code",
   "execution_count": 12,
   "id": "473ef065",
   "metadata": {},
   "outputs": [],
   "source": [
    "df_Korfali_2010.loc[15, 'Gene_Name'] = 'DHRS7'\n",
    "df_Korfali_2010.loc[15, 'Entry_Korfali_2010'] = 'Q9Y394'\n",
    "df_Korfali_2010.loc[39, 'Gene_Name'] = 'NOC2L'\n",
    "df_Korfali_2010.loc[39, 'Entry_Korfali_2010'] = 'Q9Y3T9'\n",
    "df_Korfali_2010.loc[58, 'Gene_Name'] = 'METTL7A'\n",
    "df_Korfali_2010.loc[58, 'Entry_Korfali_2010'] = 'Q9H8H3'\n",
    "df_Korfali_2010.loc[104, 'Gene_Name'] = 'TMEM189'\n",
    "df_Korfali_2010.loc[104, 'Entry_Korfali_2010'] = 'A5PLL7'"
   ]
  },
  {
   "cell_type": "markdown",
   "id": "dcaeed30-80b7-45f4-94a1-95906304f3af",
   "metadata": {},
   "source": [
    "#### The other three proteins that were not found - they likely have been removed from UniProt record. Even in the original paper they were hypothetical proteins\n",
    "#### Thus it is ok to remove those three proteins"
   ]
  },
  {
   "cell_type": "code",
   "execution_count": 13,
   "id": "af26bfdd-e72a-4eba-95d9-85c530b412ea",
   "metadata": {
    "tags": []
   },
   "outputs": [],
   "source": [
    "df_Korfali_2010_cleaned = df_Korfali_2010[df_Korfali_2010.Entry_Korfali_2010 != 'Not_Found']"
   ]
  },
  {
   "cell_type": "code",
   "execution_count": 14,
   "id": "ee492c3a",
   "metadata": {},
   "outputs": [
    {
     "name": "stdout",
     "output_type": "stream",
     "text": [
      "How many genes found? 136\n"
     ]
    }
   ],
   "source": [
    "print('How many genes found?', len(df_Korfali_2010_cleaned.Entry_Korfali_2010))"
   ]
  },
  {
   "cell_type": "code",
   "execution_count": 15,
   "id": "9df00895-8c2b-4af4-bf8c-e6ca09422acc",
   "metadata": {
    "tags": []
   },
   "outputs": [
    {
     "name": "stdout",
     "output_type": "stream",
     "text": [
      "Duplicate:  []\n"
     ]
    }
   ],
   "source": [
    "df_Korfali_2010_cleaned = df_Korfali_2010_cleaned.drop(['Original_Gene_Name'], axis=1)\n",
    "\n",
    "# Duplicate check\n",
    "print('Duplicate: ', find_duplicate(df_Korfali_2010_cleaned.Entry_Korfali_2010.to_list()))"
   ]
  },
  {
   "cell_type": "code",
   "execution_count": 16,
   "id": "6009bfbf-ea7e-4c46-9f82-517b694d765c",
   "metadata": {},
   "outputs": [],
   "source": [
    "df_Korfali_2010_cleaned.to_csv('./Output/Korfali_2010.csv', index=False)"
   ]
  },
  {
   "cell_type": "code",
   "execution_count": null,
   "id": "c195adc0",
   "metadata": {},
   "outputs": [],
   "source": []
  }
 ],
 "metadata": {
  "kernelspec": {
   "display_name": "py311",
   "language": "python",
   "name": "python3"
  },
  "language_info": {
   "codemirror_mode": {
    "name": "ipython",
    "version": 3
   },
   "file_extension": ".py",
   "mimetype": "text/x-python",
   "name": "python",
   "nbconvert_exporter": "python",
   "pygments_lexer": "ipython3",
   "version": "3.11.5"
  }
 },
 "nbformat": 4,
 "nbformat_minor": 5
}
