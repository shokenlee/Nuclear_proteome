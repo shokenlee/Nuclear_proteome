{
 "cells": [
  {
   "cell_type": "markdown",
   "id": "291bd47f-b86e-4779-9573-0e8f4deb0cbf",
   "metadata": {},
   "source": [
    "## Wilkie et al. 2010\n",
    "### Rat skeletal muscle"
   ]
  },
  {
   "cell_type": "code",
   "execution_count": 20,
   "id": "f1359e68-06fb-45be-a145-49a81508eb35",
   "metadata": {},
   "outputs": [
    {
     "name": "stdout",
     "output_type": "stream",
     "text": [
      "['Table 1', 'Extracted']\n"
     ]
    },
    {
     "name": "stderr",
     "output_type": "stream",
     "text": [
      "<ipython-input-20-ad279f51e5a2>:2: DeprecationWarning: Call to deprecated function get_sheet_names (Use wb.sheetnames).\n",
      "  print(wb.get_sheet_names())\n",
      "<ipython-input-20-ad279f51e5a2>:4: DeprecationWarning: Call to deprecated function get_sheet_by_name (Use wb[sheetname]).\n",
      "  sheet = wb.get_sheet_by_name('Extracted')\n"
     ]
    }
   ],
   "source": [
    "# Excel import\n",
    "wb = openpyxl.load_workbook('./SourceData/Wilkie_2010/mcp.M110.003129-6.xlsx')\n",
    "print(wb.get_sheet_names())\n",
    "\n",
    "# sheet selected\n",
    "sheet = wb.get_sheet_by_name('Extracted')\n",
    "_df_wilkie = pd.DataFrame(sheet.values)\n",
    "\n",
    "# convert to df\n",
    "df_wilkie = pd.DataFrame(_df_wilkie.iloc[3:, 1])\n",
    "df_wilkie.columns = ['Gene_name']\n",
    "df_wilkie = df_wilkie.reset_index(drop=True)\n",
    "df_wilkie"
   ]
  },
  {
   "cell_type": "code",
   "execution_count": 42,
   "id": "78438dee-8f5c-401a-be3f-1ea70ff4e477",
   "metadata": {},
   "outputs": [],
   "source": [
    "# uniprot API URL\n",
    "WEBSITE_API = \"https://rest.uniprot.org/uniprotkb/\"\n",
    "\n",
    "# organism id\n",
    "organism_id_list = {'Homo sapiens': '9606', 'Mus musculus': '10090'}\n",
    "organism_id = organism_id_list['Homo sapiens']\n",
    "\n",
    "# find Uniprot Entry and gene names for each gene\n",
    "for i in range(len(df_wilkie)):\n",
    "    \n",
    "    # gene name\n",
    "    gene = df_wilkie.iloc[i, 0]\n",
    "\n",
    "    try:\n",
    "        # get response with gene name the query\n",
    "        r = get_url(f'{WEBSITE_API}/search?query=gene:{gene}+AND+organism_id:{organism_id}&fields=accession,gene_names')\n",
    "        result = r.json()['results'][0]\n",
    "        \n",
    "        ## get human or mouse entry\n",
    "        entry_converted = result['primaryAccession']\n",
    "        ## get gene name and check the names match between human's or mouse's and the given organism's\n",
    "        gene_obtained = result['genes'][0]['geneName']['value']\n",
    "    \n",
    "    except:\n",
    "        entry_converted = 'Not_found'\n",
    "    \n",
    "    # Put the obtained Entry and gene name\n",
    "    df_wilkie.loc[i, 'Entry_Wilkie'] = entry_converted\n",
    "    df_wilkie.loc[i, 'Gene_name_obtained'] = gene_obtained\n",
    "    \n",
    "    # take a break and go next\n",
    "    sleep(1)"
   ]
  },
  {
   "cell_type": "code",
   "execution_count": 46,
   "id": "930135a3-1a9a-4c83-96fb-fd712ac87660",
   "metadata": {},
   "outputs": [],
   "source": [
    "# Manually check the result\n",
    "# df_wilkie.head(n=50)\n",
    "# df_wilkie.tail(n=50)"
   ]
  },
  {
   "cell_type": "code",
   "execution_count": 47,
   "id": "2675637a-128c-439c-a1ff-a16cb9895638",
   "metadata": {},
   "outputs": [],
   "source": [
    "df_wilkie = df_wilkie.drop(['Gene_name'], axis=1)"
   ]
  },
  {
   "cell_type": "code",
   "execution_count": 48,
   "id": "fd174597-d784-4672-a8ad-bc16f7703b9c",
   "metadata": {},
   "outputs": [],
   "source": [
    "df_wilkie.to_csv('./Output/Wilkie_2010.csv', index=False)"
   ]
  }
 ],
 "metadata": {
  "kernelspec": {
   "display_name": "Python 3",
   "language": "python",
   "name": "python3"
  },
  "language_info": {
   "codemirror_mode": {
    "name": "ipython",
    "version": 3
   },
   "file_extension": ".py",
   "mimetype": "text/x-python",
   "name": "python",
   "nbconvert_exporter": "python",
   "pygments_lexer": "ipython3",
   "version": "3.8.8"
  }
 },
 "nbformat": 4,
 "nbformat_minor": 5
}
