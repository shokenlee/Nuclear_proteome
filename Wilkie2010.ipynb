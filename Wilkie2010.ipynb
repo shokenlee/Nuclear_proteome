{
 "cells": [
  {
   "cell_type": "markdown",
   "id": "291bd47f-b86e-4779-9573-0e8f4deb0cbf",
   "metadata": {},
   "source": [
    "## Wilkie et al. 2010\n",
    "### Rat skeletal muscle"
   ]
  },
  {
   "cell_type": "code",
   "execution_count": 1,
   "id": "bbefd86f-287e-4f48-a0d7-deac32739b74",
   "metadata": {
    "tags": []
   },
   "outputs": [],
   "source": [
    "import requests\n",
    "import openpyxl\n",
    "import pandas as pd\n",
    "from time import sleep\n",
    "from my_utils import get_url, find_duplicate\n",
    "import my_config"
   ]
  },
  {
   "cell_type": "code",
   "execution_count": 8,
   "id": "f1359e68-06fb-45be-a145-49a81508eb35",
   "metadata": {},
   "outputs": [
    {
     "name": "stdout",
     "output_type": "stream",
     "text": [
      "Sheet names:  ['Table 1', 'Extracted']\n"
     ]
    }
   ],
   "source": [
    "# Excel import\n",
    "wb = openpyxl.load_workbook('./SourceData/Papers/Wilkie2010/mcp.M110.003129-6.xlsx')\n",
    "print('Sheet names: ', wb.sheetnames)\n",
    "\n",
    "# sheet selected\n",
    "sheet = wb['Extracted']\n",
    "\n",
    "# convert to df\n",
    "_df_wilkie = pd.DataFrame(sheet.values)\n",
    "df_wilkie = pd.DataFrame(_df_wilkie.iloc[3:, 1])\n",
    "df_wilkie.columns = ['Gene_name']\n",
    "df_wilkie = df_wilkie.reset_index(drop=True)"
   ]
  },
  {
   "cell_type": "code",
   "execution_count": 10,
   "id": "88af1633-540e-4857-8dc5-b3a3519a6729",
   "metadata": {
    "tags": []
   },
   "outputs": [
    {
     "name": "stdout",
     "output_type": "stream",
     "text": [
      "Number of genes:  94\n"
     ]
    }
   ],
   "source": [
    "print('Number of genes: ', len(df_wilkie.Gene_name))"
   ]
  },
  {
   "cell_type": "code",
   "execution_count": 11,
   "id": "78438dee-8f5c-401a-be3f-1ea70ff4e477",
   "metadata": {},
   "outputs": [
    {
     "name": "stdout",
     "output_type": "stream",
     "text": [
      "0 Q9UH99 SUN2\n",
      "20 Q9BTX1 NDC1\n",
      "40 Q8NBV4 PLPP7\n",
      "60 Q9NX61 TMEM161A\n",
      "80 Q75T13 PGAP1\n",
      "Error in fetching LOC687797: list index out of range\n"
     ]
    }
   ],
   "source": [
    "# find Uniprot Entry and gene names for each gene\n",
    "for i in range(len(df_wilkie)):\n",
    "    # default values\n",
    "    entry_converted = gene_obtained = 'Not_found'\n",
    "    \n",
    "    # gene name\n",
    "    gene = df_wilkie.iloc[i, 0]\n",
    "\n",
    "    try:\n",
    "        # Query the gene name to get the Uniprot ID and the Uniprot-registered gene name\n",
    "        params = {\n",
    "        \"query\": f'gene:{gene} AND organism_id:{my_config.organism_id_list[\"Homo sapiens\"]}',\n",
    "        \"fields\": \"accession, gene_names\",\n",
    "        \"format\": \"json\"\n",
    "        }\n",
    "        \n",
    "        r = get_url(my_config.WEBSITE_API, params=params)\n",
    "        result = r.json()['results'][0]\n",
    "        entry_converted = result['primaryAccession']\n",
    "        gene_obtained = result['genes'][0]['geneName']['value']\n",
    "    \n",
    "    except Exception as e:\n",
    "        print(f'Error in fetching {gene}: {e}')\n",
    "    \n",
    "    # Put the obtained Entry and gene name\n",
    "    df_wilkie.loc[i, 'Entry_Wilkie'] = entry_converted\n",
    "    df_wilkie.loc[i, 'Gene_name_obtained'] = gene_obtained\n",
    "    \n",
    "    # take a break and go next\n",
    "    sleep(1)\n",
    "    \n",
    "    if i % 20 == 0: print(i, entry_converted, gene_obtained)"
   ]
  },
  {
   "cell_type": "markdown",
   "id": "4f1f1add-b512-4641-b83b-6d2cbedc8663",
   "metadata": {},
   "source": [
    "#### Any duplicates?"
   ]
  },
  {
   "cell_type": "code",
   "execution_count": 12,
   "id": "c931f514-d089-4a7b-a693-099a8b07b70a",
   "metadata": {
    "tags": []
   },
   "outputs": [
    {
     "name": "stdout",
     "output_type": "stream",
     "text": [
      "[]\n"
     ]
    }
   ],
   "source": [
    "print(find_duplicate(df_wilkie.Entry_Wilkie.to_list()))"
   ]
  },
  {
   "cell_type": "code",
   "execution_count": 13,
   "id": "2675637a-128c-439c-a1ff-a16cb9895638",
   "metadata": {},
   "outputs": [],
   "source": [
    "df_wilkie = df_wilkie.drop(['Gene_name'], axis=1)"
   ]
  },
  {
   "cell_type": "code",
   "execution_count": 14,
   "id": "fd174597-d784-4672-a8ad-bc16f7703b9c",
   "metadata": {},
   "outputs": [],
   "source": [
    "df_wilkie.to_csv('./Output/Wilkie_2010.csv', index=False)"
   ]
  }
 ],
 "metadata": {
  "kernelspec": {
   "display_name": "Python 3 (ipykernel)",
   "language": "python",
   "name": "python3"
  },
  "language_info": {
   "codemirror_mode": {
    "name": "ipython",
    "version": 3
   },
   "file_extension": ".py",
   "mimetype": "text/x-python",
   "name": "python",
   "nbconvert_exporter": "python",
   "pygments_lexer": "ipython3",
   "version": "3.11.3"
  }
 },
 "nbformat": 4,
 "nbformat_minor": 5
}
