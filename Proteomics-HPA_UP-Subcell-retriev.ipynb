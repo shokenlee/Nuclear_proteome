{
 "cells": [
  {
   "cell_type": "code",
   "execution_count": 1,
   "id": "431e919a-ab15-458c-a1f0-76e1db92f39f",
   "metadata": {
    "tags": []
   },
   "outputs": [],
   "source": [
    "import requests\n",
    "from time import sleep\n",
    "import pandas as pd\n",
    "from my_utils import get_url\n",
    "import my_config"
   ]
  },
  {
   "cell_type": "code",
   "execution_count": 2,
   "id": "f5e98359-fc18-49f5-9f85-013c31357055",
   "metadata": {},
   "outputs": [],
   "source": [
    "df = pd.read_csv('./Output/Proteomics-HPA_Merged.csv')"
   ]
  },
  {
   "cell_type": "code",
   "execution_count": 3,
   "id": "03725fd7-206c-49a7-8334-5e9f296dbf2a",
   "metadata": {
    "tags": []
   },
   "outputs": [
    {
     "name": "stdout",
     "output_type": "stream",
     "text": [
      "410\n"
     ]
    }
   ],
   "source": [
    "print(len(df))"
   ]
  },
  {
   "cell_type": "code",
   "execution_count": 12,
   "id": "c011c238-bebb-4051-9173-dfcbb241e083",
   "metadata": {
    "tags": []
   },
   "outputs": [
    {
     "name": "stdout",
     "output_type": "stream",
     "text": [
      "Done 0 Q92604\n",
      "Done 100 Q12912\n",
      "Done 200 Q9BSJ8\n",
      "Done 300 Q5J8M3\n",
      "Done 400 Q9HD20\n"
     ]
    }
   ],
   "source": [
    "result_store = list()\n",
    "\n",
    "for i, entry in enumerate(df.UniprotID):\n",
    "    \n",
    "    try:\n",
    "        # Query the gene name to get the Uniprot ID and the Uniprot-registered gene name\n",
    "        params = {\n",
    "        \"query\": f'accession:{entry}',\n",
    "        \"fields\": \"cc_subcellular_location\",\n",
    "        \"format\": \"json\"\n",
    "        }\n",
    "        \n",
    "        r = get_url(my_config.WEBSITE_API, params=params)\n",
    "        result = r.json()['results'][0]\n",
    "        result_store.append(result)\n",
    "        \n",
    "    except Exception as e:\n",
    "        print(f'Error in fetching {entry}: {e}')\n",
    "        result_store.append({})\n",
    "        \n",
    "    sleep(1)\n",
    "    \n",
    "    if i % 100 == 0: print('Done', i, entry)"
   ]
  },
  {
   "cell_type": "code",
   "execution_count": 13,
   "id": "777555da-fab6-4e9f-8992-3aef79383e2c",
   "metadata": {
    "tags": []
   },
   "outputs": [
    {
     "data": {
      "text/plain": [
       "410"
      ]
     },
     "execution_count": 13,
     "metadata": {},
     "output_type": "execute_result"
    }
   ],
   "source": [
    "len(result_store)"
   ]
  },
  {
   "cell_type": "code",
   "execution_count": 14,
   "id": "160628ae-bffa-4d6c-ac86-14899784d05e",
   "metadata": {
    "tags": []
   },
   "outputs": [],
   "source": [
    "_df = pd.DataFrame(\n",
    "        {\n",
    "         \"UniprotID\": df.UniprotID.to_list(),\n",
    "         \"Results\": result_store\n",
    "        }\n",
    ")"
   ]
  },
  {
   "cell_type": "code",
   "execution_count": 18,
   "id": "fabd2963-1ecb-4080-ab9e-5db8dba24852",
   "metadata": {
    "tags": []
   },
   "outputs": [],
   "source": [
    "_df.to_csv('./Output/UniprotSubcellResults.csv', index=False)"
   ]
  },
  {
   "cell_type": "code",
   "execution_count": null,
   "id": "77f9f12b-3ff0-48f3-b2f7-c19094f47aaf",
   "metadata": {},
   "outputs": [],
   "source": []
  }
 ],
 "metadata": {
  "kernelspec": {
   "display_name": "Python 3 (ipykernel)",
   "language": "python",
   "name": "python3"
  },
  "language_info": {
   "codemirror_mode": {
    "name": "ipython",
    "version": 3
   },
   "file_extension": ".py",
   "mimetype": "text/x-python",
   "name": "python",
   "nbconvert_exporter": "python",
   "pygments_lexer": "ipython3",
   "version": "3.11.3"
  }
 },
 "nbformat": 4,
 "nbformat_minor": 5
}
