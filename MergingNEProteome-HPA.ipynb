{
 "cells": [
  {
   "cell_type": "code",
   "execution_count": 21,
   "id": "472977fb-6b93-4c4c-ba00-185d1266adfc",
   "metadata": {
    "tags": []
   },
   "outputs": [],
   "source": [
    "import pandas as pd"
   ]
  },
  {
   "cell_type": "code",
   "execution_count": 57,
   "id": "2dd86e1c-6e62-476b-be48-25c24d6afa06",
   "metadata": {
    "tags": []
   },
   "outputs": [],
   "source": [
    "df = pd.read_csv('./Output/ProteomicsPapersMerged.csv')\n",
    "df_HPA = pd.read_csv('./Output/HPA_val_supp_nucleus.csv')"
   ]
  },
  {
   "cell_type": "code",
   "execution_count": 58,
   "id": "1bcc6d5c-84a4-4128-8601-23c1046a5a59",
   "metadata": {},
   "outputs": [],
   "source": [
    "df = df.merge(df_HPA, left_on=\"UniprotID\", right_on=\"Uniprot\", how='outer')"
   ]
  },
  {
   "cell_type": "markdown",
   "id": "7a61b926-8f09-48c5-b4a0-4f1c8af9597a",
   "metadata": {},
   "source": [
    "#### *** CAUTION"
   ]
  },
  {
   "cell_type": "markdown",
   "id": "76f3ccc8-c8c7-4949-9749-e990eefdccf5",
   "metadata": {},
   "source": [
    "#### Remove HPA-only proteins"
   ]
  },
  {
   "cell_type": "code",
   "execution_count": 59,
   "id": "ab253382-04fd-4eb3-a2b7-3eff70c620f7",
   "metadata": {
    "tags": []
   },
   "outputs": [],
   "source": [
    "df = df.dropna(subset=['UniprotID'])"
   ]
  },
  {
   "cell_type": "markdown",
   "id": "f3454a7d-9d12-4a04-9de5-72a53e7ce4cc",
   "metadata": {},
   "source": [
    "#### ***"
   ]
  },
  {
   "cell_type": "code",
   "execution_count": 60,
   "id": "cb346085-951d-4f86-8ca1-3c20f5db14af",
   "metadata": {},
   "outputs": [],
   "source": [
    "df = df.drop(columns=['Gene', 'Uniprot'], axis=1)\n",
    "df.fillna('NO', inplace=True)\n",
    "df = df.rename(columns={'Reliability': 'HPA_reliability', 'IF location score':'HPA_loc'})\n",
    "df['HPA'] = df.HPA_loc.apply(lambda x: 1 if x != 'NO' else 0)"
   ]
  },
  {
   "cell_type": "code",
   "execution_count": 61,
   "id": "ab9b9177-2bb9-4823-80b9-a5634f3b4ff6",
   "metadata": {},
   "outputs": [],
   "source": [
    "df = df[['UniprotID', 'GeneName', 'Schirmer_2003', 'Korfali_2010', 'Wilkie_2010',\n",
    "       'Korfali_2012', 'Korfali_2012_NE:MM-ratio', 'Cheng_2019',\n",
    "       'Cheng_2019_Score:Undiff', 'Cheng_2019_Score:Adipo',\n",
    "       'Cheng_2019_Score:Myo', '#ProteomePapers', 'HPA', 'HPA_reliability', 'HPA_loc']]"
   ]
  },
  {
   "cell_type": "code",
   "execution_count": 71,
   "id": "3858b18e-150b-49a0-9b75-cf2d55a2f5f2",
   "metadata": {
    "tags": []
   },
   "outputs": [
    {
     "name": "stdout",
     "output_type": "stream",
     "text": [
      "How many single-proteome proteins (287) have support from HPA?: 34\n"
     ]
    }
   ],
   "source": [
    "single = len(df[df['#ProteomePapers'] == 1])\n",
    "single_but_HPA = len(df[(df['#ProteomePapers'] == 1) & (df['HPA'] == 1)])\n",
    "print(f'How many single-proteome proteins ({single}) have support from HPA?: {single_but_HPA}')"
   ]
  },
  {
   "cell_type": "code",
   "execution_count": 72,
   "id": "dc97411c-9d1e-4f39-8e58-fc2e6966f563",
   "metadata": {},
   "outputs": [],
   "source": [
    "df.to_csv('./Output/Proteomics-HPA_Merged.csv', index=False)"
   ]
  }
 ],
 "metadata": {
  "kernelspec": {
   "display_name": "Python 3 (ipykernel)",
   "language": "python",
   "name": "python3"
  },
  "language_info": {
   "codemirror_mode": {
    "name": "ipython",
    "version": 3
   },
   "file_extension": ".py",
   "mimetype": "text/x-python",
   "name": "python",
   "nbconvert_exporter": "python",
   "pygments_lexer": "ipython3",
   "version": "3.11.3"
  }
 },
 "nbformat": 4,
 "nbformat_minor": 5
}
