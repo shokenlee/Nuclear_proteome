{
 "cells": [
  {
   "cell_type": "code",
   "execution_count": 5,
   "id": "451d74ee-f007-4825-be24-e12911952950",
   "metadata": {},
   "outputs": [],
   "source": [
    "import os\n",
    "import pandas as pd"
   ]
  },
  {
   "cell_type": "code",
   "execution_count": 6,
   "id": "2d773f91-bde6-4b2c-9288-bd61b7e8f0f7",
   "metadata": {},
   "outputs": [],
   "source": [
    "df = pd.read_csv('./SourceData/NLS/NLSdb_2017/signals.csv')"
   ]
  },
  {
   "cell_type": "code",
   "execution_count": 3,
   "id": "87e721fe-0572-4f49-8270-e53cbbd3ffef",
   "metadata": {},
   "outputs": [
    {
     "data": {
      "text/html": [
       "<div>\n",
       "<style scoped>\n",
       "    .dataframe tbody tr th:only-of-type {\n",
       "        vertical-align: middle;\n",
       "    }\n",
       "\n",
       "    .dataframe tbody tr th {\n",
       "        vertical-align: top;\n",
       "    }\n",
       "\n",
       "    .dataframe thead th {\n",
       "        text-align: right;\n",
       "    }\n",
       "</style>\n",
       "<table border=\"1\" class=\"dataframe\">\n",
       "  <thead>\n",
       "    <tr style=\"text-align: right;\">\n",
       "      <th></th>\n",
       "      <th>ID</th>\n",
       "      <th>Sequence</th>\n",
       "      <th>SignalType</th>\n",
       "      <th>AnnotationType</th>\n",
       "      <th>ConfidenceNuc</th>\n",
       "      <th>ConfidenceFam</th>\n",
       "      <th>Origin</th>\n",
       "      <th>Added</th>\n",
       "      <th>Modified</th>\n",
       "    </tr>\n",
       "  </thead>\n",
       "  <tbody>\n",
       "    <tr>\n",
       "      <th>0</th>\n",
       "      <td>1</td>\n",
       "      <td>AAKKPR</td>\n",
       "      <td>NLS</td>\n",
       "      <td>Potential</td>\n",
       "      <td>2</td>\n",
       "      <td>2</td>\n",
       "      <td>In Silico Mutagenesis</td>\n",
       "      <td>2017-10-11 15:10:55</td>\n",
       "      <td>2017-10-11 15:10:55</td>\n",
       "    </tr>\n",
       "    <tr>\n",
       "      <th>1</th>\n",
       "      <td>2</td>\n",
       "      <td>AAKKQK</td>\n",
       "      <td>NLS</td>\n",
       "      <td>Potential</td>\n",
       "      <td>3</td>\n",
       "      <td>3</td>\n",
       "      <td>In Silico Mutagenesis</td>\n",
       "      <td>2017-10-11 15:10:55</td>\n",
       "      <td>2017-10-11 15:10:55</td>\n",
       "    </tr>\n",
       "    <tr>\n",
       "      <th>2</th>\n",
       "      <td>3</td>\n",
       "      <td>AAKKTK</td>\n",
       "      <td>NLS</td>\n",
       "      <td>Potential</td>\n",
       "      <td>2</td>\n",
       "      <td>2</td>\n",
       "      <td>In Silico Mutagenesis</td>\n",
       "      <td>2017-10-11 15:10:55</td>\n",
       "      <td>2017-10-11 15:10:55</td>\n",
       "    </tr>\n",
       "    <tr>\n",
       "      <th>3</th>\n",
       "      <td>4</td>\n",
       "      <td>AAKRRL</td>\n",
       "      <td>NLS</td>\n",
       "      <td>Potential</td>\n",
       "      <td>3</td>\n",
       "      <td>3</td>\n",
       "      <td>In Silico Mutagenesis</td>\n",
       "      <td>2017-10-11 15:10:55</td>\n",
       "      <td>2017-10-11 15:10:55</td>\n",
       "    </tr>\n",
       "    <tr>\n",
       "      <th>4</th>\n",
       "      <td>5</td>\n",
       "      <td>AEKKAK</td>\n",
       "      <td>NLS</td>\n",
       "      <td>Potential</td>\n",
       "      <td>5</td>\n",
       "      <td>3</td>\n",
       "      <td>In Silico Mutagenesis</td>\n",
       "      <td>2017-10-11 15:10:55</td>\n",
       "      <td>2017-10-11 15:10:55</td>\n",
       "    </tr>\n",
       "  </tbody>\n",
       "</table>\n",
       "</div>"
      ],
      "text/plain": [
       "   ID Sequence SignalType AnnotationType  ConfidenceNuc  ConfidenceFam  \\\n",
       "0   1   AAKKPR        NLS      Potential              2              2   \n",
       "1   2   AAKKQK        NLS      Potential              3              3   \n",
       "2   3   AAKKTK        NLS      Potential              2              2   \n",
       "3   4   AAKRRL        NLS      Potential              3              3   \n",
       "4   5   AEKKAK        NLS      Potential              5              3   \n",
       "\n",
       "                  Origin                Added             Modified  \n",
       "0  In Silico Mutagenesis  2017-10-11 15:10:55  2017-10-11 15:10:55  \n",
       "1  In Silico Mutagenesis  2017-10-11 15:10:55  2017-10-11 15:10:55  \n",
       "2  In Silico Mutagenesis  2017-10-11 15:10:55  2017-10-11 15:10:55  \n",
       "3  In Silico Mutagenesis  2017-10-11 15:10:55  2017-10-11 15:10:55  \n",
       "4  In Silico Mutagenesis  2017-10-11 15:10:55  2017-10-11 15:10:55  "
      ]
     },
     "execution_count": 3,
     "metadata": {},
     "output_type": "execute_result"
    }
   ],
   "source": [
    "df.head()"
   ]
  },
  {
   "cell_type": "code",
   "execution_count": 5,
   "id": "f1f99eb6-8b54-42a3-9adb-7347f1ef6d5f",
   "metadata": {
    "collapsed": true,
    "jupyter": {
     "outputs_hidden": true
    },
    "tags": []
   },
   "outputs": [
    {
     "name": "stdout",
     "output_type": "stream",
     "text": [
      "<class 'pandas.core.frame.DataFrame'>\n",
      "RangeIndex: 2651 entries, 0 to 2650\n",
      "Data columns (total 9 columns):\n",
      " #   Column          Non-Null Count  Dtype \n",
      "---  ------          --------------  ----- \n",
      " 0   ID              2651 non-null   int64 \n",
      " 1   Sequence        2651 non-null   object\n",
      " 2   SignalType      2651 non-null   object\n",
      " 3   AnnotationType  2651 non-null   object\n",
      " 4   ConfidenceNuc   2651 non-null   int64 \n",
      " 5   ConfidenceFam   2651 non-null   int64 \n",
      " 6   Origin          2651 non-null   object\n",
      " 7   Added           2651 non-null   object\n",
      " 8   Modified        2651 non-null   object\n",
      "dtypes: int64(3), object(6)\n",
      "memory usage: 186.5+ KB\n"
     ]
    }
   ],
   "source": [
    "df.info()"
   ]
  },
  {
   "cell_type": "markdown",
   "id": "8d04112e-9517-4501-9018-997e0b8223ae",
   "metadata": {},
   "source": [
    "#### Make a list of NLSs"
   ]
  },
  {
   "cell_type": "code",
   "execution_count": 7,
   "id": "9beb992a-eadc-450b-8414-310d6d8c5677",
   "metadata": {},
   "outputs": [
    {
     "name": "stdout",
     "output_type": "stream",
     "text": [
      "2651\n"
     ]
    }
   ],
   "source": [
    "list_NLS = df['Sequence'].unique()\n",
    "print(len(list_NLS))"
   ]
  },
  {
   "cell_type": "markdown",
   "id": "af425cfc-458d-4252-af2d-518595e3c6fd",
   "metadata": {},
   "source": [
    "#### A funciton to find NLS(s) in a given protein sequence"
   ]
  },
  {
   "cell_type": "code",
   "execution_count": 35,
   "id": "14cfc7a2-557b-45be-9b7f-dde625ce3e78",
   "metadata": {},
   "outputs": [],
   "source": [
    "def searchNLS(protein_seq):\n",
    "    NLS_positions = dict()\n",
    "    for i, NLS in enumerate(list_NLS):\n",
    "        position = protein_seq.find(NLS)\n",
    "        if position != -1:\n",
    "            NLS_positions[NLS] = position\n",
    "    \n",
    "    if NLS_positions == {}:\n",
    "        NLS_positions = 'NLS_not_found'\n",
    "    \n",
    "    return NLS_positions"
   ]
  },
  {
   "cell_type": "markdown",
   "id": "4cadfdaf-9fdc-433a-8797-6c1de0d2cc44",
   "metadata": {},
   "source": [
    "#### Dataset"
   ]
  },
  {
   "cell_type": "code",
   "execution_count": 25,
   "id": "b9cd9ea2-f420-4e74-bb6a-d137305ef991",
   "metadata": {},
   "outputs": [],
   "source": [
    "# downloaded from Uniprot by:\n",
    "# reviewed:yes AND organism:\"Homo sapiens (Human) [9606]\" AND proteome:up000005640"
   ]
  },
  {
   "cell_type": "code",
   "execution_count": 22,
   "id": "02650d3e-8fad-4911-ad43-7ae28ce30879",
   "metadata": {},
   "outputs": [],
   "source": [
    "df_proteome = pd.read_csv('./SourceData/uniprot-filtered-reviewed_yes+AND+organism__Homo+sapiens+(Human)+[96--.tab', sep='\\t')"
   ]
  },
  {
   "cell_type": "code",
   "execution_count": 32,
   "id": "fadcddab-0210-486b-80a6-8334afbdcf28",
   "metadata": {},
   "outputs": [],
   "source": [
    "seq = df_proteome.loc[0, 'Sequence']"
   ]
  },
  {
   "cell_type": "code",
   "execution_count": 36,
   "id": "9d1d5f3c-eb07-4c1b-9cdb-659a486787e2",
   "metadata": {},
   "outputs": [
    {
     "data": {
      "text/plain": [
       "'NLS_not_found'"
      ]
     },
     "execution_count": 36,
     "metadata": {},
     "output_type": "execute_result"
    }
   ],
   "source": [
    "searchNLS(seq)"
   ]
  },
  {
   "cell_type": "code",
   "execution_count": 23,
   "id": "3e9bbf92-8535-4493-bae4-06112c93f31e",
   "metadata": {},
   "outputs": [
    {
     "data": {
      "text/html": [
       "<div>\n",
       "<style scoped>\n",
       "    .dataframe tbody tr th:only-of-type {\n",
       "        vertical-align: middle;\n",
       "    }\n",
       "\n",
       "    .dataframe tbody tr th {\n",
       "        vertical-align: top;\n",
       "    }\n",
       "\n",
       "    .dataframe thead th {\n",
       "        text-align: right;\n",
       "    }\n",
       "</style>\n",
       "<table border=\"1\" class=\"dataframe\">\n",
       "  <thead>\n",
       "    <tr style=\"text-align: right;\">\n",
       "      <th></th>\n",
       "      <th>Entry</th>\n",
       "      <th>Protein names</th>\n",
       "      <th>Gene names</th>\n",
       "      <th>Annotation</th>\n",
       "      <th>Status</th>\n",
       "      <th>Sequence</th>\n",
       "    </tr>\n",
       "  </thead>\n",
       "  <tbody>\n",
       "    <tr>\n",
       "      <th>0</th>\n",
       "      <td>P51451</td>\n",
       "      <td>Tyrosine-protein kinase Blk (EC 2.7.10.2) (B l...</td>\n",
       "      <td>BLK</td>\n",
       "      <td>5 out of 5</td>\n",
       "      <td>reviewed</td>\n",
       "      <td>MGLVSSKKPDKEKPIKEKDKGQWSPLKVSAQDKDAPPLPPLVVFNH...</td>\n",
       "    </tr>\n",
       "    <tr>\n",
       "      <th>1</th>\n",
       "      <td>A6H8Y1</td>\n",
       "      <td>Transcription factor TFIIIB component B'' homo...</td>\n",
       "      <td>BDP1 KIAA1241 KIAA1689 TFNR</td>\n",
       "      <td>5 out of 5</td>\n",
       "      <td>reviewed</td>\n",
       "      <td>MFRRARLSVKPNVRPGVGARGSTASNPQRGRESPRPPDPATDSASK...</td>\n",
       "    </tr>\n",
       "    <tr>\n",
       "      <th>2</th>\n",
       "      <td>O60885</td>\n",
       "      <td>Bromodomain-containing protein 4 (Protein HUNK1)</td>\n",
       "      <td>BRD4 HUNK1</td>\n",
       "      <td>5 out of 5</td>\n",
       "      <td>reviewed</td>\n",
       "      <td>MSAESGPGTRLRNLPVMGDGLETSQMSTTQAQAQPQPANAASTNPP...</td>\n",
       "    </tr>\n",
       "    <tr>\n",
       "      <th>3</th>\n",
       "      <td>Q9Y3X0</td>\n",
       "      <td>Coiled-coil domain-containing protein 9</td>\n",
       "      <td>CCDC9</td>\n",
       "      <td>3 out of 5</td>\n",
       "      <td>reviewed</td>\n",
       "      <td>MAATLDLKSKEEKDAELDKRIEALRRKNEALIRRYQEIEEDRKKAE...</td>\n",
       "    </tr>\n",
       "    <tr>\n",
       "      <th>4</th>\n",
       "      <td>P22223</td>\n",
       "      <td>Cadherin-3 (Placental cadherin) (P-cadherin)</td>\n",
       "      <td>CDH3 CDHP</td>\n",
       "      <td>5 out of 5</td>\n",
       "      <td>reviewed</td>\n",
       "      <td>MGLPRGPLASLLLLQVCWLQCAASEPCRAVFREAEVTLEAGGAEQE...</td>\n",
       "    </tr>\n",
       "  </tbody>\n",
       "</table>\n",
       "</div>"
      ],
      "text/plain": [
       "    Entry                                      Protein names  \\\n",
       "0  P51451  Tyrosine-protein kinase Blk (EC 2.7.10.2) (B l...   \n",
       "1  A6H8Y1  Transcription factor TFIIIB component B'' homo...   \n",
       "2  O60885   Bromodomain-containing protein 4 (Protein HUNK1)   \n",
       "3  Q9Y3X0            Coiled-coil domain-containing protein 9   \n",
       "4  P22223       Cadherin-3 (Placental cadherin) (P-cadherin)   \n",
       "\n",
       "                    Gene names  Annotation    Status  \\\n",
       "0                          BLK  5 out of 5  reviewed   \n",
       "1  BDP1 KIAA1241 KIAA1689 TFNR  5 out of 5  reviewed   \n",
       "2                   BRD4 HUNK1  5 out of 5  reviewed   \n",
       "3                        CCDC9  3 out of 5  reviewed   \n",
       "4                    CDH3 CDHP  5 out of 5  reviewed   \n",
       "\n",
       "                                            Sequence  \n",
       "0  MGLVSSKKPDKEKPIKEKDKGQWSPLKVSAQDKDAPPLPPLVVFNH...  \n",
       "1  MFRRARLSVKPNVRPGVGARGSTASNPQRGRESPRPPDPATDSASK...  \n",
       "2  MSAESGPGTRLRNLPVMGDGLETSQMSTTQAQAQPQPANAASTNPP...  \n",
       "3  MAATLDLKSKEEKDAELDKRIEALRRKNEALIRRYQEIEEDRKKAE...  \n",
       "4  MGLPRGPLASLLLLQVCWLQCAASEPCRAVFREAEVTLEAGGAEQE...  "
      ]
     },
     "execution_count": 23,
     "metadata": {},
     "output_type": "execute_result"
    }
   ],
   "source": [
    "df_proteome.head()"
   ]
  },
  {
   "cell_type": "code",
   "execution_count": 24,
   "id": "12924fc5-7f5a-4dfe-b5a5-bee198b0f82d",
   "metadata": {},
   "outputs": [
    {
     "name": "stdout",
     "output_type": "stream",
     "text": [
      "<class 'pandas.core.frame.DataFrame'>\n",
      "RangeIndex: 20361 entries, 0 to 20360\n",
      "Data columns (total 6 columns):\n",
      " #   Column         Non-Null Count  Dtype \n",
      "---  ------         --------------  ----- \n",
      " 0   Entry          20361 non-null  object\n",
      " 1   Protein names  20361 non-null  object\n",
      " 2   Gene names     20238 non-null  object\n",
      " 3   Annotation     20361 non-null  object\n",
      " 4   Status         20361 non-null  object\n",
      " 5   Sequence       20361 non-null  object\n",
      "dtypes: object(6)\n",
      "memory usage: 954.5+ KB\n"
     ]
    }
   ],
   "source": [
    "df_proteome.info()"
   ]
  },
  {
   "cell_type": "code",
   "execution_count": 37,
   "id": "127474d2-055d-4fe1-b2a6-9ecf26d0ad98",
   "metadata": {},
   "outputs": [],
   "source": [
    "df_proteome_100 = df_proteome.iloc[:100,:]"
   ]
  },
  {
   "cell_type": "code",
   "execution_count": 38,
   "id": "78bbbca5-f96e-4bc8-8183-7629f533d397",
   "metadata": {},
   "outputs": [
    {
     "name": "stderr",
     "output_type": "stream",
     "text": [
      "<ipython-input-38-20898d3b9d73>:1: SettingWithCopyWarning: \n",
      "A value is trying to be set on a copy of a slice from a DataFrame.\n",
      "Try using .loc[row_indexer,col_indexer] = value instead\n",
      "\n",
      "See the caveats in the documentation: https://pandas.pydata.org/pandas-docs/stable/user_guide/indexing.html#returning-a-view-versus-a-copy\n",
      "  df_proteome_100['NLS_locations'] = df['Sequence'].apply(searchNLS)\n"
     ]
    }
   ],
   "source": [
    "df_proteome_100['NLS_locations'] = df['Sequence'].apply(searchNLS)"
   ]
  },
  {
   "cell_type": "code",
   "execution_count": 41,
   "id": "dbe60c9a-bfae-4d28-90f3-91c778b004eb",
   "metadata": {},
   "outputs": [
    {
     "data": {
      "text/html": [
       "<div>\n",
       "<style scoped>\n",
       "    .dataframe tbody tr th:only-of-type {\n",
       "        vertical-align: middle;\n",
       "    }\n",
       "\n",
       "    .dataframe tbody tr th {\n",
       "        vertical-align: top;\n",
       "    }\n",
       "\n",
       "    .dataframe thead th {\n",
       "        text-align: right;\n",
       "    }\n",
       "</style>\n",
       "<table border=\"1\" class=\"dataframe\">\n",
       "  <thead>\n",
       "    <tr style=\"text-align: right;\">\n",
       "      <th></th>\n",
       "      <th>Entry</th>\n",
       "      <th>Protein names</th>\n",
       "      <th>Gene names</th>\n",
       "      <th>Annotation</th>\n",
       "      <th>Status</th>\n",
       "      <th>Sequence</th>\n",
       "      <th>NLS_locations</th>\n",
       "    </tr>\n",
       "  </thead>\n",
       "  <tbody>\n",
       "    <tr>\n",
       "      <th>90</th>\n",
       "      <td>Q9NUG6</td>\n",
       "      <td>p53 and DNA damage-regulated protein 1</td>\n",
       "      <td>PDRG1 C20orf126 PDRG</td>\n",
       "      <td>4 out of 5</td>\n",
       "      <td>reviewed</td>\n",
       "      <td>MLSPEAERVLRYLVEVEELAEEVLADKRQIVDLDTKRNQNREGLRA...</td>\n",
       "      <td>{'DKKLGRPH': 0}</td>\n",
       "    </tr>\n",
       "    <tr>\n",
       "      <th>91</th>\n",
       "      <td>O00764</td>\n",
       "      <td>Pyridoxal kinase (EC 2.7.1.35) (Pyridoxine kin...</td>\n",
       "      <td>PDXK C21orf124 C21orf97 PKH PNK PRED79</td>\n",
       "      <td>5 out of 5</td>\n",
       "      <td>reviewed</td>\n",
       "      <td>MEEECRVLSIQSHVIRGYVGNRAATFPLQVLGFEIDAVNSVQFSNH...</td>\n",
       "      <td>{'DKKRKTRK': 0, 'KKRKTR': 1, 'KRKTRK': 2}</td>\n",
       "    </tr>\n",
       "    <tr>\n",
       "      <th>92</th>\n",
       "      <td>Q9UIL8</td>\n",
       "      <td>PHD finger protein 11 (BRCA1 C-terminus-associ...</td>\n",
       "      <td>PHF11 BCAP</td>\n",
       "      <td>5 out of 5</td>\n",
       "      <td>reviewed</td>\n",
       "      <td>MAQASPPRPERVLGASSPEARPAQEALLLPTGVFQVAEKMEKRTCA...</td>\n",
       "      <td>{'DKKRRK': 0}</td>\n",
       "    </tr>\n",
       "    <tr>\n",
       "      <th>93</th>\n",
       "      <td>Q96QT6</td>\n",
       "      <td>PHD finger protein 12 (PHD factor 1) (Pf1)</td>\n",
       "      <td>PHF12 KIAA1523</td>\n",
       "      <td>5 out of 5</td>\n",
       "      <td>reviewed</td>\n",
       "      <td>MWEKMETKTIVYDLDTSGGLMEQIQALLAPPKTDEAEKRSRKPEKE...</td>\n",
       "      <td>{'DKLLKDLPEL': 0}</td>\n",
       "    </tr>\n",
       "    <tr>\n",
       "      <th>94</th>\n",
       "      <td>P20142</td>\n",
       "      <td>Gastricsin (EC 3.4.23.3) (Pepsinogen C)</td>\n",
       "      <td>PGC</td>\n",
       "      <td>5 out of 5</td>\n",
       "      <td>reviewed</td>\n",
       "      <td>MKWMVVVLVCLQLLEAAVVKVPLKKFKSIRETMKEKGLLGEFLRTH...</td>\n",
       "      <td>{'DKRQR': 0}</td>\n",
       "    </tr>\n",
       "    <tr>\n",
       "      <th>95</th>\n",
       "      <td>Q9BZM1</td>\n",
       "      <td>Group XIIA secretory phospholipase A2 (GXII sP...</td>\n",
       "      <td>PLA2G12A PLA2G12 FKSG38 UNQ2519/PRO6012</td>\n",
       "      <td>5 out of 5</td>\n",
       "      <td>reviewed</td>\n",
       "      <td>MALLSRPALTLLLLLMAAVVRCQEQAQTTDWRATLKTIRNGVHKID...</td>\n",
       "      <td>{'DLSKRK': 0}</td>\n",
       "    </tr>\n",
       "    <tr>\n",
       "      <th>96</th>\n",
       "      <td>Q86YI8</td>\n",
       "      <td>PHD finger protein 13 (Survival time-associate...</td>\n",
       "      <td>PHF13</td>\n",
       "      <td>5 out of 5</td>\n",
       "      <td>reviewed</td>\n",
       "      <td>MDSDSCAAAFHPEEYSPSCKRRRTVEDFNKFCTFVLAYAGYIPYPK...</td>\n",
       "      <td>{'DNFQDDPHAG': 0}</td>\n",
       "    </tr>\n",
       "    <tr>\n",
       "      <th>97</th>\n",
       "      <td>Q9BX93</td>\n",
       "      <td>Group XIIB secretory phospholipase A2-like pro...</td>\n",
       "      <td>PLA2G12B PLA2G13 FKSG71</td>\n",
       "      <td>4 out of 5</td>\n",
       "      <td>reviewed</td>\n",
       "      <td>MKLASGFLVLWLSLGGGLAQSDTSPDTEESYSDWGLRHLRGSFESV...</td>\n",
       "      <td>{'DNKRR': 0}</td>\n",
       "    </tr>\n",
       "    <tr>\n",
       "      <th>98</th>\n",
       "      <td>Q96FA3</td>\n",
       "      <td>E3 ubiquitin-protein ligase pellino homolog 1 ...</td>\n",
       "      <td>PELI1 PRISM</td>\n",
       "      <td>5 out of 5</td>\n",
       "      <td>reviewed</td>\n",
       "      <td>MFSPDQENHPSKAPVKYGELIVLGYNGSLPNGDRGRRKSRFALFKR...</td>\n",
       "      <td>{'DPKKAK': 0}</td>\n",
       "    </tr>\n",
       "    <tr>\n",
       "      <th>99</th>\n",
       "      <td>O94880</td>\n",
       "      <td>PHD finger protein 14</td>\n",
       "      <td>PHF14 KIAA0783</td>\n",
       "      <td>3 out of 5</td>\n",
       "      <td>reviewed</td>\n",
       "      <td>MDRSSKRRQVKPLAASLLEALDYDSSDDSDFKVGDASDSEGSGNGS...</td>\n",
       "      <td>{'DPSKKK': 0}</td>\n",
       "    </tr>\n",
       "  </tbody>\n",
       "</table>\n",
       "</div>"
      ],
      "text/plain": [
       "     Entry                                      Protein names  \\\n",
       "90  Q9NUG6             p53 and DNA damage-regulated protein 1   \n",
       "91  O00764  Pyridoxal kinase (EC 2.7.1.35) (Pyridoxine kin...   \n",
       "92  Q9UIL8  PHD finger protein 11 (BRCA1 C-terminus-associ...   \n",
       "93  Q96QT6         PHD finger protein 12 (PHD factor 1) (Pf1)   \n",
       "94  P20142            Gastricsin (EC 3.4.23.3) (Pepsinogen C)   \n",
       "95  Q9BZM1  Group XIIA secretory phospholipase A2 (GXII sP...   \n",
       "96  Q86YI8  PHD finger protein 13 (Survival time-associate...   \n",
       "97  Q9BX93  Group XIIB secretory phospholipase A2-like pro...   \n",
       "98  Q96FA3  E3 ubiquitin-protein ligase pellino homolog 1 ...   \n",
       "99  O94880                              PHD finger protein 14   \n",
       "\n",
       "                                 Gene names  Annotation    Status  \\\n",
       "90                     PDRG1 C20orf126 PDRG  4 out of 5  reviewed   \n",
       "91   PDXK C21orf124 C21orf97 PKH PNK PRED79  5 out of 5  reviewed   \n",
       "92                               PHF11 BCAP  5 out of 5  reviewed   \n",
       "93                           PHF12 KIAA1523  5 out of 5  reviewed   \n",
       "94                                      PGC  5 out of 5  reviewed   \n",
       "95  PLA2G12A PLA2G12 FKSG38 UNQ2519/PRO6012  5 out of 5  reviewed   \n",
       "96                                    PHF13  5 out of 5  reviewed   \n",
       "97                  PLA2G12B PLA2G13 FKSG71  4 out of 5  reviewed   \n",
       "98                              PELI1 PRISM  5 out of 5  reviewed   \n",
       "99                           PHF14 KIAA0783  3 out of 5  reviewed   \n",
       "\n",
       "                                             Sequence  \\\n",
       "90  MLSPEAERVLRYLVEVEELAEEVLADKRQIVDLDTKRNQNREGLRA...   \n",
       "91  MEEECRVLSIQSHVIRGYVGNRAATFPLQVLGFEIDAVNSVQFSNH...   \n",
       "92  MAQASPPRPERVLGASSPEARPAQEALLLPTGVFQVAEKMEKRTCA...   \n",
       "93  MWEKMETKTIVYDLDTSGGLMEQIQALLAPPKTDEAEKRSRKPEKE...   \n",
       "94  MKWMVVVLVCLQLLEAAVVKVPLKKFKSIRETMKEKGLLGEFLRTH...   \n",
       "95  MALLSRPALTLLLLLMAAVVRCQEQAQTTDWRATLKTIRNGVHKID...   \n",
       "96  MDSDSCAAAFHPEEYSPSCKRRRTVEDFNKFCTFVLAYAGYIPYPK...   \n",
       "97  MKLASGFLVLWLSLGGGLAQSDTSPDTEESYSDWGLRHLRGSFESV...   \n",
       "98  MFSPDQENHPSKAPVKYGELIVLGYNGSLPNGDRGRRKSRFALFKR...   \n",
       "99  MDRSSKRRQVKPLAASLLEALDYDSSDDSDFKVGDASDSEGSGNGS...   \n",
       "\n",
       "                                NLS_locations  \n",
       "90                            {'DKKLGRPH': 0}  \n",
       "91  {'DKKRKTRK': 0, 'KKRKTR': 1, 'KRKTRK': 2}  \n",
       "92                              {'DKKRRK': 0}  \n",
       "93                          {'DKLLKDLPEL': 0}  \n",
       "94                               {'DKRQR': 0}  \n",
       "95                              {'DLSKRK': 0}  \n",
       "96                          {'DNFQDDPHAG': 0}  \n",
       "97                               {'DNKRR': 0}  \n",
       "98                              {'DPKKAK': 0}  \n",
       "99                              {'DPSKKK': 0}  "
      ]
     },
     "execution_count": 41,
     "metadata": {},
     "output_type": "execute_result"
    }
   ],
   "source": [
    "df_proteome_100.tail(n=10)"
   ]
  },
  {
   "cell_type": "code",
   "execution_count": null,
   "id": "2fad5cfc-ea65-4e95-94d7-9d422fc6daf0",
   "metadata": {},
   "outputs": [],
   "source": []
  }
 ],
 "metadata": {
  "kernelspec": {
   "display_name": "Python 3",
   "language": "python",
   "name": "python3"
  },
  "language_info": {
   "codemirror_mode": {
    "name": "ipython",
    "version": 3
   },
   "file_extension": ".py",
   "mimetype": "text/x-python",
   "name": "python",
   "nbconvert_exporter": "python",
   "pygments_lexer": "ipython3",
   "version": "3.8.8"
  }
 },
 "nbformat": 4,
 "nbformat_minor": 5
}
