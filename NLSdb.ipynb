{
 "cells": [
  {
   "cell_type": "code",
   "execution_count": 1,
   "id": "451d74ee-f007-4825-be24-e12911952950",
   "metadata": {},
   "outputs": [],
   "source": [
    "import os\n",
    "import pandas as pd"
   ]
  },
  {
   "cell_type": "markdown",
   "id": "424b4b2f-5341-4495-906b-efaba79578ec",
   "metadata": {},
   "source": [
    "### 1. Import of NLS list "
   ]
  },
  {
   "cell_type": "code",
   "execution_count": 2,
   "id": "2d773f91-bde6-4b2c-9288-bd61b7e8f0f7",
   "metadata": {},
   "outputs": [],
   "source": [
    "df = pd.read_csv('./SourceData/NLS/NLSdb_2017/signals.csv')"
   ]
  },
  {
   "cell_type": "code",
   "execution_count": 3,
   "id": "87e721fe-0572-4f49-8270-e53cbbd3ffef",
   "metadata": {},
   "outputs": [
    {
     "data": {
      "text/html": [
       "<div>\n",
       "<style scoped>\n",
       "    .dataframe tbody tr th:only-of-type {\n",
       "        vertical-align: middle;\n",
       "    }\n",
       "\n",
       "    .dataframe tbody tr th {\n",
       "        vertical-align: top;\n",
       "    }\n",
       "\n",
       "    .dataframe thead th {\n",
       "        text-align: right;\n",
       "    }\n",
       "</style>\n",
       "<table border=\"1\" class=\"dataframe\">\n",
       "  <thead>\n",
       "    <tr style=\"text-align: right;\">\n",
       "      <th></th>\n",
       "      <th>ID</th>\n",
       "      <th>Sequence</th>\n",
       "      <th>SignalType</th>\n",
       "      <th>AnnotationType</th>\n",
       "      <th>ConfidenceNuc</th>\n",
       "      <th>ConfidenceFam</th>\n",
       "      <th>Origin</th>\n",
       "      <th>Added</th>\n",
       "      <th>Modified</th>\n",
       "    </tr>\n",
       "  </thead>\n",
       "  <tbody>\n",
       "    <tr>\n",
       "      <th>0</th>\n",
       "      <td>1</td>\n",
       "      <td>AAKKPR</td>\n",
       "      <td>NLS</td>\n",
       "      <td>Potential</td>\n",
       "      <td>2</td>\n",
       "      <td>2</td>\n",
       "      <td>In Silico Mutagenesis</td>\n",
       "      <td>2017-10-11 15:10:55</td>\n",
       "      <td>2017-10-11 15:10:55</td>\n",
       "    </tr>\n",
       "    <tr>\n",
       "      <th>1</th>\n",
       "      <td>2</td>\n",
       "      <td>AAKKQK</td>\n",
       "      <td>NLS</td>\n",
       "      <td>Potential</td>\n",
       "      <td>3</td>\n",
       "      <td>3</td>\n",
       "      <td>In Silico Mutagenesis</td>\n",
       "      <td>2017-10-11 15:10:55</td>\n",
       "      <td>2017-10-11 15:10:55</td>\n",
       "    </tr>\n",
       "    <tr>\n",
       "      <th>2</th>\n",
       "      <td>3</td>\n",
       "      <td>AAKKTK</td>\n",
       "      <td>NLS</td>\n",
       "      <td>Potential</td>\n",
       "      <td>2</td>\n",
       "      <td>2</td>\n",
       "      <td>In Silico Mutagenesis</td>\n",
       "      <td>2017-10-11 15:10:55</td>\n",
       "      <td>2017-10-11 15:10:55</td>\n",
       "    </tr>\n",
       "    <tr>\n",
       "      <th>3</th>\n",
       "      <td>4</td>\n",
       "      <td>AAKRRL</td>\n",
       "      <td>NLS</td>\n",
       "      <td>Potential</td>\n",
       "      <td>3</td>\n",
       "      <td>3</td>\n",
       "      <td>In Silico Mutagenesis</td>\n",
       "      <td>2017-10-11 15:10:55</td>\n",
       "      <td>2017-10-11 15:10:55</td>\n",
       "    </tr>\n",
       "    <tr>\n",
       "      <th>4</th>\n",
       "      <td>5</td>\n",
       "      <td>AEKKAK</td>\n",
       "      <td>NLS</td>\n",
       "      <td>Potential</td>\n",
       "      <td>5</td>\n",
       "      <td>3</td>\n",
       "      <td>In Silico Mutagenesis</td>\n",
       "      <td>2017-10-11 15:10:55</td>\n",
       "      <td>2017-10-11 15:10:55</td>\n",
       "    </tr>\n",
       "  </tbody>\n",
       "</table>\n",
       "</div>"
      ],
      "text/plain": [
       "   ID Sequence SignalType AnnotationType  ConfidenceNuc  ConfidenceFam  \\\n",
       "0   1   AAKKPR        NLS      Potential              2              2   \n",
       "1   2   AAKKQK        NLS      Potential              3              3   \n",
       "2   3   AAKKTK        NLS      Potential              2              2   \n",
       "3   4   AAKRRL        NLS      Potential              3              3   \n",
       "4   5   AEKKAK        NLS      Potential              5              3   \n",
       "\n",
       "                  Origin                Added             Modified  \n",
       "0  In Silico Mutagenesis  2017-10-11 15:10:55  2017-10-11 15:10:55  \n",
       "1  In Silico Mutagenesis  2017-10-11 15:10:55  2017-10-11 15:10:55  \n",
       "2  In Silico Mutagenesis  2017-10-11 15:10:55  2017-10-11 15:10:55  \n",
       "3  In Silico Mutagenesis  2017-10-11 15:10:55  2017-10-11 15:10:55  \n",
       "4  In Silico Mutagenesis  2017-10-11 15:10:55  2017-10-11 15:10:55  "
      ]
     },
     "execution_count": 3,
     "metadata": {},
     "output_type": "execute_result"
    }
   ],
   "source": [
    "df.head()"
   ]
  },
  {
   "cell_type": "code",
   "execution_count": 5,
   "id": "f1f99eb6-8b54-42a3-9adb-7347f1ef6d5f",
   "metadata": {
    "collapsed": true,
    "jupyter": {
     "outputs_hidden": true
    },
    "tags": []
   },
   "outputs": [
    {
     "name": "stdout",
     "output_type": "stream",
     "text": [
      "<class 'pandas.core.frame.DataFrame'>\n",
      "RangeIndex: 2651 entries, 0 to 2650\n",
      "Data columns (total 9 columns):\n",
      " #   Column          Non-Null Count  Dtype \n",
      "---  ------          --------------  ----- \n",
      " 0   ID              2651 non-null   int64 \n",
      " 1   Sequence        2651 non-null   object\n",
      " 2   SignalType      2651 non-null   object\n",
      " 3   AnnotationType  2651 non-null   object\n",
      " 4   ConfidenceNuc   2651 non-null   int64 \n",
      " 5   ConfidenceFam   2651 non-null   int64 \n",
      " 6   Origin          2651 non-null   object\n",
      " 7   Added           2651 non-null   object\n",
      " 8   Modified        2651 non-null   object\n",
      "dtypes: int64(3), object(6)\n",
      "memory usage: 186.5+ KB\n"
     ]
    }
   ],
   "source": [
    "df.info()"
   ]
  },
  {
   "cell_type": "markdown",
   "id": "8d04112e-9517-4501-9018-997e0b8223ae",
   "metadata": {},
   "source": [
    "#### Make a list of NLSs"
   ]
  },
  {
   "cell_type": "code",
   "execution_count": 3,
   "id": "9beb992a-eadc-450b-8414-310d6d8c5677",
   "metadata": {},
   "outputs": [
    {
     "name": "stdout",
     "output_type": "stream",
     "text": [
      "2651\n"
     ]
    }
   ],
   "source": [
    "list_NLS = df['Sequence'].unique()\n",
    "print(len(list_NLS))"
   ]
  },
  {
   "cell_type": "markdown",
   "id": "42817270-4675-4f29-9dd7-a57e0d747060",
   "metadata": {},
   "source": [
    "### 2. Search for proteins with putative NLSs"
   ]
  },
  {
   "cell_type": "markdown",
   "id": "af425cfc-458d-4252-af2d-518595e3c6fd",
   "metadata": {},
   "source": [
    "#### A funciton to find NLS(s) in a given protein sequence"
   ]
  },
  {
   "cell_type": "code",
   "execution_count": 4,
   "id": "14cfc7a2-557b-45be-9b7f-dde625ce3e78",
   "metadata": {},
   "outputs": [],
   "source": [
    "def searchNLS(protein_seq):\n",
    "    NLS_positions = dict()\n",
    "    for i, NLS in enumerate(list_NLS):\n",
    "        position = protein_seq.find(NLS)\n",
    "        if position != -1:\n",
    "            NLS_positions[NLS] = position\n",
    "    \n",
    "    if NLS_positions == {}:\n",
    "        NLS_positions = 'NLS_not_found'\n",
    "    \n",
    "    return NLS_positions"
   ]
  },
  {
   "cell_type": "markdown",
   "id": "cdb36c06-5472-4347-b09a-68ef4a4f8940",
   "metadata": {},
   "source": [
    "#### Dataset of human proteome from Unipot"
   ]
  },
  {
   "cell_type": "code",
   "execution_count": 6,
   "id": "390cbd16-cb91-43cb-95d1-ff1819b4eed5",
   "metadata": {},
   "outputs": [],
   "source": [
    "# downloaded from Uniprot by:\n",
    "# reviewed:yes AND organism:\"Homo sapiens (Human) [9606]\" AND proteome:up000005640\n",
    "\n",
    "df_proteome = pd.read_csv('./SourceData/NLSdb/uniprot-filtered-reviewed_yes+AND+organism__Homo+sapiens+(Human)+[96--.tab', sep='\\t')\n",
    "df_proteome.info()"
   ]
  },
  {
   "cell_type": "code",
   "execution_count": 7,
   "id": "127474d2-055d-4fe1-b2a6-9ecf26d0ad98",
   "metadata": {},
   "outputs": [],
   "source": [
    "df_proteome_100 = df_proteome.iloc[:100,:]"
   ]
  },
  {
   "cell_type": "code",
   "execution_count": 37,
   "id": "78bbbca5-f96e-4bc8-8183-7629f533d397",
   "metadata": {},
   "outputs": [
    {
     "name": "stderr",
     "output_type": "stream",
     "text": [
      "<ipython-input-37-144a054b487f>:1: SettingWithCopyWarning: \n",
      "A value is trying to be set on a copy of a slice from a DataFrame.\n",
      "Try using .loc[row_indexer,col_indexer] = value instead\n",
      "\n",
      "See the caveats in the documentation: https://pandas.pydata.org/pandas-docs/stable/user_guide/indexing.html#returning-a-view-versus-a-copy\n",
      "  df_proteome_100['Length'] = df_proteome_100['Sequence'].apply(searchNLS)\n"
     ]
    }
   ],
   "source": [
    "df_proteome_100['Length'] = df_proteome_100['Sequence'].apply(searchNLS)"
   ]
  },
  {
   "cell_type": "markdown",
   "id": "ebc40da2-a659-4f70-9cb6-88d82bb56ede",
   "metadata": {},
   "source": [
    "#### Application of searchNLS to sequence"
   ]
  },
  {
   "cell_type": "markdown",
   "id": "7b9e62fb-f772-4dda-b4e9-b4138b67966b",
   "metadata": {},
   "source": [
    "#### Sort proteins with putative NLS"
   ]
  },
  {
   "cell_type": "markdown",
   "id": "927645d0-835b-4b92-94d6-ada567da5e95",
   "metadata": {},
   "source": [
    "#### Export the list of the proteins"
   ]
  },
  {
   "cell_type": "code",
   "execution_count": null,
   "id": "ed3ed589-aa5a-4f75-9ed6-bb537182a3a8",
   "metadata": {},
   "outputs": [],
   "source": []
  }
 ],
 "metadata": {
  "kernelspec": {
   "display_name": "Python 3",
   "language": "python",
   "name": "python3"
  },
  "language_info": {
   "codemirror_mode": {
    "name": "ipython",
    "version": 3
   },
   "file_extension": ".py",
   "mimetype": "text/x-python",
   "name": "python",
   "nbconvert_exporter": "python",
   "pygments_lexer": "ipython3",
   "version": "3.8.8"
  }
 },
 "nbformat": 4,
 "nbformat_minor": 5
}
