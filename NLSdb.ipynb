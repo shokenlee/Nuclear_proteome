{
 "cells": [
  {
   "cell_type": "code",
   "execution_count": 1,
   "id": "451d74ee-f007-4825-be24-e12911952950",
   "metadata": {},
   "outputs": [],
   "source": [
    "import os\n",
    "import pandas as pd"
   ]
  },
  {
   "cell_type": "code",
   "execution_count": 2,
   "id": "2d773f91-bde6-4b2c-9288-bd61b7e8f0f7",
   "metadata": {},
   "outputs": [],
   "source": [
    "df = pd.read_csv('./SourceData/NLS/NLSdb_2017/signals.csv')"
   ]
  },
  {
   "cell_type": "code",
   "execution_count": 3,
   "id": "87e721fe-0572-4f49-8270-e53cbbd3ffef",
   "metadata": {},
   "outputs": [
    {
     "data": {
      "text/html": [
       "<div>\n",
       "<style scoped>\n",
       "    .dataframe tbody tr th:only-of-type {\n",
       "        vertical-align: middle;\n",
       "    }\n",
       "\n",
       "    .dataframe tbody tr th {\n",
       "        vertical-align: top;\n",
       "    }\n",
       "\n",
       "    .dataframe thead th {\n",
       "        text-align: right;\n",
       "    }\n",
       "</style>\n",
       "<table border=\"1\" class=\"dataframe\">\n",
       "  <thead>\n",
       "    <tr style=\"text-align: right;\">\n",
       "      <th></th>\n",
       "      <th>ID</th>\n",
       "      <th>Sequence</th>\n",
       "      <th>SignalType</th>\n",
       "      <th>AnnotationType</th>\n",
       "      <th>ConfidenceNuc</th>\n",
       "      <th>ConfidenceFam</th>\n",
       "      <th>Origin</th>\n",
       "      <th>Added</th>\n",
       "      <th>Modified</th>\n",
       "    </tr>\n",
       "  </thead>\n",
       "  <tbody>\n",
       "    <tr>\n",
       "      <th>0</th>\n",
       "      <td>1</td>\n",
       "      <td>AAKKPR</td>\n",
       "      <td>NLS</td>\n",
       "      <td>Potential</td>\n",
       "      <td>2</td>\n",
       "      <td>2</td>\n",
       "      <td>In Silico Mutagenesis</td>\n",
       "      <td>2017-10-11 15:10:55</td>\n",
       "      <td>2017-10-11 15:10:55</td>\n",
       "    </tr>\n",
       "    <tr>\n",
       "      <th>1</th>\n",
       "      <td>2</td>\n",
       "      <td>AAKKQK</td>\n",
       "      <td>NLS</td>\n",
       "      <td>Potential</td>\n",
       "      <td>3</td>\n",
       "      <td>3</td>\n",
       "      <td>In Silico Mutagenesis</td>\n",
       "      <td>2017-10-11 15:10:55</td>\n",
       "      <td>2017-10-11 15:10:55</td>\n",
       "    </tr>\n",
       "    <tr>\n",
       "      <th>2</th>\n",
       "      <td>3</td>\n",
       "      <td>AAKKTK</td>\n",
       "      <td>NLS</td>\n",
       "      <td>Potential</td>\n",
       "      <td>2</td>\n",
       "      <td>2</td>\n",
       "      <td>In Silico Mutagenesis</td>\n",
       "      <td>2017-10-11 15:10:55</td>\n",
       "      <td>2017-10-11 15:10:55</td>\n",
       "    </tr>\n",
       "    <tr>\n",
       "      <th>3</th>\n",
       "      <td>4</td>\n",
       "      <td>AAKRRL</td>\n",
       "      <td>NLS</td>\n",
       "      <td>Potential</td>\n",
       "      <td>3</td>\n",
       "      <td>3</td>\n",
       "      <td>In Silico Mutagenesis</td>\n",
       "      <td>2017-10-11 15:10:55</td>\n",
       "      <td>2017-10-11 15:10:55</td>\n",
       "    </tr>\n",
       "    <tr>\n",
       "      <th>4</th>\n",
       "      <td>5</td>\n",
       "      <td>AEKKAK</td>\n",
       "      <td>NLS</td>\n",
       "      <td>Potential</td>\n",
       "      <td>5</td>\n",
       "      <td>3</td>\n",
       "      <td>In Silico Mutagenesis</td>\n",
       "      <td>2017-10-11 15:10:55</td>\n",
       "      <td>2017-10-11 15:10:55</td>\n",
       "    </tr>\n",
       "  </tbody>\n",
       "</table>\n",
       "</div>"
      ],
      "text/plain": [
       "   ID Sequence SignalType AnnotationType  ConfidenceNuc  ConfidenceFam  \\\n",
       "0   1   AAKKPR        NLS      Potential              2              2   \n",
       "1   2   AAKKQK        NLS      Potential              3              3   \n",
       "2   3   AAKKTK        NLS      Potential              2              2   \n",
       "3   4   AAKRRL        NLS      Potential              3              3   \n",
       "4   5   AEKKAK        NLS      Potential              5              3   \n",
       "\n",
       "                  Origin                Added             Modified  \n",
       "0  In Silico Mutagenesis  2017-10-11 15:10:55  2017-10-11 15:10:55  \n",
       "1  In Silico Mutagenesis  2017-10-11 15:10:55  2017-10-11 15:10:55  \n",
       "2  In Silico Mutagenesis  2017-10-11 15:10:55  2017-10-11 15:10:55  \n",
       "3  In Silico Mutagenesis  2017-10-11 15:10:55  2017-10-11 15:10:55  \n",
       "4  In Silico Mutagenesis  2017-10-11 15:10:55  2017-10-11 15:10:55  "
      ]
     },
     "execution_count": 3,
     "metadata": {},
     "output_type": "execute_result"
    }
   ],
   "source": [
    "df.head()"
   ]
  },
  {
   "cell_type": "code",
   "execution_count": 5,
   "id": "f1f99eb6-8b54-42a3-9adb-7347f1ef6d5f",
   "metadata": {},
   "outputs": [
    {
     "name": "stdout",
     "output_type": "stream",
     "text": [
      "<class 'pandas.core.frame.DataFrame'>\n",
      "RangeIndex: 2651 entries, 0 to 2650\n",
      "Data columns (total 9 columns):\n",
      " #   Column          Non-Null Count  Dtype \n",
      "---  ------          --------------  ----- \n",
      " 0   ID              2651 non-null   int64 \n",
      " 1   Sequence        2651 non-null   object\n",
      " 2   SignalType      2651 non-null   object\n",
      " 3   AnnotationType  2651 non-null   object\n",
      " 4   ConfidenceNuc   2651 non-null   int64 \n",
      " 5   ConfidenceFam   2651 non-null   int64 \n",
      " 6   Origin          2651 non-null   object\n",
      " 7   Added           2651 non-null   object\n",
      " 8   Modified        2651 non-null   object\n",
      "dtypes: int64(3), object(6)\n",
      "memory usage: 186.5+ KB\n"
     ]
    }
   ],
   "source": [
    "df.info()"
   ]
  },
  {
   "cell_type": "code",
   "execution_count": 17,
   "id": "e8f69d6f-56b3-4d70-8c0f-5d6a4ca59fb0",
   "metadata": {},
   "outputs": [],
   "source": [
    "df_experimental = df[df['AnnotationType'] == 'Experimental']"
   ]
  },
  {
   "cell_type": "code",
   "execution_count": 18,
   "id": "03e7dd58-27c2-481c-ae68-f40fa89a0d62",
   "metadata": {},
   "outputs": [
    {
     "data": {
      "text/html": [
       "<div>\n",
       "<style scoped>\n",
       "    .dataframe tbody tr th:only-of-type {\n",
       "        vertical-align: middle;\n",
       "    }\n",
       "\n",
       "    .dataframe tbody tr th {\n",
       "        vertical-align: top;\n",
       "    }\n",
       "\n",
       "    .dataframe thead th {\n",
       "        text-align: right;\n",
       "    }\n",
       "</style>\n",
       "<table border=\"1\" class=\"dataframe\">\n",
       "  <thead>\n",
       "    <tr style=\"text-align: right;\">\n",
       "      <th></th>\n",
       "      <th>ID</th>\n",
       "      <th>Sequence</th>\n",
       "      <th>SignalType</th>\n",
       "      <th>AnnotationType</th>\n",
       "      <th>ConfidenceNuc</th>\n",
       "      <th>ConfidenceFam</th>\n",
       "      <th>Origin</th>\n",
       "      <th>Added</th>\n",
       "      <th>Modified</th>\n",
       "    </tr>\n",
       "  </thead>\n",
       "  <tbody>\n",
       "    <tr>\n",
       "      <th>9</th>\n",
       "      <td>10</td>\n",
       "      <td>AHFKISGEKRPSTDPGKKAKNPKKKKKKDP</td>\n",
       "      <td>NLS</td>\n",
       "      <td>Experimental</td>\n",
       "      <td>1</td>\n",
       "      <td>1</td>\n",
       "      <td>Q76IQ7</td>\n",
       "      <td>2017-10-11 15:10:55</td>\n",
       "      <td>2017-10-11 15:10:55</td>\n",
       "    </tr>\n",
       "    <tr>\n",
       "      <th>10</th>\n",
       "      <td>11</td>\n",
       "      <td>AHRAKKMSKTHA</td>\n",
       "      <td>NLS</td>\n",
       "      <td>Experimental</td>\n",
       "      <td>1</td>\n",
       "      <td>1</td>\n",
       "      <td>P21827</td>\n",
       "      <td>2017-10-11 15:10:55</td>\n",
       "      <td>2017-10-11 15:10:55</td>\n",
       "    </tr>\n",
       "    <tr>\n",
       "      <th>61</th>\n",
       "      <td>62</td>\n",
       "      <td>ASPEYVNLPINGNG</td>\n",
       "      <td>NLS</td>\n",
       "      <td>Experimental</td>\n",
       "      <td>1</td>\n",
       "      <td>1</td>\n",
       "      <td>SeqNLS</td>\n",
       "      <td>2017-10-11 15:10:55</td>\n",
       "      <td>2017-10-11 15:10:55</td>\n",
       "    </tr>\n",
       "    <tr>\n",
       "      <th>76</th>\n",
       "      <td>77</td>\n",
       "      <td>CTKRPRW</td>\n",
       "      <td>NLS</td>\n",
       "      <td>Experimental</td>\n",
       "      <td>1</td>\n",
       "      <td>1</td>\n",
       "      <td>O88622, Q86W56, Q9QYM2, O02776</td>\n",
       "      <td>2017-10-11 15:10:55</td>\n",
       "      <td>2017-10-11 15:10:55</td>\n",
       "    </tr>\n",
       "    <tr>\n",
       "      <th>82</th>\n",
       "      <td>83</td>\n",
       "      <td>DKAKRVSRNKSEKKRR</td>\n",
       "      <td>NLS</td>\n",
       "      <td>Experimental</td>\n",
       "      <td>2</td>\n",
       "      <td>1</td>\n",
       "      <td>O15516, Q5RAK8, Q91YB2, Q91YB0, Q8QGQ6, O08785...</td>\n",
       "      <td>2017-10-11 15:10:55</td>\n",
       "      <td>2017-10-11 15:10:55</td>\n",
       "    </tr>\n",
       "  </tbody>\n",
       "</table>\n",
       "</div>"
      ],
      "text/plain": [
       "    ID                        Sequence SignalType AnnotationType  \\\n",
       "9   10  AHFKISGEKRPSTDPGKKAKNPKKKKKKDP        NLS   Experimental   \n",
       "10  11                    AHRAKKMSKTHA        NLS   Experimental   \n",
       "61  62                  ASPEYVNLPINGNG        NLS   Experimental   \n",
       "76  77                         CTKRPRW        NLS   Experimental   \n",
       "82  83                DKAKRVSRNKSEKKRR        NLS   Experimental   \n",
       "\n",
       "    ConfidenceNuc  ConfidenceFam  \\\n",
       "9               1              1   \n",
       "10              1              1   \n",
       "61              1              1   \n",
       "76              1              1   \n",
       "82              2              1   \n",
       "\n",
       "                                               Origin                Added  \\\n",
       "9                                              Q76IQ7  2017-10-11 15:10:55   \n",
       "10                                             P21827  2017-10-11 15:10:55   \n",
       "61                                             SeqNLS  2017-10-11 15:10:55   \n",
       "76                     O88622, Q86W56, Q9QYM2, O02776  2017-10-11 15:10:55   \n",
       "82  O15516, Q5RAK8, Q91YB2, Q91YB0, Q8QGQ6, O08785...  2017-10-11 15:10:55   \n",
       "\n",
       "               Modified  \n",
       "9   2017-10-11 15:10:55  \n",
       "10  2017-10-11 15:10:55  \n",
       "61  2017-10-11 15:10:55  \n",
       "76  2017-10-11 15:10:55  \n",
       "82  2017-10-11 15:10:55  "
      ]
     },
     "execution_count": 18,
     "metadata": {},
     "output_type": "execute_result"
    }
   ],
   "source": [
    "df_experimental.head()"
   ]
  },
  {
   "cell_type": "code",
   "execution_count": 6,
   "id": "d9177a95-42df-460f-8c3d-c53aa6309e27",
   "metadata": {},
   "outputs": [
    {
     "name": "stdout",
     "output_type": "stream",
     "text": [
      "2651\n"
     ]
    }
   ],
   "source": [
    "list_NLS = df['Sequence'].unique()\n",
    "print(len(list_NLS))"
   ]
  },
  {
   "cell_type": "code",
   "execution_count": 7,
   "id": "a5c77e06-c5dc-4dcc-81da-deb312f795bc",
   "metadata": {},
   "outputs": [],
   "source": [
    "Sun2 = 'MSRRSQRLTRYSQGDDDGSSSSGGSSVAGSQSTLFKDSPLRTLKRKSSNMKRLSPAPQLGPSSDAHTSYYSESLVHESWFPPRSSLEELHGDANWGEDLRVRRRRGTGGSESSRASGLVGRKATEDFLGSSSGYSSEDDYVGYSDVDQQSSSSRLRSAVSRAGSLLWMVATSPGRLFRLLYWWAGTTWYRLTTAASLLDVFVLTRRFSSLKTFLWFLLPLLLLTCLTYGAWYFYPYGLQTFHPALVSWWAAKDSRRPDEGWEARDSSPHFQAEQRVMSRVHSLERRLEALAAEFSSNWQKEAMRLERLELRQGAPGQGGGGGLSHEDTLALLEGLVSRREAALKEDFRRETAARIQEELSALRAEHQQDSEDLFKKIVRASQESEARIQQLKSEWQSMTQESFQESSVKELRRLEDQLAGLQQELAALALKQSSVAEEVGLLPQQIQAVRDDVESQFPAWISQFLARGGGGRVGLLQREEMQAQLRELESKILTHVAEMQGKSAREAAASLSLTLQKEGVIGVTEEQVHHIVKQALQRYSEDRIGLADYALESGGASVISTRCSETYETKTALLSLFGIPLWYHSQSPRVILQPDVHPGNCWAFQGPQGFAVVRLSARIRPTAVTLEHVPKALSPNSTISSAPKDFAIFGFDEDLQQEGTLLGKFTYDQDGEPIQTFHFQAPTMATYQVVELRILTNWGHPEYTCIYRFRVHGEPAH'"
   ]
  },
  {
   "cell_type": "code",
   "execution_count": 19,
   "id": "755b85a3-3144-46ba-921a-8d82aea35c46",
   "metadata": {},
   "outputs": [],
   "source": [
    "CLOCK = 'MLFTVSCSKMSSIVDRDDSSIFDGLVEEDDKDKAKRVSRNKSEKKRRDQFNVLIKELGSMLPGNARKMDKSTVLQKSIDFLRKHKEITAQSDASEIRQDWKPTFLSNEEFTQLMLEALDGFFLAIMTDGSIIYVSESVTSLLEHLPSDLVDQSIFNFIPEGEHSEVYKILSTHLLESDSLTPEYLKSKNQLEFCCHMLRGTIDPKEPSTYEYVKFIGNFKSLNSVSSSAHNGFEGTIQRTHRPSYEDRVCFVATVRLATPQFIKEMCTVEEPNEEFTSRHSLEWKFLFLDHRAPPIIGYLPFEVLGTSGYDYYHVDDLENLAKCHEHLMQYGKGKSCYYRFLTKGQQWIWLQTHYYITYHQWNSRPEFIVCTHTVVSYAEVRAERRRELGIEESLPETAADKSQDSGSDNRINTVSLKEALERFDHSPTPSASSRSSRKSSHTAVSDPSSTPTKIPTDTSTPPRQHLPAHEKMVQRRSSFSSQSINSQSVGSSLTQPVMSQATNLPIPQGMSQFQFSAQLGAMQHLKDQLEQRTRMIEANIHRQQEELRKIQEQLQMVHGQGLQMFLQQSNPGLNFGSVQLSSGNSSNIQQLAPINMQGQVVPTNQIQSGMNTGHIGTTQHMIQQQTLQSTSTQSQQNVLSGHSQQTSLPSQTQSTLTAPLYNTMVISQPAAGSMVQIPSSMPQNSTQSAAVTTFTQDRQIRFSQGQQLVTKLVTAPVACGAVMVPSTMLMGQVVTAYPTFATQQQQSQTLSVTQQQQQQSSQEQQLTSVQQPSQAQLTQPPQQFLQTSRLLHGNPSTQLILSAAFPLQQSTFPQSHHQQHQSQQQQQLSRHRTDSLPDPSKVQPQ'"
   ]
  },
  {
   "cell_type": "code",
   "execution_count": 8,
   "id": "ba988ece-e319-4c80-bfbc-c9126d5c147f",
   "metadata": {},
   "outputs": [],
   "source": [
    "test = 'VTLEHVPKAL'"
   ]
  },
  {
   "cell_type": "code",
   "execution_count": 10,
   "id": "738b68fc-61fb-4630-a62a-66dd64a5f514",
   "metadata": {},
   "outputs": [],
   "source": [
    "test2 = 'KDNG'"
   ]
  },
  {
   "cell_type": "code",
   "execution_count": 9,
   "id": "14d6f326-12e2-4a84-83cc-7789cf639fd3",
   "metadata": {},
   "outputs": [
    {
     "data": {
      "text/plain": [
       "623"
      ]
     },
     "execution_count": 9,
     "metadata": {},
     "output_type": "execute_result"
    }
   ],
   "source": [
    "Sun2.find(test)"
   ]
  },
  {
   "cell_type": "code",
   "execution_count": 11,
   "id": "b1a4c60a-748c-4367-b5a9-00c9acbdca70",
   "metadata": {},
   "outputs": [
    {
     "data": {
      "text/plain": [
       "-1"
      ]
     },
     "execution_count": 11,
     "metadata": {},
     "output_type": "execute_result"
    }
   ],
   "source": [
    "Sun2.find(test2)"
   ]
  },
  {
   "cell_type": "code",
   "execution_count": 20,
   "id": "ad475740-e6c4-4e1c-8c42-e42f698dd345",
   "metadata": {},
   "outputs": [],
   "source": [
    "NLS_positions = dict()\n",
    "for i, NLS in enumerate(list_NLS):\n",
    "    position = CLOCK.find(NLS)\n",
    "    if position != -1:\n",
    "        NLS_positions[NLS] = position"
   ]
  },
  {
   "cell_type": "code",
   "execution_count": 21,
   "id": "af253846-bf87-47d3-90d5-849eb833d033",
   "metadata": {},
   "outputs": [
    {
     "data": {
      "text/plain": [
       "{'AKRVSR': 33,\n",
       " 'DKAKRVSRNKSEKKRR': 31,\n",
       " 'NKSEKK': 39,\n",
       " 'RNKSEK': 38,\n",
       " 'SEKKRR': 41}"
      ]
     },
     "execution_count": 21,
     "metadata": {},
     "output_type": "execute_result"
    }
   ],
   "source": [
    "NLS_positions"
   ]
  },
  {
   "cell_type": "code",
   "execution_count": null,
   "id": "567f07de-6a33-4b8f-98df-e220ec4681b6",
   "metadata": {},
   "outputs": [],
   "source": []
  }
 ],
 "metadata": {
  "kernelspec": {
   "display_name": "Python 3",
   "language": "python",
   "name": "python3"
  },
  "language_info": {
   "codemirror_mode": {
    "name": "ipython",
    "version": 3
   },
   "file_extension": ".py",
   "mimetype": "text/x-python",
   "name": "python",
   "nbconvert_exporter": "python",
   "pygments_lexer": "ipython3",
   "version": "3.8.8"
  }
 },
 "nbformat": 4,
 "nbformat_minor": 5
}
