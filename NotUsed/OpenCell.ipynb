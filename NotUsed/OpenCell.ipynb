{
 "cells": [
  {
   "cell_type": "code",
   "execution_count": 1,
   "id": "e50f7d4a-cae9-42f5-900a-a2376135c615",
   "metadata": {},
   "outputs": [],
   "source": [
    "import os, openpyxl\n",
    "import pyperclip as pc\n",
    "import pandas as pd"
   ]
  },
  {
   "cell_type": "markdown",
   "id": "aa71830d-fdfa-44a7-b8bd-ed3f718d5b49",
   "metadata": {},
   "source": [
    "### 1. Data import"
   ]
  },
  {
   "cell_type": "code",
   "execution_count": 2,
   "id": "79c066e4-c1f7-423f-afb8-83634bf934df",
   "metadata": {},
   "outputs": [],
   "source": [
    "path = './SourceData/OpenCell/science.abi6983_table_s6.xlsx'"
   ]
  },
  {
   "cell_type": "code",
   "execution_count": 3,
   "id": "5d07a58b-0576-4ebb-b0cf-a66f04e22f4c",
   "metadata": {},
   "outputs": [
    {
     "data": {
      "text/plain": [
       "['read_me',\n",
       " 'localization_annotations',\n",
       " 'localization_annotations_flatte',\n",
       " 'Fig S7B']"
      ]
     },
     "execution_count": 3,
     "metadata": {},
     "output_type": "execute_result"
    }
   ],
   "source": [
    "wb = openpyxl.load_workbook(path)\n",
    "wb.sheetnames"
   ]
  },
  {
   "cell_type": "code",
   "execution_count": 4,
   "id": "c3b926ce-abed-4545-93b3-82ef54d7019d",
   "metadata": {},
   "outputs": [
    {
     "data": {
      "text/html": [
       "<div>\n",
       "<style scoped>\n",
       "    .dataframe tbody tr th:only-of-type {\n",
       "        vertical-align: middle;\n",
       "    }\n",
       "\n",
       "    .dataframe tbody tr th {\n",
       "        vertical-align: top;\n",
       "    }\n",
       "\n",
       "    .dataframe thead th {\n",
       "        text-align: right;\n",
       "    }\n",
       "</style>\n",
       "<table border=\"1\" class=\"dataframe\">\n",
       "  <thead>\n",
       "    <tr style=\"text-align: right;\">\n",
       "      <th></th>\n",
       "      <th>0</th>\n",
       "      <th>1</th>\n",
       "      <th>2</th>\n",
       "      <th>3</th>\n",
       "      <th>4</th>\n",
       "    </tr>\n",
       "  </thead>\n",
       "  <tbody>\n",
       "    <tr>\n",
       "      <th>0</th>\n",
       "      <td>target_name</td>\n",
       "      <td>ensg_id</td>\n",
       "      <td>annotations_grade_3</td>\n",
       "      <td>annotations_grade_2</td>\n",
       "      <td>annotations_grade_1</td>\n",
       "    </tr>\n",
       "    <tr>\n",
       "      <th>1</th>\n",
       "      <td>AAMP</td>\n",
       "      <td>ENSG00000127837</td>\n",
       "      <td>cytoplasmic</td>\n",
       "      <td>None</td>\n",
       "      <td>nucleoplasm</td>\n",
       "    </tr>\n",
       "    <tr>\n",
       "      <th>2</th>\n",
       "      <td>AATF</td>\n",
       "      <td>ENSG00000275700</td>\n",
       "      <td>nucleolus_gc</td>\n",
       "      <td>None</td>\n",
       "      <td>None</td>\n",
       "    </tr>\n",
       "    <tr>\n",
       "      <th>3</th>\n",
       "      <td>ABCE1</td>\n",
       "      <td>ENSG00000164163</td>\n",
       "      <td>cytoplasmic</td>\n",
       "      <td>vesicles</td>\n",
       "      <td>nucleoplasm</td>\n",
       "    </tr>\n",
       "    <tr>\n",
       "      <th>4</th>\n",
       "      <td>ABR</td>\n",
       "      <td>ENSG00000159842</td>\n",
       "      <td>cytoplasmic</td>\n",
       "      <td>vesicles</td>\n",
       "      <td>None</td>\n",
       "    </tr>\n",
       "  </tbody>\n",
       "</table>\n",
       "</div>"
      ],
      "text/plain": [
       "             0                1                    2                    3  \\\n",
       "0  target_name          ensg_id  annotations_grade_3  annotations_grade_2   \n",
       "1         AAMP  ENSG00000127837          cytoplasmic                 None   \n",
       "2         AATF  ENSG00000275700         nucleolus_gc                 None   \n",
       "3        ABCE1  ENSG00000164163          cytoplasmic             vesicles   \n",
       "4          ABR  ENSG00000159842          cytoplasmic             vesicles   \n",
       "\n",
       "                     4  \n",
       "0  annotations_grade_1  \n",
       "1          nucleoplasm  \n",
       "2                 None  \n",
       "3          nucleoplasm  \n",
       "4                 None  "
      ]
     },
     "execution_count": 4,
     "metadata": {},
     "output_type": "execute_result"
    }
   ],
   "source": [
    "# ws = wb['localization_annotations_flatte']\n",
    "ws = wb['localization_annotations']\n",
    "df = pd.DataFrame(ws.values)\n",
    "df.head()"
   ]
  },
  {
   "cell_type": "code",
   "execution_count": 6,
   "id": "0b32deb3-e58f-44b1-8208-c53d0612a887",
   "metadata": {},
   "outputs": [
    {
     "name": "stdout",
     "output_type": "stream",
     "text": [
      "0            target_name\n",
      "1                ensg_id\n",
      "2    annotations_grade_3\n",
      "3    annotations_grade_2\n",
      "4    annotations_grade_1\n",
      "Name: 0, dtype: object\n"
     ]
    }
   ],
   "source": [
    "columns = df.iloc[0,[0,1,2,3,4]]\n",
    "print(columns)"
   ]
  },
  {
   "cell_type": "code",
   "execution_count": 7,
   "id": "e4716455-2e9f-432d-a629-1a78ada09a3e",
   "metadata": {},
   "outputs": [],
   "source": [
    "df.columns = columns\n",
    "df = df.iloc[1:, :]"
   ]
  },
  {
   "cell_type": "code",
   "execution_count": 8,
   "id": "d98d42a7-548a-4cdf-bb93-9601ecb8d201",
   "metadata": {},
   "outputs": [
    {
     "data": {
      "text/html": [
       "<div>\n",
       "<style scoped>\n",
       "    .dataframe tbody tr th:only-of-type {\n",
       "        vertical-align: middle;\n",
       "    }\n",
       "\n",
       "    .dataframe tbody tr th {\n",
       "        vertical-align: top;\n",
       "    }\n",
       "\n",
       "    .dataframe thead th {\n",
       "        text-align: right;\n",
       "    }\n",
       "</style>\n",
       "<table border=\"1\" class=\"dataframe\">\n",
       "  <thead>\n",
       "    <tr style=\"text-align: right;\">\n",
       "      <th></th>\n",
       "      <th>target_name</th>\n",
       "      <th>ensg_id</th>\n",
       "      <th>annotations_grade_3</th>\n",
       "      <th>annotations_grade_2</th>\n",
       "      <th>annotations_grade_1</th>\n",
       "    </tr>\n",
       "  </thead>\n",
       "  <tbody>\n",
       "    <tr>\n",
       "      <th>1306</th>\n",
       "      <td>ZCCHC7</td>\n",
       "      <td>ENSG00000147905</td>\n",
       "      <td>nucleolus_gc</td>\n",
       "      <td>None</td>\n",
       "      <td>None</td>\n",
       "    </tr>\n",
       "    <tr>\n",
       "      <th>1307</th>\n",
       "      <td>ZCCHC9</td>\n",
       "      <td>ENSG00000131732</td>\n",
       "      <td>nucleolus_gc</td>\n",
       "      <td>None</td>\n",
       "      <td>None</td>\n",
       "    </tr>\n",
       "    <tr>\n",
       "      <th>1308</th>\n",
       "      <td>ZNF326</td>\n",
       "      <td>ENSG00000162664</td>\n",
       "      <td>nuclear_punctae;nucleolus_gc;nucleoplasm</td>\n",
       "      <td>None</td>\n",
       "      <td>None</td>\n",
       "    </tr>\n",
       "    <tr>\n",
       "      <th>1309</th>\n",
       "      <td>ZNF598</td>\n",
       "      <td>ENSG00000167962</td>\n",
       "      <td>cytoplasmic</td>\n",
       "      <td>None</td>\n",
       "      <td>er</td>\n",
       "    </tr>\n",
       "    <tr>\n",
       "      <th>1310</th>\n",
       "      <td>ZYX</td>\n",
       "      <td>ENSG00000159840</td>\n",
       "      <td>cell_contact</td>\n",
       "      <td>None</td>\n",
       "      <td>None</td>\n",
       "    </tr>\n",
       "  </tbody>\n",
       "</table>\n",
       "</div>"
      ],
      "text/plain": [
       "0    target_name          ensg_id                       annotations_grade_3  \\\n",
       "1306      ZCCHC7  ENSG00000147905                              nucleolus_gc   \n",
       "1307      ZCCHC9  ENSG00000131732                              nucleolus_gc   \n",
       "1308      ZNF326  ENSG00000162664  nuclear_punctae;nucleolus_gc;nucleoplasm   \n",
       "1309      ZNF598  ENSG00000167962                               cytoplasmic   \n",
       "1310         ZYX  ENSG00000159840                              cell_contact   \n",
       "\n",
       "0    annotations_grade_2 annotations_grade_1  \n",
       "1306                None                None  \n",
       "1307                None                None  \n",
       "1308                None                None  \n",
       "1309                None                  er  \n",
       "1310                None                None  "
      ]
     },
     "execution_count": 8,
     "metadata": {},
     "output_type": "execute_result"
    }
   ],
   "source": [
    "# df.head(n=12)\n",
    "df.tail()"
   ]
  },
  {
   "cell_type": "code",
   "execution_count": 54,
   "id": "cd739fc4-9527-43c8-98b2-2de128f1e4fe",
   "metadata": {},
   "outputs": [
    {
     "name": "stdout",
     "output_type": "stream",
     "text": [
      "<class 'pandas.core.frame.DataFrame'>\n",
      "RangeIndex: 1310 entries, 1 to 1310\n",
      "Data columns (total 5 columns):\n",
      " #   Column               Non-Null Count  Dtype \n",
      "---  ------               --------------  ----- \n",
      " 0   target_name          1310 non-null   object\n",
      " 1   ensg_id              1310 non-null   object\n",
      " 2   annotations_grade_3  1306 non-null   object\n",
      " 3   annotations_grade_2  470 non-null    object\n",
      " 4   annotations_grade_1  339 non-null    object\n",
      "dtypes: object(5)\n",
      "memory usage: 51.3+ KB\n"
     ]
    }
   ],
   "source": [
    "df.info()"
   ]
  },
  {
   "cell_type": "markdown",
   "id": "91e1d1c9-b8c9-4656-bfa5-3eca8df09404",
   "metadata": {},
   "source": [
    "#### How many nuclear membrane proteins in there?"
   ]
  },
  {
   "cell_type": "code",
   "execution_count": 55,
   "id": "ad77eacc-46c9-4f15-933c-2cd6dcfaebb8",
   "metadata": {},
   "outputs": [],
   "source": [
    "df_fillna = df.fillna(value='NA')"
   ]
  },
  {
   "cell_type": "code",
   "execution_count": 62,
   "id": "b8b6dfa0-fc1d-4d33-8a8e-ada43bd807e3",
   "metadata": {},
   "outputs": [],
   "source": [
    "df_fillna_NE = df_fillna[(df_fillna['annotations_grade_3'].str.contains('nuclear_membrane'))\n",
    "                         |(df_fillna['annotations_grade_2'].str.contains('nuclear_membrane'))\n",
    "                         |(df_fillna['annotations_grade_1'].str.contains('nuclear_membrane'))]"
   ]
  },
  {
   "cell_type": "code",
   "execution_count": 64,
   "id": "bbdb58ab-a167-42c2-95c5-abfb6a388c9e",
   "metadata": {},
   "outputs": [
    {
     "name": "stdout",
     "output_type": "stream",
     "text": [
      "<class 'pandas.core.frame.DataFrame'>\n",
      "Int64Index: 38 entries, 91 to 1293\n",
      "Data columns (total 5 columns):\n",
      " #   Column               Non-Null Count  Dtype \n",
      "---  ------               --------------  ----- \n",
      " 0   target_name          38 non-null     object\n",
      " 1   ensg_id              38 non-null     object\n",
      " 2   annotations_grade_3  38 non-null     object\n",
      " 3   annotations_grade_2  38 non-null     object\n",
      " 4   annotations_grade_1  38 non-null     object\n",
      "dtypes: object(5)\n",
      "memory usage: 1.8+ KB\n"
     ]
    }
   ],
   "source": [
    "df_fillna_NE.info()"
   ]
  },
  {
   "cell_type": "markdown",
   "id": "d5f14108-bf3a-4cd8-af2f-17cff49dfe93",
   "metadata": {},
   "source": [
    "#### Realized that some of the proteins on OpenCell portal that is assgined to Nuclear membrane group actually is not localized to NE\n",
    "#### E.g.CSE1L"
   ]
  },
  {
   "cell_type": "markdown",
   "id": "2c7b44eb-1445-4eec-9543-8f99ee1189ee",
   "metadata": {},
   "source": [
    "### 2. ID conversion from Ensembl to UniprotKB"
   ]
  },
  {
   "cell_type": "code",
   "execution_count": 9,
   "id": "dc50c741-292b-4231-9e83-bdab922b8982",
   "metadata": {},
   "outputs": [
    {
     "data": {
      "text/plain": [
       "1310"
      ]
     },
     "execution_count": 9,
     "metadata": {},
     "output_type": "execute_result"
    }
   ],
   "source": [
    "ensg_id_list = df['ensg_id'].unique()\n",
    "len(ensg_id_list)"
   ]
  },
  {
   "cell_type": "code",
   "execution_count": 10,
   "id": "75b3ddc1-2ef4-44b3-8d76-177b75aaaefe",
   "metadata": {},
   "outputs": [],
   "source": [
    "ensg_id_list_spaced = ' '.join(ensg_id_list)"
   ]
  },
  {
   "cell_type": "code",
   "execution_count": 11,
   "id": "092b6796-55fd-42a7-a62f-3bf6ac7f4dba",
   "metadata": {},
   "outputs": [],
   "source": [
    "pc.copy(ensg_id_list_spaced)"
   ]
  },
  {
   "cell_type": "markdown",
   "id": "634efe2c-47e8-4577-8ce3-9bb62e845c7e",
   "metadata": {},
   "source": [
    "#### Paste to ID mapping on Uniprot, filter for Reviewed, then excel output downloaded"
   ]
  },
  {
   "cell_type": "markdown",
   "id": "cce806ef-e641-455b-9907-68a5f1bae88d",
   "metadata": {},
   "source": [
    "#### All of 1310 genes were converted to 1312 IDs"
   ]
  },
  {
   "cell_type": "code",
   "execution_count": 12,
   "id": "8e63d913-8a99-4d9b-9f85-b5a9263e315d",
   "metadata": {},
   "outputs": [
    {
     "name": "stderr",
     "output_type": "stream",
     "text": [
      "/Users/ShokenLEE/opt/anaconda3/lib/python3.8/site-packages/openpyxl/styles/stylesheet.py:221: UserWarning: Workbook contains no default style, apply openpyxl's default\n",
      "  warn(\"Workbook contains no default style, apply openpyxl's default\")\n"
     ]
    },
    {
     "name": "stdout",
     "output_type": "stream",
     "text": [
      "<class 'pandas.core.frame.DataFrame'>\n",
      "RangeIndex: 1312 entries, 0 to 1311\n",
      "Data columns (total 7 columns):\n",
      " #   Column                                                     Non-Null Count  Dtype \n",
      "---  ------                                                     --------------  ----- \n",
      " 0   yourlist:M202203266320BA52A5CE8FCD097CB85A53697A35478814R  1312 non-null   object\n",
      " 1   isomap:M202203266320BA52A5CE8FCD097CB85A53697A35478814R    685 non-null    object\n",
      " 2   Entry                                                      1312 non-null   object\n",
      " 3   Entry name                                                 1312 non-null   object\n",
      " 4   Protein names                                              1312 non-null   object\n",
      " 5   Gene names                                                 1312 non-null   object\n",
      " 6   Organism                                                   1312 non-null   object\n",
      "dtypes: object(7)\n",
      "memory usage: 71.9+ KB\n"
     ]
    }
   ],
   "source": [
    "# import of the output excel\n",
    "df_id_converted = pd.read_excel('./SourceData/OpenCell/Intermediate/Ensg_id_to_uniprot_id.xlsx')\n",
    "df_id_converted.info()"
   ]
  },
  {
   "cell_type": "code",
   "execution_count": 13,
   "id": "e4ad75f6-172e-48dd-a8f0-1193ae23e6a6",
   "metadata": {},
   "outputs": [
    {
     "data": {
      "text/html": [
       "<div>\n",
       "<style scoped>\n",
       "    .dataframe tbody tr th:only-of-type {\n",
       "        vertical-align: middle;\n",
       "    }\n",
       "\n",
       "    .dataframe tbody tr th {\n",
       "        vertical-align: top;\n",
       "    }\n",
       "\n",
       "    .dataframe thead th {\n",
       "        text-align: right;\n",
       "    }\n",
       "</style>\n",
       "<table border=\"1\" class=\"dataframe\">\n",
       "  <thead>\n",
       "    <tr style=\"text-align: right;\">\n",
       "      <th></th>\n",
       "      <th>ensg_id</th>\n",
       "      <th>Entry</th>\n",
       "      <th>Entry name</th>\n",
       "      <th>Protein names</th>\n",
       "      <th>Gene names</th>\n",
       "      <th>Organism</th>\n",
       "    </tr>\n",
       "  </thead>\n",
       "  <tbody>\n",
       "    <tr>\n",
       "      <th>0</th>\n",
       "      <td>ENSG00000127837</td>\n",
       "      <td>Q13685</td>\n",
       "      <td>AAMP_HUMAN</td>\n",
       "      <td>Angio-associated migratory cell protein</td>\n",
       "      <td>AAMP</td>\n",
       "      <td>Homo sapiens (Human)</td>\n",
       "    </tr>\n",
       "    <tr>\n",
       "      <th>1</th>\n",
       "      <td>ENSG00000275700</td>\n",
       "      <td>Q9NY61</td>\n",
       "      <td>AATF_HUMAN</td>\n",
       "      <td>Protein AATF (Apoptosis-antagonizing transcrip...</td>\n",
       "      <td>AATF CHE1 DED HSPC277</td>\n",
       "      <td>Homo sapiens (Human)</td>\n",
       "    </tr>\n",
       "    <tr>\n",
       "      <th>2</th>\n",
       "      <td>ENSG00000164163</td>\n",
       "      <td>P61221</td>\n",
       "      <td>ABCE1_HUMAN</td>\n",
       "      <td>ATP-binding cassette sub-family E member 1 (2'...</td>\n",
       "      <td>ABCE1 RLI RNASEL1 RNASELI RNS4I OK/SW-cl.40</td>\n",
       "      <td>Homo sapiens (Human)</td>\n",
       "    </tr>\n",
       "    <tr>\n",
       "      <th>3</th>\n",
       "      <td>ENSG00000159842</td>\n",
       "      <td>Q12979</td>\n",
       "      <td>ABR_HUMAN</td>\n",
       "      <td>Active breakpoint cluster region-related protein</td>\n",
       "      <td>ABR</td>\n",
       "      <td>Homo sapiens (Human)</td>\n",
       "    </tr>\n",
       "    <tr>\n",
       "      <th>4</th>\n",
       "      <td>ENSG00000114331</td>\n",
       "      <td>Q15057</td>\n",
       "      <td>ACAP2_HUMAN</td>\n",
       "      <td>Arf-GAP with coiled-coil, ANK repeat and PH do...</td>\n",
       "      <td>ACAP2 CENTB2 KIAA0041</td>\n",
       "      <td>Homo sapiens (Human)</td>\n",
       "    </tr>\n",
       "  </tbody>\n",
       "</table>\n",
       "</div>"
      ],
      "text/plain": [
       "           ensg_id   Entry   Entry name  \\\n",
       "0  ENSG00000127837  Q13685   AAMP_HUMAN   \n",
       "1  ENSG00000275700  Q9NY61   AATF_HUMAN   \n",
       "2  ENSG00000164163  P61221  ABCE1_HUMAN   \n",
       "3  ENSG00000159842  Q12979    ABR_HUMAN   \n",
       "4  ENSG00000114331  Q15057  ACAP2_HUMAN   \n",
       "\n",
       "                                       Protein names  \\\n",
       "0            Angio-associated migratory cell protein   \n",
       "1  Protein AATF (Apoptosis-antagonizing transcrip...   \n",
       "2  ATP-binding cassette sub-family E member 1 (2'...   \n",
       "3   Active breakpoint cluster region-related protein   \n",
       "4  Arf-GAP with coiled-coil, ANK repeat and PH do...   \n",
       "\n",
       "                                    Gene names              Organism  \n",
       "0                                         AAMP  Homo sapiens (Human)  \n",
       "1                        AATF CHE1 DED HSPC277  Homo sapiens (Human)  \n",
       "2  ABCE1 RLI RNASEL1 RNASELI RNS4I OK/SW-cl.40  Homo sapiens (Human)  \n",
       "3                                          ABR  Homo sapiens (Human)  \n",
       "4                        ACAP2 CENTB2 KIAA0041  Homo sapiens (Human)  "
      ]
     },
     "execution_count": 13,
     "metadata": {},
     "output_type": "execute_result"
    }
   ],
   "source": [
    "df_id_converted = df_id_converted.drop(['isomap:M202203266320BA52A5CE8FCD097CB85A53697A35478814R'], axis=1)\n",
    "df_id_converted = df_id_converted.rename(columns={'yourlist:M202203266320BA52A5CE8FCD097CB85A53697A35478814R': 'ensg_id'})\n",
    "df_id_converted.head()"
   ]
  },
  {
   "cell_type": "markdown",
   "id": "1fee3963-3ef8-45c6-9418-4da60181f20d",
   "metadata": {},
   "source": [
    "#### What are duplicated ids?"
   ]
  },
  {
   "cell_type": "code",
   "execution_count": 20,
   "id": "1b276320-99a1-4902-98ff-d7aafb5ccfa6",
   "metadata": {},
   "outputs": [],
   "source": [
    "df_id_converted_duplicate = df_id_converted[df_id_converted.duplicated(subset=['ensg_id'])]"
   ]
  },
  {
   "cell_type": "code",
   "execution_count": 21,
   "id": "e7855367-0381-4bcd-9d84-1b800b4fe98f",
   "metadata": {},
   "outputs": [
    {
     "data": {
      "text/html": [
       "<div>\n",
       "<style scoped>\n",
       "    .dataframe tbody tr th:only-of-type {\n",
       "        vertical-align: middle;\n",
       "    }\n",
       "\n",
       "    .dataframe tbody tr th {\n",
       "        vertical-align: top;\n",
       "    }\n",
       "\n",
       "    .dataframe thead th {\n",
       "        text-align: right;\n",
       "    }\n",
       "</style>\n",
       "<table border=\"1\" class=\"dataframe\">\n",
       "  <thead>\n",
       "    <tr style=\"text-align: right;\">\n",
       "      <th></th>\n",
       "      <th>ensg_id</th>\n",
       "      <th>Entry</th>\n",
       "      <th>Entry name</th>\n",
       "      <th>Protein names</th>\n",
       "      <th>Gene names</th>\n",
       "      <th>Organism</th>\n",
       "    </tr>\n",
       "  </thead>\n",
       "  <tbody>\n",
       "    <tr>\n",
       "      <th>220</th>\n",
       "      <td>ENSG00000147889</td>\n",
       "      <td>Q8N726</td>\n",
       "      <td>ARF_HUMAN</td>\n",
       "      <td>Tumor suppressor ARF (Alternative reading fram...</td>\n",
       "      <td>CDKN2A CDKN2 MLM</td>\n",
       "      <td>Homo sapiens (Human)</td>\n",
       "    </tr>\n",
       "    <tr>\n",
       "      <th>787</th>\n",
       "      <td>ENSG00000186184</td>\n",
       "      <td>P0DPB6</td>\n",
       "      <td>RPAC2_HUMAN</td>\n",
       "      <td>DNA-directed RNA polymerases I and III subunit...</td>\n",
       "      <td>POLR1D</td>\n",
       "      <td>Homo sapiens (Human)</td>\n",
       "    </tr>\n",
       "    <tr>\n",
       "      <th>900</th>\n",
       "      <td>ENSG00000152061</td>\n",
       "      <td>Q5R372</td>\n",
       "      <td>RBG1L_HUMAN</td>\n",
       "      <td>Rab GTPase-activating protein 1-like</td>\n",
       "      <td>RABGAP1L HHL KIAA0471</td>\n",
       "      <td>Homo sapiens (Human)</td>\n",
       "    </tr>\n",
       "    <tr>\n",
       "      <th>1020</th>\n",
       "      <td>ENSG00000127922</td>\n",
       "      <td>Q6ZVN7</td>\n",
       "      <td>SEML_HUMAN</td>\n",
       "      <td>Putative protein SEM1, isoform 2</td>\n",
       "      <td>SEM1 C7orf76</td>\n",
       "      <td>Homo sapiens (Human)</td>\n",
       "    </tr>\n",
       "    <tr>\n",
       "      <th>1195</th>\n",
       "      <td>ENSG00000120802</td>\n",
       "      <td>P42167</td>\n",
       "      <td>LAP2B_HUMAN</td>\n",
       "      <td>Lamina-associated polypeptide 2, isoforms beta...</td>\n",
       "      <td>TMPO LAP2</td>\n",
       "      <td>Homo sapiens (Human)</td>\n",
       "    </tr>\n",
       "  </tbody>\n",
       "</table>\n",
       "</div>"
      ],
      "text/plain": [
       "              ensg_id   Entry   Entry name  \\\n",
       "220   ENSG00000147889  Q8N726    ARF_HUMAN   \n",
       "787   ENSG00000186184  P0DPB6  RPAC2_HUMAN   \n",
       "900   ENSG00000152061  Q5R372  RBG1L_HUMAN   \n",
       "1020  ENSG00000127922  Q6ZVN7   SEML_HUMAN   \n",
       "1195  ENSG00000120802  P42167  LAP2B_HUMAN   \n",
       "\n",
       "                                          Protein names  \\\n",
       "220   Tumor suppressor ARF (Alternative reading fram...   \n",
       "787   DNA-directed RNA polymerases I and III subunit...   \n",
       "900                Rab GTPase-activating protein 1-like   \n",
       "1020                   Putative protein SEM1, isoform 2   \n",
       "1195  Lamina-associated polypeptide 2, isoforms beta...   \n",
       "\n",
       "                 Gene names              Organism  \n",
       "220        CDKN2A CDKN2 MLM  Homo sapiens (Human)  \n",
       "787                  POLR1D  Homo sapiens (Human)  \n",
       "900   RABGAP1L HHL KIAA0471  Homo sapiens (Human)  \n",
       "1020           SEM1 C7orf76  Homo sapiens (Human)  \n",
       "1195              TMPO LAP2  Homo sapiens (Human)  "
      ]
     },
     "execution_count": 21,
     "metadata": {},
     "output_type": "execute_result"
    }
   ],
   "source": [
    "df_id_converted_duplicate"
   ]
  },
  {
   "cell_type": "markdown",
   "id": "80108097-6244-4b4c-b385-e4ec3d193148",
   "metadata": {},
   "source": [
    "#### I searched those duplicated ensg_ids and realized that ID mapping yields two Entrys that correspond to a single gene name"
   ]
  },
  {
   "cell_type": "markdown",
   "id": "d72e154b-0163-4b75-939e-73808a4c679f",
   "metadata": {},
   "source": [
    "#### Thus those duplicated ids can be removed"
   ]
  },
  {
   "cell_type": "markdown",
   "id": "047717c8-0f72-4513-9be3-8cae36e57af9",
   "metadata": {},
   "source": [
    "#### Generate a df without duplicate in ensg_id and will use this afterwords"
   ]
  },
  {
   "cell_type": "code",
   "execution_count": 22,
   "id": "6eb8d268-302e-4df3-9bd9-dc0631a24243",
   "metadata": {},
   "outputs": [],
   "source": [
    "df_id_converted_unique = df_id_converted.drop_duplicates(subset=['ensg_id'])"
   ]
  },
  {
   "cell_type": "code",
   "execution_count": 23,
   "id": "53e00d05-457e-4ff9-888f-47d895fdb2ff",
   "metadata": {},
   "outputs": [
    {
     "name": "stdout",
     "output_type": "stream",
     "text": [
      "<class 'pandas.core.frame.DataFrame'>\n",
      "Int64Index: 1307 entries, 0 to 1311\n",
      "Data columns (total 6 columns):\n",
      " #   Column         Non-Null Count  Dtype \n",
      "---  ------         --------------  ----- \n",
      " 0   ensg_id        1307 non-null   object\n",
      " 1   Entry          1307 non-null   object\n",
      " 2   Entry name     1307 non-null   object\n",
      " 3   Protein names  1307 non-null   object\n",
      " 4   Gene names     1307 non-null   object\n",
      " 5   Organism       1307 non-null   object\n",
      "dtypes: object(6)\n",
      "memory usage: 71.5+ KB\n"
     ]
    }
   ],
   "source": [
    "df_id_converted_unique.info()"
   ]
  },
  {
   "cell_type": "markdown",
   "id": "ccd5b6c4-51f7-4ab2-ad9e-2ee5315620a8",
   "metadata": {},
   "source": [
    "### 3. Merge of df with df_id_converted"
   ]
  },
  {
   "cell_type": "code",
   "execution_count": 24,
   "id": "1ed1b5cd-73da-4268-a2df-66448d19df77",
   "metadata": {},
   "outputs": [],
   "source": [
    "df_merged = df.merge(df_id_converted_unique, how='outer', left_on='ensg_id', right_on='ensg_id')"
   ]
  },
  {
   "cell_type": "code",
   "execution_count": 25,
   "id": "30034fdb-5e60-40a8-b717-66d7f5bd4849",
   "metadata": {
    "collapsed": true,
    "jupyter": {
     "outputs_hidden": true
    },
    "tags": []
   },
   "outputs": [
    {
     "name": "stdout",
     "output_type": "stream",
     "text": [
      "<class 'pandas.core.frame.DataFrame'>\n",
      "Int64Index: 1310 entries, 0 to 1309\n",
      "Data columns (total 10 columns):\n",
      " #   Column               Non-Null Count  Dtype \n",
      "---  ------               --------------  ----- \n",
      " 0   target_name          1310 non-null   object\n",
      " 1   ensg_id              1310 non-null   object\n",
      " 2   annotations_grade_3  1306 non-null   object\n",
      " 3   annotations_grade_2  470 non-null    object\n",
      " 4   annotations_grade_1  339 non-null    object\n",
      " 5   Entry                1307 non-null   object\n",
      " 6   Entry name           1307 non-null   object\n",
      " 7   Protein names        1307 non-null   object\n",
      " 8   Gene names           1307 non-null   object\n",
      " 9   Organism             1307 non-null   object\n",
      "dtypes: object(10)\n",
      "memory usage: 112.6+ KB\n"
     ]
    }
   ],
   "source": [
    "df_merged.info()"
   ]
  },
  {
   "cell_type": "code",
   "execution_count": 26,
   "id": "d4badb6c-3e03-4c51-8360-b17e489b28c2",
   "metadata": {
    "collapsed": true,
    "jupyter": {
     "outputs_hidden": true
    },
    "tags": []
   },
   "outputs": [
    {
     "data": {
      "text/html": [
       "<div>\n",
       "<style scoped>\n",
       "    .dataframe tbody tr th:only-of-type {\n",
       "        vertical-align: middle;\n",
       "    }\n",
       "\n",
       "    .dataframe tbody tr th {\n",
       "        vertical-align: top;\n",
       "    }\n",
       "\n",
       "    .dataframe thead th {\n",
       "        text-align: right;\n",
       "    }\n",
       "</style>\n",
       "<table border=\"1\" class=\"dataframe\">\n",
       "  <thead>\n",
       "    <tr style=\"text-align: right;\">\n",
       "      <th></th>\n",
       "      <th>target_name</th>\n",
       "      <th>ensg_id</th>\n",
       "      <th>annotations_grade_3</th>\n",
       "      <th>annotations_grade_2</th>\n",
       "      <th>annotations_grade_1</th>\n",
       "      <th>Entry</th>\n",
       "      <th>Entry name</th>\n",
       "      <th>Protein names</th>\n",
       "      <th>Gene names</th>\n",
       "      <th>Organism</th>\n",
       "    </tr>\n",
       "  </thead>\n",
       "  <tbody>\n",
       "    <tr>\n",
       "      <th>0</th>\n",
       "      <td>AAMP</td>\n",
       "      <td>ENSG00000127837</td>\n",
       "      <td>cytoplasmic</td>\n",
       "      <td>None</td>\n",
       "      <td>nucleoplasm</td>\n",
       "      <td>Q13685</td>\n",
       "      <td>AAMP_HUMAN</td>\n",
       "      <td>Angio-associated migratory cell protein</td>\n",
       "      <td>AAMP</td>\n",
       "      <td>Homo sapiens (Human)</td>\n",
       "    </tr>\n",
       "    <tr>\n",
       "      <th>1</th>\n",
       "      <td>AATF</td>\n",
       "      <td>ENSG00000275700</td>\n",
       "      <td>nucleolus_gc</td>\n",
       "      <td>None</td>\n",
       "      <td>None</td>\n",
       "      <td>Q9NY61</td>\n",
       "      <td>AATF_HUMAN</td>\n",
       "      <td>Protein AATF (Apoptosis-antagonizing transcrip...</td>\n",
       "      <td>AATF CHE1 DED HSPC277</td>\n",
       "      <td>Homo sapiens (Human)</td>\n",
       "    </tr>\n",
       "    <tr>\n",
       "      <th>2</th>\n",
       "      <td>ABCE1</td>\n",
       "      <td>ENSG00000164163</td>\n",
       "      <td>cytoplasmic</td>\n",
       "      <td>vesicles</td>\n",
       "      <td>nucleoplasm</td>\n",
       "      <td>P61221</td>\n",
       "      <td>ABCE1_HUMAN</td>\n",
       "      <td>ATP-binding cassette sub-family E member 1 (2'...</td>\n",
       "      <td>ABCE1 RLI RNASEL1 RNASELI RNS4I OK/SW-cl.40</td>\n",
       "      <td>Homo sapiens (Human)</td>\n",
       "    </tr>\n",
       "    <tr>\n",
       "      <th>3</th>\n",
       "      <td>ABR</td>\n",
       "      <td>ENSG00000159842</td>\n",
       "      <td>cytoplasmic</td>\n",
       "      <td>vesicles</td>\n",
       "      <td>None</td>\n",
       "      <td>Q12979</td>\n",
       "      <td>ABR_HUMAN</td>\n",
       "      <td>Active breakpoint cluster region-related protein</td>\n",
       "      <td>ABR</td>\n",
       "      <td>Homo sapiens (Human)</td>\n",
       "    </tr>\n",
       "    <tr>\n",
       "      <th>4</th>\n",
       "      <td>ACAP2</td>\n",
       "      <td>ENSG00000114331</td>\n",
       "      <td>cytoplasmic</td>\n",
       "      <td>None</td>\n",
       "      <td>None</td>\n",
       "      <td>Q15057</td>\n",
       "      <td>ACAP2_HUMAN</td>\n",
       "      <td>Arf-GAP with coiled-coil, ANK repeat and PH do...</td>\n",
       "      <td>ACAP2 CENTB2 KIAA0041</td>\n",
       "      <td>Homo sapiens (Human)</td>\n",
       "    </tr>\n",
       "    <tr>\n",
       "      <th>5</th>\n",
       "      <td>ACAP3</td>\n",
       "      <td>ENSG00000131584</td>\n",
       "      <td>cytoplasmic</td>\n",
       "      <td>mitochondria;big_aggregates</td>\n",
       "      <td>None</td>\n",
       "      <td>Q96P50</td>\n",
       "      <td>ACAP3_HUMAN</td>\n",
       "      <td>Arf-GAP with coiled-coil, ANK repeat and PH do...</td>\n",
       "      <td>ACAP3 CENTB5 KIAA1716</td>\n",
       "      <td>Homo sapiens (Human)</td>\n",
       "    </tr>\n",
       "    <tr>\n",
       "      <th>6</th>\n",
       "      <td>ACLY</td>\n",
       "      <td>ENSG00000131473</td>\n",
       "      <td>cytoplasmic</td>\n",
       "      <td>nucleoplasm</td>\n",
       "      <td>None</td>\n",
       "      <td>P53396</td>\n",
       "      <td>ACLY_HUMAN</td>\n",
       "      <td>ATP-citrate synthase (EC 2.3.3.8) (ATP-citrate...</td>\n",
       "      <td>ACLY</td>\n",
       "      <td>Homo sapiens (Human)</td>\n",
       "    </tr>\n",
       "    <tr>\n",
       "      <th>7</th>\n",
       "      <td>ACTB</td>\n",
       "      <td>ENSG00000075624</td>\n",
       "      <td>membrane;cytoskeleton</td>\n",
       "      <td>cytoplasmic</td>\n",
       "      <td>None</td>\n",
       "      <td>P60709</td>\n",
       "      <td>ACTB_HUMAN</td>\n",
       "      <td>Actin, cytoplasmic 1 (Beta-actin) [Cleaved int...</td>\n",
       "      <td>ACTB</td>\n",
       "      <td>Homo sapiens (Human)</td>\n",
       "    </tr>\n",
       "    <tr>\n",
       "      <th>8</th>\n",
       "      <td>ACTG1</td>\n",
       "      <td>ENSG00000184009</td>\n",
       "      <td>membrane;cytoskeleton</td>\n",
       "      <td>None</td>\n",
       "      <td>cytoplasmic</td>\n",
       "      <td>P63261</td>\n",
       "      <td>ACTG_HUMAN</td>\n",
       "      <td>Actin, cytoplasmic 2 (Gamma-actin) [Cleaved in...</td>\n",
       "      <td>ACTG1 ACTG</td>\n",
       "      <td>Homo sapiens (Human)</td>\n",
       "    </tr>\n",
       "    <tr>\n",
       "      <th>9</th>\n",
       "      <td>ACTN1</td>\n",
       "      <td>ENSG00000072110</td>\n",
       "      <td>membrane;cytoskeleton</td>\n",
       "      <td>None</td>\n",
       "      <td>None</td>\n",
       "      <td>P12814</td>\n",
       "      <td>ACTN1_HUMAN</td>\n",
       "      <td>Alpha-actinin-1 (Alpha-actinin cytoskeletal is...</td>\n",
       "      <td>ACTN1</td>\n",
       "      <td>Homo sapiens (Human)</td>\n",
       "    </tr>\n",
       "  </tbody>\n",
       "</table>\n",
       "</div>"
      ],
      "text/plain": [
       "  target_name          ensg_id    annotations_grade_3  \\\n",
       "0        AAMP  ENSG00000127837            cytoplasmic   \n",
       "1        AATF  ENSG00000275700           nucleolus_gc   \n",
       "2       ABCE1  ENSG00000164163            cytoplasmic   \n",
       "3         ABR  ENSG00000159842            cytoplasmic   \n",
       "4       ACAP2  ENSG00000114331            cytoplasmic   \n",
       "5       ACAP3  ENSG00000131584            cytoplasmic   \n",
       "6        ACLY  ENSG00000131473            cytoplasmic   \n",
       "7        ACTB  ENSG00000075624  membrane;cytoskeleton   \n",
       "8       ACTG1  ENSG00000184009  membrane;cytoskeleton   \n",
       "9       ACTN1  ENSG00000072110  membrane;cytoskeleton   \n",
       "\n",
       "           annotations_grade_2 annotations_grade_1   Entry   Entry name  \\\n",
       "0                         None         nucleoplasm  Q13685   AAMP_HUMAN   \n",
       "1                         None                None  Q9NY61   AATF_HUMAN   \n",
       "2                     vesicles         nucleoplasm  P61221  ABCE1_HUMAN   \n",
       "3                     vesicles                None  Q12979    ABR_HUMAN   \n",
       "4                         None                None  Q15057  ACAP2_HUMAN   \n",
       "5  mitochondria;big_aggregates                None  Q96P50  ACAP3_HUMAN   \n",
       "6                  nucleoplasm                None  P53396   ACLY_HUMAN   \n",
       "7                  cytoplasmic                None  P60709   ACTB_HUMAN   \n",
       "8                         None         cytoplasmic  P63261   ACTG_HUMAN   \n",
       "9                         None                None  P12814  ACTN1_HUMAN   \n",
       "\n",
       "                                       Protein names  \\\n",
       "0            Angio-associated migratory cell protein   \n",
       "1  Protein AATF (Apoptosis-antagonizing transcrip...   \n",
       "2  ATP-binding cassette sub-family E member 1 (2'...   \n",
       "3   Active breakpoint cluster region-related protein   \n",
       "4  Arf-GAP with coiled-coil, ANK repeat and PH do...   \n",
       "5  Arf-GAP with coiled-coil, ANK repeat and PH do...   \n",
       "6  ATP-citrate synthase (EC 2.3.3.8) (ATP-citrate...   \n",
       "7  Actin, cytoplasmic 1 (Beta-actin) [Cleaved int...   \n",
       "8  Actin, cytoplasmic 2 (Gamma-actin) [Cleaved in...   \n",
       "9  Alpha-actinin-1 (Alpha-actinin cytoskeletal is...   \n",
       "\n",
       "                                    Gene names              Organism  \n",
       "0                                         AAMP  Homo sapiens (Human)  \n",
       "1                        AATF CHE1 DED HSPC277  Homo sapiens (Human)  \n",
       "2  ABCE1 RLI RNASEL1 RNASELI RNS4I OK/SW-cl.40  Homo sapiens (Human)  \n",
       "3                                          ABR  Homo sapiens (Human)  \n",
       "4                        ACAP2 CENTB2 KIAA0041  Homo sapiens (Human)  \n",
       "5                        ACAP3 CENTB5 KIAA1716  Homo sapiens (Human)  \n",
       "6                                         ACLY  Homo sapiens (Human)  \n",
       "7                                         ACTB  Homo sapiens (Human)  \n",
       "8                                   ACTG1 ACTG  Homo sapiens (Human)  \n",
       "9                                        ACTN1  Homo sapiens (Human)  "
      ]
     },
     "execution_count": 26,
     "metadata": {},
     "output_type": "execute_result"
    }
   ],
   "source": [
    "df_merged.head(n=10)"
   ]
  },
  {
   "cell_type": "code",
   "execution_count": 41,
   "id": "456d06b7-9654-4dc1-ab7b-e4c700ce308d",
   "metadata": {},
   "outputs": [],
   "source": [
    "df_merged_clean = df_merged.dropna(subset=['Entry'])"
   ]
  },
  {
   "cell_type": "code",
   "execution_count": 42,
   "id": "cddeba2b-ee59-454a-aace-42dbbadacd1f",
   "metadata": {},
   "outputs": [],
   "source": [
    "df_merged_clean = df_merged_clean.drop(['target_name', 'Entry name'], axis=1)"
   ]
  },
  {
   "cell_type": "code",
   "execution_count": 43,
   "id": "b8e96bdb-213c-49bf-8297-dfef498a9900",
   "metadata": {},
   "outputs": [],
   "source": [
    "df_merged_clean = df_merged_clean[['Entry', 'ensg_id', 'Protein names', 'Gene names',\n",
    "       'Organism', 'annotations_grade_3', 'annotations_grade_2',\n",
    "       'annotations_grade_1']]"
   ]
  },
  {
   "cell_type": "code",
   "execution_count": 45,
   "id": "392cca19-62ae-4dee-8e68-53c09f57b336",
   "metadata": {},
   "outputs": [],
   "source": [
    "df_merged_clean = df_merged_clean.fillna(value='NA')"
   ]
  },
  {
   "cell_type": "code",
   "execution_count": 77,
   "id": "766c2654-16cf-44bf-aa13-9e3011ee04f9",
   "metadata": {},
   "outputs": [],
   "source": [
    "df_merged_clean = df_merged_clean.rename(columns={'annotations_grade_3': 'OpenCell_top_grade', 'annotations_grade_2': 'OpenCell_mid_grade',\n",
    "                       'annotations_grade_1': 'OpenCell_low_grade'})"
   ]
  },
  {
   "cell_type": "code",
   "execution_count": 86,
   "id": "7cc11fa8-a351-4e38-a65a-a88667ff1a37",
   "metadata": {},
   "outputs": [
    {
     "name": "stdout",
     "output_type": "stream",
     "text": [
      "<class 'pandas.core.frame.DataFrame'>\n",
      "Int64Index: 1307 entries, 0 to 1309\n",
      "Data columns (total 8 columns):\n",
      " #   Column              Non-Null Count  Dtype \n",
      "---  ------              --------------  ----- \n",
      " 0   Entry               1307 non-null   object\n",
      " 1   ensg_id             1307 non-null   object\n",
      " 2   Protein names       1307 non-null   object\n",
      " 3   Gene names          1307 non-null   object\n",
      " 4   Organism            1307 non-null   object\n",
      " 5   OpenCell_top_grade  1307 non-null   object\n",
      " 6   OpenCell_mid_grade  1307 non-null   object\n",
      " 7   OpenCell_low_grade  1307 non-null   object\n",
      "dtypes: object(8)\n",
      "memory usage: 91.9+ KB\n"
     ]
    }
   ],
   "source": [
    "df_merged_clean.info()"
   ]
  },
  {
   "cell_type": "markdown",
   "id": "552d1fbe-2ad6-46dc-b61f-df35da74417d",
   "metadata": {},
   "source": [
    "#### Make sure how many nuclear membrane proteins in there?"
   ]
  },
  {
   "cell_type": "code",
   "execution_count": 81,
   "id": "bc8646c5-4f89-40f4-9078-dfcbd036050b",
   "metadata": {},
   "outputs": [],
   "source": [
    "df_merged_clean_NE = df_merged_clean[(df_merged_clean['OpenCell_top_grade'].str.contains('nuclear_membrane'))\n",
    "                         |(df_merged_clean['OpenCell_mid_grade'].str.contains('nuclear_membrane'))\n",
    "                         |(df_merged_clean['OpenCell_low_grade'].str.contains('nuclear_membrane'))]"
   ]
  },
  {
   "cell_type": "code",
   "execution_count": 82,
   "id": "efcc8344-724f-41a9-a4ff-2189e45886dc",
   "metadata": {},
   "outputs": [
    {
     "name": "stdout",
     "output_type": "stream",
     "text": [
      "<class 'pandas.core.frame.DataFrame'>\n",
      "Int64Index: 38 entries, 90 to 1292\n",
      "Data columns (total 8 columns):\n",
      " #   Column              Non-Null Count  Dtype \n",
      "---  ------              --------------  ----- \n",
      " 0   Entry               38 non-null     object\n",
      " 1   ensg_id             38 non-null     object\n",
      " 2   Protein names       38 non-null     object\n",
      " 3   Gene names          38 non-null     object\n",
      " 4   Organism            38 non-null     object\n",
      " 5   OpenCell_top_grade  38 non-null     object\n",
      " 6   OpenCell_mid_grade  38 non-null     object\n",
      " 7   OpenCell_low_grade  38 non-null     object\n",
      "dtypes: object(8)\n",
      "memory usage: 2.7+ KB\n"
     ]
    }
   ],
   "source": [
    "df_merged_clean_NE.info()"
   ]
  },
  {
   "cell_type": "code",
   "execution_count": 83,
   "id": "651976a9-2e9c-4a8a-9af8-14509566b16d",
   "metadata": {},
   "outputs": [
    {
     "data": {
      "text/html": [
       "<div>\n",
       "<style scoped>\n",
       "    .dataframe tbody tr th:only-of-type {\n",
       "        vertical-align: middle;\n",
       "    }\n",
       "\n",
       "    .dataframe tbody tr th {\n",
       "        vertical-align: top;\n",
       "    }\n",
       "\n",
       "    .dataframe thead th {\n",
       "        text-align: right;\n",
       "    }\n",
       "</style>\n",
       "<table border=\"1\" class=\"dataframe\">\n",
       "  <thead>\n",
       "    <tr style=\"text-align: right;\">\n",
       "      <th></th>\n",
       "      <th>Entry</th>\n",
       "      <th>ensg_id</th>\n",
       "      <th>Protein names</th>\n",
       "      <th>Gene names</th>\n",
       "      <th>Organism</th>\n",
       "      <th>OpenCell_top_grade</th>\n",
       "      <th>OpenCell_mid_grade</th>\n",
       "      <th>OpenCell_low_grade</th>\n",
       "    </tr>\n",
       "  </thead>\n",
       "  <tbody>\n",
       "    <tr>\n",
       "      <th>90</th>\n",
       "      <td>Q8N6S5</td>\n",
       "      <td>ENSG00000177917</td>\n",
       "      <td>ADP-ribosylation factor-like protein 6-interac...</td>\n",
       "      <td>ARL6IP6 PFAAP1</td>\n",
       "      <td>Homo sapiens (Human)</td>\n",
       "      <td>nuclear_membrane</td>\n",
       "      <td>big_aggregates</td>\n",
       "      <td>NA</td>\n",
       "    </tr>\n",
       "    <tr>\n",
       "      <th>131</th>\n",
       "      <td>O75531</td>\n",
       "      <td>ENSG00000175334</td>\n",
       "      <td>Barrier-to-autointegration factor (Breakpoint ...</td>\n",
       "      <td>BANF1 BAF BCRG1</td>\n",
       "      <td>Homo sapiens (Human)</td>\n",
       "      <td>nuclear_membrane</td>\n",
       "      <td>nucleoplasm;chromatin</td>\n",
       "      <td>NA</td>\n",
       "    </tr>\n",
       "    <tr>\n",
       "      <th>257</th>\n",
       "      <td>Q8IYA6</td>\n",
       "      <td>ENSG00000169607</td>\n",
       "      <td>Cytoskeleton-associated protein 2-like (Radial...</td>\n",
       "      <td>CKAP2L</td>\n",
       "      <td>Homo sapiens (Human)</td>\n",
       "      <td>centrosome;cytoskeleton</td>\n",
       "      <td>nucleoplasm;cytoplasmic</td>\n",
       "      <td>nuclear_membrane</td>\n",
       "    </tr>\n",
       "    <tr>\n",
       "      <th>397</th>\n",
       "      <td>Q9NPA8</td>\n",
       "      <td>ENSG00000120533</td>\n",
       "      <td>Transcription and mRNA export factor ENY2 (Enh...</td>\n",
       "      <td>ENY2 DC6</td>\n",
       "      <td>Homo sapiens (Human)</td>\n",
       "      <td>nucleoplasm;nuclear_punctae;nuclear_membrane</td>\n",
       "      <td>NA</td>\n",
       "      <td>NA</td>\n",
       "    </tr>\n",
       "    <tr>\n",
       "      <th>552</th>\n",
       "      <td>P52294</td>\n",
       "      <td>ENSG00000114030</td>\n",
       "      <td>Importin subunit alpha-5 (Karyopherin subunit ...</td>\n",
       "      <td>KPNA1 RCH2</td>\n",
       "      <td>Homo sapiens (Human)</td>\n",
       "      <td>nuclear_membrane;big_aggregates</td>\n",
       "      <td>nucleoplasm;cytoplasmic</td>\n",
       "      <td>NA</td>\n",
       "    </tr>\n",
       "  </tbody>\n",
       "</table>\n",
       "</div>"
      ],
      "text/plain": [
       "      Entry          ensg_id  \\\n",
       "90   Q8N6S5  ENSG00000177917   \n",
       "131  O75531  ENSG00000175334   \n",
       "257  Q8IYA6  ENSG00000169607   \n",
       "397  Q9NPA8  ENSG00000120533   \n",
       "552  P52294  ENSG00000114030   \n",
       "\n",
       "                                         Protein names       Gene names  \\\n",
       "90   ADP-ribosylation factor-like protein 6-interac...   ARL6IP6 PFAAP1   \n",
       "131  Barrier-to-autointegration factor (Breakpoint ...  BANF1 BAF BCRG1   \n",
       "257  Cytoskeleton-associated protein 2-like (Radial...           CKAP2L   \n",
       "397  Transcription and mRNA export factor ENY2 (Enh...         ENY2 DC6   \n",
       "552  Importin subunit alpha-5 (Karyopherin subunit ...       KPNA1 RCH2   \n",
       "\n",
       "                 Organism                            OpenCell_top_grade  \\\n",
       "90   Homo sapiens (Human)                              nuclear_membrane   \n",
       "131  Homo sapiens (Human)                              nuclear_membrane   \n",
       "257  Homo sapiens (Human)                       centrosome;cytoskeleton   \n",
       "397  Homo sapiens (Human)  nucleoplasm;nuclear_punctae;nuclear_membrane   \n",
       "552  Homo sapiens (Human)               nuclear_membrane;big_aggregates   \n",
       "\n",
       "          OpenCell_mid_grade OpenCell_low_grade  \n",
       "90            big_aggregates                 NA  \n",
       "131    nucleoplasm;chromatin                 NA  \n",
       "257  nucleoplasm;cytoplasmic   nuclear_membrane  \n",
       "397                       NA                 NA  \n",
       "552  nucleoplasm;cytoplasmic                 NA  "
      ]
     },
     "execution_count": 83,
     "metadata": {},
     "output_type": "execute_result"
    }
   ],
   "source": [
    "df_merged_clean_NE.head()"
   ]
  },
  {
   "cell_type": "markdown",
   "id": "e94a172a-b041-445c-82ee-5a0ec0740100",
   "metadata": {},
   "source": [
    "### 4. Export"
   ]
  },
  {
   "cell_type": "code",
   "execution_count": 84,
   "id": "8de5035d-cfa4-456a-a8b5-4093654a3924",
   "metadata": {},
   "outputs": [],
   "source": [
    "df_merged_clean.to_csv('./Output/OpenCell_all_Hs.csv')"
   ]
  },
  {
   "cell_type": "markdown",
   "id": "f4102188-4dbb-49a4-a9dc-ef15d1e1fe96",
   "metadata": {},
   "source": [
    "#### End of Note"
   ]
  },
  {
   "cell_type": "code",
   "execution_count": null,
   "id": "2dabb3eb-b2d6-4c46-b493-b143f4e19422",
   "metadata": {},
   "outputs": [],
   "source": []
  }
 ],
 "metadata": {
  "kernelspec": {
   "display_name": "Python 3",
   "language": "python",
   "name": "python3"
  },
  "language_info": {
   "codemirror_mode": {
    "name": "ipython",
    "version": 3
   },
   "file_extension": ".py",
   "mimetype": "text/x-python",
   "name": "python",
   "nbconvert_exporter": "python",
   "pygments_lexer": "ipython3",
   "version": "3.8.8"
  }
 },
 "nbformat": 4,
 "nbformat_minor": 5
}
