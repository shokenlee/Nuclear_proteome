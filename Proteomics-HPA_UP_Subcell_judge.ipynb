{
 "cells": [
  {
   "cell_type": "code",
   "execution_count": 78,
   "id": "d4952569-101f-4832-9f8b-65ec3820cd67",
   "metadata": {
    "tags": []
   },
   "outputs": [
    {
     "ename": "ImportError",
     "evalue": "cannot import name 'get_source_pmid' from 'my_utils' (/Users/ShokenLEE/Desktop/Codes/git/Nuclear_proteome/my_utils.py)",
     "output_type": "error",
     "traceback": [
      "\u001b[0;31m---------------------------------------------------------------------------\u001b[0m",
      "\u001b[0;31mImportError\u001b[0m                               Traceback (most recent call last)",
      "Cell \u001b[0;32mIn[78], line 5\u001b[0m\n\u001b[1;32m      3\u001b[0m \u001b[38;5;28;01mimport\u001b[39;00m \u001b[38;5;21;01mast\u001b[39;00m\n\u001b[1;32m      4\u001b[0m \u001b[38;5;28;01mimport\u001b[39;00m \u001b[38;5;21;01mjson\u001b[39;00m\n\u001b[0;32m----> 5\u001b[0m \u001b[38;5;28;01mfrom\u001b[39;00m \u001b[38;5;21;01mmy_utils\u001b[39;00m \u001b[38;5;28;01mimport\u001b[39;00m get_url, get_source_pmid\n\u001b[1;32m      6\u001b[0m \u001b[38;5;28;01mimport\u001b[39;00m \u001b[38;5;21;01mmy_config\u001b[39;00m\n",
      "\u001b[0;31mImportError\u001b[0m: cannot import name 'get_source_pmid' from 'my_utils' (/Users/ShokenLEE/Desktop/Codes/git/Nuclear_proteome/my_utils.py)"
     ]
    }
   ],
   "source": [
    "import requests\n",
    "import pandas as pd\n",
    "import ast\n",
    "import json\n",
    "from my_utils import get_url, get_source_pmid\n",
    "import my_config"
   ]
  },
  {
   "cell_type": "code",
   "execution_count": 2,
   "id": "2d160744-452f-471b-ad5a-aaf3186ab117",
   "metadata": {
    "tags": []
   },
   "outputs": [],
   "source": [
    "df = pd.read_csv('./Output/UniprotSubcellResults.csv')"
   ]
  },
  {
   "cell_type": "code",
   "execution_count": 89,
   "id": "6d348eaf-b56a-468b-a416-05715e28b43e",
   "metadata": {
    "tags": []
   },
   "outputs": [
    {
     "data": {
      "text/html": [
       "<div>\n",
       "<style scoped>\n",
       "    .dataframe tbody tr th:only-of-type {\n",
       "        vertical-align: middle;\n",
       "    }\n",
       "\n",
       "    .dataframe tbody tr th {\n",
       "        vertical-align: top;\n",
       "    }\n",
       "\n",
       "    .dataframe thead th {\n",
       "        text-align: right;\n",
       "    }\n",
       "</style>\n",
       "<table border=\"1\" class=\"dataframe\">\n",
       "  <thead>\n",
       "    <tr style=\"text-align: right;\">\n",
       "      <th></th>\n",
       "      <th>UniprotID</th>\n",
       "      <th>Results</th>\n",
       "      <th>Uniprot_NEorER</th>\n",
       "      <th>Uniprot_subcell</th>\n",
       "    </tr>\n",
       "  </thead>\n",
       "  <tbody>\n",
       "    <tr>\n",
       "      <th>0</th>\n",
       "      <td>Q92604</td>\n",
       "      <td>{'entryType': 'UniProtKB reviewed (Swiss-Prot)...</td>\n",
       "      <td>1.0</td>\n",
       "      <td>Endoplasmic reticulum membrane</td>\n",
       "    </tr>\n",
       "    <tr>\n",
       "      <th>1</th>\n",
       "      <td>Q9Y3T9</td>\n",
       "      <td>{'entryType': 'UniProtKB reviewed (Swiss-Prot)...</td>\n",
       "      <td>0.0</td>\n",
       "      <td>Nucleus, nucleoplasm, Nucleus, nucleolus</td>\n",
       "    </tr>\n",
       "    <tr>\n",
       "      <th>2</th>\n",
       "      <td>Q8NBX0</td>\n",
       "      <td>{'entryType': 'UniProtKB reviewed (Swiss-Prot)...</td>\n",
       "      <td>0.0</td>\n",
       "      <td></td>\n",
       "    </tr>\n",
       "    <tr>\n",
       "      <th>3</th>\n",
       "      <td>A0A384NPM7</td>\n",
       "      <td>{'entryType': 'UniProtKB unreviewed (TrEMBL)',...</td>\n",
       "      <td>0.0</td>\n",
       "      <td></td>\n",
       "    </tr>\n",
       "    <tr>\n",
       "      <th>4</th>\n",
       "      <td>Q5VTL8</td>\n",
       "      <td>{'entryType': 'UniProtKB reviewed (Swiss-Prot)...</td>\n",
       "      <td>0.0</td>\n",
       "      <td>Nucleus</td>\n",
       "    </tr>\n",
       "    <tr>\n",
       "      <th>5</th>\n",
       "      <td>Q9BTX1</td>\n",
       "      <td>{'entryType': 'UniProtKB reviewed (Swiss-Prot)...</td>\n",
       "      <td>0.0</td>\n",
       "      <td>Nucleus, nuclear pore complex, Nucleus membrane</td>\n",
       "    </tr>\n",
       "    <tr>\n",
       "      <th>6</th>\n",
       "      <td>Q8NFQ8</td>\n",
       "      <td>{'entryType': 'UniProtKB reviewed (Swiss-Prot)...</td>\n",
       "      <td>0.0</td>\n",
       "      <td>Endoplasmic reticulum membrane, Nucleus membrane</td>\n",
       "    </tr>\n",
       "    <tr>\n",
       "      <th>7</th>\n",
       "      <td>Q9NXE4</td>\n",
       "      <td>{'entryType': 'UniProtKB reviewed (Swiss-Prot)...</td>\n",
       "      <td>1.0</td>\n",
       "      <td>Endoplasmic reticulum membrane, Golgi apparatu...</td>\n",
       "    </tr>\n",
       "    <tr>\n",
       "      <th>8</th>\n",
       "      <td>A0AV96</td>\n",
       "      <td>{'entryType': 'UniProtKB reviewed (Swiss-Prot)...</td>\n",
       "      <td>0.0</td>\n",
       "      <td>Nucleus, Cytoplasm</td>\n",
       "    </tr>\n",
       "    <tr>\n",
       "      <th>9</th>\n",
       "      <td>Q7LBC6</td>\n",
       "      <td>{'entryType': 'UniProtKB reviewed (Swiss-Prot)...</td>\n",
       "      <td>NaN</td>\n",
       "      <td>NaN</td>\n",
       "    </tr>\n",
       "  </tbody>\n",
       "</table>\n",
       "</div>"
      ],
      "text/plain": [
       "    UniprotID                                            Results  \\\n",
       "0      Q92604  {'entryType': 'UniProtKB reviewed (Swiss-Prot)...   \n",
       "1      Q9Y3T9  {'entryType': 'UniProtKB reviewed (Swiss-Prot)...   \n",
       "2      Q8NBX0  {'entryType': 'UniProtKB reviewed (Swiss-Prot)...   \n",
       "3  A0A384NPM7  {'entryType': 'UniProtKB unreviewed (TrEMBL)',...   \n",
       "4      Q5VTL8  {'entryType': 'UniProtKB reviewed (Swiss-Prot)...   \n",
       "5      Q9BTX1  {'entryType': 'UniProtKB reviewed (Swiss-Prot)...   \n",
       "6      Q8NFQ8  {'entryType': 'UniProtKB reviewed (Swiss-Prot)...   \n",
       "7      Q9NXE4  {'entryType': 'UniProtKB reviewed (Swiss-Prot)...   \n",
       "8      A0AV96  {'entryType': 'UniProtKB reviewed (Swiss-Prot)...   \n",
       "9      Q7LBC6  {'entryType': 'UniProtKB reviewed (Swiss-Prot)...   \n",
       "\n",
       "   Uniprot_NEorER                                    Uniprot_subcell  \n",
       "0             1.0                     Endoplasmic reticulum membrane  \n",
       "1             0.0           Nucleus, nucleoplasm, Nucleus, nucleolus  \n",
       "2             0.0                                                     \n",
       "3             0.0                                                     \n",
       "4             0.0                                            Nucleus  \n",
       "5             0.0    Nucleus, nuclear pore complex, Nucleus membrane  \n",
       "6             0.0   Endoplasmic reticulum membrane, Nucleus membrane  \n",
       "7             1.0  Endoplasmic reticulum membrane, Golgi apparatu...  \n",
       "8             0.0                                 Nucleus, Cytoplasm  \n",
       "9             NaN                                                NaN  "
      ]
     },
     "execution_count": 89,
     "metadata": {},
     "output_type": "execute_result"
    }
   ],
   "source": [
    "df.head(n=10)"
   ]
  },
  {
   "cell_type": "code",
   "execution_count": 90,
   "id": "35a6d6ec-35b4-4e81-a5e1-2626e71926be",
   "metadata": {
    "tags": []
   },
   "outputs": [],
   "source": [
    "result = df.iloc[9, 1]\n",
    "result = ast.literal_eval(result)"
   ]
  },
  {
   "cell_type": "code",
   "execution_count": 5,
   "id": "b9201e9f-917d-4ce7-8da3-9c85198a6b66",
   "metadata": {},
   "outputs": [],
   "source": [
    "NE_list = ['Nucleus outer membrane','Nucleus membrane','Nucleus inner membrane','Nucleus, nuclear pore complex', 'Nucleus envelope', 'Nucleus lamina']\n",
    "ER_list = ['Endoplasmic reticulum membrane','Endoplasmic reticulum','Sarcoplasmic reticulum membrane',\n",
    "            'Endoplasmic reticulum-Golgi intermediate compartment membrane', 'Endoplasmic reticulum lumen']\n",
    "NE_ER_list = NE_list + ER_list\n",
    "\n",
    "good_evidence = ['ECO:0000269', # experimental\n",
    "                 'ECO:0000305', # inferrence from paper\n",
    "                 'ECO:0000250', # seq similarity\n",
    "                 'ECO:0000255', # seq model\n",
    "                 'ECO:0000312', # imported from other database\n",
    "                 'ECO:0007744'] # a combination of experimental and computational evidence\n",
    "\n",
    "five_papers = ['12958361', '20693407', '20876400', '22990521', '31142202']"
   ]
  },
  {
   "cell_type": "code",
   "execution_count": 91,
   "id": "8d74321a-ed74-4d13-b690-bec2ac5baddc",
   "metadata": {
    "tags": []
   },
   "outputs": [
    {
     "name": "stdout",
     "output_type": "stream",
     "text": [
      "{\n",
      "  \"entryType\": \"UniProtKB reviewed (Swiss-Prot)\",\n",
      "  \"primaryAccession\": \"Q7LBC6\",\n",
      "  \"comments\": [\n",
      "    {\n",
      "      \"commentType\": \"SUBCELLULAR LOCATION\",\n",
      "      \"subcellularLocations\": [\n",
      "        {\n",
      "          \"location\": {\n",
      "            \"evidences\": [\n",
      "              {\n",
      "                \"evidenceCode\": \"ECO:0000250\"\n",
      "              }\n",
      "            ],\n",
      "            \"value\": \"Nucleus\",\n",
      "            \"id\": \"SL-0191\"\n",
      "          }\n",
      "        }\n",
      "      ]\n",
      "    }\n",
      "  ]\n",
      "}\n"
     ]
    }
   ],
   "source": [
    "print(json.dumps(result, indent=2))"
   ]
  },
  {
   "cell_type": "code",
   "execution_count": 81,
   "id": "d52ef36d-dd5b-4ce7-83f2-2e8522dc9d9b",
   "metadata": {
    "jupyter": {
     "source_hidden": true
    },
    "tags": []
   },
   "outputs": [
    {
     "name": "stdout",
     "output_type": "stream",
     "text": [
      "NE/ER location evidence was only from 5 papers\n",
      "['Cytoplasm', 'Endoplasmic reticulum membrane', 'Mitochondrion membrane', 'Nucleus envelope', 'Cytoplasm', 'Nucleus']\n",
      "[0, 1, 0, 0, 0, 0]\n",
      "1\n"
     ]
    }
   ],
   "source": [
    "# Store location names and judging if it is reliablly NE/ER\n",
    "locations_list = []\n",
    "judge_list = []\n",
    "if 'comments' in result:\n",
    "    for comment in result['comments']: # Each comment contains information for each isoform, if any\n",
    "        if comment['commentType'] == 'SUBCELLULAR LOCATION':\n",
    "            locs = comment.get('subcellularLocations', [])\n",
    "\n",
    "            for loc in locs:\n",
    "                if 'location' in loc:\n",
    "                    # For judging this specifc location\n",
    "                    location_judge = 0\n",
    "                    evidence_judge = 0\n",
    "\n",
    "                    # Store evidence code and pmid for this location\n",
    "                    # Used for judging and not exported outside the loc loop\n",
    "                    code_list = []\n",
    "                    pmid_list = list()\n",
    "\n",
    "                    value = loc['location'].get('value', '')\n",
    "                    evidences = loc['location'].get('evidences', '')\n",
    "\n",
    "                    # Loop over all evidences\n",
    "                    for evidence in evidences:\n",
    "                        code = evidence.get('evidenceCode', '')\n",
    "                        pmid = evidence.get('id', '')\n",
    "\n",
    "                        # if reliable evidence is present\n",
    "                        # then the evidence is re-written to be valid\n",
    "                        if code in good_evidence:\n",
    "                            evidence_judge = 1\n",
    "\n",
    "                        # if the evidence is \"similarity\"\n",
    "                        # then the source pmid is pulled\n",
    "                        if code == \"ECO:0000250\":\n",
    "                            pmid = get_source_pmid(pmid, value)\n",
    "\n",
    "                        code_list.append(code)\n",
    "                        # Append the give PMIDs depending on type of pmid\n",
    "                        # In default it is a string\n",
    "                        # But if it was updated by \"Similarity\" then it is a list\n",
    "                        if type(pmid) == str: pmid_list.append(pmid)\n",
    "                        if type(pmid) == list: pmid_list += pmid\n",
    "\n",
    "                    # if the location evidence comes only from any of 5 papers\n",
    "                    # then the evidence is considered invalid\n",
    "                    if len(evidences) == 1 & all(item in five_papers for item in pmid_list):\n",
    "                        evidence_judge = 0\n",
    "                        print(\"NE/ER location evidence was only from 5 papers\")\n",
    "\n",
    "                    # Final judge for this location\n",
    "                    if (value in NE_ER_list) & evidence_judge == 1:\n",
    "                        location_judge = 1\n",
    "\n",
    "                # the end of loc loop, appending the location and final judge\n",
    "                locations_list.append(value)\n",
    "                judge_list.append(location_judge)\n",
    "\n",
    "# Final judge\n",
    "# If there is at least one \"1\" in judge_list\n",
    "# then this protein NE/ER is suported by Uniprot but not by 5 papers\n",
    "if 1 in judge_list:\n",
    "    final_judge = 1\n",
    "else: final_judge = 0\n",
    "\n",
    "print(locations_list)\n",
    "print(judge_list)\n",
    "print(final_judge)"
   ]
  },
  {
   "cell_type": "code",
   "execution_count": 88,
   "id": "9cb8f2c2-2510-44e5-ba7b-441133be5def",
   "metadata": {
    "jp-MarkdownHeadingCollapsed": true,
    "tags": []
   },
   "outputs": [
    {
     "name": "stdout",
     "output_type": "stream",
     "text": [
      "similar found 7\n",
      "similar found 9\n",
      "HTTP Error for URL https://rest.uniprot.org/uniprotkb/search: 400 Bad Request\n"
     ]
    },
    {
     "ename": "SystemExit",
     "evalue": "1",
     "output_type": "error",
     "traceback": [
      "An exception has occurred, use %tb to see the full traceback.\n",
      "\u001b[0;31mSystemExit\u001b[0m\u001b[0;31m:\u001b[0m 1\n"
     ]
    }
   ],
   "source": [
    "for i in range(len(df)):\n",
    "    result = df.iloc[i, 1]\n",
    "    result = ast.literal_eval(result)\n",
    "\n",
    "    # Store location names and judging if it is reliablly NE/ER\n",
    "    locations_list = []\n",
    "    judge_list = []\n",
    "    if 'comments' in result:\n",
    "        for comment in result['comments']: # Each comment contains information for each isoform, if any\n",
    "            if comment['commentType'] == 'SUBCELLULAR LOCATION':\n",
    "                locs = comment.get('subcellularLocations', [])\n",
    "\n",
    "                for loc in locs:\n",
    "                    if 'location' in loc:\n",
    "                        # For judging this specifc location\n",
    "                        location_judge = 0\n",
    "                        evidence_judge = 0\n",
    "\n",
    "                        # Store evidence code and pmid for this location\n",
    "                        # Used for judging and not exported outside the loc loop\n",
    "                        code_list = []\n",
    "                        pmid_list = list()\n",
    "\n",
    "                        value = loc['location'].get('value', '')\n",
    "                        evidences = loc['location'].get('evidences', '')\n",
    "\n",
    "                        # Loop over all evidences\n",
    "                        for evidence in evidences:\n",
    "                            code = evidence.get('evidenceCode', '')\n",
    "                            pmid = evidence.get('id', '')\n",
    "\n",
    "                            # if reliable evidence is present\n",
    "                            # then the evidence is re-written to be valid\n",
    "                            if code in good_evidence:\n",
    "                                evidence_judge = 1\n",
    "\n",
    "                            # if the evidence is \"similarity\"\n",
    "                            # then the source pmid is pulled\n",
    "                            if code == \"ECO:0000250\":\n",
    "                                print(\"similar found\", i)\n",
    "                                pmid = get_source_pmid(pmid, value)\n",
    "\n",
    "                            code_list.append(code)\n",
    "                            # Append the give PMIDs depending on type of pmid\n",
    "                            # In default it is a string\n",
    "                            # But if it was updated by \"Similarity\" then it is a list\n",
    "                            if type(pmid) == str: pmid_list.append(pmid)\n",
    "                            if type(pmid) == list: pmid_list += pmid\n",
    "\n",
    "                        # if the location evidence comes only from any of 5 papers\n",
    "                        # then the evidence is considered invalid\n",
    "                        if len(evidences) == 1 & all(item in five_papers for item in pmid_list):\n",
    "                            evidence_judge = 0\n",
    "                            print(\"NE/ER location evidence was only from 5 papers\")\n",
    "\n",
    "                        # Final judge for this location\n",
    "                        if (value in NE_ER_list) & evidence_judge == 1:\n",
    "                            location_judge = 1\n",
    "\n",
    "                    # the end of loc loop, appending the location and final judge\n",
    "                    locations_list.append(value)\n",
    "                    judge_list.append(location_judge)\n",
    "    \n",
    "    # Final judge\n",
    "    # If there is at least one \"1\" in judge_list\n",
    "    # then this protein NE/ER is suported by Uniprot but not by 5 papers\n",
    "    if 1 in judge_list:\n",
    "        final_judge = 1\n",
    "    else: final_judge = 0\n",
    "    \n",
    "    df.loc[i, \"Uniprot_NEorER\"] = final_judge\n",
    "    df.loc[i, \"Uniprot_subcell\"] = \", \".join(locations_list)"
   ]
  },
  {
   "cell_type": "code",
   "execution_count": 79,
   "id": "b2dad26d-4c6b-4763-9db1-6841a74d4e05",
   "metadata": {
    "tags": []
   },
   "outputs": [
    {
     "data": {
      "text/plain": [
       "1"
      ]
     },
     "execution_count": 79,
     "metadata": {},
     "output_type": "execute_result"
    }
   ],
   "source": [
    "sum([1, 0])"
   ]
  },
  {
   "cell_type": "code",
   "execution_count": 74,
   "id": "8f9c434f-39c2-49dd-89d5-a8653dde9202",
   "metadata": {
    "tags": []
   },
   "outputs": [
    {
     "data": {
      "text/plain": [
       "['31142202']"
      ]
     },
     "execution_count": 74,
     "metadata": {},
     "output_type": "execute_result"
    }
   ],
   "source": [
    "get_source_pmid(\"Q8BN21\", 'Nucleus envelope')"
   ]
  },
  {
   "cell_type": "code",
   "execution_count": 86,
   "id": "6718dfe8-bfaf-4b58-be5a-247e5abd0ec1",
   "metadata": {
    "tags": []
   },
   "outputs": [],
   "source": [
    "def get_source_pmid(entry, loc_of_interest):\n",
    "    \"\"\"\n",
    "    Obtain PMIDs for subcellular loc information of a given Uniprot ID.\n",
    "    \n",
    "    Parameters:\n",
    "    - entry (str): Uniprot ID of interest.\n",
    "    - loc_of_interest (str): Subcellular location name for which PMID may exist.\n",
    "    \n",
    "    Returns:\n",
    "    - pmid_list (list).\n",
    "    \"\"\"\n",
    "    \n",
    "    pmid_list = []\n",
    "    \n",
    "    # Query the gene name to get the Uniprot ID and the Uniprot-registered gene name\n",
    "    params = {\n",
    "    \"query\": f'accession:{entry}',\n",
    "    \"fields\": \"cc_subcellular_location\",\n",
    "    \"format\": \"json\"\n",
    "    }\n",
    "\n",
    "    r = get_url(my_config.WEBSITE_API, params=params)\n",
    "    result = r.json()['results'][0]\n",
    "        \n",
    "    if 'comments' in result:\n",
    "        for comment in result['comments']: # Each comment contains information for each isoform, if any\n",
    "            if comment['commentType'] == 'SUBCELLULAR LOCATION':\n",
    "                locs = comment.get('subcellularLocations', [])\n",
    "\n",
    "                for loc in locs:\n",
    "                    if 'location' in loc:\n",
    "                        value = loc['location'].get('value', '')\n",
    "\n",
    "                        # If this is the location of interest\n",
    "                        # then dig into pmid info\n",
    "                        if value == loc_of_interest:\n",
    "                            evidences = loc['location'].get('evidences', '')\n",
    "                            for evidence in evidences:\n",
    "                                pmid = evidence.get('id', '')\n",
    "                                pmid_list.append(pmid)\n",
    "\n",
    "    return pmid_list"
   ]
  },
  {
   "cell_type": "code",
   "execution_count": 33,
   "id": "1637028d-3d5a-4045-b083-0584c155967d",
   "metadata": {},
   "outputs": [],
   "source": [
    "def get_source_pmid(entry, loc_of_interst):\n",
    "    \"\"\"\n",
    "    Obtain the PMID on which the subcellular locationa of a given protein is based.\n",
    "    \n",
    "    Parameters:\n",
    "    - entry (str): the UniProt ID of interest\n",
    "    - loc (str): the name of subcellluar location for which PMID is search for (e.g. \"Nuclear envelope\")\n",
    "    \n",
    "    Returns:\n",
    "    - pmids (list): the PMID(s)\n",
    "    \"\"\"\n",
    "    print(\"Querying \", entry)\n",
    "    \n",
    "    pmids = []\n",
    "    \n",
    "    params = {\n",
    "        \"query\": f'accession:{entry}',\n",
    "        \"fields\": \"cc_subcellular_location\",\n",
    "        \"format\": \"json\"\n",
    "    }\n",
    "        \n",
    "    r = get_url(my_config.WEBSITE_API, params=params)\n",
    "    result = r.json()['results'][0]\n",
    "    \n",
    "    if 'comments' in result:\n",
    "        for comment in result['comments']: # Each comment contains information for each isoform, if any\n",
    "            if comment['commentType'] == 'SUBCELLULAR LOCATION':\n",
    "                locs = comment.get('subcellularLocations', [])\n",
    "\n",
    "                for loc in locs:\n",
    "                    if 'location' in loc:\n",
    "\n",
    "                        value = loc['location'].get('value', '')\n",
    "\n",
    "                        # If the value is the location of interest\n",
    "                        # If true dig into evidence\n",
    "                        if value == loc_of_interst:\n",
    "                            evidences = loc['location'].get('evidences', '')\n",
    "                            # Loop over all evidences\n",
    "                            for evidence in evidences:\n",
    "                                pmids.append(evidence.get('id', ''))\n",
    "    \n",
    "    return pmids"
   ]
  },
  {
   "cell_type": "code",
   "execution_count": null,
   "id": "e49b024f-abfe-47f9-acca-b531cc91f0bf",
   "metadata": {},
   "outputs": [],
   "source": []
  },
  {
   "cell_type": "code",
   "execution_count": 34,
   "id": "8e5a59bb-a808-4230-861e-8aed71193009",
   "metadata": {
    "tags": []
   },
   "outputs": [],
   "source": [
    "entry = 'Q8BN21'\n",
    "loc = \"Nucleus envelope\""
   ]
  },
  {
   "cell_type": "code",
   "execution_count": 35,
   "id": "d6fcb5a9-ce4f-4894-a29e-df8f9373de55",
   "metadata": {
    "tags": []
   },
   "outputs": [
    {
     "name": "stdout",
     "output_type": "stream",
     "text": [
      "Querying  Q8BN21\n"
     ]
    },
    {
     "data": {
      "text/plain": [
       "['31142202']"
      ]
     },
     "execution_count": 35,
     "metadata": {},
     "output_type": "execute_result"
    }
   ],
   "source": [
    "get_source_pmid(entry, loc)"
   ]
  },
  {
   "cell_type": "code",
   "execution_count": null,
   "id": "72901bc7-a079-461e-a992-ef420a8e6513",
   "metadata": {},
   "outputs": [],
   "source": []
  }
 ],
 "metadata": {
  "kernelspec": {
   "display_name": "Python 3 (ipykernel)",
   "language": "python",
   "name": "python3"
  },
  "language_info": {
   "codemirror_mode": {
    "name": "ipython",
    "version": 3
   },
   "file_extension": ".py",
   "mimetype": "text/x-python",
   "name": "python",
   "nbconvert_exporter": "python",
   "pygments_lexer": "ipython3",
   "version": "3.11.3"
  }
 },
 "nbformat": 4,
 "nbformat_minor": 5
}
