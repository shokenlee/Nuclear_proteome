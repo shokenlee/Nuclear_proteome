{
 "cells": [
  {
   "cell_type": "code",
   "execution_count": 1,
   "id": "d4952569-101f-4832-9f8b-65ec3820cd67",
   "metadata": {
    "tags": []
   },
   "outputs": [],
   "source": [
    "import requests\n",
    "import pandas as pd\n",
    "import ast\n",
    "import json\n",
    "from my_utils import get_url, get_source_pmid\n",
    "import my_config"
   ]
  },
  {
   "cell_type": "code",
   "execution_count": 23,
   "id": "2d160744-452f-471b-ad5a-aaf3186ab117",
   "metadata": {
    "tags": []
   },
   "outputs": [],
   "source": [
    "df = pd.read_csv('./Output/UniprotSubcellResults.csv')"
   ]
  },
  {
   "cell_type": "code",
   "execution_count": 3,
   "id": "b9201e9f-917d-4ce7-8da3-9c85198a6b66",
   "metadata": {},
   "outputs": [],
   "source": [
    "NE_list = ['Nucleus outer membrane','Nucleus membrane','Nucleus inner membrane','Nucleus, nuclear pore complex', 'Nucleus envelope', 'Nucleus lamina']\n",
    "ER_list = ['Endoplasmic reticulum membrane','Endoplasmic reticulum','Sarcoplasmic reticulum membrane',\n",
    "            'Endoplasmic reticulum-Golgi intermediate compartment membrane', 'Endoplasmic reticulum lumen']\n",
    "NE_ER_list = NE_list + ER_list\n",
    "\n",
    "good_evidence = ['ECO:0000269', # experimental\n",
    "                 'ECO:0000305', # inferrence from paper\n",
    "                 'ECO:0000250', # seq similarity\n",
    "                 'ECO:0000255', # seq model\n",
    "                 'ECO:0000312', # imported from other database\n",
    "                 'ECO:0007744'] # a combination of experimental and computational evidence\n",
    "\n",
    "five_papers = ['12958361', # Schirmer 2003\n",
    "               '20693407', # Korfali 2010\n",
    "               '20876400', # Wilkie 2010\n",
    "               '22990521', # Korfali 2012\n",
    "               '31142202'] # Cheng 2019"
   ]
  },
  {
   "cell_type": "code",
   "execution_count": 24,
   "id": "9cb8f2c2-2510-44e5-ba7b-441133be5def",
   "metadata": {
    "jp-MarkdownHeadingCollapsed": true,
    "tags": []
   },
   "outputs": [
    {
     "name": "stdout",
     "output_type": "stream",
     "text": [
      "Starting  0\n",
      "For 82, Nucleus inner membrane, ['31142202'], evidence was only from 5 papers\n",
      "For 83, Nucleus inner membrane, ['31142202'], evidence was only from 5 papers\n",
      "Starting  100\n",
      "Starting  200\n",
      "Starting  300\n",
      "Starting  400\n",
      "For 407, Nucleus envelope, ['31142202'], evidence was only from 5 papers\n",
      "For 408, Nucleus inner membrane, ['31142202'], evidence was only from 5 papers\n"
     ]
    }
   ],
   "source": [
    "for i in range(len(df)):\n",
    "    # log\n",
    "    if i % 100 == 0: print(\"Starting \", i)\n",
    "    \n",
    "    result = df.iloc[i, 1]\n",
    "    result = ast.literal_eval(result)\n",
    "\n",
    "    # Store location names and judging if it is reliablly NE/ER\n",
    "    locations_list = []\n",
    "    judge_list = []\n",
    "    if 'comments' in result:\n",
    "        for comment in result['comments']: # Each comment contains information for each isoform, if any\n",
    "            if comment['commentType'] == 'SUBCELLULAR LOCATION':\n",
    "                locs = comment.get('subcellularLocations', [])\n",
    "\n",
    "                for loc in locs:\n",
    "                    if 'location' in loc:\n",
    "                        # For judging this specifc location\n",
    "                        location_judge = 0\n",
    "                        evidence_judge = 0\n",
    "\n",
    "                        # Store evidence code and pmid for this location\n",
    "                        # Used for judging and not exported outside the loc loop\n",
    "                        code_list = []\n",
    "                        pmid_list = list()\n",
    "\n",
    "                        value = loc['location'].get('value', '')\n",
    "                        evidences = loc['location'].get('evidences', '')\n",
    "\n",
    "                        # Loop over all evidences\n",
    "                        for evidence in evidences:\n",
    "                            code = evidence.get('evidenceCode', '')\n",
    "                            pmid = evidence.get('id', '')\n",
    "\n",
    "                            # if reliable evidence is present\n",
    "                            # then the evidence is re-written to be valid\n",
    "                            if code in good_evidence:\n",
    "                                evidence_judge = 1\n",
    "\n",
    "                            # if the evidence is \"similarity\"\n",
    "                            # then the source pmid is pulled\n",
    "                            if (code == \"ECO:0000250\") & (len(pmid) > 0): # make sure the entry(pmid) exists\n",
    "                                pmid = get_source_pmid(pmid, value)\n",
    "\n",
    "                            code_list.append(code)\n",
    "                            # Append the give PMIDs depending on type of pmid\n",
    "                            # In default it is a string\n",
    "                            # But if it was updated by \"Similarity\" then it is a list\n",
    "                            if type(pmid) == str: pmid_list.append(pmid)\n",
    "                            if type(pmid) == list: pmid_list += pmid\n",
    "\n",
    "                        # if the location evidence comes only from any of 5 papers\n",
    "                        # then the evidence is considered invalid\n",
    "                        # False if not is placed because pmid_list can be empty and that returns True with all statement\n",
    "                        if (len(evidences) == 1) & bool(pmid_list) & all(item in five_papers for item in pmid_list):\n",
    "                            evidence_judge = 0\n",
    "                            print(f\"For {i}, {value}, {pmid_list}, evidence was only from 5 papers\")\n",
    "\n",
    "                        # Final judge for this location\n",
    "                        if (value in NE_ER_list) & evidence_judge == 1:\n",
    "                            location_judge = 1\n",
    "\n",
    "                    # the end of loc loop, appending the location and final judge\n",
    "                    locations_list.append(value)\n",
    "                    judge_list.append(location_judge)\n",
    "    \n",
    "    # Final judge\n",
    "    # If there is at least one \"1\" in judge_list\n",
    "    # then this protein NE/ER is suported by Uniprot but not by 5 papers\n",
    "    if 1 in judge_list:\n",
    "        final_judge = 1\n",
    "    else: final_judge = 0\n",
    "    \n",
    "    df.loc[i, \"Uniprot_NEorER\"] = final_judge\n",
    "    df.loc[i, \"Uniprot_subcell\"] = \", \".join(locations_list)"
   ]
  },
  {
   "cell_type": "code",
   "execution_count": 26,
   "id": "5fd23ddc-ce96-40a4-81a4-dd3cf7b0c127",
   "metadata": {
    "tags": []
   },
   "outputs": [],
   "source": [
    "df.to_csv('./Uniprot_judgements.csv', index=False)"
   ]
  },
  {
   "cell_type": "code",
   "execution_count": null,
   "id": "1ad933ed-0c54-4cd8-b283-e97aa24565ae",
   "metadata": {},
   "outputs": [],
   "source": []
  }
 ],
 "metadata": {
  "kernelspec": {
   "display_name": "Python 3 (ipykernel)",
   "language": "python",
   "name": "python3"
  },
  "language_info": {
   "codemirror_mode": {
    "name": "ipython",
    "version": 3
   },
   "file_extension": ".py",
   "mimetype": "text/x-python",
   "name": "python",
   "nbconvert_exporter": "python",
   "pygments_lexer": "ipython3",
   "version": "3.11.3"
  }
 },
 "nbformat": 4,
 "nbformat_minor": 5
}
