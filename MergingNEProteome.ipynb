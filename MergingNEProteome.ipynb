{
 "cells": [
  {
   "cell_type": "code",
   "execution_count": 1,
   "id": "c6ddc1aa-9eef-493e-b274-93dd290de394",
   "metadata": {},
   "outputs": [],
   "source": [
    "import pandas as pd\n",
    "from my_utils import find_duplicate"
   ]
  },
  {
   "cell_type": "markdown",
   "id": "e8eaf4a6-5e3c-4b2b-8a66-8f20c4da105b",
   "metadata": {},
   "source": [
    "# 1. Datasets import"
   ]
  },
  {
   "cell_type": "code",
   "execution_count": 22,
   "id": "f200f97c-de88-44be-ae03-935670056d4e",
   "metadata": {},
   "outputs": [],
   "source": [
    "df_schirmer2003 = pd.read_csv('./Output/Schirmer2003/Output.csv')\n",
    "df_korfali2010 = pd.read_csv('./Output/Korfali_2010.csv')\n",
    "df_wilkie2010 = pd.read_csv('./Output/Wilkie_2010.csv')\n",
    "df_korfali2012 = pd.read_csv('./Output/Korfali2012/Korfali2012_Hs.csv')\n",
    "df_cheng2019 = pd.read_csv('./Output/Cheng2019.csv')"
   ]
  },
  {
   "cell_type": "markdown",
   "id": "d0a220b8-4379-4885-8c89-371fc00f8364",
   "metadata": {},
   "source": [
    "# 2. Merge datasets"
   ]
  },
  {
   "cell_type": "markdown",
   "id": "1bf29065-baa6-4f97-bcf7-89bdb2c7866b",
   "metadata": {},
   "source": [
    "## 2-1. Schirmer 2003 + Korfali 2010"
   ]
  },
  {
   "cell_type": "code",
   "execution_count": 23,
   "id": "74b5e357-ffa4-4791-aa96-377ffc7c2027",
   "metadata": {},
   "outputs": [],
   "source": [
    "df = df_schirmer2003.merge(df_korfali2010, left_on='Entry', right_on='Entry_Korfali_2010', how='outer')"
   ]
  },
  {
   "cell_type": "code",
   "execution_count": 24,
   "id": "27a07e3f-c45c-4731-9d4f-25c34b3f4104",
   "metadata": {},
   "outputs": [
    {
     "data": {
      "text/plain": [
       "Index(['Entry', 'Gene names', 'Entry_Korfali_2010', 'Gene_name_obtained',\n",
       "       'UniprotID', 'GeneName'],\n",
       "      dtype='object')"
      ]
     },
     "execution_count": 24,
     "metadata": {},
     "output_type": "execute_result"
    }
   ],
   "source": [
    "df['UniprotID'] = df.Entry.fillna(df.Entry_Korfali_2010)\n",
    "df['GeneName'] = df['Gene names'].fillna(df.Gene_name_obtained)\n",
    "df.columns"
   ]
  },
  {
   "cell_type": "code",
   "execution_count": 25,
   "id": "f9c445a0-62af-458b-8586-04069a2ad4de",
   "metadata": {},
   "outputs": [],
   "source": [
    "df = df[['UniprotID', 'GeneName', 'Entry', 'Entry_Korfali_2010']]\n",
    "\n",
    "# Make a binary mark for presence/absence of record in each source paper\n",
    "df.fillna(0, inplace=True)\n",
    "df.Entry = df.Entry.apply(lambda x: 1 if x != 0 else 0).astype(pd.Int8Dtype())\n",
    "df.Entry_Korfali_2010 = df.Entry_Korfali_2010.apply(lambda x: 1 if x != 0 else 0).astype(pd.Int8Dtype())\n",
    "df = df.rename(columns={'Entry':'Schirmer_2003', 'Entry_Korfali_2010':'Korfali_2010'})"
   ]
  },
  {
   "cell_type": "markdown",
   "id": "6e154ea7-e9ed-49d2-9165-520761534b64",
   "metadata": {},
   "source": [
    "## 2-2. Add Wilkie 2010"
   ]
  },
  {
   "cell_type": "code",
   "execution_count": 26,
   "id": "90840e91-9867-4cf6-8bfc-c87127b777e3",
   "metadata": {},
   "outputs": [],
   "source": [
    "df = df.merge(df_wilkie2010, left_on='UniprotID', right_on='Entry_Wilkie', how='outer')"
   ]
  },
  {
   "cell_type": "code",
   "execution_count": 27,
   "id": "cee22a54-3b17-43d1-8d6b-ade7a4e60d28",
   "metadata": {},
   "outputs": [],
   "source": [
    "df.UniprotID = df.UniprotID.fillna(df.Entry_Wilkie)\n",
    "df.GeneName = df.GeneName.fillna(df.Gene_name_obtained)\n",
    "\n",
    "# Make a binary mark for presence/absence of record in the source paper\n",
    "df.fillna(0, inplace=True)\n",
    "df.Entry_Wilkie = df.Entry_Wilkie.apply(lambda x: 1 if x != 0 else 0).astype(pd.Int8Dtype())"
   ]
  },
  {
   "cell_type": "code",
   "execution_count": 28,
   "id": "23f6f151-8f74-41cc-be92-7d71b362663b",
   "metadata": {},
   "outputs": [],
   "source": [
    "df = df.drop(columns=['Gene_name_obtained'], axis=1)\n",
    "df = df.rename(columns={'Entry_Wilkie': 'Wilkie_2010'})"
   ]
  },
  {
   "cell_type": "markdown",
   "id": "eab252b8-5bf4-46d7-b612-bf188585a736",
   "metadata": {},
   "source": [
    "## 2-3. Add Korfali 2012"
   ]
  },
  {
   "cell_type": "code",
   "execution_count": 29,
   "id": "079e3e64-7b21-4eee-b7f3-8c678828eb79",
   "metadata": {},
   "outputs": [],
   "source": [
    "df = df.merge(df_korfali2012, left_on='UniprotID', right_on='Uniprot_id', how='outer')"
   ]
  },
  {
   "cell_type": "code",
   "execution_count": 30,
   "id": "add19b4a-2da1-4fe6-a495-4513cf89a344",
   "metadata": {},
   "outputs": [],
   "source": [
    "df.UniprotID = df.UniprotID.fillna(df.Uniprot_id)\n",
    "df.GeneName = df.GeneName.fillna(df['gene name'])\n",
    "\n",
    "# Make a binary mark for presence/absence of record in the source paper\n",
    "df.fillna(0, inplace=True)\n",
    "df.Uniprot_id = df.Uniprot_id.apply(lambda x: 1 if x != 0 else 0).astype(pd.Int8Dtype())"
   ]
  },
  {
   "cell_type": "code",
   "execution_count": 31,
   "id": "63bb35ec-b307-414d-b09a-797f6a29859b",
   "metadata": {},
   "outputs": [
    {
     "data": {
      "text/plain": [
       "Index(['UniprotID', 'GeneName', 'Schirmer_2003', 'Korfali_2010', 'Wilkie_2010',\n",
       "       'Unnamed: 0', 'tissue', 'gene name', 'alternate names',\n",
       "       'accession numbers', 'NE:MM ratio by dNSAF', 'reference', 'Uniprot_id'],\n",
       "      dtype='object')"
      ]
     },
     "execution_count": 31,
     "metadata": {},
     "output_type": "execute_result"
    }
   ],
   "source": [
    "df.columns"
   ]
  },
  {
   "cell_type": "code",
   "execution_count": 32,
   "id": "fce01dd0-c4b8-4a45-8a58-835e52fd08a3",
   "metadata": {},
   "outputs": [],
   "source": [
    "df = df[['UniprotID', 'GeneName', 'Schirmer_2003', 'Korfali_2010', 'Wilkie_2010',\n",
    "           'Uniprot_id', 'NE:MM ratio by dNSAF']]\n",
    "df = df.rename(columns={'Uniprot_id':'Korfali_2012', 'NE:MM ratio by dNSAF':'Korfali_2012_NE:MM-ratio'})\n",
    "df['Korfali_2012_NE:MM-ratio'] = df['Korfali_2012_NE:MM-ratio'].astype('float64')"
   ]
  },
  {
   "cell_type": "markdown",
   "id": "04c98c08-12cd-4f1d-963b-7a8c03aae048",
   "metadata": {},
   "source": [
    "## 2-4. Add Cheng 2019"
   ]
  },
  {
   "cell_type": "code",
   "execution_count": 33,
   "id": "8a996fc5-2f4b-460a-b5cb-f67d40d852ea",
   "metadata": {},
   "outputs": [],
   "source": [
    "df = df.merge(df_cheng2019, left_on='UniprotID', right_on='entry_h', how='outer')"
   ]
  },
  {
   "cell_type": "code",
   "execution_count": 34,
   "id": "276fb00c-c5f9-43fe-984e-071448e01b57",
   "metadata": {},
   "outputs": [],
   "source": [
    "df.UniprotID = df.UniprotID.fillna(df.entry_h)\n",
    "df.GeneName = df.GeneName.fillna(df.gene_name)\n",
    "\n",
    "# Make a binary mark for presence/absence of record in the source paper\n",
    "df.fillna(0, inplace=True)\n",
    "df.entry_h = df.entry_h.apply(lambda x: 1 if x != 0 else 0).astype(pd.Int8Dtype())"
   ]
  },
  {
   "cell_type": "code",
   "execution_count": 35,
   "id": "7ebebb04-5a18-42c7-a522-dd576348618c",
   "metadata": {},
   "outputs": [
    {
     "data": {
      "text/plain": [
       "Index(['UniprotID', 'GeneName', 'Schirmer_2003', 'Korfali_2010', 'Wilkie_2010',\n",
       "       'Korfali_2012', 'Korfali_2012_NE:MM-ratio', 'gene_name', 'entry_h',\n",
       "       'NE Enrich Score in U', 'NE Enrich Score in A', 'NE Enrich Score in M'],\n",
       "      dtype='object')"
      ]
     },
     "execution_count": 35,
     "metadata": {},
     "output_type": "execute_result"
    }
   ],
   "source": [
    "df.columns"
   ]
  },
  {
   "cell_type": "code",
   "execution_count": 36,
   "id": "e658a085-871b-4c9d-8914-bdb78231f117",
   "metadata": {},
   "outputs": [],
   "source": [
    "df = df.rename(columns={'entry_h':'Cheng_2019', 'NE Enrich Score in U': 'Cheng_2019_Score:Undiff', 'NE Enrich Score in A': 'Cheng_2019_Score:Adipo', 'NE Enrich Score in M': 'Cheng_2019_Score:Myo'})\n",
    "df = df.drop(columns=['gene_name'], axis=1)"
   ]
  },
  {
   "cell_type": "markdown",
   "id": "a78bb148-b27f-42e4-b63c-569bc80cb03e",
   "metadata": {},
   "source": [
    "## 2-5. Scoring proteins by the number of papers"
   ]
  },
  {
   "cell_type": "code",
   "execution_count": 37,
   "id": "ed2950f5-a865-440e-b324-5649ca958a57",
   "metadata": {
    "tags": []
   },
   "outputs": [],
   "source": [
    "df['#ProteomePapers'] = df.Schirmer_2003 + df.Korfali_2010 + df.Wilkie_2010 + df.Korfali_2012 + df.Cheng_2019"
   ]
  },
  {
   "cell_type": "code",
   "execution_count": 38,
   "id": "0a313afa-4e94-47f1-93f5-d8877d276956",
   "metadata": {
    "tags": []
   },
   "outputs": [
    {
     "name": "stdout",
     "output_type": "stream",
     "text": [
      "1    291\n",
      "2     52\n",
      "3     35\n",
      "4     26\n",
      "5      6\n",
      "Name: #ProteomePapers, dtype: Int64\n"
     ]
    }
   ],
   "source": [
    "# See the number of proteins that support \n",
    "counts = df['#ProteomePapers'].value_counts()\n",
    "print(counts)"
   ]
  },
  {
   "cell_type": "code",
   "execution_count": 39,
   "id": "62f0c28e-8da2-4dc0-af38-4d0bda7d89e3",
   "metadata": {
    "tags": []
   },
   "outputs": [
    {
     "name": "stdout",
     "output_type": "stream",
     "text": [
      "Schirmer_2003: 11\n",
      "Korfali_2010: 46\n",
      "Wilkie_2010: 14\n",
      "Korfali_2012: 24\n",
      "Cheng_2019: 196\n"
     ]
    }
   ],
   "source": [
    "# See which papers comes in the 287 singles\n",
    "for papername in ['Schirmer_2003', 'Korfali_2010', 'Wilkie_2010','Korfali_2012', 'Cheng_2019']:\n",
    "    numberOfPapers = len(df[(df['#ProteomePapers'] == 1) & (df[papername] == 1)])\n",
    "    print(f'{papername}: {numberOfPapers}')"
   ]
  },
  {
   "cell_type": "code",
   "execution_count": 40,
   "id": "e2f7b399-4276-4d98-93fc-f36ffd14a090",
   "metadata": {
    "tags": []
   },
   "outputs": [
    {
     "name": "stdout",
     "output_type": "stream",
     "text": [
      "The total number of nuclear membrane proteins from the 5 proteome papers: 410\n"
     ]
    }
   ],
   "source": [
    "print(f'The total number of nuclear membrane proteins from the 5 proteome papers: {len(df)}')"
   ]
  },
  {
   "cell_type": "code",
   "execution_count": 42,
   "id": "b17d729c-2c20-46a2-ab22-72dc2dcdea62",
   "metadata": {
    "tags": []
   },
   "outputs": [],
   "source": [
    "df.to_csv('./Output/ProteomicsPapersMerged.csv', index=False)"
   ]
  },
  {
   "cell_type": "code",
   "execution_count": null,
   "id": "7145dfa1-4b56-4125-83cd-fd0f544508fa",
   "metadata": {},
   "outputs": [],
   "source": []
  }
 ],
 "metadata": {
  "kernelspec": {
   "display_name": "Python 3 (ipykernel)",
   "language": "python",
   "name": "python3"
  },
  "language_info": {
   "codemirror_mode": {
    "name": "ipython",
    "version": 3
   },
   "file_extension": ".py",
   "mimetype": "text/x-python",
   "name": "python",
   "nbconvert_exporter": "python",
   "pygments_lexer": "ipython3",
   "version": "3.11.3"
  }
 },
 "nbformat": 4,
 "nbformat_minor": 5
}
