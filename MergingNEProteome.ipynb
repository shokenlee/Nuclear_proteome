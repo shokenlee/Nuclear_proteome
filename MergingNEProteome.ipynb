{
 "cells": [
  {
   "cell_type": "code",
   "execution_count": 2,
   "id": "c6ddc1aa-9eef-493e-b274-93dd290de394",
   "metadata": {},
   "outputs": [],
   "source": [
    "import pandas as pd"
   ]
  },
  {
   "cell_type": "markdown",
   "id": "e8eaf4a6-5e3c-4b2b-8a66-8f20c4da105b",
   "metadata": {},
   "source": [
    "### 1. Data import"
   ]
  },
  {
   "cell_type": "code",
   "execution_count": 3,
   "id": "6b188782-c56b-4989-917d-2f692fe2dfdc",
   "metadata": {},
   "outputs": [],
   "source": [
    "df_schirmer2003 = pd.read_csv('./Output/Schirmer2003/Output.csv')"
   ]
  },
  {
   "cell_type": "code",
   "execution_count": 5,
   "id": "67e806a9-4f63-4bd2-8a83-9d9c7a43f41c",
   "metadata": {
    "collapsed": true,
    "jupyter": {
     "outputs_hidden": true
    },
    "tags": []
   },
   "outputs": [
    {
     "data": {
      "text/html": [
       "<div>\n",
       "<style scoped>\n",
       "    .dataframe tbody tr th:only-of-type {\n",
       "        vertical-align: middle;\n",
       "    }\n",
       "\n",
       "    .dataframe tbody tr th {\n",
       "        vertical-align: top;\n",
       "    }\n",
       "\n",
       "    .dataframe thead th {\n",
       "        text-align: right;\n",
       "    }\n",
       "</style>\n",
       "<table border=\"1\" class=\"dataframe\">\n",
       "  <thead>\n",
       "    <tr style=\"text-align: right;\">\n",
       "      <th></th>\n",
       "      <th>Entry</th>\n",
       "      <th>Gene names</th>\n",
       "    </tr>\n",
       "  </thead>\n",
       "  <tbody>\n",
       "    <tr>\n",
       "      <th>39</th>\n",
       "      <td>Q8N163</td>\n",
       "      <td>Ccar2</td>\n",
       "    </tr>\n",
       "    <tr>\n",
       "      <th>40</th>\n",
       "      <td>Q6NW34</td>\n",
       "      <td>Nepro</td>\n",
       "    </tr>\n",
       "    <tr>\n",
       "      <th>41</th>\n",
       "      <td>Q969X5</td>\n",
       "      <td>Ergic1</td>\n",
       "    </tr>\n",
       "    <tr>\n",
       "      <th>42</th>\n",
       "      <td>Q8NC56</td>\n",
       "      <td>Lemd2</td>\n",
       "    </tr>\n",
       "    <tr>\n",
       "      <th>43</th>\n",
       "      <td>Q5GFL6</td>\n",
       "      <td>Vwa2</td>\n",
       "    </tr>\n",
       "  </tbody>\n",
       "</table>\n",
       "</div>"
      ],
      "text/plain": [
       "     Entry Gene names\n",
       "39  Q8N163      Ccar2\n",
       "40  Q6NW34      Nepro\n",
       "41  Q969X5     Ergic1\n",
       "42  Q8NC56      Lemd2\n",
       "43  Q5GFL6       Vwa2"
      ]
     },
     "execution_count": 5,
     "metadata": {},
     "output_type": "execute_result"
    }
   ],
   "source": [
    "df_schirmer2003.tail()"
   ]
  },
  {
   "cell_type": "code",
   "execution_count": 6,
   "id": "9488d8a5-7122-4156-b7f8-6778d2f2d3c8",
   "metadata": {},
   "outputs": [],
   "source": [
    "df_korfali2010 = pd.read_csv('./Output/Korfali_2010.csv')"
   ]
  },
  {
   "cell_type": "code",
   "execution_count": 8,
   "id": "0a193715-7eb2-45cc-9adf-f6d984b1d650",
   "metadata": {
    "collapsed": true,
    "jupyter": {
     "outputs_hidden": true
    },
    "tags": []
   },
   "outputs": [
    {
     "data": {
      "text/html": [
       "<div>\n",
       "<style scoped>\n",
       "    .dataframe tbody tr th:only-of-type {\n",
       "        vertical-align: middle;\n",
       "    }\n",
       "\n",
       "    .dataframe tbody tr th {\n",
       "        vertical-align: top;\n",
       "    }\n",
       "\n",
       "    .dataframe thead th {\n",
       "        text-align: right;\n",
       "    }\n",
       "</style>\n",
       "<table border=\"1\" class=\"dataframe\">\n",
       "  <thead>\n",
       "    <tr style=\"text-align: right;\">\n",
       "      <th></th>\n",
       "      <th>Entry_Korfali_2010</th>\n",
       "      <th>Gene_name_obtained</th>\n",
       "    </tr>\n",
       "  </thead>\n",
       "  <tbody>\n",
       "    <tr>\n",
       "      <th>0</th>\n",
       "      <td>Q9UH99</td>\n",
       "      <td>SUN2</td>\n",
       "    </tr>\n",
       "    <tr>\n",
       "      <th>1</th>\n",
       "      <td>P42166</td>\n",
       "      <td>TMPO</td>\n",
       "    </tr>\n",
       "    <tr>\n",
       "      <th>2</th>\n",
       "      <td>Q14739</td>\n",
       "      <td>LBR</td>\n",
       "    </tr>\n",
       "    <tr>\n",
       "      <th>3</th>\n",
       "      <td>Q8TEM1</td>\n",
       "      <td>NUP210</td>\n",
       "    </tr>\n",
       "    <tr>\n",
       "      <th>4</th>\n",
       "      <td>Q9BTV4</td>\n",
       "      <td>TMEM43</td>\n",
       "    </tr>\n",
       "  </tbody>\n",
       "</table>\n",
       "</div>"
      ],
      "text/plain": [
       "  Entry_Korfali_2010 Gene_name_obtained\n",
       "0             Q9UH99               SUN2\n",
       "1             P42166               TMPO\n",
       "2             Q14739                LBR\n",
       "3             Q8TEM1             NUP210\n",
       "4             Q9BTV4             TMEM43"
      ]
     },
     "execution_count": 8,
     "metadata": {},
     "output_type": "execute_result"
    }
   ],
   "source": [
    "df_korfali2010.head()"
   ]
  },
  {
   "cell_type": "code",
   "execution_count": 7,
   "id": "33d25793-5933-48ec-96c9-77b1424c6a7a",
   "metadata": {},
   "outputs": [],
   "source": [
    "df_wilkie2010 = pd.read_csv('./Output/Wilkie_2010.csv')"
   ]
  },
  {
   "cell_type": "code",
   "execution_count": 10,
   "id": "5514c531-6b5b-4edf-9730-3ce6b9521e0f",
   "metadata": {
    "collapsed": true,
    "jupyter": {
     "outputs_hidden": true
    },
    "tags": []
   },
   "outputs": [
    {
     "data": {
      "text/html": [
       "<div>\n",
       "<style scoped>\n",
       "    .dataframe tbody tr th:only-of-type {\n",
       "        vertical-align: middle;\n",
       "    }\n",
       "\n",
       "    .dataframe tbody tr th {\n",
       "        vertical-align: top;\n",
       "    }\n",
       "\n",
       "    .dataframe thead th {\n",
       "        text-align: right;\n",
       "    }\n",
       "</style>\n",
       "<table border=\"1\" class=\"dataframe\">\n",
       "  <thead>\n",
       "    <tr style=\"text-align: right;\">\n",
       "      <th></th>\n",
       "      <th>Entry_Wilkie</th>\n",
       "      <th>Gene_name_obtained</th>\n",
       "    </tr>\n",
       "  </thead>\n",
       "  <tbody>\n",
       "    <tr>\n",
       "      <th>0</th>\n",
       "      <td>Q9UH99</td>\n",
       "      <td>SUN2</td>\n",
       "    </tr>\n",
       "    <tr>\n",
       "      <th>1</th>\n",
       "      <td>Q5JTV8</td>\n",
       "      <td>TOR1AIP1</td>\n",
       "    </tr>\n",
       "    <tr>\n",
       "      <th>2</th>\n",
       "      <td>Q14739</td>\n",
       "      <td>LBR</td>\n",
       "    </tr>\n",
       "    <tr>\n",
       "      <th>3</th>\n",
       "      <td>O94901</td>\n",
       "      <td>SUN1</td>\n",
       "    </tr>\n",
       "    <tr>\n",
       "      <th>4</th>\n",
       "      <td>Q8TEM1</td>\n",
       "      <td>NUP210</td>\n",
       "    </tr>\n",
       "  </tbody>\n",
       "</table>\n",
       "</div>"
      ],
      "text/plain": [
       "  Entry_Wilkie Gene_name_obtained\n",
       "0       Q9UH99               SUN2\n",
       "1       Q5JTV8           TOR1AIP1\n",
       "2       Q14739                LBR\n",
       "3       O94901               SUN1\n",
       "4       Q8TEM1             NUP210"
      ]
     },
     "execution_count": 10,
     "metadata": {},
     "output_type": "execute_result"
    }
   ],
   "source": [
    "df_wilkie2010.head()"
   ]
  },
  {
   "cell_type": "code",
   "execution_count": 8,
   "id": "1fe7820e-53e9-4617-85d2-cf3b1dfea20f",
   "metadata": {},
   "outputs": [],
   "source": [
    "df_korfali2012 = pd.read_csv('./Output/Korfali2012/Korfali2012_Hs.csv')"
   ]
  },
  {
   "cell_type": "code",
   "execution_count": 6,
   "id": "c883ef6e-1887-42de-bf72-cfbe14fa49a3",
   "metadata": {
    "collapsed": true,
    "jupyter": {
     "outputs_hidden": true
    },
    "tags": []
   },
   "outputs": [
    {
     "data": {
      "text/html": [
       "<div>\n",
       "<style scoped>\n",
       "    .dataframe tbody tr th:only-of-type {\n",
       "        vertical-align: middle;\n",
       "    }\n",
       "\n",
       "    .dataframe tbody tr th {\n",
       "        vertical-align: top;\n",
       "    }\n",
       "\n",
       "    .dataframe thead th {\n",
       "        text-align: right;\n",
       "    }\n",
       "</style>\n",
       "<table border=\"1\" class=\"dataframe\">\n",
       "  <thead>\n",
       "    <tr style=\"text-align: right;\">\n",
       "      <th></th>\n",
       "      <th>Unnamed: 0</th>\n",
       "      <th>tissue</th>\n",
       "      <th>gene name</th>\n",
       "      <th>alternate names</th>\n",
       "      <th>accession numbers</th>\n",
       "      <th>NE:MM ratio by dNSAF</th>\n",
       "      <th>reference</th>\n",
       "      <th>Uniprot_id</th>\n",
       "    </tr>\n",
       "  </thead>\n",
       "  <tbody>\n",
       "    <tr>\n",
       "      <th>0</th>\n",
       "      <td>0</td>\n",
       "      <td>liver enriched</td>\n",
       "      <td>TMEM53</td>\n",
       "      <td>NET4, transmembrane protein 53</td>\n",
       "      <td>ref|NP_081113.1|</td>\n",
       "      <td>2.57</td>\n",
       "      <td>This study and Schirmer, E.C., et al. (2003). ...</td>\n",
       "      <td>Q6P2H8</td>\n",
       "    </tr>\n",
       "    <tr>\n",
       "      <th>1</th>\n",
       "      <td>1</td>\n",
       "      <td>liver enriched</td>\n",
       "      <td>TMEM120A</td>\n",
       "      <td>NET29, transmembrane protein induced by tumor ...</td>\n",
       "      <td>ref|NP_766129.1|</td>\n",
       "      <td>INF</td>\n",
       "      <td>This study and Malik, P., et al. (2010) Cell M...</td>\n",
       "      <td>Q9BXJ8</td>\n",
       "    </tr>\n",
       "    <tr>\n",
       "      <th>2</th>\n",
       "      <td>2</td>\n",
       "      <td>liver enriched</td>\n",
       "      <td>SCARA5</td>\n",
       "      <td>NET33, PREDICTED: similar to protease, serine,...</td>\n",
       "      <td>gi|109502608|ref|XP_001066668.1|</td>\n",
       "      <td>0.1</td>\n",
       "      <td>This study and Malik, P., et al. (2010) Cell M...</td>\n",
       "      <td>Q6ZMJ2</td>\n",
       "    </tr>\n",
       "    <tr>\n",
       "      <th>3</th>\n",
       "      <td>3</td>\n",
       "      <td>liver enriched</td>\n",
       "      <td>TMEM74</td>\n",
       "      <td>NET36, PREDICTED: hypothetical protein [Rattus...</td>\n",
       "      <td>ref|XP_001063530.1|</td>\n",
       "      <td>3.36</td>\n",
       "      <td>This study and Malik, P., et al. (2010) Cell M...</td>\n",
       "      <td>Q96NL1</td>\n",
       "    </tr>\n",
       "    <tr>\n",
       "      <th>4</th>\n",
       "      <td>4</td>\n",
       "      <td>liver enriched</td>\n",
       "      <td>PPAPDC3</td>\n",
       "      <td>NET39, phosphatidic acid phosphatase type 2 do...</td>\n",
       "      <td>gi|59891419|ref|NP_001012349.1|;gi|34147436|re...</td>\n",
       "      <td>4.42</td>\n",
       "      <td>This study and Schirmer, E.C., et al. (2003). ...</td>\n",
       "      <td>Q8NBV4</td>\n",
       "    </tr>\n",
       "  </tbody>\n",
       "</table>\n",
       "</div>"
      ],
      "text/plain": [
       "   Unnamed: 0          tissue gene name  \\\n",
       "0           0  liver enriched    TMEM53   \n",
       "1           1  liver enriched  TMEM120A   \n",
       "2           2  liver enriched    SCARA5   \n",
       "3           3  liver enriched    TMEM74   \n",
       "4           4  liver enriched   PPAPDC3   \n",
       "\n",
       "                                     alternate names  \\\n",
       "0                     NET4, transmembrane protein 53   \n",
       "1  NET29, transmembrane protein induced by tumor ...   \n",
       "2  NET33, PREDICTED: similar to protease, serine,...   \n",
       "3  NET36, PREDICTED: hypothetical protein [Rattus...   \n",
       "4  NET39, phosphatidic acid phosphatase type 2 do...   \n",
       "\n",
       "                                   accession numbers NE:MM ratio by dNSAF  \\\n",
       "0                                   ref|NP_081113.1|                 2.57   \n",
       "1                                   ref|NP_766129.1|                  INF   \n",
       "2                   gi|109502608|ref|XP_001066668.1|                  0.1   \n",
       "3                                ref|XP_001063530.1|                 3.36   \n",
       "4  gi|59891419|ref|NP_001012349.1|;gi|34147436|re...                 4.42   \n",
       "\n",
       "                                           reference Uniprot_id  \n",
       "0  This study and Schirmer, E.C., et al. (2003). ...     Q6P2H8  \n",
       "1  This study and Malik, P., et al. (2010) Cell M...     Q9BXJ8  \n",
       "2  This study and Malik, P., et al. (2010) Cell M...     Q6ZMJ2  \n",
       "3  This study and Malik, P., et al. (2010) Cell M...     Q96NL1  \n",
       "4  This study and Schirmer, E.C., et al. (2003). ...     Q8NBV4  "
      ]
     },
     "execution_count": 6,
     "metadata": {},
     "output_type": "execute_result"
    }
   ],
   "source": [
    "df_korfali2012.head()"
   ]
  },
  {
   "cell_type": "code",
   "execution_count": 9,
   "id": "15a66856-2156-4ab2-90a2-afabb0e9cc4c",
   "metadata": {},
   "outputs": [],
   "source": [
    "df_cheng2019 = pd.read_csv('./Output/Cheng2019.csv')"
   ]
  },
  {
   "cell_type": "code",
   "execution_count": 11,
   "id": "13d9dade-12c9-460c-a845-bf03e4e99195",
   "metadata": {
    "collapsed": true,
    "jupyter": {
     "outputs_hidden": true
    },
    "tags": []
   },
   "outputs": [
    {
     "name": "stdout",
     "output_type": "stream",
     "text": [
      "<class 'pandas.core.frame.DataFrame'>\n",
      "RangeIndex: 242 entries, 0 to 241\n",
      "Data columns (total 5 columns):\n",
      " #   Column                Non-Null Count  Dtype  \n",
      "---  ------                --------------  -----  \n",
      " 0   gene_name             242 non-null    object \n",
      " 1   entry_h               242 non-null    object \n",
      " 2   NE Enrich Score in U  242 non-null    float64\n",
      " 3   NE Enrich Score in A  242 non-null    float64\n",
      " 4   NE Enrich Score in M  242 non-null    float64\n",
      "dtypes: float64(3), object(2)\n",
      "memory usage: 9.6+ KB\n"
     ]
    }
   ],
   "source": [
    "df_cheng2019.info()"
   ]
  },
  {
   "cell_type": "markdown",
   "id": "d0a220b8-4379-4885-8c89-371fc00f8364",
   "metadata": {},
   "source": [
    "### 2. Merge"
   ]
  },
  {
   "cell_type": "markdown",
   "id": "1bf29065-baa6-4f97-bcf7-89bdb2c7866b",
   "metadata": {},
   "source": [
    "### 2-1. Schirmer + Korfali2010"
   ]
  },
  {
   "cell_type": "code",
   "execution_count": 12,
   "id": "74b5e357-ffa4-4791-aa96-377ffc7c2027",
   "metadata": {},
   "outputs": [],
   "source": [
    "df = df_schirmer2003.merge(df_korfali2010, left_on='Entry', right_on='Entry_Korfali_2010', how='outer')"
   ]
  },
  {
   "cell_type": "code",
   "execution_count": 29,
   "id": "b7d88f1e-4073-4e46-a82a-146ac110f9ba",
   "metadata": {
    "collapsed": true,
    "jupyter": {
     "outputs_hidden": true
    },
    "tags": []
   },
   "outputs": [
    {
     "name": "stdout",
     "output_type": "stream",
     "text": [
      "<class 'pandas.core.frame.DataFrame'>\n",
      "Int64Index: 180 entries, 0 to 179\n",
      "Data columns (total 8 columns):\n",
      " #   Column              Non-Null Count  Dtype \n",
      "---  ------              --------------  ----- \n",
      " 0   NCBI ID             56 non-null     object\n",
      " 1   Entry               56 non-null     object\n",
      " 2   Entry name          56 non-null     object\n",
      " 3   Protein names       56 non-null     object\n",
      " 4   Gene names          53 non-null     object\n",
      " 5   Organism            56 non-null     object\n",
      " 6   Entry_Korfali_2010  139 non-null    object\n",
      " 7   Gene_name_obtained  139 non-null    object\n",
      "dtypes: object(8)\n",
      "memory usage: 12.7+ KB\n"
     ]
    }
   ],
   "source": [
    "df.info()"
   ]
  },
  {
   "cell_type": "code",
   "execution_count": 13,
   "id": "d8876293-8880-495d-ab00-1bc24bad9e17",
   "metadata": {},
   "outputs": [],
   "source": [
    "df['UniprotID'] = df.Entry.fillna(df.Entry_Korfali_2010)\n",
    "df['GeneName'] = df['Gene names'].fillna(df.Gene_name_obtained)"
   ]
  },
  {
   "cell_type": "code",
   "execution_count": 106,
   "id": "758a37e2-6478-4920-9c84-e876a0edc5c9",
   "metadata": {},
   "outputs": [
    {
     "data": {
      "text/plain": [
       "Index(['NCBI ID', 'Entry', 'Entry name', 'Protein names', 'Gene names',\n",
       "       'Organism', 'Entry_Korfali_2010', 'Gene_name_obtained', 'UniprotID',\n",
       "       'GeneName'],\n",
       "      dtype='object')"
      ]
     },
     "execution_count": 106,
     "metadata": {},
     "output_type": "execute_result"
    }
   ],
   "source": [
    "df.columns"
   ]
  },
  {
   "cell_type": "code",
   "execution_count": 14,
   "id": "193268b8-4272-4b67-a615-7044ddf48a62",
   "metadata": {},
   "outputs": [],
   "source": [
    "df = df[['UniprotID', 'GeneName', 'Entry', 'Entry_Korfali_2010']]\n",
    "\n",
    "df.fillna(0, inplace=True)\n",
    "\n",
    "df.Entry = df.Entry.apply(lambda x: 1 if x != 0 else 0)\n",
    "df.Entry_Korfali_2010 = df.Entry_Korfali_2010.apply(lambda x: 1 if x != 0 else 0)\n",
    "\n",
    "df = df.rename(columns={'Entry':'Schirmer_2003', 'Entry_Korfali_2010':'Korfali_2010'})"
   ]
  },
  {
   "cell_type": "code",
   "execution_count": 15,
   "id": "ec63c4f5-3184-4eff-b671-03349a892733",
   "metadata": {},
   "outputs": [
    {
     "data": {
      "text/html": [
       "<div>\n",
       "<style scoped>\n",
       "    .dataframe tbody tr th:only-of-type {\n",
       "        vertical-align: middle;\n",
       "    }\n",
       "\n",
       "    .dataframe tbody tr th {\n",
       "        vertical-align: top;\n",
       "    }\n",
       "\n",
       "    .dataframe thead th {\n",
       "        text-align: right;\n",
       "    }\n",
       "</style>\n",
       "<table border=\"1\" class=\"dataframe\">\n",
       "  <thead>\n",
       "    <tr style=\"text-align: right;\">\n",
       "      <th></th>\n",
       "      <th>UniprotID</th>\n",
       "      <th>GeneName</th>\n",
       "      <th>Schirmer_2003</th>\n",
       "      <th>Korfali_2010</th>\n",
       "    </tr>\n",
       "  </thead>\n",
       "  <tbody>\n",
       "    <tr>\n",
       "      <th>152</th>\n",
       "      <td>Q86V85</td>\n",
       "      <td>GPR180</td>\n",
       "      <td>0</td>\n",
       "      <td>1</td>\n",
       "    </tr>\n",
       "    <tr>\n",
       "      <th>153</th>\n",
       "      <td>Q8N386</td>\n",
       "      <td>LRRC25</td>\n",
       "      <td>0</td>\n",
       "      <td>1</td>\n",
       "    </tr>\n",
       "    <tr>\n",
       "      <th>154</th>\n",
       "      <td>Q5TGY1</td>\n",
       "      <td>TMCO4</td>\n",
       "      <td>0</td>\n",
       "      <td>1</td>\n",
       "    </tr>\n",
       "    <tr>\n",
       "      <th>155</th>\n",
       "      <td>Q9NX61</td>\n",
       "      <td>TMEM161A</td>\n",
       "      <td>0</td>\n",
       "      <td>1</td>\n",
       "    </tr>\n",
       "    <tr>\n",
       "      <th>156</th>\n",
       "      <td>Q96AA3</td>\n",
       "      <td>RFT1</td>\n",
       "      <td>0</td>\n",
       "      <td>1</td>\n",
       "    </tr>\n",
       "  </tbody>\n",
       "</table>\n",
       "</div>"
      ],
      "text/plain": [
       "    UniprotID  GeneName  Schirmer_2003  Korfali_2010\n",
       "152    Q86V85    GPR180              0             1\n",
       "153    Q8N386    LRRC25              0             1\n",
       "154    Q5TGY1     TMCO4              0             1\n",
       "155    Q9NX61  TMEM161A              0             1\n",
       "156    Q96AA3      RFT1              0             1"
      ]
     },
     "execution_count": 15,
     "metadata": {},
     "output_type": "execute_result"
    }
   ],
   "source": [
    "df.tail()"
   ]
  },
  {
   "cell_type": "markdown",
   "id": "6e154ea7-e9ed-49d2-9165-520761534b64",
   "metadata": {},
   "source": [
    "### 2-2. Add Wilkie 2010"
   ]
  },
  {
   "cell_type": "code",
   "execution_count": 16,
   "id": "90840e91-9867-4cf6-8bfc-c87127b777e3",
   "metadata": {},
   "outputs": [],
   "source": [
    "df = df.merge(df_wilkie2010, left_on='UniprotID', right_on='Entry_Wilkie', how='outer')\n",
    "\n",
    "df.UniprotID = df.UniprotID.fillna(df.Entry_Wilkie)\n",
    "df.GeneName = df.GeneName.fillna(df.Gene_name_obtained)\n",
    "\n",
    "df.fillna(0, inplace=True)"
   ]
  },
  {
   "cell_type": "code",
   "execution_count": 17,
   "id": "34fcf171-ddc6-493b-9b1f-2d2283ea355d",
   "metadata": {},
   "outputs": [
    {
     "data": {
      "text/html": [
       "<div>\n",
       "<style scoped>\n",
       "    .dataframe tbody tr th:only-of-type {\n",
       "        vertical-align: middle;\n",
       "    }\n",
       "\n",
       "    .dataframe tbody tr th {\n",
       "        vertical-align: top;\n",
       "    }\n",
       "\n",
       "    .dataframe thead th {\n",
       "        text-align: right;\n",
       "    }\n",
       "</style>\n",
       "<table border=\"1\" class=\"dataframe\">\n",
       "  <thead>\n",
       "    <tr style=\"text-align: right;\">\n",
       "      <th></th>\n",
       "      <th>UniprotID</th>\n",
       "      <th>GeneName</th>\n",
       "      <th>Schirmer_2003</th>\n",
       "      <th>Korfali_2010</th>\n",
       "      <th>Entry_Wilkie</th>\n",
       "      <th>Gene_name_obtained</th>\n",
       "    </tr>\n",
       "  </thead>\n",
       "  <tbody>\n",
       "    <tr>\n",
       "      <th>182</th>\n",
       "      <td>Q6ZV29</td>\n",
       "      <td>PNPLA7</td>\n",
       "      <td>0.0</td>\n",
       "      <td>0.0</td>\n",
       "      <td>Q6ZV29</td>\n",
       "      <td>PNPLA7</td>\n",
       "    </tr>\n",
       "    <tr>\n",
       "      <th>183</th>\n",
       "      <td>Q0P6H9</td>\n",
       "      <td>TMEM62</td>\n",
       "      <td>0.0</td>\n",
       "      <td>0.0</td>\n",
       "      <td>Q0P6H9</td>\n",
       "      <td>TMEM62</td>\n",
       "    </tr>\n",
       "    <tr>\n",
       "      <th>184</th>\n",
       "      <td>Q8IZF2</td>\n",
       "      <td>ADGRF5</td>\n",
       "      <td>0.0</td>\n",
       "      <td>0.0</td>\n",
       "      <td>Q8IZF2</td>\n",
       "      <td>ADGRF5</td>\n",
       "    </tr>\n",
       "    <tr>\n",
       "      <th>185</th>\n",
       "      <td>A6NMS7</td>\n",
       "      <td>LRRC37A</td>\n",
       "      <td>0.0</td>\n",
       "      <td>0.0</td>\n",
       "      <td>A6NMS7</td>\n",
       "      <td>LRRC37A</td>\n",
       "    </tr>\n",
       "    <tr>\n",
       "      <th>186</th>\n",
       "      <td>Q7Z407</td>\n",
       "      <td>CSMD3</td>\n",
       "      <td>0.0</td>\n",
       "      <td>0.0</td>\n",
       "      <td>Q7Z407</td>\n",
       "      <td>CSMD3</td>\n",
       "    </tr>\n",
       "  </tbody>\n",
       "</table>\n",
       "</div>"
      ],
      "text/plain": [
       "    UniprotID GeneName  Schirmer_2003  Korfali_2010 Entry_Wilkie  \\\n",
       "182    Q6ZV29   PNPLA7            0.0           0.0       Q6ZV29   \n",
       "183    Q0P6H9   TMEM62            0.0           0.0       Q0P6H9   \n",
       "184    Q8IZF2   ADGRF5            0.0           0.0       Q8IZF2   \n",
       "185    A6NMS7  LRRC37A            0.0           0.0       A6NMS7   \n",
       "186    Q7Z407    CSMD3            0.0           0.0       Q7Z407   \n",
       "\n",
       "    Gene_name_obtained  \n",
       "182             PNPLA7  \n",
       "183             TMEM62  \n",
       "184             ADGRF5  \n",
       "185            LRRC37A  \n",
       "186              CSMD3  "
      ]
     },
     "execution_count": 17,
     "metadata": {},
     "output_type": "execute_result"
    }
   ],
   "source": [
    "df.tail()"
   ]
  },
  {
   "cell_type": "code",
   "execution_count": 18,
   "id": "b9d125c1-9452-4975-b544-f46133f9ab86",
   "metadata": {},
   "outputs": [],
   "source": [
    "df.Entry_Wilkie = df.Entry_Wilkie.apply(lambda x: 1 if x != 0 else 0)"
   ]
  },
  {
   "cell_type": "code",
   "execution_count": 19,
   "id": "23f6f151-8f74-41cc-be92-7d71b362663b",
   "metadata": {},
   "outputs": [],
   "source": [
    "df = df.drop(columns=['Gene_name_obtained'], axis=1)\n",
    "df = df.rename(columns={'Entry_Wilkie': 'Wilkie_2010'})"
   ]
  },
  {
   "cell_type": "markdown",
   "id": "eab252b8-5bf4-46d7-b612-bf188585a736",
   "metadata": {},
   "source": [
    "### 2-3. Add Korfali 2012"
   ]
  },
  {
   "cell_type": "code",
   "execution_count": 20,
   "id": "079e3e64-7b21-4eee-b7f3-8c678828eb79",
   "metadata": {},
   "outputs": [],
   "source": [
    "df = df.merge(df_korfali2012, left_on='UniprotID', right_on='Uniprot_id', how='outer')"
   ]
  },
  {
   "cell_type": "code",
   "execution_count": 21,
   "id": "add19b4a-2da1-4fe6-a495-4513cf89a344",
   "metadata": {},
   "outputs": [],
   "source": [
    "df.UniprotID = df.UniprotID.fillna(df.Uniprot_id)\n",
    "df.GeneName = df.GeneName.fillna(df['gene name'])\n",
    "\n",
    "df.fillna(0, inplace=True)\n",
    "\n",
    "df.Uniprot_id = df.Uniprot_id.apply(lambda x: 1 if x != 0 else 0)"
   ]
  },
  {
   "cell_type": "code",
   "execution_count": 22,
   "id": "63bb35ec-b307-414d-b09a-797f6a29859b",
   "metadata": {},
   "outputs": [
    {
     "data": {
      "text/plain": [
       "Index(['UniprotID', 'GeneName', 'Schirmer_2003', 'Korfali_2010', 'Wilkie_2010',\n",
       "       'Unnamed: 0', 'tissue', 'gene name', 'alternate names',\n",
       "       'accession numbers', 'NE:MM ratio by dNSAF', 'reference', 'Uniprot_id'],\n",
       "      dtype='object')"
      ]
     },
     "execution_count": 22,
     "metadata": {},
     "output_type": "execute_result"
    }
   ],
   "source": [
    "df.columns"
   ]
  },
  {
   "cell_type": "code",
   "execution_count": 23,
   "id": "fce01dd0-c4b8-4a45-8a58-835e52fd08a3",
   "metadata": {},
   "outputs": [],
   "source": [
    "df = df[['UniprotID', 'GeneName', 'Schirmer_2003', 'Korfali_2010', 'Wilkie_2010',\n",
    "           'Uniprot_id']]\n",
    "df = df.rename(columns={'Uniprot_id':'Korfali_2012'})"
   ]
  },
  {
   "cell_type": "code",
   "execution_count": 24,
   "id": "394d2926-cc24-4ef4-a0b0-3484ded094ad",
   "metadata": {},
   "outputs": [
    {
     "data": {
      "text/html": [
       "<div>\n",
       "<style scoped>\n",
       "    .dataframe tbody tr th:only-of-type {\n",
       "        vertical-align: middle;\n",
       "    }\n",
       "\n",
       "    .dataframe tbody tr th {\n",
       "        vertical-align: top;\n",
       "    }\n",
       "\n",
       "    .dataframe thead th {\n",
       "        text-align: right;\n",
       "    }\n",
       "</style>\n",
       "<table border=\"1\" class=\"dataframe\">\n",
       "  <thead>\n",
       "    <tr style=\"text-align: right;\">\n",
       "      <th></th>\n",
       "      <th>UniprotID</th>\n",
       "      <th>GeneName</th>\n",
       "      <th>Schirmer_2003</th>\n",
       "      <th>Korfali_2010</th>\n",
       "      <th>Wilkie_2010</th>\n",
       "      <th>Korfali_2012</th>\n",
       "    </tr>\n",
       "  </thead>\n",
       "  <tbody>\n",
       "    <tr>\n",
       "      <th>212</th>\n",
       "      <td>Q96PC5</td>\n",
       "      <td>CTAGE5</td>\n",
       "      <td>0.0</td>\n",
       "      <td>0.0</td>\n",
       "      <td>0.0</td>\n",
       "      <td>1</td>\n",
       "    </tr>\n",
       "    <tr>\n",
       "      <th>213</th>\n",
       "      <td>Q8WUY1</td>\n",
       "      <td>C8orf55</td>\n",
       "      <td>0.0</td>\n",
       "      <td>0.0</td>\n",
       "      <td>0.0</td>\n",
       "      <td>1</td>\n",
       "    </tr>\n",
       "    <tr>\n",
       "      <th>214</th>\n",
       "      <td>Q7Z2K6</td>\n",
       "      <td>ERMP1</td>\n",
       "      <td>0.0</td>\n",
       "      <td>0.0</td>\n",
       "      <td>0.0</td>\n",
       "      <td>1</td>\n",
       "    </tr>\n",
       "    <tr>\n",
       "      <th>215</th>\n",
       "      <td>Q7Z3C6</td>\n",
       "      <td>ATG9A</td>\n",
       "      <td>0.0</td>\n",
       "      <td>0.0</td>\n",
       "      <td>0.0</td>\n",
       "      <td>1</td>\n",
       "    </tr>\n",
       "    <tr>\n",
       "      <th>216</th>\n",
       "      <td>Q6DD88</td>\n",
       "      <td>ATLA3</td>\n",
       "      <td>0.0</td>\n",
       "      <td>0.0</td>\n",
       "      <td>0.0</td>\n",
       "      <td>1</td>\n",
       "    </tr>\n",
       "  </tbody>\n",
       "</table>\n",
       "</div>"
      ],
      "text/plain": [
       "    UniprotID GeneName  Schirmer_2003  Korfali_2010  Wilkie_2010  Korfali_2012\n",
       "212    Q96PC5   CTAGE5            0.0           0.0          0.0             1\n",
       "213    Q8WUY1  C8orf55            0.0           0.0          0.0             1\n",
       "214    Q7Z2K6    ERMP1            0.0           0.0          0.0             1\n",
       "215    Q7Z3C6    ATG9A            0.0           0.0          0.0             1\n",
       "216    Q6DD88    ATLA3            0.0           0.0          0.0             1"
      ]
     },
     "execution_count": 24,
     "metadata": {},
     "output_type": "execute_result"
    }
   ],
   "source": [
    "df.tail()"
   ]
  },
  {
   "cell_type": "markdown",
   "id": "04c98c08-12cd-4f1d-963b-7a8c03aae048",
   "metadata": {},
   "source": [
    "### 2-4. Add Cheng 2019"
   ]
  },
  {
   "cell_type": "code",
   "execution_count": 25,
   "id": "8a996fc5-2f4b-460a-b5cb-f67d40d852ea",
   "metadata": {},
   "outputs": [],
   "source": [
    "df = df.merge(df_cheng2019, left_on='UniprotID', right_on='entry_h', how='outer')"
   ]
  },
  {
   "cell_type": "code",
   "execution_count": 26,
   "id": "0145ef90-06df-4840-83bc-e00be06c399e",
   "metadata": {},
   "outputs": [
    {
     "name": "stdout",
     "output_type": "stream",
     "text": [
      "<class 'pandas.core.frame.DataFrame'>\n",
      "Int64Index: 413 entries, 0 to 412\n",
      "Data columns (total 11 columns):\n",
      " #   Column                Non-Null Count  Dtype  \n",
      "---  ------                --------------  -----  \n",
      " 0   UniprotID             218 non-null    object \n",
      " 1   GeneName              218 non-null    object \n",
      " 2   Schirmer_2003         218 non-null    float64\n",
      " 3   Korfali_2010          218 non-null    float64\n",
      " 4   Wilkie_2010           218 non-null    float64\n",
      " 5   Korfali_2012          218 non-null    float64\n",
      " 6   gene_name             243 non-null    object \n",
      " 7   entry_h               243 non-null    object \n",
      " 8   NE Enrich Score in U  243 non-null    float64\n",
      " 9   NE Enrich Score in A  243 non-null    float64\n",
      " 10  NE Enrich Score in M  243 non-null    float64\n",
      "dtypes: float64(7), object(4)\n",
      "memory usage: 38.7+ KB\n"
     ]
    }
   ],
   "source": [
    "df.info()"
   ]
  },
  {
   "cell_type": "code",
   "execution_count": 29,
   "id": "276fb00c-c5f9-43fe-984e-071448e01b57",
   "metadata": {},
   "outputs": [],
   "source": [
    "df.UniprotID = df.UniprotID.fillna(df.entry_h)\n",
    "df.GeneName = df.GeneName.fillna(df.gene_name)\n",
    "\n",
    "df.fillna(0, inplace=True)\n",
    "\n",
    "df.entry_h = df.entry_h.apply(lambda x: 1 if x != 0 else 0)"
   ]
  },
  {
   "cell_type": "code",
   "execution_count": 30,
   "id": "7ebebb04-5a18-42c7-a522-dd576348618c",
   "metadata": {},
   "outputs": [
    {
     "data": {
      "text/plain": [
       "Index(['UniprotID', 'GeneName', 'Schirmer_2003', 'Korfali_2010', 'Wilkie_2010',\n",
       "       'Korfali_2012', 'gene_name', 'entry_h', 'NE Enrich Score in U',\n",
       "       'NE Enrich Score in A', 'NE Enrich Score in M'],\n",
       "      dtype='object')"
      ]
     },
     "execution_count": 30,
     "metadata": {},
     "output_type": "execute_result"
    }
   ],
   "source": [
    "df.columns"
   ]
  },
  {
   "cell_type": "code",
   "execution_count": 31,
   "id": "e658a085-871b-4c9d-8914-bdb78231f117",
   "metadata": {},
   "outputs": [],
   "source": [
    "df = df.rename(columns={'entry_h':'Cheng_2019'})\n",
    "df = df.drop(columns=['gene_name'], axis=1)"
   ]
  },
  {
   "cell_type": "code",
   "execution_count": 34,
   "id": "fc140548-4215-4af0-b8a0-0488f2b4a000",
   "metadata": {},
   "outputs": [
    {
     "data": {
      "text/html": [
       "<div>\n",
       "<style scoped>\n",
       "    .dataframe tbody tr th:only-of-type {\n",
       "        vertical-align: middle;\n",
       "    }\n",
       "\n",
       "    .dataframe tbody tr th {\n",
       "        vertical-align: top;\n",
       "    }\n",
       "\n",
       "    .dataframe thead th {\n",
       "        text-align: right;\n",
       "    }\n",
       "</style>\n",
       "<table border=\"1\" class=\"dataframe\">\n",
       "  <thead>\n",
       "    <tr style=\"text-align: right;\">\n",
       "      <th></th>\n",
       "      <th>UniprotID</th>\n",
       "      <th>GeneName</th>\n",
       "      <th>Schirmer_2003</th>\n",
       "      <th>Korfali_2010</th>\n",
       "      <th>Wilkie_2010</th>\n",
       "      <th>Korfali_2012</th>\n",
       "      <th>Cheng_2019</th>\n",
       "      <th>NE Enrich Score in U</th>\n",
       "      <th>NE Enrich Score in A</th>\n",
       "      <th>NE Enrich Score in M</th>\n",
       "    </tr>\n",
       "  </thead>\n",
       "  <tbody>\n",
       "    <tr>\n",
       "      <th>0</th>\n",
       "      <td>Q92604</td>\n",
       "      <td>LPGAT1 FAM34A KIAA0205</td>\n",
       "      <td>1.0</td>\n",
       "      <td>1.0</td>\n",
       "      <td>1.0</td>\n",
       "      <td>1.0</td>\n",
       "      <td>0</td>\n",
       "      <td>0.0</td>\n",
       "      <td>0.0</td>\n",
       "      <td>0.0</td>\n",
       "    </tr>\n",
       "    <tr>\n",
       "      <th>1</th>\n",
       "      <td>Q9Y3T9</td>\n",
       "      <td>NOC2L NIR</td>\n",
       "      <td>1.0</td>\n",
       "      <td>1.0</td>\n",
       "      <td>1.0</td>\n",
       "      <td>0.0</td>\n",
       "      <td>0</td>\n",
       "      <td>0.0</td>\n",
       "      <td>0.0</td>\n",
       "      <td>0.0</td>\n",
       "    </tr>\n",
       "    <tr>\n",
       "      <th>2</th>\n",
       "      <td>Q9Y3T9</td>\n",
       "      <td>Noc2l</td>\n",
       "      <td>1.0</td>\n",
       "      <td>1.0</td>\n",
       "      <td>1.0</td>\n",
       "      <td>0.0</td>\n",
       "      <td>0</td>\n",
       "      <td>0.0</td>\n",
       "      <td>0.0</td>\n",
       "      <td>0.0</td>\n",
       "    </tr>\n",
       "    <tr>\n",
       "      <th>3</th>\n",
       "      <td>Q8NBX0</td>\n",
       "      <td>SCCPDH CGI-49</td>\n",
       "      <td>1.0</td>\n",
       "      <td>1.0</td>\n",
       "      <td>1.0</td>\n",
       "      <td>1.0</td>\n",
       "      <td>0</td>\n",
       "      <td>0.0</td>\n",
       "      <td>0.0</td>\n",
       "      <td>0.0</td>\n",
       "    </tr>\n",
       "    <tr>\n",
       "      <th>4</th>\n",
       "      <td>A0A384NPM7</td>\n",
       "      <td>SCCPDH hCG_1782151</td>\n",
       "      <td>1.0</td>\n",
       "      <td>0.0</td>\n",
       "      <td>0.0</td>\n",
       "      <td>0.0</td>\n",
       "      <td>0</td>\n",
       "      <td>0.0</td>\n",
       "      <td>0.0</td>\n",
       "      <td>0.0</td>\n",
       "    </tr>\n",
       "  </tbody>\n",
       "</table>\n",
       "</div>"
      ],
      "text/plain": [
       "    UniprotID                GeneName  Schirmer_2003  Korfali_2010  \\\n",
       "0      Q92604  LPGAT1 FAM34A KIAA0205            1.0           1.0   \n",
       "1      Q9Y3T9               NOC2L NIR            1.0           1.0   \n",
       "2      Q9Y3T9                   Noc2l            1.0           1.0   \n",
       "3      Q8NBX0           SCCPDH CGI-49            1.0           1.0   \n",
       "4  A0A384NPM7      SCCPDH hCG_1782151            1.0           0.0   \n",
       "\n",
       "   Wilkie_2010  Korfali_2012  Cheng_2019  NE Enrich Score in U  \\\n",
       "0          1.0           1.0           0                   0.0   \n",
       "1          1.0           0.0           0                   0.0   \n",
       "2          1.0           0.0           0                   0.0   \n",
       "3          1.0           1.0           0                   0.0   \n",
       "4          0.0           0.0           0                   0.0   \n",
       "\n",
       "   NE Enrich Score in A  NE Enrich Score in M  \n",
       "0                   0.0                   0.0  \n",
       "1                   0.0                   0.0  \n",
       "2                   0.0                   0.0  \n",
       "3                   0.0                   0.0  \n",
       "4                   0.0                   0.0  "
      ]
     },
     "execution_count": 34,
     "metadata": {},
     "output_type": "execute_result"
    }
   ],
   "source": [
    "df.head()"
   ]
  },
  {
   "cell_type": "code",
   "execution_count": null,
   "id": "6562fab7-c9e3-43e4-9ccd-e2adaa80d5b8",
   "metadata": {},
   "outputs": [],
   "source": []
  }
 ],
 "metadata": {
  "kernelspec": {
   "display_name": "Python 3",
   "language": "python",
   "name": "python3"
  },
  "language_info": {
   "codemirror_mode": {
    "name": "ipython",
    "version": 3
   },
   "file_extension": ".py",
   "mimetype": "text/x-python",
   "name": "python",
   "nbconvert_exporter": "python",
   "pygments_lexer": "ipython3",
   "version": "3.8.8"
  }
 },
 "nbformat": 4,
 "nbformat_minor": 5
}
