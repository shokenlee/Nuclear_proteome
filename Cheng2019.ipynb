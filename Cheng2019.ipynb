{
 "cells": [
  {
   "cell_type": "markdown",
   "id": "c8675dc8-21ea-4d92-86eb-d71a1b8b98e2",
   "metadata": {},
   "source": [
    "## Cheng et al. 2019\n",
    "### 243 proteins from mesenchymal cell line"
   ]
  },
  {
   "cell_type": "code",
   "execution_count": 17,
   "id": "903c07a6-3d41-49d7-bf66-2aca12863947",
   "metadata": {},
   "outputs": [],
   "source": [
    "import requests, json\n",
    "import numpy as np\n",
    "import pandas as pd\n",
    "from time import sleep"
   ]
  },
  {
   "cell_type": "code",
   "execution_count": 2,
   "id": "56824043-312b-4114-bde6-5e3090629753",
   "metadata": {},
   "outputs": [
    {
     "name": "stderr",
     "output_type": "stream",
     "text": [
      "/Users/ShokenLEE/opt/anaconda3/lib/python3.8/site-packages/openpyxl/worksheet/_reader.py:312: UserWarning: Unknown extension is not supported and will be removed\n",
      "  warn(msg)\n",
      "/Users/ShokenLEE/opt/anaconda3/lib/python3.8/site-packages/openpyxl/worksheet/_reader.py:312: UserWarning: Conditional Formatting extension is not supported and will be removed\n",
      "  warn(msg)\n"
     ]
    }
   ],
   "source": [
    "# Cheng 2019 data\n",
    "df_Cheng2019 = pd.read_excel('./SourceData/Papers/Cheng2019/Supplementary Table S3_clustering & peptide seq.xlsx')"
   ]
  },
  {
   "cell_type": "code",
   "execution_count": 3,
   "id": "4d367ea4-e200-4daa-b544-f087f8c84d50",
   "metadata": {},
   "outputs": [],
   "source": [
    "# column names\n",
    "columns = df_Cheng2019.iloc[0, :].tolist()\n",
    "\n",
    "# extract values\n",
    "df_Cheng2019 = df_Cheng2019.iloc[1:, :]\n",
    "\n",
    "# rename columns\n",
    "df_Cheng2019.columns = columns"
   ]
  },
  {
   "cell_type": "code",
   "execution_count": 4,
   "id": "6d7e35c0-94c3-47da-9d5f-34e7fdea387e",
   "metadata": {},
   "outputs": [
    {
     "data": {
      "text/plain": [
       "Index(['Accession No.', 'Protein', 'Description', 'Known NE', 'TM region',\n",
       "       'Total SPC in U', 'Total SPC in A', 'Total SPC in M',\n",
       "       'NE Enrich Score in U', 'NE Enrich Score in A', 'NE Enrich Score in M',\n",
       "       'Cluster #'],\n",
       "      dtype='object')"
      ]
     },
     "execution_count": 4,
     "metadata": {},
     "output_type": "execute_result"
    }
   ],
   "source": [
    "df_Cheng2019.columns"
   ]
  },
  {
   "cell_type": "code",
   "execution_count": 5,
   "id": "b09f34ea-7294-48b1-8836-78f535505b28",
   "metadata": {},
   "outputs": [],
   "source": [
    "df_Cheng2019 = df_Cheng2019[['Accession No.', 'Protein', 'NE Enrich Score in U', 'NE Enrich Score in A', 'NE Enrich Score in M']]\n",
    "\n",
    "df_Cheng2019 = df_Cheng2019.rename({'Accession No.': 'Entry_Cheng2019'}, axis=1)"
   ]
  },
  {
   "cell_type": "code",
   "execution_count": 6,
   "id": "f57effa4-6902-4b99-8ab7-66dccae04723",
   "metadata": {},
   "outputs": [
    {
     "name": "stdout",
     "output_type": "stream",
     "text": [
      "<class 'pandas.core.frame.DataFrame'>\n",
      "RangeIndex: 243 entries, 1 to 243\n",
      "Data columns (total 5 columns):\n",
      " #   Column                Non-Null Count  Dtype \n",
      "---  ------                --------------  ----- \n",
      " 0   Entry_Cheng2019       243 non-null    object\n",
      " 1   Protein               237 non-null    object\n",
      " 2   NE Enrich Score in U  243 non-null    object\n",
      " 3   NE Enrich Score in A  243 non-null    object\n",
      " 4   NE Enrich Score in M  243 non-null    object\n",
      "dtypes: object(5)\n",
      "memory usage: 9.6+ KB\n"
     ]
    }
   ],
   "source": [
    "df_Cheng2019.info()"
   ]
  },
  {
   "cell_type": "markdown",
   "id": "9163d2be-42be-4f0a-8e37-8f841f2bd72b",
   "metadata": {},
   "source": [
    "## Convert the mouse entries to humans"
   ]
  },
  {
   "cell_type": "code",
   "execution_count": 7,
   "id": "e5474356-88ab-4dab-90f6-86584800bb95",
   "metadata": {},
   "outputs": [],
   "source": [
    "def get_url(url, **kwargs):\n",
    "    '''\n",
    "    Obatin a response from a given url\n",
    "    '''\n",
    "    response = requests.get(url, **kwargs);\n",
    "\n",
    "    if not response.ok:\n",
    "        print(response.text)\n",
    "        response.raise_for_status()\n",
    "        sys.exit()\n",
    "\n",
    "    return response"
   ]
  },
  {
   "cell_type": "code",
   "execution_count": 22,
   "id": "8fc34fc0-1566-4880-95aa-0585fbadbf15",
   "metadata": {},
   "outputs": [
    {
     "name": "stdout",
     "output_type": "stream",
     "text": [
      "P41216 Acsl1 P33121\n",
      "Q9CY27 Tecr Q9NZ01\n",
      "Q9DCK3 Tspan4 O14817\n",
      "Q8R0Y8 Slc25a42 Q86VD7\n",
      "Q8K358 Pigu Q9H490\n",
      "Q8BX90 Fndc3a Q9Y2H6\n",
      "Q78IS1 Tmed3 Q9Y3Q3\n",
      "Q8BM55 Tmem214 Q6NUQ4\n",
      "Q8CHT3 Ints5 Q6P9B9\n",
      "Q9CXY9 Pigk Q92643\n",
      "Q8BSY0 Asph Q12797\n",
      "Q6ZPR5 Smpd4 Q9NXE4\n"
     ]
    }
   ],
   "source": [
    "# uniprot API URL\n",
    "WEBSITE_API = \"https://rest.uniprot.org/uniprotkb\"\n",
    "\n",
    "# organism id\n",
    "organism_id_list = {'Homo sapiens': '9606', 'Mus musculus': '10090'}\n",
    "organism_id = organism_id_list['Homo sapiens']\n",
    "\n",
    "my_dict = {'entry_mr': [], 'gene_name': [], 'entry_h': []}\n",
    "\n",
    "for entry in df_Cheng2019.Entry_Cheng2019:\n",
    "    try:\n",
    "        # get response with the query, then the gene name in it\n",
    "        r = get_url(f'{WEBSITE_API}/search?query=accession:{entry}&fields=gene_names')\n",
    "        gene_name = r.json()['results'][0]['genes'][0]['geneName']['value']\n",
    "        sleep(1)\n",
    "\n",
    "        # find the entry of the human version of the gene\n",
    "        r2 = get_url(f'{WEBSITE_API}/search?query=gene:{gene_name}+AND+organism_id:{organism_id}&fields=accession,gene_names')\n",
    "        entry_hs = r2.json()['results'][0]['primaryAccession']\n",
    "        sleep(1)\n",
    "\n",
    "    except:\n",
    "        gene_name = 'Not_found'\n",
    "        entry_hs = 'Not_found'    \n",
    "    \n",
    "    my_dict['entry_mr'].append(entry)\n",
    "    my_dict['gene_name'].append(gene_name)\n",
    "    my_dict['entry_h'].append(entry_hs)\n",
    "    \n",
    "    if len(my_dict['entry_mr'])%20 == 0:\n",
    "        print(entry, gene_name, entry_hs)"
   ]
  },
  {
   "cell_type": "code",
   "execution_count": 23,
   "id": "0631a709-44b7-408a-bddb-11bec7422c75",
   "metadata": {},
   "outputs": [],
   "source": [
    "_df = pd.DataFrame(my_dict)\n",
    "df = df_Cheng2019.merge(_df, left_on='Entry_Cheng2019', right_on='entry_mr', how='left')\n",
    "df['geneName_match'] = np.where((df.Protein == df.gene_name), 1, 0)"
   ]
  },
  {
   "cell_type": "code",
   "execution_count": 30,
   "id": "835b69ce-c683-43f1-a7f2-95bf81267735",
   "metadata": {},
   "outputs": [
    {
     "data": {
      "text/html": [
       "<div>\n",
       "<style scoped>\n",
       "    .dataframe tbody tr th:only-of-type {\n",
       "        vertical-align: middle;\n",
       "    }\n",
       "\n",
       "    .dataframe tbody tr th {\n",
       "        vertical-align: top;\n",
       "    }\n",
       "\n",
       "    .dataframe thead th {\n",
       "        text-align: right;\n",
       "    }\n",
       "</style>\n",
       "<table border=\"1\" class=\"dataframe\">\n",
       "  <thead>\n",
       "    <tr style=\"text-align: right;\">\n",
       "      <th></th>\n",
       "      <th>Entry_Cheng2019</th>\n",
       "      <th>Protein</th>\n",
       "      <th>NE Enrich Score in U</th>\n",
       "      <th>NE Enrich Score in A</th>\n",
       "      <th>NE Enrich Score in M</th>\n",
       "      <th>entry_mr</th>\n",
       "      <th>gene_name</th>\n",
       "      <th>entry_h</th>\n",
       "      <th>geneName_match</th>\n",
       "    </tr>\n",
       "  </thead>\n",
       "  <tbody>\n",
       "    <tr>\n",
       "      <th>49</th>\n",
       "      <td>Q6ZQM8</td>\n",
       "      <td>Ugt1a7c</td>\n",
       "      <td>0.547455</td>\n",
       "      <td>0.544253</td>\n",
       "      <td>0.29506</td>\n",
       "      <td>Q6ZQM8</td>\n",
       "      <td>Ugt1a7</td>\n",
       "      <td>Q9HAW7</td>\n",
       "      <td>0</td>\n",
       "    </tr>\n",
       "    <tr>\n",
       "      <th>72</th>\n",
       "      <td>Q3TYS2</td>\n",
       "      <td>NaN</td>\n",
       "      <td>0.547859</td>\n",
       "      <td>0.720219</td>\n",
       "      <td>0.219828</td>\n",
       "      <td>Q3TYS2</td>\n",
       "      <td>Cybc1</td>\n",
       "      <td>Q9BQA9</td>\n",
       "      <td>0</td>\n",
       "    </tr>\n",
       "    <tr>\n",
       "      <th>73</th>\n",
       "      <td>Q8R3Y5</td>\n",
       "      <td>NaN</td>\n",
       "      <td>0.187178</td>\n",
       "      <td>0.573158</td>\n",
       "      <td>0.600026</td>\n",
       "      <td>Q8R3Y5</td>\n",
       "      <td>C19orf47</td>\n",
       "      <td>Q8N9M1</td>\n",
       "      <td>0</td>\n",
       "    </tr>\n",
       "    <tr>\n",
       "      <th>74</th>\n",
       "      <td>Q9CYI0</td>\n",
       "      <td>NaN</td>\n",
       "      <td>0.104929</td>\n",
       "      <td>0.615445</td>\n",
       "      <td>0.41298</td>\n",
       "      <td>Q9CYI0</td>\n",
       "      <td>C17orf75</td>\n",
       "      <td>Q9HAS0</td>\n",
       "      <td>0</td>\n",
       "    </tr>\n",
       "    <tr>\n",
       "      <th>75</th>\n",
       "      <td>Q9CXL3</td>\n",
       "      <td>NaN</td>\n",
       "      <td>0.084613</td>\n",
       "      <td>0</td>\n",
       "      <td>0.671932</td>\n",
       "      <td>Q9CXL3</td>\n",
       "      <td>C7orf50</td>\n",
       "      <td>Q9BRJ6</td>\n",
       "      <td>0</td>\n",
       "    </tr>\n",
       "    <tr>\n",
       "      <th>76</th>\n",
       "      <td>Q8C3W1</td>\n",
       "      <td>NaN</td>\n",
       "      <td>0.059845</td>\n",
       "      <td>1</td>\n",
       "      <td>0.572675</td>\n",
       "      <td>Q8C3W1</td>\n",
       "      <td>C1orf198</td>\n",
       "      <td>Q9H425</td>\n",
       "      <td>0</td>\n",
       "    </tr>\n",
       "    <tr>\n",
       "      <th>77</th>\n",
       "      <td>Q9CQE8</td>\n",
       "      <td>NaN</td>\n",
       "      <td>0</td>\n",
       "      <td>0.544111</td>\n",
       "      <td>0.60397</td>\n",
       "      <td>Q9CQE8</td>\n",
       "      <td>RTRAF</td>\n",
       "      <td>Q9Y224</td>\n",
       "      <td>0</td>\n",
       "    </tr>\n",
       "    <tr>\n",
       "      <th>116</th>\n",
       "      <td>P06339</td>\n",
       "      <td>H2-T23</td>\n",
       "      <td>0.219917</td>\n",
       "      <td>0.215039</td>\n",
       "      <td>0.524884</td>\n",
       "      <td>P06339</td>\n",
       "      <td>Not_found</td>\n",
       "      <td>Not_found</td>\n",
       "      <td>0</td>\n",
       "    </tr>\n",
       "    <tr>\n",
       "      <th>174</th>\n",
       "      <td>Q3KNM2</td>\n",
       "      <td>42799</td>\n",
       "      <td>0.214956</td>\n",
       "      <td>0.275087</td>\n",
       "      <td>0.561878</td>\n",
       "      <td>Q3KNM2</td>\n",
       "      <td>Marchf5</td>\n",
       "      <td>Q9NX47</td>\n",
       "      <td>0</td>\n",
       "    </tr>\n",
       "  </tbody>\n",
       "</table>\n",
       "</div>"
      ],
      "text/plain": [
       "    Entry_Cheng2019  Protein NE Enrich Score in U NE Enrich Score in A  \\\n",
       "49           Q6ZQM8  Ugt1a7c             0.547455             0.544253   \n",
       "72           Q3TYS2      NaN             0.547859             0.720219   \n",
       "73           Q8R3Y5      NaN             0.187178             0.573158   \n",
       "74           Q9CYI0      NaN             0.104929             0.615445   \n",
       "75           Q9CXL3      NaN             0.084613                    0   \n",
       "76           Q8C3W1      NaN             0.059845                    1   \n",
       "77           Q9CQE8      NaN                    0             0.544111   \n",
       "116          P06339   H2-T23             0.219917             0.215039   \n",
       "174          Q3KNM2    42799             0.214956             0.275087   \n",
       "\n",
       "    NE Enrich Score in M entry_mr  gene_name    entry_h  geneName_match  \n",
       "49               0.29506   Q6ZQM8     Ugt1a7     Q9HAW7               0  \n",
       "72              0.219828   Q3TYS2      Cybc1     Q9BQA9               0  \n",
       "73              0.600026   Q8R3Y5   C19orf47     Q8N9M1               0  \n",
       "74               0.41298   Q9CYI0   C17orf75     Q9HAS0               0  \n",
       "75              0.671932   Q9CXL3    C7orf50     Q9BRJ6               0  \n",
       "76              0.572675   Q8C3W1   C1orf198     Q9H425               0  \n",
       "77               0.60397   Q9CQE8      RTRAF     Q9Y224               0  \n",
       "116             0.524884   P06339  Not_found  Not_found               0  \n",
       "174             0.561878   Q3KNM2    Marchf5     Q9NX47               0  "
      ]
     },
     "execution_count": 30,
     "metadata": {},
     "output_type": "execute_result"
    }
   ],
   "source": [
    "df[df.geneName_match == 0]"
   ]
  },
  {
   "cell_type": "markdown",
   "id": "da2a3f3a-dad5-42ce-8c87-3a32b21032d0",
   "metadata": {},
   "source": [
    "#### Manual assertation\n",
    "#### The only proteins not found in human was H2-T23\n",
    "#### thus the total becomes 242 proteins"
   ]
  },
  {
   "cell_type": "code",
   "execution_count": 29,
   "id": "c8720ab9-967f-434a-8bdf-c288607f4a1f",
   "metadata": {},
   "outputs": [],
   "source": [
    "df.loc[73, 'gene_name'] = 'C19orf47'\n",
    "df.loc[73, 'entry_h'] = 'Q8N9M1'\n",
    "df.loc[74, 'gene_name'] = 'C17orf75'\n",
    "df.loc[74, 'entry_h'] = 'Q9HAS0'\n",
    "df.loc[74, 'gene_name'] = 'C17orf75'\n",
    "df.loc[74, 'entry_h'] = 'Q9HAS0'\n",
    "df.loc[75, 'gene_name'] = 'C7orf50'\n",
    "df.loc[75, 'entry_h'] = 'Q9BRJ6'\n",
    "df.loc[76, 'gene_name'] = 'C1orf198'\n",
    "df.loc[76, 'entry_h'] = 'Q9H425'"
   ]
  },
  {
   "cell_type": "code",
   "execution_count": 31,
   "id": "a87859ce-8bf8-488e-91af-ce348231215f",
   "metadata": {},
   "outputs": [
    {
     "data": {
      "text/plain": [
       "Index(['Entry_Cheng2019', 'Protein', 'NE Enrich Score in U',\n",
       "       'NE Enrich Score in A', 'NE Enrich Score in M', 'entry_mr', 'gene_name',\n",
       "       'entry_h', 'geneName_match'],\n",
       "      dtype='object')"
      ]
     },
     "execution_count": 31,
     "metadata": {},
     "output_type": "execute_result"
    }
   ],
   "source": [
    "df.columns"
   ]
  },
  {
   "cell_type": "code",
   "execution_count": 33,
   "id": "098ec242-bf5c-43cb-a435-d76e06626798",
   "metadata": {},
   "outputs": [],
   "source": [
    "df = df[['gene_name','entry_h', \n",
    "         'NE Enrich Score in U','NE Enrich Score in A', 'NE Enrich Score in M']]\n",
    "df = df[df.gene_name != 'Not_found']"
   ]
  },
  {
   "cell_type": "code",
   "execution_count": 34,
   "id": "67f8e056-162e-4ede-9f40-41d6acbf28f9",
   "metadata": {},
   "outputs": [
    {
     "name": "stdout",
     "output_type": "stream",
     "text": [
      "<class 'pandas.core.frame.DataFrame'>\n",
      "Int64Index: 242 entries, 0 to 242\n",
      "Data columns (total 5 columns):\n",
      " #   Column                Non-Null Count  Dtype \n",
      "---  ------                --------------  ----- \n",
      " 0   gene_name             242 non-null    object\n",
      " 1   entry_h               242 non-null    object\n",
      " 2   NE Enrich Score in U  242 non-null    object\n",
      " 3   NE Enrich Score in A  242 non-null    object\n",
      " 4   NE Enrich Score in M  242 non-null    object\n",
      "dtypes: object(5)\n",
      "memory usage: 11.3+ KB\n"
     ]
    }
   ],
   "source": [
    "df.info()"
   ]
  },
  {
   "cell_type": "code",
   "execution_count": 35,
   "id": "0dcdc8ff-0031-442b-90b1-8345d676a770",
   "metadata": {},
   "outputs": [],
   "source": [
    "df.to_csv('./Output/Cheng2019.csv', index=False)"
   ]
  },
  {
   "cell_type": "code",
   "execution_count": null,
   "id": "4493f250-e42c-4169-b1f3-8112b2e331c7",
   "metadata": {},
   "outputs": [],
   "source": []
  }
 ],
 "metadata": {
  "kernelspec": {
   "display_name": "Python 3",
   "language": "python",
   "name": "python3"
  },
  "language_info": {
   "codemirror_mode": {
    "name": "ipython",
    "version": 3
   },
   "file_extension": ".py",
   "mimetype": "text/x-python",
   "name": "python",
   "nbconvert_exporter": "python",
   "pygments_lexer": "ipython3",
   "version": "3.8.8"
  }
 },
 "nbformat": 4,
 "nbformat_minor": 5
}
