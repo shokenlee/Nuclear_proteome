{
 "cells": [
  {
   "cell_type": "markdown",
   "id": "c8675dc8-21ea-4d92-86eb-d71a1b8b98e2",
   "metadata": {},
   "source": [
    "## Cheng et al. 2019\n",
    "### 243 proteins from mesenchymal cell line"
   ]
  },
  {
   "cell_type": "code",
   "execution_count": 1,
   "id": "903c07a6-3d41-49d7-bf66-2aca12863947",
   "metadata": {},
   "outputs": [],
   "source": [
    "import numpy as np\n",
    "import pandas as pd\n",
    "from time import sleep\n",
    "from modules.my_utils import get_url, find_duplicate\n",
    "import modules.my_config as my_config"
   ]
  },
  {
   "cell_type": "code",
   "execution_count": 2,
   "id": "56824043-312b-4114-bde6-5e3090629753",
   "metadata": {},
   "outputs": [
    {
     "name": "stderr",
     "output_type": "stream",
     "text": [
      "/Users/shokenlee/anaconda3/envs/py311/lib/python3.11/site-packages/openpyxl/worksheet/_read_only.py:85: UserWarning: Unknown extension is not supported and will be removed\n",
      "  for idx, row in parser.parse():\n",
      "/Users/shokenlee/anaconda3/envs/py311/lib/python3.11/site-packages/openpyxl/worksheet/_read_only.py:85: UserWarning: Conditional Formatting extension is not supported and will be removed\n",
      "  for idx, row in parser.parse():\n"
     ]
    }
   ],
   "source": [
    "df_Cheng2019 = pd.read_excel('./SourceData/Papers/Cheng2019/Supplementary Table S3_clustering & peptide seq.xlsx')"
   ]
  },
  {
   "cell_type": "code",
   "execution_count": 3,
   "id": "4d367ea4-e200-4daa-b544-f087f8c84d50",
   "metadata": {},
   "outputs": [],
   "source": [
    "# column names\n",
    "columns = df_Cheng2019.iloc[0, :].tolist()\n",
    "# extract values\n",
    "df_Cheng2019 = df_Cheng2019.iloc[1:, :]\n",
    "# rename columns\n",
    "df_Cheng2019.columns = columns"
   ]
  },
  {
   "cell_type": "code",
   "execution_count": 4,
   "id": "b09f34ea-7294-48b1-8836-78f535505b28",
   "metadata": {},
   "outputs": [],
   "source": [
    "df_Cheng2019 = df_Cheng2019[['Accession No.', 'Protein', 'NE Enrich Score in U', 'NE Enrich Score in A', 'NE Enrich Score in M']]\n",
    "df_Cheng2019 = df_Cheng2019.rename({'Accession No.': 'Entry_Cheng2019'}, axis=1)"
   ]
  },
  {
   "cell_type": "markdown",
   "id": "9163d2be-42be-4f0a-8e37-8f841f2bd72b",
   "metadata": {},
   "source": [
    "## Convert the mouse entries to humans"
   ]
  },
  {
   "cell_type": "code",
   "execution_count": 11,
   "id": "8fc34fc0-1566-4880-95aa-0585fbadbf15",
   "metadata": {
    "tags": []
   },
   "outputs": [
    {
     "name": "stdout",
     "output_type": "stream",
     "text": [
      "Q9CY27 Tecr Q9NZ01\n",
      "Error in fetching Q8R3Y5: 'genes'\n",
      "Error in fetching Q9CYI0: 'genes'\n",
      "Error in fetching Q9CXL3: 'genes'\n",
      "Error in fetching Q8C3W1: 'genes'\n",
      "Q8R0Y8 Slc25a42 Q86VD7\n",
      "Error in fetching P06339: list index out of range\n",
      "Q8BX90 Fndc3a Q9Y2H6\n",
      "Q8BM55 Tmem214 Q6NUQ4\n",
      "Q9CXY9 Pigk Q92643\n",
      "Q6ZPR5 Smpd4 Q9NXE4\n"
     ]
    }
   ],
   "source": [
    "my_dict = {'entry_mr': [], 'gene_name': [], 'entry_h': []}\n",
    "\n",
    "for entry in df_Cheng2019.Entry_Cheng2019.to_list():\n",
    "    # default values \n",
    "    gene_name = entry_hs = 'Not_found' \n",
    "    \n",
    "    try:\n",
    "        # get the gene name for the entry\n",
    "        params = {\n",
    "        \"query\": f'accession:{entry}',\n",
    "        \"fields\": \"gene_names\",\n",
    "        \"format\": \"json\"\n",
    "        }\n",
    "        \n",
    "        r = get_url(my_config.WEBSITE_API, params=params)\n",
    "        gene_name = r.json()['results'][0]['genes'][0]['geneName']['value']\n",
    "        sleep(1)\n",
    "\n",
    "        # find human version of the entry and gene name\n",
    "        params = {\n",
    "        \"query\": f'gene:{gene_name} AND organism_id:{my_config.organism_id_list[\"Homo sapiens\"]}',\n",
    "        \"fields\": \"accession, gene_names\",\n",
    "        \"format\": \"json\"\n",
    "        }\n",
    "        \n",
    "        r2 = get_url(my_config.WEBSITE_API, params=params)\n",
    "        entry_hs = r2.json()['results'][0]['primaryAccession']\n",
    "        sleep(1)\n",
    "\n",
    "    except Exception as e:\n",
    "        print(f'Error in fetching {entry}: {e}') \n",
    "    \n",
    "    my_dict['entry_mr'].append(entry)\n",
    "    my_dict['gene_name'].append(gene_name)\n",
    "    my_dict['entry_h'].append(entry_hs)\n",
    "    \n",
    "    if len(my_dict['entry_mr']) % 40 == 0:\n",
    "        print(entry, gene_name, entry_hs)"
   ]
  },
  {
   "cell_type": "code",
   "execution_count": 12,
   "id": "0631a709-44b7-408a-bddb-11bec7422c75",
   "metadata": {},
   "outputs": [],
   "source": [
    "_df = pd.DataFrame(my_dict)\n",
    "df = df_Cheng2019.merge(_df, left_on='Entry_Cheng2019', right_on='entry_mr', how='left')\n",
    "df['geneName_match'] = np.where((df.Protein == df.gene_name), 1, 0)"
   ]
  },
  {
   "cell_type": "markdown",
   "id": "2a592320-1b11-4030-b3a1-23357c25dc64",
   "metadata": {},
   "source": [
    "## Check the unmatched genes"
   ]
  },
  {
   "cell_type": "code",
   "execution_count": 13,
   "id": "835b69ce-c683-43f1-a7f2-95bf81267735",
   "metadata": {},
   "outputs": [
    {
     "data": {
      "text/html": [
       "<div>\n",
       "<style scoped>\n",
       "    .dataframe tbody tr th:only-of-type {\n",
       "        vertical-align: middle;\n",
       "    }\n",
       "\n",
       "    .dataframe tbody tr th {\n",
       "        vertical-align: top;\n",
       "    }\n",
       "\n",
       "    .dataframe thead th {\n",
       "        text-align: right;\n",
       "    }\n",
       "</style>\n",
       "<table border=\"1\" class=\"dataframe\">\n",
       "  <thead>\n",
       "    <tr style=\"text-align: right;\">\n",
       "      <th></th>\n",
       "      <th>Entry_Cheng2019</th>\n",
       "      <th>Protein</th>\n",
       "      <th>NE Enrich Score in U</th>\n",
       "      <th>NE Enrich Score in A</th>\n",
       "      <th>NE Enrich Score in M</th>\n",
       "      <th>entry_mr</th>\n",
       "      <th>gene_name</th>\n",
       "      <th>entry_h</th>\n",
       "      <th>geneName_match</th>\n",
       "    </tr>\n",
       "  </thead>\n",
       "  <tbody>\n",
       "    <tr>\n",
       "      <th>49</th>\n",
       "      <td>Q6ZQM8</td>\n",
       "      <td>Ugt1a7c</td>\n",
       "      <td>0.547455</td>\n",
       "      <td>0.544253</td>\n",
       "      <td>0.29506</td>\n",
       "      <td>Q6ZQM8</td>\n",
       "      <td>Ugt1a7</td>\n",
       "      <td>Q9HAW7</td>\n",
       "      <td>0</td>\n",
       "    </tr>\n",
       "    <tr>\n",
       "      <th>72</th>\n",
       "      <td>Q3TYS2</td>\n",
       "      <td>NaN</td>\n",
       "      <td>0.547859</td>\n",
       "      <td>0.720219</td>\n",
       "      <td>0.219828</td>\n",
       "      <td>Q3TYS2</td>\n",
       "      <td>Cybc1</td>\n",
       "      <td>Q9BQA9</td>\n",
       "      <td>0</td>\n",
       "    </tr>\n",
       "    <tr>\n",
       "      <th>73</th>\n",
       "      <td>Q8R3Y5</td>\n",
       "      <td>NaN</td>\n",
       "      <td>0.187178</td>\n",
       "      <td>0.573158</td>\n",
       "      <td>0.600026</td>\n",
       "      <td>Q8R3Y5</td>\n",
       "      <td>Not_found</td>\n",
       "      <td>Not_found</td>\n",
       "      <td>0</td>\n",
       "    </tr>\n",
       "    <tr>\n",
       "      <th>74</th>\n",
       "      <td>Q9CYI0</td>\n",
       "      <td>NaN</td>\n",
       "      <td>0.104929</td>\n",
       "      <td>0.615445</td>\n",
       "      <td>0.41298</td>\n",
       "      <td>Q9CYI0</td>\n",
       "      <td>Not_found</td>\n",
       "      <td>Not_found</td>\n",
       "      <td>0</td>\n",
       "    </tr>\n",
       "    <tr>\n",
       "      <th>75</th>\n",
       "      <td>Q9CXL3</td>\n",
       "      <td>NaN</td>\n",
       "      <td>0.084613</td>\n",
       "      <td>0</td>\n",
       "      <td>0.671932</td>\n",
       "      <td>Q9CXL3</td>\n",
       "      <td>Not_found</td>\n",
       "      <td>Not_found</td>\n",
       "      <td>0</td>\n",
       "    </tr>\n",
       "    <tr>\n",
       "      <th>76</th>\n",
       "      <td>Q8C3W1</td>\n",
       "      <td>NaN</td>\n",
       "      <td>0.059845</td>\n",
       "      <td>1</td>\n",
       "      <td>0.572675</td>\n",
       "      <td>Q8C3W1</td>\n",
       "      <td>Not_found</td>\n",
       "      <td>Not_found</td>\n",
       "      <td>0</td>\n",
       "    </tr>\n",
       "    <tr>\n",
       "      <th>77</th>\n",
       "      <td>Q9CQE8</td>\n",
       "      <td>NaN</td>\n",
       "      <td>0</td>\n",
       "      <td>0.544111</td>\n",
       "      <td>0.60397</td>\n",
       "      <td>Q9CQE8</td>\n",
       "      <td>RTRAF</td>\n",
       "      <td>Q9Y224</td>\n",
       "      <td>0</td>\n",
       "    </tr>\n",
       "    <tr>\n",
       "      <th>174</th>\n",
       "      <td>Q3KNM2</td>\n",
       "      <td>42799</td>\n",
       "      <td>0.214956</td>\n",
       "      <td>0.275087</td>\n",
       "      <td>0.561878</td>\n",
       "      <td>Q3KNM2</td>\n",
       "      <td>Marchf5</td>\n",
       "      <td>Q9NX47</td>\n",
       "      <td>0</td>\n",
       "    </tr>\n",
       "  </tbody>\n",
       "</table>\n",
       "</div>"
      ],
      "text/plain": [
       "    Entry_Cheng2019  Protein NE Enrich Score in U NE Enrich Score in A  \\\n",
       "49           Q6ZQM8  Ugt1a7c             0.547455             0.544253   \n",
       "72           Q3TYS2      NaN             0.547859             0.720219   \n",
       "73           Q8R3Y5      NaN             0.187178             0.573158   \n",
       "74           Q9CYI0      NaN             0.104929             0.615445   \n",
       "75           Q9CXL3      NaN             0.084613                    0   \n",
       "76           Q8C3W1      NaN             0.059845                    1   \n",
       "77           Q9CQE8      NaN                    0             0.544111   \n",
       "174          Q3KNM2    42799             0.214956             0.275087   \n",
       "\n",
       "    NE Enrich Score in M entry_mr  gene_name    entry_h  geneName_match  \n",
       "49               0.29506   Q6ZQM8     Ugt1a7     Q9HAW7               0  \n",
       "72              0.219828   Q3TYS2      Cybc1     Q9BQA9               0  \n",
       "73              0.600026   Q8R3Y5  Not_found  Not_found               0  \n",
       "74               0.41298   Q9CYI0  Not_found  Not_found               0  \n",
       "75              0.671932   Q9CXL3  Not_found  Not_found               0  \n",
       "76              0.572675   Q8C3W1  Not_found  Not_found               0  \n",
       "77               0.60397   Q9CQE8      RTRAF     Q9Y224               0  \n",
       "174             0.561878   Q3KNM2    Marchf5     Q9NX47               0  "
      ]
     },
     "execution_count": 13,
     "metadata": {},
     "output_type": "execute_result"
    }
   ],
   "source": [
    "df[df.geneName_match == 0]"
   ]
  },
  {
   "cell_type": "markdown",
   "id": "f5a06890-96ca-4da4-9c72-0b13612d0192",
   "metadata": {},
   "source": [
    "### Ugt1a7 is the correct name for the row 49 - so this is ok"
   ]
  },
  {
   "cell_type": "markdown",
   "id": "f83581b3-42db-4bf5-b463-0b4166cd2337",
   "metadata": {},
   "source": [
    "### March5 was incorrectly translated to 42799 by MS Excel so that's also fine"
   ]
  },
  {
   "cell_type": "markdown",
   "id": "da2a3f3a-dad5-42ce-8c87-3a32b21032d0",
   "metadata": {},
   "source": [
    "### For \"Not found\", manual correction by manual UniProt search was done"
   ]
  },
  {
   "cell_type": "code",
   "execution_count": 14,
   "id": "c8720ab9-967f-434a-8bdf-c288607f4a1f",
   "metadata": {},
   "outputs": [],
   "source": [
    "df.loc[73, 'gene_name'] = 'C19orf47'\n",
    "df.loc[73, 'entry_h'] = 'Q8N9M1'\n",
    "df.loc[74, 'gene_name'] = 'C17orf75'\n",
    "df.loc[74, 'entry_h'] = 'Q9HAS0'\n",
    "df.loc[74, 'gene_name'] = 'C17orf75'\n",
    "df.loc[74, 'entry_h'] = 'Q9HAS0'\n",
    "df.loc[75, 'gene_name'] = 'C7orf50'\n",
    "df.loc[75, 'entry_h'] = 'Q9BRJ6'\n",
    "df.loc[76, 'gene_name'] = 'C1orf198'\n",
    "df.loc[76, 'entry_h'] = 'Q9H425'"
   ]
  },
  {
   "cell_type": "markdown",
   "id": "7bed591b-4f59-4145-b5e3-fe3716d9e885",
   "metadata": {},
   "source": [
    "## Duplicate check"
   ]
  },
  {
   "cell_type": "code",
   "execution_count": 15,
   "id": "cebd2bfd-00e6-4659-8227-4b019c82bbec",
   "metadata": {
    "tags": []
   },
   "outputs": [
    {
     "data": {
      "text/plain": [
       "['P42166']"
      ]
     },
     "execution_count": 15,
     "metadata": {},
     "output_type": "execute_result"
    }
   ],
   "source": [
    "find_duplicate(df.entry_h.to_list())"
   ]
  },
  {
   "cell_type": "code",
   "execution_count": 16,
   "id": "c845c7bd-2146-4166-8f28-75f0c4622ba1",
   "metadata": {
    "tags": []
   },
   "outputs": [
    {
     "data": {
      "text/html": [
       "<div>\n",
       "<style scoped>\n",
       "    .dataframe tbody tr th:only-of-type {\n",
       "        vertical-align: middle;\n",
       "    }\n",
       "\n",
       "    .dataframe tbody tr th {\n",
       "        vertical-align: top;\n",
       "    }\n",
       "\n",
       "    .dataframe thead th {\n",
       "        text-align: right;\n",
       "    }\n",
       "</style>\n",
       "<table border=\"1\" class=\"dataframe\">\n",
       "  <thead>\n",
       "    <tr style=\"text-align: right;\">\n",
       "      <th></th>\n",
       "      <th>Entry_Cheng2019</th>\n",
       "      <th>Protein</th>\n",
       "      <th>NE Enrich Score in U</th>\n",
       "      <th>NE Enrich Score in A</th>\n",
       "      <th>NE Enrich Score in M</th>\n",
       "      <th>entry_mr</th>\n",
       "      <th>gene_name</th>\n",
       "      <th>entry_h</th>\n",
       "      <th>geneName_match</th>\n",
       "    </tr>\n",
       "  </thead>\n",
       "  <tbody>\n",
       "    <tr>\n",
       "      <th>187</th>\n",
       "      <td>Q61029</td>\n",
       "      <td>Tmpo</td>\n",
       "      <td>0.863934</td>\n",
       "      <td>0.595488</td>\n",
       "      <td>0.68432</td>\n",
       "      <td>Q61029</td>\n",
       "      <td>Tmpo</td>\n",
       "      <td>P42166</td>\n",
       "      <td>1</td>\n",
       "    </tr>\n",
       "    <tr>\n",
       "      <th>190</th>\n",
       "      <td>Q61033</td>\n",
       "      <td>Tmpo</td>\n",
       "      <td>0.785527</td>\n",
       "      <td>0.522138</td>\n",
       "      <td>0.525115</td>\n",
       "      <td>Q61033</td>\n",
       "      <td>Tmpo</td>\n",
       "      <td>P42166</td>\n",
       "      <td>1</td>\n",
       "    </tr>\n",
       "  </tbody>\n",
       "</table>\n",
       "</div>"
      ],
      "text/plain": [
       "    Entry_Cheng2019 Protein NE Enrich Score in U NE Enrich Score in A  \\\n",
       "187          Q61029    Tmpo             0.863934             0.595488   \n",
       "190          Q61033    Tmpo             0.785527             0.522138   \n",
       "\n",
       "    NE Enrich Score in M entry_mr gene_name entry_h  geneName_match  \n",
       "187              0.68432   Q61029      Tmpo  P42166               1  \n",
       "190             0.525115   Q61033      Tmpo  P42166               1  "
      ]
     },
     "execution_count": 16,
     "metadata": {},
     "output_type": "execute_result"
    }
   ],
   "source": [
    "df[df.entry_h == 'P42166']"
   ]
  },
  {
   "cell_type": "markdown",
   "id": "a837b868-75ec-4715-93f1-14e2ba710e46",
   "metadata": {},
   "source": [
    "#### Q61029 is Lap2b and Q61033 is Lap2a in mouse but have the same gene name Tmpo because they are isofroms\n",
    "#### In fact Human Lap2b is P42167 instead of P42166\n",
    "#### So Let's correct P42166 in row 187 to P42167"
   ]
  },
  {
   "cell_type": "code",
   "execution_count": 18,
   "id": "90eb5b08-e9bc-4a33-b469-4eeec7ff2801",
   "metadata": {
    "tags": []
   },
   "outputs": [],
   "source": [
    "df.loc[187, 'entry_h'] = 'P42167'"
   ]
  },
  {
   "cell_type": "markdown",
   "id": "23bc0321-30f6-4823-a192-6d7923ea4254",
   "metadata": {},
   "source": [
    "## Final cleanup"
   ]
  },
  {
   "cell_type": "code",
   "execution_count": 19,
   "id": "098ec242-bf5c-43cb-a435-d76e06626798",
   "metadata": {},
   "outputs": [],
   "source": [
    "df = df[['gene_name','entry_h', \n",
    "         'NE Enrich Score in U','NE Enrich Score in A', 'NE Enrich Score in M']]\n",
    "df = df[df.entry_h != 'Not_found']"
   ]
  },
  {
   "cell_type": "markdown",
   "id": "7f8a76c2-48fb-4daa-980d-249f74567c85",
   "metadata": {},
   "source": [
    "## Export"
   ]
  },
  {
   "cell_type": "code",
   "execution_count": 20,
   "id": "0dcdc8ff-0031-442b-90b1-8345d676a770",
   "metadata": {},
   "outputs": [],
   "source": [
    "df.to_csv('./Output/Cheng2019.csv', index=False)"
   ]
  },
  {
   "cell_type": "code",
   "execution_count": null,
   "id": "9ef433df-def5-4827-ae7a-231a5ef153bb",
   "metadata": {},
   "outputs": [],
   "source": []
  }
 ],
 "metadata": {
  "kernelspec": {
   "display_name": "py311",
   "language": "python",
   "name": "python3"
  },
  "language_info": {
   "codemirror_mode": {
    "name": "ipython",
    "version": 3
   },
   "file_extension": ".py",
   "mimetype": "text/x-python",
   "name": "python",
   "nbconvert_exporter": "python",
   "pygments_lexer": "ipython3",
   "version": "3.11.5"
  }
 },
 "nbformat": 4,
 "nbformat_minor": 5
}
