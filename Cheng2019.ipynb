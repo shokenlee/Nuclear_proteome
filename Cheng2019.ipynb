{
 "cells": [
  {
   "cell_type": "markdown",
   "id": "c8675dc8-21ea-4d92-86eb-d71a1b8b98e2",
   "metadata": {},
   "source": [
    "## Cheng et al. 2019\n",
    "### 243 proteins from mesenchymal cell line"
   ]
  },
  {
   "cell_type": "code",
   "execution_count": 1,
   "id": "903c07a6-3d41-49d7-bf66-2aca12863947",
   "metadata": {},
   "outputs": [],
   "source": [
    "import numpy as np\n",
    "import pandas as pd\n",
    "from time import sleep\n",
    "from modules.my_utils import get_url, find_duplicate\n",
    "import modules.my_config as my_config"
   ]
  },
  {
   "cell_type": "code",
   "execution_count": 13,
   "id": "56824043-312b-4114-bde6-5e3090629753",
   "metadata": {},
   "outputs": [
    {
     "name": "stderr",
     "output_type": "stream",
     "text": [
      "/Users/shokenlee/anaconda3/envs/py311/lib/python3.11/site-packages/openpyxl/worksheet/_read_only.py:85: UserWarning: Unknown extension is not supported and will be removed\n",
      "  for idx, row in parser.parse():\n",
      "/Users/shokenlee/anaconda3/envs/py311/lib/python3.11/site-packages/openpyxl/worksheet/_read_only.py:85: UserWarning: Conditional Formatting extension is not supported and will be removed\n",
      "  for idx, row in parser.parse():\n"
     ]
    }
   ],
   "source": [
    "df_Cheng2019 = pd.read_excel('./SourceData/Papers/Cheng2019/Supplementary Table S3_clustering & peptide seq.xlsx')"
   ]
  },
  {
   "cell_type": "code",
   "execution_count": 14,
   "id": "81f7e188",
   "metadata": {},
   "outputs": [
    {
     "name": "stdout",
     "output_type": "stream",
     "text": [
      "['Accession No.', 'Protein', 'Description', 'Known NE', 'TM region', 'Total SPC in U', 'Total SPC in A', 'Total SPC in M', 'NE Enrich Score in U', 'NE Enrich Score in A', 'NE Enrich Score in M', 'Cluster #']\n"
     ]
    }
   ],
   "source": [
    "# column names\n",
    "columns = df_Cheng2019.iloc[0, :].tolist()\n",
    "print(columns)\n",
    "# extract values\n",
    "df_Cheng2019 = df_Cheng2019.iloc[1:, :]\n",
    "# rename columns\n",
    "df_Cheng2019.columns = columns"
   ]
  },
  {
   "cell_type": "code",
   "execution_count": 15,
   "id": "b09f34ea-7294-48b1-8836-78f535505b28",
   "metadata": {},
   "outputs": [
    {
     "name": "stdout",
     "output_type": "stream",
     "text": [
      "Number of proteins in Cheng2019:  243\n"
     ]
    }
   ],
   "source": [
    "df_Cheng2019 = df_Cheng2019[['Accession No.', 'Protein', 'NE Enrich Score in U', 'NE Enrich Score in A', 'NE Enrich Score in M']]\n",
    "df_Cheng2019 = df_Cheng2019.rename({'Accession No.': 'Entry_Cheng2019'}, axis=1)\n",
    "print(\"Number of proteins in Cheng2019: \", df_Cheng2019.Entry_Cheng2019.nunique())"
   ]
  },
  {
   "cell_type": "markdown",
   "id": "9163d2be-42be-4f0a-8e37-8f841f2bd72b",
   "metadata": {},
   "source": [
    "### 1. Convert the mouse entries to humans"
   ]
  },
  {
   "cell_type": "code",
   "execution_count": 20,
   "id": "8fc34fc0-1566-4880-95aa-0585fbadbf15",
   "metadata": {
    "tags": []
   },
   "outputs": [
    {
     "name": "stdout",
     "output_type": "stream",
     "text": [
      "0 Q9CQU3 Rer1 O15258\n",
      "30 O35083 Agpat1 Q99943\n",
      "60 Q8R2Y3 Dolk Q9UPQ8\n",
      "Error in fetching Q8R3Y5 in index 73: list index out of range\n",
      "Error in fetching Q9CYI0 in index 74: list index out of range\n",
      "Error in fetching Q8C3W1 in index 76: list index out of range\n",
      "90 Q9JI99 Sgpp1 Q9BX95\n",
      "Error in fetching P06339 in index 116: list index out of range\n",
      "120 P70227 Itpr3 Q14573\n",
      "150 Q64435 Ugt1a6 P19224\n",
      "180 Q8K0C4 Cyp51a1 Q16850\n",
      "210 Q6GQT9 Nomo1 Q15155\n",
      "240 Q8C0L0 Tmx4 Q9H1E5\n"
     ]
    }
   ],
   "source": [
    "my_dict = {'entry_mr': [], 'gene_name': [], 'entry_h': []}\n",
    "\n",
    "for i, entry in enumerate(df_Cheng2019.Entry_Cheng2019.to_list()):\n",
    "    # default values \n",
    "    gene_name = 'Not_found'\n",
    "    entry_hs = 'Not_found' \n",
    "    \n",
    "    try:\n",
    "        # get the gene name for the entry\n",
    "        params = {\n",
    "        \"query\": f'accession:{entry}',\n",
    "        \"fields\": \"gene_names\",\n",
    "        \"format\": \"json\"\n",
    "        }\n",
    "        \n",
    "        r = get_url(my_config.WEBSITE_API, params=params)\n",
    "        gene_name = r.json()['results'][0].get('genes', [{}])[0].get('geneName', {}).get('value', 'Not_found')\n",
    "        sleep(1)   \n",
    "\n",
    "        # find human version of the entry and gene name\n",
    "        params = {\n",
    "        \"query\": f'gene:{gene_name} AND organism_id:{my_config.organism_id_list[\"Homo sapiens\"]}',\n",
    "        \"fields\": \"accession, gene_names\",\n",
    "        \"format\": \"json\"\n",
    "        }\n",
    "        \n",
    "        r2 = get_url(my_config.WEBSITE_API, params=params)\n",
    "        entry_hs = r2.json()['results'][0]['primaryAccession']\n",
    "        sleep(1)\n",
    "\n",
    "    except Exception as e:\n",
    "        print(f'Error in fetching {entry} in index {i}: {e}')\n",
    "    \n",
    "    my_dict['entry_mr'].append(entry)\n",
    "    my_dict['gene_name'].append(gene_name)\n",
    "    my_dict['entry_h'].append(entry_hs)\n",
    "    \n",
    "    # Log\n",
    "    if i % 30 == 0: print(i, entry, gene_name, entry_hs)"
   ]
  },
  {
   "cell_type": "code",
   "execution_count": 50,
   "id": "0631a709-44b7-408a-bddb-11bec7422c75",
   "metadata": {},
   "outputs": [],
   "source": [
    "_df = pd.DataFrame(my_dict)"
   ]
  },
  {
   "cell_type": "markdown",
   "id": "5104341b",
   "metadata": {},
   "source": [
    "### 2. Error checking and correction\n",
    "#### What proteins were not found?\n",
    "#### Manual checking with UniProt found gene names and IDs for the three entires below\n",
    "#### P06339 in index 116 seems to be specific to mouse. Keep it \"Not_found\""
   ]
  },
  {
   "cell_type": "code",
   "execution_count": 51,
   "id": "62dd616f",
   "metadata": {},
   "outputs": [],
   "source": [
    "_df.loc[73, 'gene_name'] = 'C19orf47'\n",
    "_df.loc[73, 'entry_h'] = 'Q8N9M1'\n",
    "_df.loc[74, 'gene_name'] = 'C17orf75'\n",
    "_df.loc[74, 'entry_h'] = 'Q9HAS0'\n",
    "_df.loc[76, 'gene_name'] = 'C1orf198'\n",
    "_df.loc[76, 'entry_h'] = 'Q9H425'"
   ]
  },
  {
   "cell_type": "code",
   "execution_count": 52,
   "id": "7c1f668f",
   "metadata": {},
   "outputs": [],
   "source": [
    "df = df_Cheng2019.merge(_df, left_on='Entry_Cheng2019', right_on='entry_mr', how='left')"
   ]
  },
  {
   "cell_type": "markdown",
   "id": "2a592320-1b11-4030-b3a1-23357c25dc64",
   "metadata": {},
   "source": [
    "#### Check the entries where the mouse protein name does not match the obtained gene name"
   ]
  },
  {
   "cell_type": "code",
   "execution_count": 54,
   "id": "835b69ce-c683-43f1-a7f2-95bf81267735",
   "metadata": {},
   "outputs": [
    {
     "data": {
      "application/vnd.microsoft.datawrangler.viewer.v0+json": {
       "columns": [
        {
         "name": "index",
         "rawType": "int64",
         "type": "integer"
        },
        {
         "name": "Protein",
         "rawType": "object",
         "type": "unknown"
        },
        {
         "name": "gene_name",
         "rawType": "object",
         "type": "string"
        },
        {
         "name": "entry_mr",
         "rawType": "object",
         "type": "string"
        },
        {
         "name": "entry_h",
         "rawType": "object",
         "type": "string"
        }
       ],
       "conversionMethod": "pd.DataFrame",
       "ref": "6879f4a4-c489-49a0-879f-78d7b7673e16",
       "rows": [
        [
         "49",
         "Ugt1a7c",
         "Ugt1a7",
         "Q6ZQM8",
         "Q9HAW7"
        ],
        [
         "72",
         null,
         "Cybc1",
         "Q3TYS2",
         "Q9BQA9"
        ],
        [
         "73",
         null,
         "C19orf47",
         "Q8R3Y5",
         "Q8N9M1"
        ],
        [
         "74",
         null,
         "C17orf75",
         "Q9CYI0",
         "Q9HAS0"
        ],
        [
         "75",
         null,
         "C7orf50",
         "Q9CXL3",
         "Q9BRJ6"
        ],
        [
         "76",
         null,
         "C1orf198",
         "Q8C3W1",
         "Q9H425"
        ],
        [
         "77",
         null,
         "RTRAF",
         "Q9CQE8",
         "Q9Y224"
        ],
        [
         "174",
         "42799",
         "Marchf5",
         "Q3KNM2",
         "Q9NX47"
        ]
       ],
       "shape": {
        "columns": 4,
        "rows": 8
       }
      },
      "text/html": [
       "<div>\n",
       "<style scoped>\n",
       "    .dataframe tbody tr th:only-of-type {\n",
       "        vertical-align: middle;\n",
       "    }\n",
       "\n",
       "    .dataframe tbody tr th {\n",
       "        vertical-align: top;\n",
       "    }\n",
       "\n",
       "    .dataframe thead th {\n",
       "        text-align: right;\n",
       "    }\n",
       "</style>\n",
       "<table border=\"1\" class=\"dataframe\">\n",
       "  <thead>\n",
       "    <tr style=\"text-align: right;\">\n",
       "      <th></th>\n",
       "      <th>Protein</th>\n",
       "      <th>gene_name</th>\n",
       "      <th>entry_mr</th>\n",
       "      <th>entry_h</th>\n",
       "    </tr>\n",
       "  </thead>\n",
       "  <tbody>\n",
       "    <tr>\n",
       "      <th>49</th>\n",
       "      <td>Ugt1a7c</td>\n",
       "      <td>Ugt1a7</td>\n",
       "      <td>Q6ZQM8</td>\n",
       "      <td>Q9HAW7</td>\n",
       "    </tr>\n",
       "    <tr>\n",
       "      <th>72</th>\n",
       "      <td>NaN</td>\n",
       "      <td>Cybc1</td>\n",
       "      <td>Q3TYS2</td>\n",
       "      <td>Q9BQA9</td>\n",
       "    </tr>\n",
       "    <tr>\n",
       "      <th>73</th>\n",
       "      <td>NaN</td>\n",
       "      <td>C19orf47</td>\n",
       "      <td>Q8R3Y5</td>\n",
       "      <td>Q8N9M1</td>\n",
       "    </tr>\n",
       "    <tr>\n",
       "      <th>74</th>\n",
       "      <td>NaN</td>\n",
       "      <td>C17orf75</td>\n",
       "      <td>Q9CYI0</td>\n",
       "      <td>Q9HAS0</td>\n",
       "    </tr>\n",
       "    <tr>\n",
       "      <th>75</th>\n",
       "      <td>NaN</td>\n",
       "      <td>C7orf50</td>\n",
       "      <td>Q9CXL3</td>\n",
       "      <td>Q9BRJ6</td>\n",
       "    </tr>\n",
       "    <tr>\n",
       "      <th>76</th>\n",
       "      <td>NaN</td>\n",
       "      <td>C1orf198</td>\n",
       "      <td>Q8C3W1</td>\n",
       "      <td>Q9H425</td>\n",
       "    </tr>\n",
       "    <tr>\n",
       "      <th>77</th>\n",
       "      <td>NaN</td>\n",
       "      <td>RTRAF</td>\n",
       "      <td>Q9CQE8</td>\n",
       "      <td>Q9Y224</td>\n",
       "    </tr>\n",
       "    <tr>\n",
       "      <th>174</th>\n",
       "      <td>42799</td>\n",
       "      <td>Marchf5</td>\n",
       "      <td>Q3KNM2</td>\n",
       "      <td>Q9NX47</td>\n",
       "    </tr>\n",
       "  </tbody>\n",
       "</table>\n",
       "</div>"
      ],
      "text/plain": [
       "     Protein gene_name entry_mr entry_h\n",
       "49   Ugt1a7c    Ugt1a7   Q6ZQM8  Q9HAW7\n",
       "72       NaN     Cybc1   Q3TYS2  Q9BQA9\n",
       "73       NaN  C19orf47   Q8R3Y5  Q8N9M1\n",
       "74       NaN  C17orf75   Q9CYI0  Q9HAS0\n",
       "75       NaN   C7orf50   Q9CXL3  Q9BRJ6\n",
       "76       NaN  C1orf198   Q8C3W1  Q9H425\n",
       "77       NaN     RTRAF   Q9CQE8  Q9Y224\n",
       "174    42799   Marchf5   Q3KNM2  Q9NX47"
      ]
     },
     "execution_count": 54,
     "metadata": {},
     "output_type": "execute_result"
    }
   ],
   "source": [
    "df['geneName_match'] = np.where((df.Protein == df.gene_name), 1, 0)\n",
    "df.loc[df.geneName_match == 0, ['Protein', 'gene_name', 'entry_mr', 'entry_h']]"
   ]
  },
  {
   "cell_type": "markdown",
   "id": "f5a06890-96ca-4da4-9c72-0b13612d0192",
   "metadata": {},
   "source": [
    "#### Ugt1a7 is the correct name for the protein in index 49 - so this is ok\n",
    "#### March5 was incorrectly translated to 42799 by MS Excel so that's also fine"
   ]
  },
  {
   "cell_type": "markdown",
   "id": "7bed591b-4f59-4145-b5e3-fe3716d9e885",
   "metadata": {},
   "source": [
    "#### Finally, check duplicated entries"
   ]
  },
  {
   "cell_type": "code",
   "execution_count": 28,
   "id": "cebd2bfd-00e6-4659-8227-4b019c82bbec",
   "metadata": {
    "tags": []
   },
   "outputs": [
    {
     "data": {
      "text/plain": [
       "['P42166']"
      ]
     },
     "execution_count": 28,
     "metadata": {},
     "output_type": "execute_result"
    }
   ],
   "source": [
    "find_duplicate(df.entry_h.to_list())"
   ]
  },
  {
   "cell_type": "code",
   "execution_count": 55,
   "id": "c845c7bd-2146-4166-8f28-75f0c4622ba1",
   "metadata": {
    "tags": []
   },
   "outputs": [
    {
     "data": {
      "application/vnd.microsoft.datawrangler.viewer.v0+json": {
       "columns": [
        {
         "name": "index",
         "rawType": "int64",
         "type": "integer"
        },
        {
         "name": "Entry_Cheng2019",
         "rawType": "object",
         "type": "string"
        },
        {
         "name": "Protein",
         "rawType": "object",
         "type": "string"
        },
        {
         "name": "gene_name",
         "rawType": "object",
         "type": "string"
        },
        {
         "name": "entry_h",
         "rawType": "object",
         "type": "string"
        }
       ],
       "conversionMethod": "pd.DataFrame",
       "ref": "b43168bb-4b25-4038-b40c-add3c5b74264",
       "rows": [
        [
         "187",
         "Q61029",
         "Tmpo",
         "Tmpo",
         "P42166"
        ],
        [
         "190",
         "Q61033",
         "Tmpo",
         "Tmpo",
         "P42166"
        ]
       ],
       "shape": {
        "columns": 4,
        "rows": 2
       }
      },
      "text/html": [
       "<div>\n",
       "<style scoped>\n",
       "    .dataframe tbody tr th:only-of-type {\n",
       "        vertical-align: middle;\n",
       "    }\n",
       "\n",
       "    .dataframe tbody tr th {\n",
       "        vertical-align: top;\n",
       "    }\n",
       "\n",
       "    .dataframe thead th {\n",
       "        text-align: right;\n",
       "    }\n",
       "</style>\n",
       "<table border=\"1\" class=\"dataframe\">\n",
       "  <thead>\n",
       "    <tr style=\"text-align: right;\">\n",
       "      <th></th>\n",
       "      <th>Entry_Cheng2019</th>\n",
       "      <th>Protein</th>\n",
       "      <th>gene_name</th>\n",
       "      <th>entry_h</th>\n",
       "    </tr>\n",
       "  </thead>\n",
       "  <tbody>\n",
       "    <tr>\n",
       "      <th>187</th>\n",
       "      <td>Q61029</td>\n",
       "      <td>Tmpo</td>\n",
       "      <td>Tmpo</td>\n",
       "      <td>P42166</td>\n",
       "    </tr>\n",
       "    <tr>\n",
       "      <th>190</th>\n",
       "      <td>Q61033</td>\n",
       "      <td>Tmpo</td>\n",
       "      <td>Tmpo</td>\n",
       "      <td>P42166</td>\n",
       "    </tr>\n",
       "  </tbody>\n",
       "</table>\n",
       "</div>"
      ],
      "text/plain": [
       "    Entry_Cheng2019 Protein gene_name entry_h\n",
       "187          Q61029    Tmpo      Tmpo  P42166\n",
       "190          Q61033    Tmpo      Tmpo  P42166"
      ]
     },
     "execution_count": 55,
     "metadata": {},
     "output_type": "execute_result"
    }
   ],
   "source": [
    "df.loc[df.entry_h == 'P42166', ['Entry_Cheng2019', 'Protein', 'gene_name', 'entry_h']]"
   ]
  },
  {
   "cell_type": "markdown",
   "id": "a837b868-75ec-4715-93f1-14e2ba710e46",
   "metadata": {},
   "source": [
    "#### Q61029 is Lap2b and Q61033 is Lap2a in mouse but have the same gene name Tmpo because they are isofroms\n",
    "#### In fact Human Lap2b is P42167 instead of P42166\n",
    "#### So Let's correct P42166 in row 187 to P42167"
   ]
  },
  {
   "cell_type": "code",
   "execution_count": 56,
   "id": "90eb5b08-e9bc-4a33-b469-4eeec7ff2801",
   "metadata": {
    "tags": []
   },
   "outputs": [],
   "source": [
    "df.loc[187, 'entry_h'] = 'P42167'"
   ]
  },
  {
   "cell_type": "markdown",
   "id": "23bc0321-30f6-4823-a192-6d7923ea4254",
   "metadata": {},
   "source": [
    "#### Final cleanup"
   ]
  },
  {
   "cell_type": "code",
   "execution_count": 57,
   "id": "098ec242-bf5c-43cb-a435-d76e06626798",
   "metadata": {},
   "outputs": [],
   "source": [
    "df = df[['gene_name','entry_h', \n",
    "         'NE Enrich Score in U','NE Enrich Score in A', 'NE Enrich Score in M']]\n",
    "df = df[df.entry_h != 'Not_found']"
   ]
  },
  {
   "cell_type": "code",
   "execution_count": 58,
   "id": "46d9fe7c",
   "metadata": {},
   "outputs": [
    {
     "name": "stdout",
     "output_type": "stream",
     "text": [
      "Number of proteins in Cheng2019:  242\n"
     ]
    }
   ],
   "source": [
    "print(\"Number of proteins in Cheng2019: \", df.entry_h.nunique())"
   ]
  },
  {
   "cell_type": "markdown",
   "id": "7f8a76c2-48fb-4daa-980d-249f74567c85",
   "metadata": {},
   "source": [
    "### 3. Export"
   ]
  },
  {
   "cell_type": "code",
   "execution_count": 59,
   "id": "0dcdc8ff-0031-442b-90b1-8345d676a770",
   "metadata": {},
   "outputs": [],
   "source": [
    "df.to_csv('./Output/Cheng2019.csv', index=False)"
   ]
  },
  {
   "cell_type": "code",
   "execution_count": null,
   "id": "9ef433df-def5-4827-ae7a-231a5ef153bb",
   "metadata": {},
   "outputs": [],
   "source": []
  }
 ],
 "metadata": {
  "kernelspec": {
   "display_name": "py311",
   "language": "python",
   "name": "python3"
  },
  "language_info": {
   "codemirror_mode": {
    "name": "ipython",
    "version": 3
   },
   "file_extension": ".py",
   "mimetype": "text/x-python",
   "name": "python",
   "nbconvert_exporter": "python",
   "pygments_lexer": "ipython3",
   "version": "3.11.5"
  }
 },
 "nbformat": 4,
 "nbformat_minor": 5
}
