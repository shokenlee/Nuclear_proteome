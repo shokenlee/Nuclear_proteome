{
 "cells": [
  {
   "cell_type": "code",
   "execution_count": 25,
   "id": "2262e0cb-8ad8-493b-a2f3-ae939fa8f4a2",
   "metadata": {},
   "outputs": [],
   "source": [
    "import PyPDF2, re"
   ]
  },
  {
   "cell_type": "code",
   "execution_count": 2,
   "id": "163eaf98-b8be-4a6b-bfcb-e94d5248b2b4",
   "metadata": {},
   "outputs": [],
   "source": [
    "directory = './SourceData/Papers/Schirmer2003/'"
   ]
  },
  {
   "cell_type": "code",
   "execution_count": 3,
   "id": "cd03e00b-5f6e-4958-8ad4-a8d61bd79d94",
   "metadata": {},
   "outputs": [],
   "source": [
    "filename = 'schirmer.som.table_S8.pdf'"
   ]
  },
  {
   "cell_type": "code",
   "execution_count": 4,
   "id": "daf8adf9-760c-47b8-8b62-16e811c4f771",
   "metadata": {},
   "outputs": [],
   "source": [
    "pdf = open(directory + filename, 'rb')"
   ]
  },
  {
   "cell_type": "code",
   "execution_count": 5,
   "id": "33865a01-e88c-4351-8808-be5832a5550d",
   "metadata": {},
   "outputs": [],
   "source": [
    "pdf_reader = PyPDF2.PdfFileReader(pdf)"
   ]
  },
  {
   "cell_type": "code",
   "execution_count": 6,
   "id": "b104778d-d27b-4bc2-bb9e-4185e4cfe2e5",
   "metadata": {},
   "outputs": [
    {
     "data": {
      "text/plain": [
       "15"
      ]
     },
     "execution_count": 6,
     "metadata": {},
     "output_type": "execute_result"
    }
   ],
   "source": [
    "pdf_reader.numPages"
   ]
  },
  {
   "cell_type": "code",
   "execution_count": 18,
   "id": "ce3af57d-982f-434e-a634-6aa837256f2f",
   "metadata": {},
   "outputs": [],
   "source": [
    "whole_txt = ''\n",
    "for page_num in range(pdf_reader.numPages):\n",
    "    pdf_page = pdf_reader.getPage(page_num)\n",
    "    pdf_page_txt = pdf_page.extractText()\n",
    "    whole_txt += pdf_page_txt"
   ]
  },
  {
   "cell_type": "code",
   "execution_count": 19,
   "id": "05ba8eef-2b70-4083-a9fa-7f3cd8a5f868",
   "metadata": {},
   "outputs": [],
   "source": [
    "whole_list = whole_txt.replace('\\n', '').split('>gi')"
   ]
  },
  {
   "cell_type": "code",
   "execution_count": 20,
   "id": "b4442485-951b-4349-b686-a4872b37579c",
   "metadata": {},
   "outputs": [
    {
     "data": {
      "text/plain": [
       "110"
      ]
     },
     "execution_count": 20,
     "metadata": {},
     "output_type": "execute_result"
    }
   ],
   "source": [
    "len(whole_list)"
   ]
  },
  {
   "cell_type": "code",
   "execution_count": 55,
   "id": "dea63d44-0445-42f1-b4a3-32e2a31b5fe4",
   "metadata": {},
   "outputs": [
    {
     "data": {
      "text/plain": [
       "'|27665302|ref|XP_221266.1| similar to RIKEN cDNA 4122402O22 [Mus musculus] [Rattus norvegicus]MAFPHLQQPSFLLASLKADSINKPFAQRCQDLVKVIEDFPAKELHAIFPWLVESIFGSLDGVLVGWNLRCLQGRVNPVEYSIAMEFLDPSGPMMKLVYKLQAEDYNFDFPVSCLPGPVKASIQENVLPDSPLYHNKVQFPPTGGLGLNLALNPFEYYMFYFALSLISQKPMPMSFHVRTSDCAYFILVDRYLSWFLPTEGSVPPPLCSSPGGSSPSPAPRTPAMPFASYGLHTSLLKRHISHQTSVNADPASHEIWRSETLLQVFVEMWLHHYSLEMYQKMQSPHAKLEVLHYRLNVSSALHSPAQPSLQALHAYQSCHQPEGCSRITDTDSLRAFRLSPPGELSHSQSPSEAMRASGDLVEIVACLSRSDQCVNRSEESFMPTEEHVLVVRLLLKHLHAFANSLKPDQASPSAHSHATSPLEEFKRAAVPRFVQQKLYVFLQHCFGHWPLDASFRAVLEMWLSYLQPWRYAPEKQAQGSDSQPRCVSERWAPFIQENLLMYTKLFVSFLNRALRTDLVSPKNALMVFRVAKVFAQPNLTEMIQKGEQLFLEPELIIPHRQHRLFTATSSFLSPWPPVVTDASFKVKSHVYSLEGQDCKYTPMFGPEVRTLVLRLAQLITQAKQTAKSISDQCVESPTGRSFLSWLGFGSTDTNSWYPANDPDEMGQDSIRKTDEYLEKALEYLRQIFRLSEAQLAQLTLALGNARDENGKQQLPDCIVGEEGLILTPLGRYQIINGLRRFEIEYQGDLELQPIRSYEITSLVRALFRLSSAINRRCAGQMAALCSRNDFLGSFCRYHLTEPALSNRHLLSPVGRRQVTTPARGPRLSLRFLGSYRTLLLLLMAFFVASLFCIGPLPCSLLLVLGYILYAIAMTLLTERGKLHQL'"
      ]
     },
     "execution_count": 55,
     "metadata": {},
     "output_type": "execute_result"
    }
   ],
   "source": [
    "gene = whole_list[100]\n",
    "gene"
   ]
  },
  {
   "cell_type": "code",
   "execution_count": 77,
   "id": "e5394269-cf1e-45e1-9bf1-f402402257bd",
   "metadata": {},
   "outputs": [],
   "source": [
    "regex = re.compile(r'(XP)\\S+\\|')"
   ]
  },
  {
   "cell_type": "code",
   "execution_count": 69,
   "id": "2bca1a32-b4b6-4acb-aa42-fea7bfe570e4",
   "metadata": {},
   "outputs": [],
   "source": [
    "mo = regex.search(gene)"
   ]
  },
  {
   "cell_type": "code",
   "execution_count": 58,
   "id": "1ddd4cf4-aa9d-4d3c-b635-3b0c8a0e8139",
   "metadata": {},
   "outputs": [
    {
     "data": {
      "text/plain": [
       "'XP_221266.1|'"
      ]
     },
     "execution_count": 58,
     "metadata": {},
     "output_type": "execute_result"
    }
   ],
   "source": [
    "mo.group()"
   ]
  },
  {
   "cell_type": "code",
   "execution_count": 78,
   "id": "db27c3df-e3c0-4cd5-8532-d57bc60d26ba",
   "metadata": {},
   "outputs": [],
   "source": [
    "mo1 = regex.findall(whole_txt)"
   ]
  },
  {
   "cell_type": "code",
   "execution_count": 79,
   "id": "ee126d60-4de9-489a-98ac-a0f7eaa34564",
   "metadata": {},
   "outputs": [
    {
     "data": {
      "text/plain": [
       "62"
      ]
     },
     "execution_count": 79,
     "metadata": {},
     "output_type": "execute_result"
    }
   ],
   "source": [
    "len(mo1)"
   ]
  },
  {
   "cell_type": "code",
   "execution_count": 80,
   "id": "5419875c-4324-4144-a4f1-330e38972b28",
   "metadata": {},
   "outputs": [
    {
     "data": {
      "text/plain": [
       "['XP', 'XP', 'XP', 'XP', 'XP', 'XP', 'XP', 'XP', 'XP', 'XP']"
      ]
     },
     "execution_count": 80,
     "metadata": {},
     "output_type": "execute_result"
    }
   ],
   "source": [
    "mo1[:10]"
   ]
  },
  {
   "cell_type": "code",
   "execution_count": 63,
   "id": "030fcd0f-f5cc-4623-a563-b356fefc7959",
   "metadata": {},
   "outputs": [
    {
     "data": {
      "text/plain": [
       "('NP',)"
      ]
     },
     "execution_count": 63,
     "metadata": {},
     "output_type": "execute_result"
    }
   ],
   "source": [
    "mo1.groups()"
   ]
  },
  {
   "cell_type": "code",
   "execution_count": null,
   "id": "252aacc7-75b0-4469-845d-c992afaa67b5",
   "metadata": {},
   "outputs": [],
   "source": []
  }
 ],
 "metadata": {
  "kernelspec": {
   "display_name": "Python 3",
   "language": "python",
   "name": "python3"
  },
  "language_info": {
   "codemirror_mode": {
    "name": "ipython",
    "version": 3
   },
   "file_extension": ".py",
   "mimetype": "text/x-python",
   "name": "python",
   "nbconvert_exporter": "python",
   "pygments_lexer": "ipython3",
   "version": "3.8.8"
  }
 },
 "nbformat": 4,
 "nbformat_minor": 5
}
