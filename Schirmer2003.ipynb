{
 "cells": [
  {
   "cell_type": "code",
   "execution_count": 18,
   "id": "2262e0cb-8ad8-493b-a2f3-ae939fa8f4a2",
   "metadata": {},
   "outputs": [],
   "source": [
    "import PyPDF2, re, os\n",
    "import pandas as pd"
   ]
  },
  {
   "cell_type": "markdown",
   "id": "1feb16b1-bd31-4015-a528-78d4f1d84851",
   "metadata": {},
   "source": [
    "### 1. Import the orginal data file PDF"
   ]
  },
  {
   "cell_type": "code",
   "execution_count": 2,
   "id": "4be0b4b7-95cc-4695-b637-17356c83c222",
   "metadata": {},
   "outputs": [],
   "source": [
    "directory = './SourceData/Papers/Schirmer2003/'\n",
    "filename = 'schirmer.som.table_S8.pdf'\n",
    "pdf = open(directory + filename, 'rb')"
   ]
  },
  {
   "cell_type": "markdown",
   "id": "a553232e-db34-4f8c-9b2f-57f8287621de",
   "metadata": {},
   "source": [
    "### 2. Read the pdf and extract the whole text"
   ]
  },
  {
   "cell_type": "code",
   "execution_count": 3,
   "id": "b681240a-38dd-450f-80ff-29525e0b2cef",
   "metadata": {},
   "outputs": [
    {
     "data": {
      "text/plain": [
       "15"
      ]
     },
     "execution_count": 3,
     "metadata": {},
     "output_type": "execute_result"
    }
   ],
   "source": [
    "pdf_reader = PyPDF2.PdfFileReader(pdf)\n",
    "pdf_reader.numPages"
   ]
  },
  {
   "cell_type": "code",
   "execution_count": 4,
   "id": "ce3af57d-982f-434e-a634-6aa837256f2f",
   "metadata": {},
   "outputs": [],
   "source": [
    "whole_txt = ''\n",
    "for page_num in range(pdf_reader.numPages):\n",
    "    pdf_page = pdf_reader.getPage(page_num)\n",
    "    pdf_page_txt = pdf_page.extractText()\n",
    "    whole_txt += pdf_page_txt"
   ]
  },
  {
   "cell_type": "markdown",
   "id": "3f377fb5-76d6-4703-afda-17739163b2bd",
   "metadata": {},
   "source": [
    "### 3. Extract NCBI IDs by regex"
   ]
  },
  {
   "cell_type": "code",
   "execution_count": 13,
   "id": "01350b4a-3fbc-4715-8074-83c83ffffc9b",
   "metadata": {},
   "outputs": [],
   "source": [
    "# put ref| as a marker of where id is\n",
    "# Either NP or XP is used\n",
    "# version number e.g. \".1\" can be absent by putting ?\n",
    "\n",
    "# this is the intitial regex that inculdes the version number\n",
    "# but realized that inclusion of the version number could hamper ID conversion to Uniprot ID\n",
    "# regex = re.compile(r'(ref\\|)(NP_\\d+\\.?\\d?|XP_\\d+\\.?\\d?)')\n",
    "\n",
    "# therefore instead extracted only the main body without the version number\n",
    "regex = re.compile(r'(ref\\|)(NP_\\d+|XP_\\d+)')"
   ]
  },
  {
   "cell_type": "code",
   "execution_count": 14,
   "id": "f87dfae9-c8ce-4cec-a453-0d34afa8af05",
   "metadata": {},
   "outputs": [],
   "source": [
    "# Using regex, extract the IDs from the text and put them to a list\n",
    "ncbi_id_list = []\n",
    "for groups in regex.findall(whole_txt):\n",
    "    ncbi_id = groups[1]\n",
    "    ncbi_id_list.append(ncbi_id)"
   ]
  },
  {
   "cell_type": "code",
   "execution_count": 15,
   "id": "508bf2c1-8285-4c6f-9a76-d746efe7b1fb",
   "metadata": {},
   "outputs": [
    {
     "data": {
      "text/plain": [
       "109"
      ]
     },
     "execution_count": 15,
     "metadata": {},
     "output_type": "execute_result"
    }
   ],
   "source": [
    "len(ncbi_id_list)"
   ]
  },
  {
   "cell_type": "code",
   "execution_count": 8,
   "id": "05ba8eef-2b70-4083-a9fa-7f3cd8a5f868",
   "metadata": {},
   "outputs": [
    {
     "data": {
      "text/plain": [
       "110"
      ]
     },
     "execution_count": 8,
     "metadata": {},
     "output_type": "execute_result"
    }
   ],
   "source": [
    "# below to make sure the number of ids is correct\n",
    "# split the text to each gene desription using \">gi\" as a sign\n",
    "whole_list = whole_txt.replace('\\n', '').split('>gi')\n",
    "len(whole_list)"
   ]
  },
  {
   "cell_type": "code",
   "execution_count": 9,
   "id": "5b92b09b-edc1-44cf-8535-629e0d8f4f48",
   "metadata": {},
   "outputs": [
    {
     "data": {
      "text/plain": [
       "['Table S8. Amino acid sequences of the putative nuclear transmembrane proteins in fasta format',\n",
       " '|7661996|ref|NP_055688.1| KIAA0205 gene product [Homo sapiens]MAITLEEAPWLGWLLVKALMRFAFMVVNNLVAIPSYICYVIILQPLRVLDSKRFWYIEGIMYKWLLGMVASWGWYAGYTVMEWGEDIKAVSKDEAVMLVNHQATGDVCTLMMCLQDKGLVVAQMMWLMDHIFKYTNFGIVSLVHGDFFIRQGRSYRDQQLLLLKKHLENNYRSRDRKWIVLFPEGGFLRKRRETSQAFAKKNNLPFLTNVTLPRSGATKIILNALVAQQKNGSPAGGDAKELDSKSKGLQWIIDTTIAYPKAEPIDIQTWILGYRKPTVTHVHYRIFPIKDVPLETDDLTTWLYQRFVEKEDLLSHFYETGAFPPSKGHKEAVSREMTLSNLWIFLIQSFAFLSGYMWYNIIQYFYHCLF']"
      ]
     },
     "execution_count": 9,
     "metadata": {},
     "output_type": "execute_result"
    }
   ],
   "source": [
    "whole_list[:2]"
   ]
  },
  {
   "cell_type": "markdown",
   "id": "7aa7449d-47db-4c21-8380-cac7a1a8c0ac",
   "metadata": {},
   "source": [
    "### 4. Translate the NCBI list to Uniprot ID and export the final list"
   ]
  },
  {
   "cell_type": "code",
   "execution_count": 17,
   "id": "b71d4fc2-2ab4-4041-8cf2-a307fef0c7e8",
   "metadata": {},
   "outputs": [
    {
     "data": {
      "text/plain": [
       "'NP_055688 NP_056473 NP_057086 NP_060531 NP_060557 NP_659471 NP_060221 XP_087089 NP_061900 XP_298567 NP_057688 NP_061891 XP_166338 NP_116231 XP_291222 NP_116117 NP_775961 NP_056348 NP_775857 NP_060634 NP_009107 XP_027330 NP_056158 NP_060640 XP_292696 NP_067038 XP_129726 XP_129627 XP_129651 NP_766431 XP_130243 XP_130605 NP_694766 XP_131120 XP_131247 XP_283952 XP_149561 NP_064382 NP_082631 NP_081113 NP_083003 NP_067278 XP_110572 NP_705798 NP_084313 XP_194313 XP_285910 NP_620096 XP_163618 NP_080922 XP_150109 NP_705820 NP_080950 XP_125636 XP_137321 XP_125972 NP_080293 NP_081625 NP_067421 NP_766088 XP_127498 NP_079663 NP_083179 NP_666167 XP_127968 XP_128377 NP_084221 NP_666084 XP_128762 NP_080446 NP_666187 XP_128954 NP_659110 XP_129087 NP_663471 NP_766428 XP_219484 XP_226713 XP_226886 XP_227591 XP_230334 XP_230798 XP_231194 XP_231568 XP_232987 XP_233684 XP_233702 XP_233726 XP_234304 XP_216756 XP_234559 XP_234768 XP_234929 XP_235233 XP_235527 XP_243957 XP_213272 XP_213339 XP_221193 XP_221266 XP_221669 XP_213738 XP_222761 XP_223077 XP_224299 XP_224332 XP_214598 XP_226578 XP_228902'"
      ]
     },
     "execution_count": 17,
     "metadata": {},
     "output_type": "execute_result"
    }
   ],
   "source": [
    "' '.join(ncbi_id_list)"
   ]
  },
  {
   "cell_type": "markdown",
   "id": "d2a86ba1-5620-4868-840e-5683ca0f3265",
   "metadata": {},
   "source": [
    "#### Copied above and coverted them to Uniprot ID on Retrieve/ID mapping (3/20/22)\n",
    "#### Obtained mapped and unmapped IDs, each of which saved as a XLSX or CSV"
   ]
  },
  {
   "cell_type": "code",
   "execution_count": 22,
   "id": "a79ddf76-0055-4ada-aa12-404838e90f7b",
   "metadata": {},
   "outputs": [],
   "source": [
    "df_mapped = pd.read_excel('./SourceData/Papers/Schirmer2003/Mapped.xlsx')\n",
    "df_unmapped = pd.read_csv('./SourceData/Papers/Schirmer2003/Unmapped.csv')"
   ]
  },
  {
   "cell_type": "code",
   "execution_count": 23,
   "id": "b451460d-288e-48d5-bbbb-623079ae3e23",
   "metadata": {
    "tags": []
   },
   "outputs": [
    {
     "name": "stdout",
     "output_type": "stream",
     "text": [
      "<class 'pandas.core.frame.DataFrame'>\n",
      "RangeIndex: 62 entries, 0 to 61\n",
      "Data columns (total 7 columns):\n",
      " #   Column                                                     Non-Null Count  Dtype \n",
      "---  ------                                                     --------------  ----- \n",
      " 0   yourlist:M202203204ABAA9BC7178C81CEBC9459510EDDEA346CE44X  62 non-null     object\n",
      " 1   isomap:M202203204ABAA9BC7178C81CEBC9459510EDDEA346CE44X    19 non-null     object\n",
      " 2   Entry                                                      62 non-null     object\n",
      " 3   Entry name                                                 62 non-null     object\n",
      " 4   Protein names                                              62 non-null     object\n",
      " 5   Gene names                                                 58 non-null     object\n",
      " 6   Organism                                                   62 non-null     object\n",
      "dtypes: object(7)\n",
      "memory usage: 3.5+ KB\n"
     ]
    }
   ],
   "source": [
    "df_mapped.info()"
   ]
  },
  {
   "cell_type": "code",
   "execution_count": 24,
   "id": "6fed0df5-7f14-4de9-b3ff-7ed32dbd8636",
   "metadata": {
    "collapsed": true,
    "jupyter": {
     "outputs_hidden": true
    },
    "tags": []
   },
   "outputs": [
    {
     "name": "stdout",
     "output_type": "stream",
     "text": [
      "<class 'pandas.core.frame.DataFrame'>\n",
      "RangeIndex: 61 entries, 0 to 60\n",
      "Data columns (total 1 columns):\n",
      " #   Column      Non-Null Count  Dtype \n",
      "---  ------      --------------  ----- \n",
      " 0   not mapped  61 non-null     object\n",
      "dtypes: object(1)\n",
      "memory usage: 616.0+ bytes\n"
     ]
    }
   ],
   "source": [
    "df_unmapped.info()"
   ]
  },
  {
   "cell_type": "code",
   "execution_count": 28,
   "id": "4491aa44-307d-412a-8219-ecf1a50ab6ad",
   "metadata": {},
   "outputs": [
    {
     "data": {
      "text/plain": [
       "['XP_166338',\n",
       " 'XP_291222',\n",
       " 'XP_027330',\n",
       " 'XP_292696',\n",
       " 'XP_129726',\n",
       " 'XP_129627',\n",
       " 'XP_129651',\n",
       " 'XP_130243']"
      ]
     },
     "execution_count": 28,
     "metadata": {},
     "output_type": "execute_result"
    }
   ],
   "source": [
    "unmapped_ncbi_ids = list(df_unmapped['not mapped'])\n",
    "unmapped_ncbi_ids[2:10]"
   ]
  },
  {
   "cell_type": "markdown",
   "id": "b5fd2f44-5d30-4f5f-aed1-0d5eb160ad56",
   "metadata": {},
   "source": [
    "#### Quick random check of unmapped IDs on NCBI DB revealed all of examined IDs were 'obsolete' (3/20/22)\n",
    "#### Thus for now it seems unproductive to further look into this list\n",
    "#### This could mean the NE proteins found here ends up with far less than 67 as proposed by the paper\n",
    "#### After all it has been 19 years since then...."
   ]
  },
  {
   "cell_type": "markdown",
   "id": "27c497a3-9c93-4d84-9256-06d07f84eeb5",
   "metadata": {},
   "source": [
    "#### Let us shift gears and focus on mapped IDs"
   ]
  },
  {
   "cell_type": "code",
   "execution_count": 43,
   "id": "c54e2e4e-4816-421a-acdb-3965c678d0a0",
   "metadata": {},
   "outputs": [],
   "source": [
    "# drop the unnecessary column\n",
    "df_mapped = df_mapped.drop(['isomap:M202203204ABAA9BC7178C81CEBC9459510EDDEA346CE44X'], axis=1)"
   ]
  },
  {
   "cell_type": "code",
   "execution_count": 44,
   "id": "c5edb2ef-4e4d-43e0-92d4-69e0a1595cc6",
   "metadata": {},
   "outputs": [],
   "source": [
    "# rename to NCBI ID\n",
    "df_mapped = df_mapped.rename(columns={'yourlist:M202203204ABAA9BC7178C81CEBC9459510EDDEA346CE44X': 'NCBI ID'})"
   ]
  },
  {
   "cell_type": "code",
   "execution_count": 45,
   "id": "5ecd542f-802d-4479-b7cb-ff1c740ba6a6",
   "metadata": {},
   "outputs": [],
   "source": [
    "# remove duplicate\n",
    "# Entry or Uniprot ID turns out to have no duplicate\n",
    "# df_mapped_unique = df_mapped.drop_duplicates(subset=['Entry'])\n",
    "df_mapped_unique = df_mapped.drop_duplicates(subset=['Protein names'])"
   ]
  },
  {
   "cell_type": "code",
   "execution_count": 46,
   "id": "ae22b769-2516-46af-a9fd-15413ef6cace",
   "metadata": {},
   "outputs": [
    {
     "name": "stdout",
     "output_type": "stream",
     "text": [
      "<class 'pandas.core.frame.DataFrame'>\n",
      "Int64Index: 56 entries, 0 to 61\n",
      "Data columns (total 6 columns):\n",
      " #   Column         Non-Null Count  Dtype \n",
      "---  ------         --------------  ----- \n",
      " 0   NCBI ID        56 non-null     object\n",
      " 1   Entry          56 non-null     object\n",
      " 2   Entry name     56 non-null     object\n",
      " 3   Protein names  56 non-null     object\n",
      " 4   Gene names     53 non-null     object\n",
      " 5   Organism       56 non-null     object\n",
      "dtypes: object(6)\n",
      "memory usage: 3.1+ KB\n"
     ]
    }
   ],
   "source": [
    "df_mapped_unique.info()"
   ]
  },
  {
   "cell_type": "code",
   "execution_count": 47,
   "id": "b2f8b3d9-3f63-4983-a2c7-5a3f556c67d7",
   "metadata": {},
   "outputs": [
    {
     "data": {
      "text/html": [
       "<div>\n",
       "<style scoped>\n",
       "    .dataframe tbody tr th:only-of-type {\n",
       "        vertical-align: middle;\n",
       "    }\n",
       "\n",
       "    .dataframe tbody tr th {\n",
       "        vertical-align: top;\n",
       "    }\n",
       "\n",
       "    .dataframe thead th {\n",
       "        text-align: right;\n",
       "    }\n",
       "</style>\n",
       "<table border=\"1\" class=\"dataframe\">\n",
       "  <thead>\n",
       "    <tr style=\"text-align: right;\">\n",
       "      <th></th>\n",
       "      <th>NCBI ID</th>\n",
       "      <th>Entry</th>\n",
       "      <th>Entry name</th>\n",
       "      <th>Protein names</th>\n",
       "      <th>Gene names</th>\n",
       "      <th>Organism</th>\n",
       "    </tr>\n",
       "  </thead>\n",
       "  <tbody>\n",
       "    <tr>\n",
       "      <th>0</th>\n",
       "      <td>NP_055688</td>\n",
       "      <td>Q92604</td>\n",
       "      <td>LGAT1_HUMAN</td>\n",
       "      <td>Acyl-CoA:lysophosphatidylglycerol acyltransfer...</td>\n",
       "      <td>LPGAT1 FAM34A KIAA0205</td>\n",
       "      <td>Homo sapiens (Human)</td>\n",
       "    </tr>\n",
       "    <tr>\n",
       "      <th>1</th>\n",
       "      <td>NP_056473</td>\n",
       "      <td>Q9Y3T9</td>\n",
       "      <td>NOC2L_HUMAN</td>\n",
       "      <td>Nucleolar complex protein 2 homolog (Protein N...</td>\n",
       "      <td>NOC2L NIR</td>\n",
       "      <td>Homo sapiens (Human)</td>\n",
       "    </tr>\n",
       "    <tr>\n",
       "      <th>2</th>\n",
       "      <td>NP_057086</td>\n",
       "      <td>Q8NBX0</td>\n",
       "      <td>SCPDL_HUMAN</td>\n",
       "      <td>Saccharopine dehydrogenase-like oxidoreductase...</td>\n",
       "      <td>SCCPDH CGI-49</td>\n",
       "      <td>Homo sapiens (Human)</td>\n",
       "    </tr>\n",
       "    <tr>\n",
       "      <th>3</th>\n",
       "      <td>NP_057086</td>\n",
       "      <td>A0A384NPM7</td>\n",
       "      <td>A0A384NPM7_HUMAN</td>\n",
       "      <td>Epididymis secretory sperm binding protein (Sa...</td>\n",
       "      <td>SCCPDH hCG_1782151</td>\n",
       "      <td>Homo sapiens (Human)</td>\n",
       "    </tr>\n",
       "    <tr>\n",
       "      <th>4</th>\n",
       "      <td>NP_060531</td>\n",
       "      <td>Q5VTL8</td>\n",
       "      <td>PR38B_HUMAN</td>\n",
       "      <td>Pre-mRNA-splicing factor 38B (Sarcoma antigen ...</td>\n",
       "      <td>PRPF38B</td>\n",
       "      <td>Homo sapiens (Human)</td>\n",
       "    </tr>\n",
       "  </tbody>\n",
       "</table>\n",
       "</div>"
      ],
      "text/plain": [
       "     NCBI ID       Entry        Entry name  \\\n",
       "0  NP_055688      Q92604       LGAT1_HUMAN   \n",
       "1  NP_056473      Q9Y3T9       NOC2L_HUMAN   \n",
       "2  NP_057086      Q8NBX0       SCPDL_HUMAN   \n",
       "3  NP_057086  A0A384NPM7  A0A384NPM7_HUMAN   \n",
       "4  NP_060531      Q5VTL8       PR38B_HUMAN   \n",
       "\n",
       "                                       Protein names              Gene names  \\\n",
       "0  Acyl-CoA:lysophosphatidylglycerol acyltransfer...  LPGAT1 FAM34A KIAA0205   \n",
       "1  Nucleolar complex protein 2 homolog (Protein N...               NOC2L NIR   \n",
       "2  Saccharopine dehydrogenase-like oxidoreductase...           SCCPDH CGI-49   \n",
       "3  Epididymis secretory sperm binding protein (Sa...      SCCPDH hCG_1782151   \n",
       "4  Pre-mRNA-splicing factor 38B (Sarcoma antigen ...                 PRPF38B   \n",
       "\n",
       "               Organism  \n",
       "0  Homo sapiens (Human)  \n",
       "1  Homo sapiens (Human)  \n",
       "2  Homo sapiens (Human)  \n",
       "3  Homo sapiens (Human)  \n",
       "4  Homo sapiens (Human)  "
      ]
     },
     "execution_count": 47,
     "metadata": {},
     "output_type": "execute_result"
    }
   ],
   "source": [
    "df_mapped_unique.head()"
   ]
  },
  {
   "cell_type": "markdown",
   "id": "fdd4cde9-69c9-4c76-b659-252b034bf1c7",
   "metadata": {},
   "source": [
    "#### Export"
   ]
  },
  {
   "cell_type": "code",
   "execution_count": 48,
   "id": "68402421-0737-4865-aa8a-b4bc41ce9c1a",
   "metadata": {},
   "outputs": [],
   "source": [
    "df_mapped_unique.to_csv('./SourceData/Papers/Schirmer2003/Output.csv', index=False)"
   ]
  }
 ],
 "metadata": {
  "kernelspec": {
   "display_name": "Python 3",
   "language": "python",
   "name": "python3"
  },
  "language_info": {
   "codemirror_mode": {
    "name": "ipython",
    "version": 3
   },
   "file_extension": ".py",
   "mimetype": "text/x-python",
   "name": "python",
   "nbconvert_exporter": "python",
   "pygments_lexer": "ipython3",
   "version": "3.8.8"
  }
 },
 "nbformat": 4,
 "nbformat_minor": 5
}
