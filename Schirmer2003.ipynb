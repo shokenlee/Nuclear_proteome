{
 "cells": [
  {
   "cell_type": "markdown",
   "id": "d2ae3dee-bafc-43a4-8524-8c812cb1e4d2",
   "metadata": {},
   "source": [
    "## Schirmer et al. 2003\n",
    "### Mouse liver"
   ]
  },
  {
   "cell_type": "code",
   "execution_count": null,
   "id": "2262e0cb-8ad8-493b-a2f3-ae939fa8f4a2",
   "metadata": {},
   "outputs": [],
   "source": [
    "import PyPDF2, re, os, random\n",
    "import pandas as pd\n",
    "from time import sleep\n",
    "from modules.my_utils import get_url, find_duplicate\n",
    "import modules.my_config as my_config\n",
    "from modules import idmapping"
   ]
  },
  {
   "cell_type": "markdown",
   "id": "1feb16b1-bd31-4015-a528-78d4f1d84851",
   "metadata": {},
   "source": [
    "### 1. Import the orginal data file PDF"
   ]
  },
  {
   "cell_type": "code",
   "execution_count": 20,
   "id": "4be0b4b7-95cc-4695-b637-17356c83c222",
   "metadata": {},
   "outputs": [],
   "source": [
    "directory = './SourceData/Papers/Schirmer2003/'\n",
    "filename = 'schirmer.som.table_S8.pdf'\n",
    "path = os.path.join(directory, filename)\n",
    "if os.path.exists(path):\n",
    "    pdf = open(directory + filename, 'rb')\n",
    "else:\n",
    "    print(\"Path is wrong\")"
   ]
  },
  {
   "cell_type": "markdown",
   "id": "a553232e-db34-4f8c-9b2f-57f8287621de",
   "metadata": {},
   "source": [
    "### 2. Read the pdf and extract the whole text"
   ]
  },
  {
   "cell_type": "code",
   "execution_count": 21,
   "id": "b681240a-38dd-450f-80ff-29525e0b2cef",
   "metadata": {},
   "outputs": [
    {
     "name": "stdout",
     "output_type": "stream",
     "text": [
      "15\n"
     ]
    }
   ],
   "source": [
    "pdf_reader = PyPDF2.PdfReader(pdf)\n",
    "print(len(pdf_reader.pages))"
   ]
  },
  {
   "cell_type": "code",
   "execution_count": 22,
   "id": "ce3af57d-982f-434e-a634-6aa837256f2f",
   "metadata": {},
   "outputs": [],
   "source": [
    "whole_txt = ''\n",
    "for page_num in range(len(pdf_reader.pages)):\n",
    "    pdf_page = pdf_reader.pages[page_num]\n",
    "    pdf_page_txt = pdf_page.extract_text()\n",
    "    whole_txt += pdf_page_txt"
   ]
  },
  {
   "cell_type": "markdown",
   "id": "3f377fb5-76d6-4703-afda-17739163b2bd",
   "metadata": {},
   "source": [
    "### 3. Extract NCBI IDs by regex"
   ]
  },
  {
   "cell_type": "code",
   "execution_count": 23,
   "id": "299944e6-5ca9-45f9-ba61-5c6454b2cac4",
   "metadata": {},
   "outputs": [],
   "source": [
    "# put ref| as a marker of where id is\n",
    "# Either NP or XP is used\n",
    "# version number e.g. \".1\" can be absent by putting ?\n",
    "\n",
    "# this is the intitial regex that inculdes the version number\n",
    "# but realized that inclusion of the version number could hamper ID conversion to Uniprot ID\n",
    "# regex = re.compile(r'(ref\\|)(NP_\\d+\\.?\\d?|XP_\\d+\\.?\\d?)')\n",
    "\n",
    "# therefore instead extracted only the main body without the version number\n",
    "regex = re.compile(r'(ref\\|)(NP_\\d+|XP_\\d+)')\n",
    "\n",
    "# Using regex, extract the IDs from the text and put them to a list\n",
    "ncbi_id_list = []\n",
    "for groups in regex.findall(whole_txt):\n",
    "    ncbi_id = groups[1]\n",
    "    ncbi_id_list.append(ncbi_id)"
   ]
  },
  {
   "cell_type": "code",
   "execution_count": 24,
   "id": "508bf2c1-8285-4c6f-9a76-d746efe7b1fb",
   "metadata": {},
   "outputs": [
    {
     "name": "stdout",
     "output_type": "stream",
     "text": [
      "Number of the ncbi ID:  109\n"
     ]
    }
   ],
   "source": [
    "print('Number of the ncbi ID: ', len(ncbi_id_list))"
   ]
  },
  {
   "cell_type": "markdown",
   "id": "822214c0-a238-4168-8f33-cb6c3db706ff",
   "metadata": {},
   "source": [
    "#### Below to make sure the number of ids is correct\n",
    "#### Split the text to each gene desription using \">gi\" as a sign"
   ]
  },
  {
   "cell_type": "code",
   "execution_count": 25,
   "id": "05ba8eef-2b70-4083-a9fa-7f3cd8a5f868",
   "metadata": {},
   "outputs": [
    {
     "name": "stdout",
     "output_type": "stream",
     "text": [
      "Number of the ncbi ID:  110\n"
     ]
    }
   ],
   "source": [
    "whole_list = whole_txt.replace('\\n', '').split('>gi')\n",
    "print('Number of the ncbi ID: ', len(whole_list))"
   ]
  },
  {
   "cell_type": "markdown",
   "id": "1a14faf1-03cc-4efa-a675-431975574135",
   "metadata": {},
   "source": [
    "#### What's the extra 1? As seen below it is the table title. So 109 should be the correct number"
   ]
  },
  {
   "cell_type": "code",
   "execution_count": 26,
   "id": "5b92b09b-edc1-44cf-8535-629e0d8f4f48",
   "metadata": {},
   "outputs": [
    {
     "data": {
      "text/plain": [
       "['Table S8.  Amino acid sequences of the putative nuclear transmembrane proteins in fasta format',\n",
       " '|7661996|ref|NP_055688.1| KIAA0205 gene product [Homo sapiens]MAITLEEAPWLGWLLVKALMRFAFMVVNNLVAIPSYICYVIILQPLRVLDSKRFWYIEGIMYKWLLGMVASWGWYAGYTVMEWGEDIKAVSKDEAVMLVNHQATGDVCTLMMCLQDKGLVVAQMMWLMDHIFKYTNFGIVSLVHGDFFIRQGRSYRDQQLLLLKKHLENNYRSRDRKWIVLFPEGGFLRKRRETSQAFAKKNNLPFLTNVTLPRSGATKIILNALVAQQKNGSPAGGDAKELDSKSKGLQWIIDTTIAYPKAEPIDIQTWILGYRKPTVTHVHYRIFPIKDVPLETDDLTTWLYQRFVEKEDLLSHFYETGAFPPSKGHKEAVSREMTLSNLWIFLIQSFAFLSGYMWYNIIQYFYHCLF']"
      ]
     },
     "execution_count": 26,
     "metadata": {},
     "output_type": "execute_result"
    }
   ],
   "source": [
    "whole_list[:2]"
   ]
  },
  {
   "cell_type": "code",
   "execution_count": 27,
   "id": "b1a7996d-4cc5-45f7-bbe0-602695278eda",
   "metadata": {
    "tags": []
   },
   "outputs": [
    {
     "data": {
      "text/plain": [
       "['|27659542|ref|XP_226578.1| similar to Hypothetical protein KIAA0133 [Rattus norvegicus]MAAVYSGISFKLKSKTTSWEDKLKLAHFAWISHQCFLPNKEQVLLDWARQSLVAFYKKKLELQEDIVERLWVYVDNILHSRRLQNLLKNGKTINLQISLVKIINEKIEEFSLSGSQRSICAILSCCQGILSAPALAVIYTAKPELIVALLSQLCWSACRQPEGAMTAKLFEVIHLALDHYLKLQQQQANPRRVFGDMTGHLFQPCLVLRHLLLGGTWTQASQGQLWQVLSRDIRSKIDAVLRGGVFRYDLLSSYKEELLEQQQENVKMGVLKNLLTPMDTVITRLVEPDYVKSDLHALVVASSVSLLYRLFLDSYLKEENQFLCFQVLPRLFGCLQISHLQEGQMEALSLSDWTTELLAVEQLLNLVATSNIYNVAADRIRHGETQFHFYRRVAELLINHSQASVPAWFRCLKILMSLNHLILEPDLDDLLSSAWIDAEVTEFRAKKAQEVLINTVFQTYAKLRQMPQLFQELLEVICRPAAEALRQPLLASGLSMALCACFLELPLSQILDTWSLVLDKFQSLVMPCLQSDTDMAFKAMSLSSLLHCIMFNMQSLDNNMPLPIIRRTQCMMERMLRELVKPLLGLLLDLWSPEPEPWQQKVSDSALLLSYTWAQVDTTLSLHCSQYYSLAVSLARAALDSSNLPLLLPGVETELWKKVEKCIAQSRSLSRYCLEQLYLQKVKRTLIRTSSQSKEALQTLRFDTAHILDSSRDCLSQKTVTAWDRQVSTMNESLYPVAHWHLIVSNLTVLIPYLCLNDVRYVATVLLRTLPTSKAQGSLAPGESYVTLEKISTALLHSPLFPEMQSLYSAFLTCIIAKCSNILCSGAHNDLSLSQQLPWLFGKDYHTLVAHWETRLAKVGSEGVEPRGEIAQNFLSMVKSGFPIKLHEDQLKDLLELFDVISALHLDSLWPSYHVHLFFLLFSMAVSTLGHCSCPLALQFLVKCYQLLSGLQRGRNARSVFRVMYVSDIFEVVLTSLLQASAEFQVREDDPAWLQLLQVSGVFLEQLMQMLIQAKLSLVLNFGKITAFLSKYSKGASSKELNIQNLRSRQLLLVALTKLCQSLGPCVKERRQLLEAPAALPELLQQAMMQMGAMLQLCLVPGTTGCRRRLPSVLLSAVPTLLEVDLSQHLREGQPKIAQVVDTDRALLSHVTLYQDVYTQLLEELPALSGNTQSFQAALRFLTLFLLAPEFHSKESSVFASIFYSVQKVLTGPCIPAPVTQDTEPHLGALLTQMFKAETTEHFGMVVLCAIRLLNLLLKCPLSGEKASLLWRSCPQIVTALMLQHREACQEQPVALVVVEPILEVLAVLLRKGEESISNPHHVNLAFNILLTVPLEHLKPREFGSVFLKTHNVLFSILQCHSKVMLKAIPSFLNSFNRLLLSVLHEGRQKDQGSMDDLPVVLECARLVERMYSHIATRAEEFTTFSPFLVAQYVTEVQKVTLYPPVKNLLQEGIYLILDLCMERDIQFLRASLQSGARDVFKDLHSDYLKYHKAKHEGEKRYTA',\n",
       " '|27708562|ref|XP_228902.1| similar to Hypothetical protein KIAA0205 [Rattus norvegicus]MVVAQMMWLMDHIFKYTNFGIVSLIHGDFFIRQGRAYRDQQLLVLKKHLEHNYRSRDRKWIVLFPEEGFLRKRRETSQAFAKKNNLPFLTHVTLPRFGATNIILKALVARQENGSPAGGDARGLECKSRGLQWIIDTTIAYPKAEPIDIQTWILGYRKPTVTHVHYRIFPIADVPLETEDLTNWLYQRFIEKEDLLSHFYKTGAFPPPQGQKEAVSRAMTLSNVWILLIQSFAFLSGYLWYHVIQYFYHCLF']"
      ]
     },
     "execution_count": 27,
     "metadata": {},
     "output_type": "execute_result"
    }
   ],
   "source": [
    "whole_list[-2:]"
   ]
  },
  {
   "cell_type": "markdown",
   "id": "7aa7449d-47db-4c21-8380-cac7a1a8c0ac",
   "metadata": {},
   "source": [
    "### 4. Translate the NCBI list to Uniprot ID by ID mapping offered by UniProt"
   ]
  },
  {
   "cell_type": "code",
   "execution_count": 14,
   "id": "58c6a701",
   "metadata": {},
   "outputs": [
    {
     "name": "stdout",
     "output_type": "stream",
     "text": [
      "Fetched: 61 / 61\n"
     ]
    }
   ],
   "source": [
    "# ID mapping\n",
    "job_id = idmapping.submit_id_mapping(\n",
    "    from_db=\"RefSeq_Protein\", to_db=\"UniProtKB\", ids=ncbi_id_list\n",
    ")\n",
    "if idmapping.check_id_mapping_results_ready(job_id):\n",
    "    link = idmapping.get_id_mapping_results_link(job_id)\n",
    "    results = idmapping.get_id_mapping_results_search(link)"
   ]
  },
  {
   "cell_type": "code",
   "execution_count": 40,
   "id": "27cce7c1",
   "metadata": {},
   "outputs": [
    {
     "data": {
      "application/vnd.microsoft.datawrangler.viewer.v0+json": {
       "columns": [
        {
         "name": "index",
         "rawType": "int64",
         "type": "integer"
        },
        {
         "name": "NCBI_ID",
         "rawType": "object",
         "type": "string"
        },
        {
         "name": "Uniprot_ID",
         "rawType": "object",
         "type": "string"
        },
        {
         "name": "Gene_Name",
         "rawType": "object",
         "type": "string"
        },
        {
         "name": "Organism",
         "rawType": "object",
         "type": "string"
        }
       ],
       "conversionMethod": "pd.DataFrame",
       "ref": "036281c2-2a12-4873-8610-2407b2abfc21",
       "rows": [
        [
         "0",
         "NP_055688",
         "Q92604",
         "LPGAT1",
         "Homo sapiens"
        ],
        [
         "1",
         "NP_056473",
         "Q9Y3T9",
         "NOC2L",
         "Homo sapiens"
        ],
        [
         "2",
         "NP_057086",
         "Q8NBX0",
         "SCCPDH",
         "Homo sapiens"
        ],
        [
         "3",
         "NP_057086",
         "A0A384NPM7",
         "SCCPDH",
         "Homo sapiens"
        ],
        [
         "4",
         "NP_060531",
         "Q5VTL8",
         "PRPF38B",
         "Homo sapiens"
        ]
       ],
       "shape": {
        "columns": 4,
        "rows": 5
       }
      },
      "text/html": [
       "<div>\n",
       "<style scoped>\n",
       "    .dataframe tbody tr th:only-of-type {\n",
       "        vertical-align: middle;\n",
       "    }\n",
       "\n",
       "    .dataframe tbody tr th {\n",
       "        vertical-align: top;\n",
       "    }\n",
       "\n",
       "    .dataframe thead th {\n",
       "        text-align: right;\n",
       "    }\n",
       "</style>\n",
       "<table border=\"1\" class=\"dataframe\">\n",
       "  <thead>\n",
       "    <tr style=\"text-align: right;\">\n",
       "      <th></th>\n",
       "      <th>NCBI_ID</th>\n",
       "      <th>Uniprot_ID</th>\n",
       "      <th>Gene_Name</th>\n",
       "      <th>Organism</th>\n",
       "    </tr>\n",
       "  </thead>\n",
       "  <tbody>\n",
       "    <tr>\n",
       "      <th>0</th>\n",
       "      <td>NP_055688</td>\n",
       "      <td>Q92604</td>\n",
       "      <td>LPGAT1</td>\n",
       "      <td>Homo sapiens</td>\n",
       "    </tr>\n",
       "    <tr>\n",
       "      <th>1</th>\n",
       "      <td>NP_056473</td>\n",
       "      <td>Q9Y3T9</td>\n",
       "      <td>NOC2L</td>\n",
       "      <td>Homo sapiens</td>\n",
       "    </tr>\n",
       "    <tr>\n",
       "      <th>2</th>\n",
       "      <td>NP_057086</td>\n",
       "      <td>Q8NBX0</td>\n",
       "      <td>SCCPDH</td>\n",
       "      <td>Homo sapiens</td>\n",
       "    </tr>\n",
       "    <tr>\n",
       "      <th>3</th>\n",
       "      <td>NP_057086</td>\n",
       "      <td>A0A384NPM7</td>\n",
       "      <td>SCCPDH</td>\n",
       "      <td>Homo sapiens</td>\n",
       "    </tr>\n",
       "    <tr>\n",
       "      <th>4</th>\n",
       "      <td>NP_060531</td>\n",
       "      <td>Q5VTL8</td>\n",
       "      <td>PRPF38B</td>\n",
       "      <td>Homo sapiens</td>\n",
       "    </tr>\n",
       "  </tbody>\n",
       "</table>\n",
       "</div>"
      ],
      "text/plain": [
       "     NCBI_ID  Uniprot_ID Gene_Name      Organism\n",
       "0  NP_055688      Q92604    LPGAT1  Homo sapiens\n",
       "1  NP_056473      Q9Y3T9     NOC2L  Homo sapiens\n",
       "2  NP_057086      Q8NBX0    SCCPDH  Homo sapiens\n",
       "3  NP_057086  A0A384NPM7    SCCPDH  Homo sapiens\n",
       "4  NP_060531      Q5VTL8   PRPF38B  Homo sapiens"
      ]
     },
     "execution_count": 40,
     "metadata": {},
     "output_type": "execute_result"
    }
   ],
   "source": [
    "# List the mapped ID pairs with the organisms of the proteins\n",
    "df = pd.DataFrame()\n",
    "try:\n",
    "    for i in range(len(results[\"results\"])):\n",
    "        ncbi_id = results[\"results\"][i][\"from\"]\n",
    "        uniprot_id = results[\"results\"][i][\"to\"][\"primaryAccession\"]\n",
    "        gene_info = results[\"results\"][i][\"to\"].get(\"genes\", [{}])\n",
    "        gene_name = gene_info[0].get(\"geneName\", {}).get('value', 'Not_found')\n",
    "        organism = results[\"results\"][i][\"to\"][\"organism\"]['scientificName']\n",
    "        df.loc[i, \"NCBI_ID\"] = ncbi_id\n",
    "        df.loc[i, \"Uniprot_ID\"] = uniprot_id\n",
    "        df.loc[i, \"Gene_Name\"] = gene_name\n",
    "        df.loc[i, \"Organism\"] = organism\n",
    "except:\n",
    "    print(f\"Error in the ID mapping in {ncbi_id} in i = {i}\")\n",
    "    \n",
    "df.sort_values(by=\"NCBI_ID\")\n",
    "df.head()"
   ]
  },
  {
   "cell_type": "code",
   "execution_count": 41,
   "id": "d54617f2",
   "metadata": {},
   "outputs": [],
   "source": [
    "# List unmapped NCBI IDs\n",
    "mapped_ids = df[\"NCBI_ID\"].unique()\n",
    "unmapped_ids = []\n",
    "for ncbi_id in ncbi_id_list:\n",
    "    if ncbi_id not in mapped_ids:\n",
    "        unmapped_ids.append(ncbi_id)"
   ]
  },
  {
   "cell_type": "code",
   "execution_count": 42,
   "id": "c83ad77c-216c-44fc-9551-84de07523676",
   "metadata": {
    "tags": []
   },
   "outputs": [
    {
     "name": "stdout",
     "output_type": "stream",
     "text": [
      "Mapped IDs: 48\n",
      "Unmapped IDs: 61\n"
     ]
    }
   ],
   "source": [
    "print(f'Mapped IDs: {len(mapped_ids)}')\n",
    "print(f'Unmapped IDs: {len(unmapped_ids)}')"
   ]
  },
  {
   "cell_type": "code",
   "execution_count": 43,
   "id": "4491aa44-307d-412a-8219-ecf1a50ab6ad",
   "metadata": {},
   "outputs": [
    {
     "name": "stdout",
     "output_type": "stream",
     "text": [
      "['XP_125636', 'XP_110572', 'XP_228902', 'XP_221669', 'XP_223077']\n"
     ]
    }
   ],
   "source": [
    "# randomly print 5 unmapped IDs\n",
    "print(random.sample(unmapped_ids, 5))"
   ]
  },
  {
   "cell_type": "markdown",
   "id": "b5fd2f44-5d30-4f5f-aed1-0d5eb160ad56",
   "metadata": {},
   "source": [
    "#### Random check of unmapped IDs on NCBI DB revealed they are:\n",
    "#### \"Removed as a result of standard genome annotation processing.\"\n",
    "#### For now it seems unproductive to further look into these unmapped genes\n",
    "#### Let us focus on mapped IDs"
   ]
  },
  {
   "cell_type": "code",
   "execution_count": 44,
   "id": "21a8a601-6e99-4944-8fb2-75186e908b9f",
   "metadata": {},
   "outputs": [],
   "source": [
    "# export the mapped IDs to a csv file\n",
    "df.to_csv('./IntermediateOutput/' + 'schirmer2003_mapped_ids.csv', index=False)"
   ]
  },
  {
   "cell_type": "markdown",
   "id": "b4bb5bef-1e8d-4ce5-97ca-bf2fcb270516",
   "metadata": {},
   "source": [
    "### 5. Convert mouse and rat Entry to humans'"
   ]
  },
  {
   "cell_type": "code",
   "execution_count": 45,
   "id": "4c3d1e68",
   "metadata": {},
   "outputs": [],
   "source": [
    "df_mapped = pd.read_csv('./IntermediateOutput/' + 'schirmer2003_mapped_ids.csv')"
   ]
  },
  {
   "cell_type": "code",
   "execution_count": 46,
   "id": "8eb2a048-a41f-4927-865a-b74fe8a4f7a9",
   "metadata": {},
   "outputs": [
    {
     "name": "stdout",
     "output_type": "stream",
     "text": [
      "Non-human entries:  35\n"
     ]
    }
   ],
   "source": [
    "df_mapped_nonhuman = df_mapped[df_mapped.Organism != 'Homo sapiens']\n",
    "print('Non-human entries: ', len(df_mapped_nonhuman))"
   ]
  },
  {
   "cell_type": "code",
   "execution_count": 48,
   "id": "be5ed6d0-644c-4dc4-9af3-f30b3bcb2c19",
   "metadata": {},
   "outputs": [
    {
     "name": "stdout",
     "output_type": "stream",
     "text": [
      "Q8BYU6 Tor1aip2 Q8NFQ8\n",
      "Q05DT5 Mospd3 O75425\n",
      "Error in fetching Q9DCZ9: list index out of range\n",
      "Q4FZC9 Syne3 Q6ZMZ3\n",
      "Q8VDS4 Rprd1a Q96P16\n"
     ]
    }
   ],
   "source": [
    "my_dict = {'entry_mr': [], 'Gene_Name': [], 'entry_h': []}\n",
    "\n",
    "for entry in df_mapped_nonhuman.Uniprot_ID:\n",
    "    # default values \n",
    "    gene_name = entry_hs = 'Not_found'\n",
    "    \n",
    "    try:\n",
    "        # get response with the query, then the gene name in it\n",
    "        params = {\n",
    "        \"query\": f'accession:{entry}',\n",
    "        \"fields\": \"gene_names\",\n",
    "        \"format\": \"json\"\n",
    "        }\n",
    "        \n",
    "        r = get_url(my_config.WEBSITE_API, params=params)\n",
    "        gene_name = r.json()['results'][0]['genes'][0]['geneName']['value']\n",
    "        sleep(1)\n",
    "\n",
    "        # find the entry of the human version of the gene\n",
    "        params_2 = {\n",
    "        \"query\": f'gene:{gene_name} AND organism_id:{my_config.organism_id_list[\"Homo sapiens\"]}',\n",
    "        \"fields\": \"accession, gene_names\",\n",
    "        \"format\": \"json\"\n",
    "        }\n",
    "        \n",
    "        r_2 = get_url(my_config.WEBSITE_API, params=params_2)\n",
    "        entry_hs = r_2.json()['results'][0]['primaryAccession']\n",
    "        sleep(1)\n",
    "\n",
    "    except Exception as e:\n",
    "        print(f'Error in fetching {entry}: {e}') \n",
    "    \n",
    "    if len(my_dict['entry_mr']) % 10 == 0:\n",
    "        print(entry, gene_name, entry_hs)\n",
    "    \n",
    "    my_dict['entry_mr'].append(entry)\n",
    "    my_dict['Gene_Name'].append(gene_name)\n",
    "    my_dict['entry_h'].append(entry_hs)\n",
    "    \n",
    "df_coverted = pd.DataFrame(my_dict)"
   ]
  },
  {
   "cell_type": "markdown",
   "id": "5fdb6f02-e2fa-41c2-b8cd-b6d16ea877c8",
   "metadata": {},
   "source": [
    "#### What are not found genes?"
   ]
  },
  {
   "cell_type": "code",
   "execution_count": 49,
   "id": "9cc9b538-1a92-4d01-8278-356b3a91ca6e",
   "metadata": {
    "tags": []
   },
   "outputs": [
    {
     "name": "stdout",
     "output_type": "stream",
     "text": [
      "   entry_mr Gene_Name    entry_h\n",
      "16   Q9DCZ9     Aph1c  Not_found\n"
     ]
    }
   ],
   "source": [
    "print(df_coverted[df_coverted.entry_h == 'Not_found'])"
   ]
  },
  {
   "cell_type": "markdown",
   "id": "7e8e90b2",
   "metadata": {},
   "source": [
    "#### Uniprot search revealed this gene exists only in mouse"
   ]
  },
  {
   "cell_type": "markdown",
   "id": "e30eb18c-25e3-4833-8c37-80953c06f6f5",
   "metadata": {},
   "source": [
    "#### Any duplicates between mouse and rat?"
   ]
  },
  {
   "cell_type": "code",
   "execution_count": 50,
   "id": "165b1812-5ed6-4aae-acfa-76ce34252714",
   "metadata": {
    "tags": []
   },
   "outputs": [
    {
     "name": "stdout",
     "output_type": "stream",
     "text": [
      "['Q9Y3T9', 'O75425', 'O75425', 'Q9H936', 'Q6NW34', 'Q969X5', 'Q5GFL6', 'Q5SY16']\n"
     ]
    }
   ],
   "source": [
    "print(find_duplicate(df_coverted.entry_h.to_list()))"
   ]
  },
  {
   "cell_type": "code",
   "execution_count": 51,
   "id": "e3e2a9ad-4d79-4d8b-a460-b16476717704",
   "metadata": {},
   "outputs": [],
   "source": [
    "# Cleanup\n",
    "df_coverted_cleaned = df_coverted.drop_duplicates(subset='entry_h')\n",
    "df_coverted_cleaned = df_coverted_cleaned.drop(columns=['entry_mr'])\n",
    "df_coverted_cleaned = df_coverted_cleaned.rename(columns={'entry_h':'Uniprot_ID'})\n",
    "df_coverted_cleaned = df_coverted_cleaned[df_coverted_cleaned.Uniprot_ID != 'Not_found']"
   ]
  },
  {
   "cell_type": "code",
   "execution_count": 52,
   "id": "e9c6491d-6f48-417f-8c81-7f2adf963b88",
   "metadata": {
    "tags": []
   },
   "outputs": [
    {
     "name": "stdout",
     "output_type": "stream",
     "text": [
      "Number of obtained IDs:  26\n"
     ]
    }
   ],
   "source": [
    "print('Number of obtained IDs: ', len(df_coverted_cleaned.Uniprot_ID.to_list()))"
   ]
  },
  {
   "cell_type": "markdown",
   "id": "2dac0222-035a-4ca1-93fb-36ceff05c7c7",
   "metadata": {},
   "source": [
    "#### Combine the converted df with the original Human df"
   ]
  },
  {
   "cell_type": "code",
   "execution_count": 53,
   "id": "9587c63b-3e04-4fa1-8bb9-e2d4244a5450",
   "metadata": {},
   "outputs": [],
   "source": [
    "df_mapped_human = df_mapped[df_mapped.Organism == 'Homo sapiens']\n",
    "df_mapped_human = df_mapped_human[['Uniprot_ID', 'Gene_Name']]\n",
    "df = pd.concat([df_mapped_human, df_coverted_cleaned])"
   ]
  },
  {
   "cell_type": "code",
   "execution_count": 55,
   "id": "b4c70ef4-360f-4c96-9686-fe5b605907bd",
   "metadata": {
    "tags": []
   },
   "outputs": [
    {
     "name": "stdout",
     "output_type": "stream",
     "text": [
      "UniprotID duplicate:  ['Q8NFQ8', 'Q9BTX1', 'Q9Y3T9', 'Q9NVM9', 'O95476', 'Q9UKR5', 'Q9NXE4', 'Q96P16', 'Q3LXA3']\n",
      "Gene name duplicate:  ['SCCPDH', 'Not_found', 'Not_found', 'Not_found']\n"
     ]
    }
   ],
   "source": [
    "print('UniprotID duplicate: ', find_duplicate(df.Uniprot_ID.to_list()))\n",
    "print('Gene name duplicate: ', find_duplicate(df['Gene_Name'].to_list()))"
   ]
  },
  {
   "cell_type": "markdown",
   "id": "f52723d7-28b1-4466-a0d3-0376803c6b1e",
   "metadata": {},
   "source": [
    "#### Are those duplicates between human and mouse/rat?"
   ]
  },
  {
   "cell_type": "code",
   "execution_count": 56,
   "id": "10a4ee44-65da-49bc-8a54-ddd90aeb9923",
   "metadata": {
    "tags": []
   },
   "outputs": [
    {
     "name": "stdout",
     "output_type": "stream",
     "text": [
      "  Uniprot_ID Gene_Name\n",
      "6     Q8NFQ8  TOR1AIP2\n",
      "0     Q8NFQ8  Tor1aip2\n",
      "  Uniprot_ID Gene_Name\n",
      "5     Q9BTX1      NDC1\n",
      "3     Q9BTX1      Ndc1\n",
      "  Uniprot_ID Gene_Name\n",
      "1     Q9Y3T9     NOC2L\n",
      "6     Q9Y3T9     Noc2l\n",
      "   Uniprot_ID Gene_Name\n",
      "19     Q9NVM9    INTS13\n",
      "12     Q9NVM9    IntS13\n",
      "   Uniprot_ID Gene_Name\n",
      "23     O95476   CTDNEP1\n",
      "17     O95476   Ctdnep1\n",
      "   Uniprot_ID Gene_Name\n",
      "20     Q9UKR5     ERG28\n",
      "19     Q9UKR5     Erg28\n",
      "   Uniprot_ID Gene_Name\n",
      "7      Q9NXE4     SMPD4\n",
      "24     Q9NXE4     Smpd4\n",
      "   Uniprot_ID Gene_Name\n",
      "24     Q96P16    RPRD1A\n",
      "30     Q96P16    Rprd1a\n",
      "   Uniprot_ID Gene_Name\n",
      "16     Q3LXA3      TKFC\n",
      "31     Q3LXA3      Tkfc\n"
     ]
    }
   ],
   "source": [
    "for duplicate in find_duplicate(df.Uniprot_ID.to_list()):\n",
    "    print(df[df.Uniprot_ID == duplicate].iloc[:, :])"
   ]
  },
  {
   "cell_type": "markdown",
   "id": "a6618465-e4d5-4558-bc16-22e8bb4a45dd",
   "metadata": {},
   "source": [
    "#### It seems the duplicates happen between original human proteins and human-coverted mouse/rat proteins\n",
    "#### It should be ok to remove those duplicates"
   ]
  },
  {
   "cell_type": "code",
   "execution_count": 58,
   "id": "5ecd542f-802d-4479-b7cb-ff1c740ba6a6",
   "metadata": {},
   "outputs": [],
   "source": [
    "df_unique = df.drop_duplicates(subset=['Uniprot_ID'])"
   ]
  },
  {
   "cell_type": "markdown",
   "id": "1d12c78a-0d19-4857-a89b-c19c3b3a48e5",
   "metadata": {},
   "source": [
    "#### What are entries with not gene name found?"
   ]
  },
  {
   "cell_type": "code",
   "execution_count": 62,
   "id": "c7342064-640c-4ec8-8522-2596e4d09bcc",
   "metadata": {
    "tags": []
   },
   "outputs": [
    {
     "data": {
      "application/vnd.microsoft.datawrangler.viewer.v0+json": {
       "columns": [
        {
         "name": "index",
         "rawType": "int64",
         "type": "integer"
        },
        {
         "name": "Uniprot_ID",
         "rawType": "object",
         "type": "string"
        },
        {
         "name": "Gene_Name",
         "rawType": "object",
         "type": "string"
        }
       ],
       "conversionMethod": "pd.DataFrame",
       "ref": "38e3dcfd-fc1c-4306-9b8d-5540669c2808",
       "rows": [
        [
         "12",
         "A0A140VJX5",
         "Not_found"
        ],
        [
         "14",
         "A0A384NPM3",
         "Not_found"
        ],
        [
         "17",
         "A0A140VJH7",
         "Not_found"
        ],
        [
         "22",
         "Q86TW5",
         "Not_found"
        ]
       ],
       "shape": {
        "columns": 2,
        "rows": 4
       }
      },
      "text/html": [
       "<div>\n",
       "<style scoped>\n",
       "    .dataframe tbody tr th:only-of-type {\n",
       "        vertical-align: middle;\n",
       "    }\n",
       "\n",
       "    .dataframe tbody tr th {\n",
       "        vertical-align: top;\n",
       "    }\n",
       "\n",
       "    .dataframe thead th {\n",
       "        text-align: right;\n",
       "    }\n",
       "</style>\n",
       "<table border=\"1\" class=\"dataframe\">\n",
       "  <thead>\n",
       "    <tr style=\"text-align: right;\">\n",
       "      <th></th>\n",
       "      <th>Uniprot_ID</th>\n",
       "      <th>Gene_Name</th>\n",
       "    </tr>\n",
       "  </thead>\n",
       "  <tbody>\n",
       "    <tr>\n",
       "      <th>12</th>\n",
       "      <td>A0A140VJX5</td>\n",
       "      <td>Not_found</td>\n",
       "    </tr>\n",
       "    <tr>\n",
       "      <th>14</th>\n",
       "      <td>A0A384NPM3</td>\n",
       "      <td>Not_found</td>\n",
       "    </tr>\n",
       "    <tr>\n",
       "      <th>17</th>\n",
       "      <td>A0A140VJH7</td>\n",
       "      <td>Not_found</td>\n",
       "    </tr>\n",
       "    <tr>\n",
       "      <th>22</th>\n",
       "      <td>Q86TW5</td>\n",
       "      <td>Not_found</td>\n",
       "    </tr>\n",
       "  </tbody>\n",
       "</table>\n",
       "</div>"
      ],
      "text/plain": [
       "    Uniprot_ID  Gene_Name\n",
       "12  A0A140VJX5  Not_found\n",
       "14  A0A384NPM3  Not_found\n",
       "17  A0A140VJH7  Not_found\n",
       "22      Q86TW5  Not_found"
      ]
     },
     "execution_count": 62,
     "metadata": {},
     "output_type": "execute_result"
    }
   ],
   "source": [
    "df_unique[df_unique['Gene_Name'] == \"Not_found\"]"
   ]
  },
  {
   "cell_type": "markdown",
   "id": "b85ac1ca-3c89-4648-a4be-7e77ff2b32ee",
   "metadata": {},
   "source": [
    "#### They are all non-reviewed, transcription only entries. Drop them"
   ]
  },
  {
   "cell_type": "code",
   "execution_count": 65,
   "id": "cd1203e7",
   "metadata": {},
   "outputs": [],
   "source": [
    "df_final = df_unique[df_unique['Gene_Name'] != \"Not_found\"]"
   ]
  },
  {
   "cell_type": "code",
   "execution_count": 66,
   "id": "25ae4010-f579-45c1-9265-c58f0284bbba",
   "metadata": {
    "tags": []
   },
   "outputs": [
    {
     "name": "stdout",
     "output_type": "stream",
     "text": [
      "Number of genes:  39\n"
     ]
    }
   ],
   "source": [
    "print('Number of genes: ', len(df_final))"
   ]
  },
  {
   "cell_type": "markdown",
   "id": "fdd4cde9-69c9-4c76-b659-252b034bf1c7",
   "metadata": {},
   "source": [
    "### 6. Export"
   ]
  },
  {
   "cell_type": "code",
   "execution_count": 67,
   "id": "68402421-0737-4865-aa8a-b4bc41ce9c1a",
   "metadata": {},
   "outputs": [],
   "source": [
    "df_final.to_csv('./Output/Schirmer2003_Output.csv', index=False)"
   ]
  },
  {
   "cell_type": "code",
   "execution_count": null,
   "id": "31a6ae27-c041-4f24-9a69-1b6ed4ab1818",
   "metadata": {},
   "outputs": [],
   "source": []
  }
 ],
 "metadata": {
  "kernelspec": {
   "display_name": "py311",
   "language": "python",
   "name": "python3"
  },
  "language_info": {
   "codemirror_mode": {
    "name": "ipython",
    "version": 3
   },
   "file_extension": ".py",
   "mimetype": "text/x-python",
   "name": "python",
   "nbconvert_exporter": "python",
   "pygments_lexer": "ipython3",
   "version": "3.11.5"
  }
 },
 "nbformat": 4,
 "nbformat_minor": 5
}
