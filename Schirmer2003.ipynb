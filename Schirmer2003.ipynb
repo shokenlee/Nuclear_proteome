{
 "cells": [
  {
   "cell_type": "markdown",
   "id": "d2ae3dee-bafc-43a4-8524-8c812cb1e4d2",
   "metadata": {},
   "source": [
    "## Schirmer et al. 2003\n",
    "### Mouse liver"
   ]
  },
  {
   "cell_type": "code",
   "execution_count": 1,
   "id": "2262e0cb-8ad8-493b-a2f3-ae939fa8f4a2",
   "metadata": {},
   "outputs": [],
   "source": [
    "import PyPDF2, re, os, requests, json\n",
    "import pandas as pd\n",
    "from time import sleep\n",
    "from my_utils import get_url, find_duplicate\n",
    "import my_config"
   ]
  },
  {
   "cell_type": "markdown",
   "id": "1feb16b1-bd31-4015-a528-78d4f1d84851",
   "metadata": {},
   "source": [
    "### 1. Import the orginal data file PDF"
   ]
  },
  {
   "cell_type": "code",
   "execution_count": 14,
   "id": "4be0b4b7-95cc-4695-b637-17356c83c222",
   "metadata": {},
   "outputs": [],
   "source": [
    "directory = './SourceData/Papers/Schirmer2003/'\n",
    "filename = 'schirmer.som.table_S8.pdf'\n",
    "path = os.path.join(directory, filename)\n",
    "if os.path.exists(path):\n",
    "    pdf = open(directory + filename, 'rb')\n",
    "else:\n",
    "    print(\"Path is wrong\")"
   ]
  },
  {
   "cell_type": "markdown",
   "id": "a553232e-db34-4f8c-9b2f-57f8287621de",
   "metadata": {},
   "source": [
    "### 2. Read the pdf and extract the whole text"
   ]
  },
  {
   "cell_type": "code",
   "execution_count": 15,
   "id": "b681240a-38dd-450f-80ff-29525e0b2cef",
   "metadata": {},
   "outputs": [
    {
     "name": "stdout",
     "output_type": "stream",
     "text": [
      "15\n"
     ]
    }
   ],
   "source": [
    "pdf_reader = PyPDF2.PdfReader(pdf)\n",
    "print(len(pdf_reader.pages))"
   ]
  },
  {
   "cell_type": "code",
   "execution_count": 16,
   "id": "ce3af57d-982f-434e-a634-6aa837256f2f",
   "metadata": {},
   "outputs": [],
   "source": [
    "whole_txt = ''\n",
    "for page_num in range(len(pdf_reader.pages)):\n",
    "    pdf_page = pdf_reader.pages[page_num]\n",
    "    pdf_page_txt = pdf_page.extract_text()\n",
    "    whole_txt += pdf_page_txt"
   ]
  },
  {
   "cell_type": "markdown",
   "id": "3f377fb5-76d6-4703-afda-17739163b2bd",
   "metadata": {},
   "source": [
    "### 3. Extract NCBI IDs by regex"
   ]
  },
  {
   "cell_type": "code",
   "execution_count": 17,
   "id": "299944e6-5ca9-45f9-ba61-5c6454b2cac4",
   "metadata": {},
   "outputs": [],
   "source": [
    "# put ref| as a marker of where id is\n",
    "# Either NP or XP is used\n",
    "# version number e.g. \".1\" can be absent by putting ?\n",
    "\n",
    "# this is the intitial regex that inculdes the version number\n",
    "# but realized that inclusion of the version number could hamper ID conversion to Uniprot ID\n",
    "# regex = re.compile(r'(ref\\|)(NP_\\d+\\.?\\d?|XP_\\d+\\.?\\d?)')\n",
    "\n",
    "# therefore instead extracted only the main body without the version number\n",
    "regex = re.compile(r'(ref\\|)(NP_\\d+|XP_\\d+)')\n",
    "\n",
    "# Using regex, extract the IDs from the text and put them to a list\n",
    "ncbi_id_list = []\n",
    "for groups in regex.findall(whole_txt):\n",
    "    ncbi_id = groups[1]\n",
    "    ncbi_id_list.append(ncbi_id)"
   ]
  },
  {
   "cell_type": "code",
   "execution_count": 18,
   "id": "508bf2c1-8285-4c6f-9a76-d746efe7b1fb",
   "metadata": {},
   "outputs": [
    {
     "name": "stdout",
     "output_type": "stream",
     "text": [
      "Number of the ncbi ID:  109\n"
     ]
    }
   ],
   "source": [
    "print('Number of the ncbi ID: ', len(ncbi_id_list))"
   ]
  },
  {
   "cell_type": "markdown",
   "id": "822214c0-a238-4168-8f33-cb6c3db706ff",
   "metadata": {},
   "source": [
    "#### Below to make sure the number of ids is correct\n",
    "#### Split the text to each gene desription using \">gi\" as a sign"
   ]
  },
  {
   "cell_type": "code",
   "execution_count": 16,
   "id": "05ba8eef-2b70-4083-a9fa-7f3cd8a5f868",
   "metadata": {},
   "outputs": [
    {
     "name": "stdout",
     "output_type": "stream",
     "text": [
      "Number of the ncbi ID:  110\n"
     ]
    }
   ],
   "source": [
    "whole_list = whole_txt.replace('\\n', '').split('>gi')\n",
    "print('Number of the ncbi ID: ', len(whole_list))"
   ]
  },
  {
   "cell_type": "markdown",
   "id": "1a14faf1-03cc-4efa-a675-431975574135",
   "metadata": {},
   "source": [
    "#### What's the extra 1? As seen below it is the table title. So 109 should be the correct number"
   ]
  },
  {
   "cell_type": "code",
   "execution_count": 17,
   "id": "5b92b09b-edc1-44cf-8535-629e0d8f4f48",
   "metadata": {},
   "outputs": [
    {
     "data": {
      "text/plain": [
       "['Table S8.  Amino acid sequences of the putative nuclear transmembrane proteins in fasta format',\n",
       " '|7661996|ref|NP_055688.1| KIAA0205 gene product [Homo sapiens]MAITLEEAPWLGWLLVKALMRFAFMVVNNLVAIPSYICYVIILQPLRVLDSKRFWYIEGIMYKWLLGMVASWGWYAGYTVMEWGEDIKAVSKDEAVMLVNHQATGDVCTLMMCLQDKGLVVAQMMWLMDHIFKYTNFGIVSLVHGDFFIRQGRSYRDQQLLLLKKHLENNYRSRDRKWIVLFPEGGFLRKRRETSQAFAKKNNLPFLTNVTLPRSGATKIILNALVAQQKNGSPAGGDAKELDSKSKGLQWIIDTTIAYPKAEPIDIQTWILGYRKPTVTHVHYRIFPIKDVPLETDDLTTWLYQRFVEKEDLLSHFYETGAFPPSKGHKEAVSREMTLSNLWIFLIQSFAFLSGYMWYNIIQYFYHCLF']"
      ]
     },
     "execution_count": 17,
     "metadata": {},
     "output_type": "execute_result"
    }
   ],
   "source": [
    "whole_list[:2]"
   ]
  },
  {
   "cell_type": "code",
   "execution_count": 18,
   "id": "b1a7996d-4cc5-45f7-bbe0-602695278eda",
   "metadata": {
    "tags": []
   },
   "outputs": [
    {
     "data": {
      "text/plain": [
       "['|27659542|ref|XP_226578.1| similar to Hypothetical protein KIAA0133 [Rattus norvegicus]MAAVYSGISFKLKSKTTSWEDKLKLAHFAWISHQCFLPNKEQVLLDWARQSLVAFYKKKLELQEDIVERLWVYVDNILHSRRLQNLLKNGKTINLQISLVKIINEKIEEFSLSGSQRSICAILSCCQGILSAPALAVIYTAKPELIVALLSQLCWSACRQPEGAMTAKLFEVIHLALDHYLKLQQQQANPRRVFGDMTGHLFQPCLVLRHLLLGGTWTQASQGQLWQVLSRDIRSKIDAVLRGGVFRYDLLSSYKEELLEQQQENVKMGVLKNLLTPMDTVITRLVEPDYVKSDLHALVVASSVSLLYRLFLDSYLKEENQFLCFQVLPRLFGCLQISHLQEGQMEALSLSDWTTELLAVEQLLNLVATSNIYNVAADRIRHGETQFHFYRRVAELLINHSQASVPAWFRCLKILMSLNHLILEPDLDDLLSSAWIDAEVTEFRAKKAQEVLINTVFQTYAKLRQMPQLFQELLEVICRPAAEALRQPLLASGLSMALCACFLELPLSQILDTWSLVLDKFQSLVMPCLQSDTDMAFKAMSLSSLLHCIMFNMQSLDNNMPLPIIRRTQCMMERMLRELVKPLLGLLLDLWSPEPEPWQQKVSDSALLLSYTWAQVDTTLSLHCSQYYSLAVSLARAALDSSNLPLLLPGVETELWKKVEKCIAQSRSLSRYCLEQLYLQKVKRTLIRTSSQSKEALQTLRFDTAHILDSSRDCLSQKTVTAWDRQVSTMNESLYPVAHWHLIVSNLTVLIPYLCLNDVRYVATVLLRTLPTSKAQGSLAPGESYVTLEKISTALLHSPLFPEMQSLYSAFLTCIIAKCSNILCSGAHNDLSLSQQLPWLFGKDYHTLVAHWETRLAKVGSEGVEPRGEIAQNFLSMVKSGFPIKLHEDQLKDLLELFDVISALHLDSLWPSYHVHLFFLLFSMAVSTLGHCSCPLALQFLVKCYQLLSGLQRGRNARSVFRVMYVSDIFEVVLTSLLQASAEFQVREDDPAWLQLLQVSGVFLEQLMQMLIQAKLSLVLNFGKITAFLSKYSKGASSKELNIQNLRSRQLLLVALTKLCQSLGPCVKERRQLLEAPAALPELLQQAMMQMGAMLQLCLVPGTTGCRRRLPSVLLSAVPTLLEVDLSQHLREGQPKIAQVVDTDRALLSHVTLYQDVYTQLLEELPALSGNTQSFQAALRFLTLFLLAPEFHSKESSVFASIFYSVQKVLTGPCIPAPVTQDTEPHLGALLTQMFKAETTEHFGMVVLCAIRLLNLLLKCPLSGEKASLLWRSCPQIVTALMLQHREACQEQPVALVVVEPILEVLAVLLRKGEESISNPHHVNLAFNILLTVPLEHLKPREFGSVFLKTHNVLFSILQCHSKVMLKAIPSFLNSFNRLLLSVLHEGRQKDQGSMDDLPVVLECARLVERMYSHIATRAEEFTTFSPFLVAQYVTEVQKVTLYPPVKNLLQEGIYLILDLCMERDIQFLRASLQSGARDVFKDLHSDYLKYHKAKHEGEKRYTA',\n",
       " '|27708562|ref|XP_228902.1| similar to Hypothetical protein KIAA0205 [Rattus norvegicus]MVVAQMMWLMDHIFKYTNFGIVSLIHGDFFIRQGRAYRDQQLLVLKKHLEHNYRSRDRKWIVLFPEEGFLRKRRETSQAFAKKNNLPFLTHVTLPRFGATNIILKALVARQENGSPAGGDARGLECKSRGLQWIIDTTIAYPKAEPIDIQTWILGYRKPTVTHVHYRIFPIADVPLETEDLTNWLYQRFIEKEDLLSHFYKTGAFPPPQGQKEAVSRAMTLSNVWILLIQSFAFLSGYLWYHVIQYFYHCLF']"
      ]
     },
     "execution_count": 18,
     "metadata": {},
     "output_type": "execute_result"
    }
   ],
   "source": [
    "whole_list[-2:]"
   ]
  },
  {
   "cell_type": "markdown",
   "id": "7aa7449d-47db-4c21-8380-cac7a1a8c0ac",
   "metadata": {},
   "source": [
    "### 4. Translate the NCBI list to Uniprot ID"
   ]
  },
  {
   "cell_type": "code",
   "execution_count": 17,
   "id": "b71d4fc2-2ab4-4041-8cf2-a307fef0c7e8",
   "metadata": {},
   "outputs": [
    {
     "data": {
      "text/plain": [
       "'NP_055688 NP_056473 NP_057086 NP_060531 NP_060557 NP_659471 NP_060221 XP_087089 NP_061900 XP_298567 NP_057688 NP_061891 XP_166338 NP_116231 XP_291222 NP_116117 NP_775961 NP_056348 NP_775857 NP_060634 NP_009107 XP_027330 NP_056158 NP_060640 XP_292696 NP_067038 XP_129726 XP_129627 XP_129651 NP_766431 XP_130243 XP_130605 NP_694766 XP_131120 XP_131247 XP_283952 XP_149561 NP_064382 NP_082631 NP_081113 NP_083003 NP_067278 XP_110572 NP_705798 NP_084313 XP_194313 XP_285910 NP_620096 XP_163618 NP_080922 XP_150109 NP_705820 NP_080950 XP_125636 XP_137321 XP_125972 NP_080293 NP_081625 NP_067421 NP_766088 XP_127498 NP_079663 NP_083179 NP_666167 XP_127968 XP_128377 NP_084221 NP_666084 XP_128762 NP_080446 NP_666187 XP_128954 NP_659110 XP_129087 NP_663471 NP_766428 XP_219484 XP_226713 XP_226886 XP_227591 XP_230334 XP_230798 XP_231194 XP_231568 XP_232987 XP_233684 XP_233702 XP_233726 XP_234304 XP_216756 XP_234559 XP_234768 XP_234929 XP_235233 XP_235527 XP_243957 XP_213272 XP_213339 XP_221193 XP_221266 XP_221669 XP_213738 XP_222761 XP_223077 XP_224299 XP_224332 XP_214598 XP_226578 XP_228902'"
      ]
     },
     "execution_count": 17,
     "metadata": {},
     "output_type": "execute_result"
    }
   ],
   "source": [
    "' '.join(ncbi_id_list)"
   ]
  },
  {
   "cell_type": "markdown",
   "id": "d2a86ba1-5620-4868-840e-5683ca0f3265",
   "metadata": {},
   "source": [
    "#### Copied above and coverted them to Uniprot ID on Retrieve/ID mapping (3/20/22)\n",
    "#### Obtained mapped and unmapped IDs, each of which saved as a XLSX or CSV"
   ]
  },
  {
   "cell_type": "code",
   "execution_count": 4,
   "id": "a79ddf76-0055-4ada-aa12-404838e90f7b",
   "metadata": {},
   "outputs": [],
   "source": [
    "df_mapped = pd.read_excel('./SourceData/Papers/Schirmer2003/Mapped.xlsx')\n",
    "df_unmapped = pd.read_csv('./SourceData/Papers/Schirmer2003/Unmapped.csv')"
   ]
  },
  {
   "cell_type": "code",
   "execution_count": 5,
   "id": "c83ad77c-216c-44fc-9551-84de07523676",
   "metadata": {
    "tags": []
   },
   "outputs": [
    {
     "name": "stdout",
     "output_type": "stream",
     "text": [
      "Mapped IDs: 62\n",
      "Unmapped IDs: 61\n"
     ]
    }
   ],
   "source": [
    "print(f'Mapped IDs: {len(df_mapped)}')\n",
    "print(f'Unmapped IDs: {len(df_unmapped)}')"
   ]
  },
  {
   "cell_type": "code",
   "execution_count": 22,
   "id": "4491aa44-307d-412a-8219-ecf1a50ab6ad",
   "metadata": {},
   "outputs": [
    {
     "data": {
      "text/plain": [
       "['XP_166338',\n",
       " 'XP_291222',\n",
       " 'XP_027330',\n",
       " 'XP_292696',\n",
       " 'XP_129726',\n",
       " 'XP_129627',\n",
       " 'XP_129651',\n",
       " 'XP_130243']"
      ]
     },
     "execution_count": 22,
     "metadata": {},
     "output_type": "execute_result"
    }
   ],
   "source": [
    "unmapped_ncbi_ids = list(df_unmapped['not mapped'])\n",
    "unmapped_ncbi_ids[2:10]"
   ]
  },
  {
   "cell_type": "markdown",
   "id": "b5fd2f44-5d30-4f5f-aed1-0d5eb160ad56",
   "metadata": {},
   "source": [
    "#### Quick random check of unmapped IDs on NCBI DB revealed all of examined IDs were 'obsolete' (3/20/22)\n",
    "#### For now it seems unproductive to further look into these unmapped genes\n",
    "#### Let us focus on mapped IDs"
   ]
  },
  {
   "cell_type": "code",
   "execution_count": 6,
   "id": "21a8a601-6e99-4944-8fb2-75186e908b9f",
   "metadata": {},
   "outputs": [],
   "source": [
    "# drop the unnecessary column\n",
    "df_mapped = df_mapped.drop(['isomap:M202203204ABAA9BC7178C81CEBC9459510EDDEA346CE44X'], axis=1)\n",
    "\n",
    "# rename to NCBI ID\n",
    "df_mapped = df_mapped.rename(columns={'yourlist:M202203204ABAA9BC7178C81CEBC9459510EDDEA346CE44X': 'NCBI ID'})"
   ]
  },
  {
   "cell_type": "markdown",
   "id": "b4bb5bef-1e8d-4ce5-97ca-bf2fcb270516",
   "metadata": {},
   "source": [
    "## 5. Convert mouse and rat Entry to humans'"
   ]
  },
  {
   "cell_type": "code",
   "execution_count": 7,
   "id": "8eb2a048-a41f-4927-865a-b74fe8a4f7a9",
   "metadata": {},
   "outputs": [
    {
     "name": "stdout",
     "output_type": "stream",
     "text": [
      "Non-human entries:  35\n"
     ]
    }
   ],
   "source": [
    "df_mapped_nonhuman = df_mapped[df_mapped.Organism != 'Homo sapiens (Human)']\n",
    "print('Non-human entries: ', len(df_mapped_nonhuman))"
   ]
  },
  {
   "cell_type": "code",
   "execution_count": 8,
   "id": "be5ed6d0-644c-4dc4-9af3-f30b3bcb2c19",
   "metadata": {},
   "outputs": [
    {
     "name": "stdout",
     "output_type": "stream",
     "text": [
      "Q8BYU6 Tor1aip2 Q8NFQ8\n",
      "Q05DT5 Mospd3 O75425\n",
      "Error in fetching Q9DCZ9: list index out of range\n",
      "Q4FZC9 Syne3 Q6ZMZ3\n",
      "Q8VDS4 Rprd1a Q96P16\n"
     ]
    }
   ],
   "source": [
    "my_dict = {'entry_mr': [], 'gene_name': [], 'entry_h': []}\n",
    "\n",
    "for entry in df_mapped_nonhuman.Entry:\n",
    "    # default values \n",
    "    gene_name = entry_hs = 'Not_found' \n",
    "    \n",
    "    try:\n",
    "        # get response with the query, then the gene name in it\n",
    "        params = {\n",
    "        \"query\": f'accession:{entry}',\n",
    "        \"fields\": \"gene_names\",\n",
    "        \"format\": \"json\"\n",
    "        }\n",
    "        \n",
    "        r = get_url(my_config.WEBSITE_API, params=params)\n",
    "        gene_name = r.json()['results'][0]['genes'][0]['geneName']['value']\n",
    "        sleep(1)\n",
    "\n",
    "        # find the entry of the human version of the gene\n",
    "        params = {\n",
    "        \"query\": f'gene:{gene_name} AND organism_id:{my_config.organism_id_list[\"Homo sapiens\"]}',\n",
    "        \"fields\": \"accession, gene_names\",\n",
    "        \"format\": \"json\"\n",
    "        }\n",
    "        \n",
    "        r2 = get_url(my_config.WEBSITE_API, params=params)\n",
    "        entry_hs = r2.json()['results'][0]['primaryAccession']\n",
    "        sleep(1)\n",
    "\n",
    "    except Exception as e:\n",
    "        print(f'Error in fetching {entry}: {e}') \n",
    "    \n",
    "    if len(my_dict['entry_mr']) % 10 == 0:\n",
    "        print(entry, gene_name, entry_hs)\n",
    "    \n",
    "    my_dict['entry_mr'].append(entry)\n",
    "    my_dict['gene_name'].append(gene_name)\n",
    "    my_dict['entry_h'].append(entry_hs)\n",
    "    \n",
    "_df = pd.DataFrame(my_dict)"
   ]
  },
  {
   "cell_type": "markdown",
   "id": "5fdb6f02-e2fa-41c2-b8cd-b6d16ea877c8",
   "metadata": {},
   "source": [
    "#### What are not found genes?\n",
    "#### Uniprot search revealed this gene exists only in mouse"
   ]
  },
  {
   "cell_type": "code",
   "execution_count": 9,
   "id": "9cc9b538-1a92-4d01-8278-356b3a91ca6e",
   "metadata": {
    "tags": []
   },
   "outputs": [
    {
     "data": {
      "text/html": [
       "<div>\n",
       "<style scoped>\n",
       "    .dataframe tbody tr th:only-of-type {\n",
       "        vertical-align: middle;\n",
       "    }\n",
       "\n",
       "    .dataframe tbody tr th {\n",
       "        vertical-align: top;\n",
       "    }\n",
       "\n",
       "    .dataframe thead th {\n",
       "        text-align: right;\n",
       "    }\n",
       "</style>\n",
       "<table border=\"1\" class=\"dataframe\">\n",
       "  <thead>\n",
       "    <tr style=\"text-align: right;\">\n",
       "      <th></th>\n",
       "      <th>entry_mr</th>\n",
       "      <th>gene_name</th>\n",
       "      <th>entry_h</th>\n",
       "    </tr>\n",
       "  </thead>\n",
       "  <tbody>\n",
       "    <tr>\n",
       "      <th>16</th>\n",
       "      <td>Q9DCZ9</td>\n",
       "      <td>Aph1c</td>\n",
       "      <td>Not_found</td>\n",
       "    </tr>\n",
       "  </tbody>\n",
       "</table>\n",
       "</div>"
      ],
      "text/plain": [
       "   entry_mr gene_name    entry_h\n",
       "16   Q9DCZ9     Aph1c  Not_found"
      ]
     },
     "execution_count": 9,
     "metadata": {},
     "output_type": "execute_result"
    }
   ],
   "source": [
    "_df[_df.entry_h == 'Not_found']"
   ]
  },
  {
   "cell_type": "markdown",
   "id": "e30eb18c-25e3-4833-8c37-80953c06f6f5",
   "metadata": {},
   "source": [
    "#### Any duplicates between mouse and rat?"
   ]
  },
  {
   "cell_type": "code",
   "execution_count": 10,
   "id": "165b1812-5ed6-4aae-acfa-76ce34252714",
   "metadata": {
    "tags": []
   },
   "outputs": [
    {
     "name": "stdout",
     "output_type": "stream",
     "text": [
      "['Q9Y3T9', 'O75425', 'O75425', 'Q9H936', 'Q6NW34', 'Q969X5', 'Q5GFL6', 'Q5SY16']\n"
     ]
    }
   ],
   "source": [
    "print(find_duplicate(_df.entry_h.to_list()))"
   ]
  },
  {
   "cell_type": "code",
   "execution_count": 11,
   "id": "e3e2a9ad-4d79-4d8b-a460-b16476717704",
   "metadata": {},
   "outputs": [],
   "source": [
    "# Cleanup\n",
    "_df_cleaned = _df.drop_duplicates(subset='entry_h')\n",
    "_df_cleaned = _df_cleaned.drop(columns=['entry_mr'])\n",
    "_df_cleaned = _df_cleaned.rename(columns={'gene_name':'Gene names', 'entry_h':'Entry'})\n",
    "_df_cleaned = _df_cleaned[_df_cleaned.Entry != 'Not_found']"
   ]
  },
  {
   "cell_type": "code",
   "execution_count": 12,
   "id": "e9c6491d-6f48-417f-8c81-7f2adf963b88",
   "metadata": {
    "tags": []
   },
   "outputs": [
    {
     "name": "stdout",
     "output_type": "stream",
     "text": [
      "Number of obtained IDs:  26\n"
     ]
    }
   ],
   "source": [
    "print('Number of obtained IDs: ', len(_df_cleaned.Entry.to_list()))"
   ]
  },
  {
   "cell_type": "markdown",
   "id": "2dac0222-035a-4ca1-93fb-36ceff05c7c7",
   "metadata": {},
   "source": [
    "#### Combine the converted df with the original Human df"
   ]
  },
  {
   "cell_type": "code",
   "execution_count": 13,
   "id": "9587c63b-3e04-4fa1-8bb9-e2d4244a5450",
   "metadata": {},
   "outputs": [],
   "source": [
    "df_mapped_human = df_mapped[df_mapped.Organism == 'Homo sapiens (Human)']\n",
    "df_mapped_human = df_mapped_human[['Entry', 'Gene names']]\n",
    "df = pd.concat([df_mapped_human, _df_cleaned])"
   ]
  },
  {
   "cell_type": "code",
   "execution_count": 14,
   "id": "b4c70ef4-360f-4c96-9686-fe5b605907bd",
   "metadata": {
    "tags": []
   },
   "outputs": [
    {
     "name": "stdout",
     "output_type": "stream",
     "text": [
      "UniprotID duplicate:  ['Q8NFQ8', 'Q9BTX1', 'Q9Y3T9', 'Q9NVM9', 'O95476', 'Q9UKR5', 'Q9NXE4', 'Q96P16', 'Q3LXA3']\n",
      "Gene name duplicate:  [nan, nan, nan]\n"
     ]
    }
   ],
   "source": [
    "print('UniprotID duplicate: ', find_duplicate(df.Entry.to_list()))\n",
    "print('Gene name duplicate: ', find_duplicate(df['Gene names'].to_list()))"
   ]
  },
  {
   "cell_type": "markdown",
   "id": "f52723d7-28b1-4466-a0d3-0376803c6b1e",
   "metadata": {},
   "source": [
    "#### Are those duplicates between human and mouse/rat?"
   ]
  },
  {
   "cell_type": "code",
   "execution_count": 15,
   "id": "10a4ee44-65da-49bc-8a54-ddd90aeb9923",
   "metadata": {
    "tags": []
   },
   "outputs": [
    {
     "name": "stdout",
     "output_type": "stream",
     "text": [
      "    Entry             Gene names\n",
      "6  Q8NFQ8  TOR1AIP2 IFRG15 LULL1\n",
      "0  Q8NFQ8               Tor1aip2\n",
      "    Entry   Gene names\n",
      "5  Q9BTX1  NDC1 TMEM48\n",
      "3  Q9BTX1         Ndc1\n",
      "    Entry Gene names\n",
      "1  Q9Y3T9  NOC2L NIR\n",
      "6  Q9Y3T9      Noc2l\n",
      "     Entry                 Gene names\n",
      "19  Q9NVM9  INTS13 ASUN C12orf11 GCT1\n",
      "12  Q9NVM9                     IntS13\n",
      "     Entry       Gene names\n",
      "23  O95476  CTDNEP1 DULLARD\n",
      "17  O95476          Ctdnep1\n",
      "     Entry                          Gene names\n",
      "20  Q9UKR5  ERG28 C14orf1 AD-011 HSPC288 x0006\n",
      "19  Q9UKR5                               Erg28\n",
      "     Entry           Gene names\n",
      "7   Q9NXE4  SMPD4 KIAA1418 SKNY\n",
      "24  Q9NXE4                Smpd4\n",
      "     Entry    Gene names\n",
      "24  Q96P16  RPRD1A P15RS\n",
      "30  Q96P16        Rprd1a\n",
      "     Entry Gene names\n",
      "16  Q3LXA3   TKFC DAK\n",
      "31  Q3LXA3       Tkfc\n"
     ]
    }
   ],
   "source": [
    "for duplicate in find_duplicate(df.Entry.to_list()):\n",
    "    print(df[df.Entry == duplicate].iloc[:, :])"
   ]
  },
  {
   "cell_type": "markdown",
   "id": "a6618465-e4d5-4558-bc16-22e8bb4a45dd",
   "metadata": {},
   "source": [
    "#### It seems the duplicates happen between original human proteins and human-coverted mouse/rat proteins\n",
    "#### It should be ok to remove those duplicates"
   ]
  },
  {
   "cell_type": "code",
   "execution_count": 18,
   "id": "5ecd542f-802d-4479-b7cb-ff1c740ba6a6",
   "metadata": {},
   "outputs": [],
   "source": [
    "df_unique = df.drop_duplicates(subset=['Entry'])"
   ]
  },
  {
   "cell_type": "markdown",
   "id": "1d12c78a-0d19-4857-a89b-c19c3b3a48e5",
   "metadata": {},
   "source": [
    "#### What are entries with not gene name found?"
   ]
  },
  {
   "cell_type": "code",
   "execution_count": 19,
   "id": "c7342064-640c-4ec8-8522-2596e4d09bcc",
   "metadata": {
    "tags": []
   },
   "outputs": [
    {
     "data": {
      "text/html": [
       "<div>\n",
       "<style scoped>\n",
       "    .dataframe tbody tr th:only-of-type {\n",
       "        vertical-align: middle;\n",
       "    }\n",
       "\n",
       "    .dataframe tbody tr th {\n",
       "        vertical-align: top;\n",
       "    }\n",
       "\n",
       "    .dataframe thead th {\n",
       "        text-align: right;\n",
       "    }\n",
       "</style>\n",
       "<table border=\"1\" class=\"dataframe\">\n",
       "  <thead>\n",
       "    <tr style=\"text-align: right;\">\n",
       "      <th></th>\n",
       "      <th>Entry</th>\n",
       "      <th>Gene names</th>\n",
       "    </tr>\n",
       "  </thead>\n",
       "  <tbody>\n",
       "    <tr>\n",
       "      <th>12</th>\n",
       "      <td>A0A140VJX5</td>\n",
       "      <td>NaN</td>\n",
       "    </tr>\n",
       "    <tr>\n",
       "      <th>14</th>\n",
       "      <td>A0A384NPM3</td>\n",
       "      <td>NaN</td>\n",
       "    </tr>\n",
       "    <tr>\n",
       "      <th>17</th>\n",
       "      <td>A0A140VJH7</td>\n",
       "      <td>NaN</td>\n",
       "    </tr>\n",
       "    <tr>\n",
       "      <th>22</th>\n",
       "      <td>Q86TW5</td>\n",
       "      <td>NaN</td>\n",
       "    </tr>\n",
       "  </tbody>\n",
       "</table>\n",
       "</div>"
      ],
      "text/plain": [
       "         Entry Gene names\n",
       "12  A0A140VJX5        NaN\n",
       "14  A0A384NPM3        NaN\n",
       "17  A0A140VJH7        NaN\n",
       "22      Q86TW5        NaN"
      ]
     },
     "execution_count": 19,
     "metadata": {},
     "output_type": "execute_result"
    }
   ],
   "source": [
    "df_unique[df_unique['Gene names'].isna()]"
   ]
  },
  {
   "cell_type": "markdown",
   "id": "b85ac1ca-3c89-4648-a4be-7e77ff2b32ee",
   "metadata": {},
   "source": [
    "#### They are all non-reviewed, transcription only entries\n",
    "#### Make them \"Unknown\" and keep them for now"
   ]
  },
  {
   "cell_type": "code",
   "execution_count": 20,
   "id": "4ddd260b-67f1-40ca-b732-e4a5a91c5e47",
   "metadata": {
    "tags": []
   },
   "outputs": [],
   "source": [
    "df_unique = df_unique.fillna('Unknown')"
   ]
  },
  {
   "cell_type": "code",
   "execution_count": 22,
   "id": "25ae4010-f579-45c1-9265-c58f0284bbba",
   "metadata": {
    "tags": []
   },
   "outputs": [
    {
     "name": "stdout",
     "output_type": "stream",
     "text": [
      "Number of genes:  44\n"
     ]
    }
   ],
   "source": [
    "print('Number of genes: ', len(df_unique))"
   ]
  },
  {
   "cell_type": "markdown",
   "id": "fdd4cde9-69c9-4c76-b659-252b034bf1c7",
   "metadata": {},
   "source": [
    "#### Export"
   ]
  },
  {
   "cell_type": "code",
   "execution_count": 23,
   "id": "68402421-0737-4865-aa8a-b4bc41ce9c1a",
   "metadata": {},
   "outputs": [],
   "source": [
    "df_unique.to_csv('./Output/Schirmer2003/Output.csv', index=False)"
   ]
  },
  {
   "cell_type": "code",
   "execution_count": null,
   "id": "31a6ae27-c041-4f24-9a69-1b6ed4ab1818",
   "metadata": {},
   "outputs": [],
   "source": []
  }
 ],
 "metadata": {
  "kernelspec": {
   "display_name": "py311",
   "language": "python",
   "name": "python3"
  },
  "language_info": {
   "codemirror_mode": {
    "name": "ipython",
    "version": 3
   },
   "file_extension": ".py",
   "mimetype": "text/x-python",
   "name": "python",
   "nbconvert_exporter": "python",
   "pygments_lexer": "ipython3",
   "version": "3.11.5"
  }
 },
 "nbformat": 4,
 "nbformat_minor": 5
}
