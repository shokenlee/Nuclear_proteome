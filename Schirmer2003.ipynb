{
 "cells": [
  {
   "cell_type": "code",
   "execution_count": 1,
   "id": "2262e0cb-8ad8-493b-a2f3-ae939fa8f4a2",
   "metadata": {},
   "outputs": [],
   "source": [
    "import PyPDF2, re"
   ]
  },
  {
   "cell_type": "markdown",
   "id": "1feb16b1-bd31-4015-a528-78d4f1d84851",
   "metadata": {},
   "source": [
    "### 1. Import the orginal data file PDF"
   ]
  },
  {
   "cell_type": "code",
   "execution_count": 4,
   "id": "4be0b4b7-95cc-4695-b637-17356c83c222",
   "metadata": {},
   "outputs": [],
   "source": [
    "directory = './SourceData/Papers/Schirmer2003/'\n",
    "filename = 'schirmer.som.table_S8.pdf'\n",
    "pdf = open(directory + filename, 'rb')"
   ]
  },
  {
   "cell_type": "markdown",
   "id": "a553232e-db34-4f8c-9b2f-57f8287621de",
   "metadata": {},
   "source": [
    "### 2. Read the pdf and extract the whole text"
   ]
  },
  {
   "cell_type": "code",
   "execution_count": 74,
   "id": "b681240a-38dd-450f-80ff-29525e0b2cef",
   "metadata": {},
   "outputs": [
    {
     "data": {
      "text/plain": [
       "15"
      ]
     },
     "execution_count": 74,
     "metadata": {},
     "output_type": "execute_result"
    }
   ],
   "source": [
    "pdf_reader = PyPDF2.PdfFileReader(pdf)\n",
    "pdf_reader.numPages"
   ]
  },
  {
   "cell_type": "code",
   "execution_count": 7,
   "id": "ce3af57d-982f-434e-a634-6aa837256f2f",
   "metadata": {},
   "outputs": [],
   "source": [
    "whole_txt = ''\n",
    "for page_num in range(pdf_reader.numPages):\n",
    "    pdf_page = pdf_reader.getPage(page_num)\n",
    "    pdf_page_txt = pdf_page.extractText()\n",
    "    whole_txt += pdf_page_txt"
   ]
  },
  {
   "cell_type": "markdown",
   "id": "3f377fb5-76d6-4703-afda-17739163b2bd",
   "metadata": {},
   "source": [
    "### 3. Extract NCBI IDs by regex"
   ]
  },
  {
   "cell_type": "code",
   "execution_count": 75,
   "id": "01350b4a-3fbc-4715-8074-83c83ffffc9b",
   "metadata": {},
   "outputs": [],
   "source": [
    "# put ref| as a marker of where id is\n",
    "# Either NP or XP is used\n",
    "# version number e.g. \".1\" can be absent by putting ?\n",
    "regex = re.compile(r'(ref\\|)(NP_\\d+\\.?\\d?|XP_\\d+\\.?\\d?)')"
   ]
  },
  {
   "cell_type": "code",
   "execution_count": 76,
   "id": "f87dfae9-c8ce-4cec-a453-0d34afa8af05",
   "metadata": {},
   "outputs": [],
   "source": [
    "# Using regex, extract the IDs from the text and put them to a list\n",
    "ncbi_id_list = []\n",
    "for groups in regex.findall(whole_txt):\n",
    "    ncbi_id = groups[1]\n",
    "    ncbi_id_list.append(ncbi_id)"
   ]
  },
  {
   "cell_type": "code",
   "execution_count": 77,
   "id": "508bf2c1-8285-4c6f-9a76-d746efe7b1fb",
   "metadata": {},
   "outputs": [
    {
     "data": {
      "text/plain": [
       "109"
      ]
     },
     "execution_count": 77,
     "metadata": {},
     "output_type": "execute_result"
    }
   ],
   "source": [
    "len(ncbi_id_list)"
   ]
  },
  {
   "cell_type": "code",
   "execution_count": 79,
   "id": "05ba8eef-2b70-4083-a9fa-7f3cd8a5f868",
   "metadata": {},
   "outputs": [
    {
     "data": {
      "text/plain": [
       "110"
      ]
     },
     "execution_count": 79,
     "metadata": {},
     "output_type": "execute_result"
    }
   ],
   "source": [
    "# below to make sure the number of ids is correct\n",
    "# split the text to each gene desription using \">gi\" as a sign\n",
    "whole_list = whole_txt.replace('\\n', '').split('>gi')\n",
    "len(whole_list)"
   ]
  },
  {
   "cell_type": "code",
   "execution_count": 80,
   "id": "5b92b09b-edc1-44cf-8535-629e0d8f4f48",
   "metadata": {},
   "outputs": [
    {
     "data": {
      "text/plain": [
       "['Table S8. Amino acid sequences of the putative nuclear transmembrane proteins in fasta format',\n",
       " '|7661996|ref|NP_055688.1| KIAA0205 gene product [Homo sapiens]MAITLEEAPWLGWLLVKALMRFAFMVVNNLVAIPSYICYVIILQPLRVLDSKRFWYIEGIMYKWLLGMVASWGWYAGYTVMEWGEDIKAVSKDEAVMLVNHQATGDVCTLMMCLQDKGLVVAQMMWLMDHIFKYTNFGIVSLVHGDFFIRQGRSYRDQQLLLLKKHLENNYRSRDRKWIVLFPEGGFLRKRRETSQAFAKKNNLPFLTNVTLPRSGATKIILNALVAQQKNGSPAGGDAKELDSKSKGLQWIIDTTIAYPKAEPIDIQTWILGYRKPTVTHVHYRIFPIKDVPLETDDLTTWLYQRFVEKEDLLSHFYETGAFPPSKGHKEAVSREMTLSNLWIFLIQSFAFLSGYMWYNIIQYFYHCLF']"
      ]
     },
     "execution_count": 80,
     "metadata": {},
     "output_type": "execute_result"
    }
   ],
   "source": [
    "whole_list[:2]"
   ]
  },
  {
   "cell_type": "markdown",
   "id": "7aa7449d-47db-4c21-8380-cac7a1a8c0ac",
   "metadata": {},
   "source": [
    "### 4. Get Uniprot ID and so forth from Uniprot"
   ]
  },
  {
   "cell_type": "code",
   "execution_count": null,
   "id": "b71d4fc2-2ab4-4041-8cf2-a307fef0c7e8",
   "metadata": {},
   "outputs": [],
   "source": []
  }
 ],
 "metadata": {
  "kernelspec": {
   "display_name": "Python 3",
   "language": "python",
   "name": "python3"
  },
  "language_info": {
   "codemirror_mode": {
    "name": "ipython",
    "version": 3
   },
   "file_extension": ".py",
   "mimetype": "text/x-python",
   "name": "python",
   "nbconvert_exporter": "python",
   "pygments_lexer": "ipython3",
   "version": "3.8.8"
  }
 },
 "nbformat": 4,
 "nbformat_minor": 5
}
