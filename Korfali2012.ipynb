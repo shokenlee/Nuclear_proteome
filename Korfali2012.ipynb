{
 "cells": [
  {
   "cell_type": "code",
   "execution_count": 21,
   "id": "331fbfb7-9877-43cc-9a8a-421532e0c4d5",
   "metadata": {},
   "outputs": [],
   "source": [
    "import os, re, openpyxl\n",
    "import pandas as pd\n",
    "from time import sleep\n",
    "from bioservices import UniProt"
   ]
  },
  {
   "cell_type": "code",
   "execution_count": 17,
   "id": "4b06972a-54b8-49b4-bf18-1d8802e67b99",
   "metadata": {},
   "outputs": [],
   "source": [
    "u = UniProt()"
   ]
  },
  {
   "cell_type": "code",
   "execution_count": 19,
   "id": "25fd0745-96b0-403d-afa1-be81816c680d",
   "metadata": {},
   "outputs": [],
   "source": [
    "organism_ids = {'Human': '9606', 'Mouse': '10090', \n",
    "                'Rat': '10116', 'Chicken': '9031',\n",
    "               'Frog': '8355', 'Zebrafish': '7955'}"
   ]
  },
  {
   "cell_type": "markdown",
   "id": "9de9d031-5b41-4e7c-bce2-fff452894348",
   "metadata": {},
   "source": [
    "### 1. Data import, extract data necessary cells, and rename columns"
   ]
  },
  {
   "cell_type": "code",
   "execution_count": 5,
   "id": "dc038e41-6d29-465a-b0d5-34feea54484b",
   "metadata": {},
   "outputs": [],
   "source": [
    "# S4 was extracted beforehand to a single file because the whole xlsx is extremely heavy\n",
    "df = pd.read_excel('./SourceData/Papers/Korfali2012/2012NUCLEUS0047R-SupTables_S4.xlsx')"
   ]
  },
  {
   "cell_type": "code",
   "execution_count": 6,
   "id": "e7fef4a0-ca3a-4d0d-8434-59fde76801c5",
   "metadata": {},
   "outputs": [
    {
     "data": {
      "text/plain": [
       "Table S4. Summary of NETs directly analyzed                  tissue\n",
       "Unnamed: 1                                                gene name\n",
       "Unnamed: 2                                          alternate names\n",
       "Unnamed: 3                                        accession numbers\n",
       "Unnamed: 17                                    NE:MM ratio by dNSAF\n",
       "Unnamed: 18                                               reference\n",
       "Name: 1, dtype: object"
      ]
     },
     "execution_count": 6,
     "metadata": {},
     "output_type": "execute_result"
    }
   ],
   "source": [
    "# prepare column names\n",
    "columns = df.iloc[1,[0,1,2,3,17,18]]\n",
    "columns"
   ]
  },
  {
   "cell_type": "code",
   "execution_count": 56,
   "id": "f7381caf-bde5-4208-8813-4422239e9a8a",
   "metadata": {
    "tags": []
   },
   "outputs": [],
   "source": [
    "# df.head()\n",
    "# df.tail(n=30)"
   ]
  },
  {
   "cell_type": "code",
   "execution_count": 7,
   "id": "295300d9-0a0a-4253-8aba-5d00e90582fa",
   "metadata": {
    "tags": []
   },
   "outputs": [],
   "source": [
    "# Extract necessary cells\n",
    "df = df.iloc[2:136,[0,1,2,3,17,18]]\n",
    "# df.head()\n",
    "# df.tail()"
   ]
  },
  {
   "cell_type": "code",
   "execution_count": 8,
   "id": "b5bda122-2e2b-44f1-b72b-0edc1de87171",
   "metadata": {
    "tags": []
   },
   "outputs": [],
   "source": [
    "# rename the columns\n",
    "df.columns = columns\n",
    "# df.head()"
   ]
  },
  {
   "cell_type": "code",
   "execution_count": 9,
   "id": "8d89095c-dfeb-49ee-be79-9a6094cd6362",
   "metadata": {
    "tags": []
   },
   "outputs": [
    {
     "data": {
      "text/html": [
       "<div>\n",
       "<style scoped>\n",
       "    .dataframe tbody tr th:only-of-type {\n",
       "        vertical-align: middle;\n",
       "    }\n",
       "\n",
       "    .dataframe tbody tr th {\n",
       "        vertical-align: top;\n",
       "    }\n",
       "\n",
       "    .dataframe thead th {\n",
       "        text-align: right;\n",
       "    }\n",
       "</style>\n",
       "<table border=\"1\" class=\"dataframe\">\n",
       "  <thead>\n",
       "    <tr style=\"text-align: right;\">\n",
       "      <th>1</th>\n",
       "      <th>tissue</th>\n",
       "      <th>gene name</th>\n",
       "      <th>alternate names</th>\n",
       "      <th>accession numbers</th>\n",
       "      <th>NE:MM ratio by dNSAF</th>\n",
       "      <th>reference</th>\n",
       "    </tr>\n",
       "  </thead>\n",
       "  <tbody>\n",
       "    <tr>\n",
       "      <th>131</th>\n",
       "      <td>NaN</td>\n",
       "      <td>UNC84B</td>\n",
       "      <td>SUN2, unc-84 homolog B</td>\n",
       "      <td>gi|109482575|ref|XP_001076724.1|;gi|34996501|r...</td>\n",
       "      <td>74.71</td>\n",
       "      <td>Hodzic, D.M., et al. (2004) J. Biol. Chem. 279...</td>\n",
       "    </tr>\n",
       "    <tr>\n",
       "      <th>132</th>\n",
       "      <td>NaN</td>\n",
       "      <td>SYNE1</td>\n",
       "      <td>syne-1, nesprin 1 isoform longer, C6orf98</td>\n",
       "      <td>gi|119120865|ref|NP_001073154.1|;gi|23097308|r...</td>\n",
       "      <td>INF</td>\n",
       "      <td>Apel, E.D., et al. (2000) J. Biol. Chem. 275, ...</td>\n",
       "    </tr>\n",
       "    <tr>\n",
       "      <th>133</th>\n",
       "      <td>NaN</td>\n",
       "      <td>SYNE2</td>\n",
       "      <td>syne-2, spectrin repeat containing, nuclear en...</td>\n",
       "      <td>gi|33624848|ref|NP_055995.3|;gi|109479539|ref|...</td>\n",
       "      <td>INF</td>\n",
       "      <td>Zhang, Q., et al. (2001)  J. Cell Sci. 114, 44...</td>\n",
       "    </tr>\n",
       "    <tr>\n",
       "      <th>134</th>\n",
       "      <td>NaN</td>\n",
       "      <td>POM121C</td>\n",
       "      <td>POM121, nuclear pore membrane protein 121</td>\n",
       "      <td>gi|26051278|ref|NP_742017.1|;gi|16758424|ref|N...</td>\n",
       "      <td>INF</td>\n",
       "      <td>Soderqvist, H., et al. (1997) Eur. J. Biochem....</td>\n",
       "    </tr>\n",
       "    <tr>\n",
       "      <th>135</th>\n",
       "      <td>NaN</td>\n",
       "      <td>NUP210</td>\n",
       "      <td>gp210, nucleoporin 210</td>\n",
       "      <td>gi|16758020|ref|NP_445774.1|;gi|9055314|ref|NP...</td>\n",
       "      <td>INF</td>\n",
       "      <td>Gerace, L., et al. (1982) J. Cell Biol. 95, 82...</td>\n",
       "    </tr>\n",
       "  </tbody>\n",
       "</table>\n",
       "</div>"
      ],
      "text/plain": [
       "1   tissue gene name                                    alternate names  \\\n",
       "131    NaN    UNC84B                             SUN2, unc-84 homolog B   \n",
       "132    NaN     SYNE1          syne-1, nesprin 1 isoform longer, C6orf98   \n",
       "133    NaN     SYNE2  syne-2, spectrin repeat containing, nuclear en...   \n",
       "134    NaN   POM121C          POM121, nuclear pore membrane protein 121   \n",
       "135    NaN    NUP210                             gp210, nucleoporin 210   \n",
       "\n",
       "1                                    accession numbers NE:MM ratio by dNSAF  \\\n",
       "131  gi|109482575|ref|XP_001076724.1|;gi|34996501|r...                74.71   \n",
       "132  gi|119120865|ref|NP_001073154.1|;gi|23097308|r...                  INF   \n",
       "133  gi|33624848|ref|NP_055995.3|;gi|109479539|ref|...                  INF   \n",
       "134  gi|26051278|ref|NP_742017.1|;gi|16758424|ref|N...                  INF   \n",
       "135  gi|16758020|ref|NP_445774.1|;gi|9055314|ref|NP...                  INF   \n",
       "\n",
       "1                                            reference  \n",
       "131  Hodzic, D.M., et al. (2004) J. Biol. Chem. 279...  \n",
       "132  Apel, E.D., et al. (2000) J. Biol. Chem. 275, ...  \n",
       "133  Zhang, Q., et al. (2001)  J. Cell Sci. 114, 44...  \n",
       "134  Soderqvist, H., et al. (1997) Eur. J. Biochem....  \n",
       "135  Gerace, L., et al. (1982) J. Cell Biol. 95, 82...  "
      ]
     },
     "execution_count": 9,
     "metadata": {},
     "output_type": "execute_result"
    }
   ],
   "source": [
    "df.tail()"
   ]
  },
  {
   "cell_type": "code",
   "execution_count": 10,
   "id": "22b3b419-6aff-4dab-afb6-0dbc9bdd9f4e",
   "metadata": {},
   "outputs": [],
   "source": [
    "# Fill in tissue data\n",
    "df['tissue'] = df['tissue'].fillna(method='ffill')\n",
    "df = df.dropna(axis=0)"
   ]
  },
  {
   "cell_type": "code",
   "execution_count": 11,
   "id": "0a058cfe-04d4-44b6-9851-51569746f67a",
   "metadata": {},
   "outputs": [
    {
     "data": {
      "text/html": [
       "<div>\n",
       "<style scoped>\n",
       "    .dataframe tbody tr th:only-of-type {\n",
       "        vertical-align: middle;\n",
       "    }\n",
       "\n",
       "    .dataframe tbody tr th {\n",
       "        vertical-align: top;\n",
       "    }\n",
       "\n",
       "    .dataframe thead th {\n",
       "        text-align: right;\n",
       "    }\n",
       "</style>\n",
       "<table border=\"1\" class=\"dataframe\">\n",
       "  <thead>\n",
       "    <tr style=\"text-align: right;\">\n",
       "      <th>1</th>\n",
       "      <th>tissue</th>\n",
       "      <th>gene name</th>\n",
       "      <th>alternate names</th>\n",
       "      <th>accession numbers</th>\n",
       "      <th>NE:MM ratio by dNSAF</th>\n",
       "      <th>reference</th>\n",
       "    </tr>\n",
       "  </thead>\n",
       "  <tbody>\n",
       "    <tr>\n",
       "      <th>131</th>\n",
       "      <td>Original NETs (pre-MudPIT proteomics)</td>\n",
       "      <td>UNC84B</td>\n",
       "      <td>SUN2, unc-84 homolog B</td>\n",
       "      <td>gi|109482575|ref|XP_001076724.1|;gi|34996501|r...</td>\n",
       "      <td>74.71</td>\n",
       "      <td>Hodzic, D.M., et al. (2004) J. Biol. Chem. 279...</td>\n",
       "    </tr>\n",
       "    <tr>\n",
       "      <th>132</th>\n",
       "      <td>Original NETs (pre-MudPIT proteomics)</td>\n",
       "      <td>SYNE1</td>\n",
       "      <td>syne-1, nesprin 1 isoform longer, C6orf98</td>\n",
       "      <td>gi|119120865|ref|NP_001073154.1|;gi|23097308|r...</td>\n",
       "      <td>INF</td>\n",
       "      <td>Apel, E.D., et al. (2000) J. Biol. Chem. 275, ...</td>\n",
       "    </tr>\n",
       "    <tr>\n",
       "      <th>133</th>\n",
       "      <td>Original NETs (pre-MudPIT proteomics)</td>\n",
       "      <td>SYNE2</td>\n",
       "      <td>syne-2, spectrin repeat containing, nuclear en...</td>\n",
       "      <td>gi|33624848|ref|NP_055995.3|;gi|109479539|ref|...</td>\n",
       "      <td>INF</td>\n",
       "      <td>Zhang, Q., et al. (2001)  J. Cell Sci. 114, 44...</td>\n",
       "    </tr>\n",
       "    <tr>\n",
       "      <th>134</th>\n",
       "      <td>Original NETs (pre-MudPIT proteomics)</td>\n",
       "      <td>POM121C</td>\n",
       "      <td>POM121, nuclear pore membrane protein 121</td>\n",
       "      <td>gi|26051278|ref|NP_742017.1|;gi|16758424|ref|N...</td>\n",
       "      <td>INF</td>\n",
       "      <td>Soderqvist, H., et al. (1997) Eur. J. Biochem....</td>\n",
       "    </tr>\n",
       "    <tr>\n",
       "      <th>135</th>\n",
       "      <td>Original NETs (pre-MudPIT proteomics)</td>\n",
       "      <td>NUP210</td>\n",
       "      <td>gp210, nucleoporin 210</td>\n",
       "      <td>gi|16758020|ref|NP_445774.1|;gi|9055314|ref|NP...</td>\n",
       "      <td>INF</td>\n",
       "      <td>Gerace, L., et al. (1982) J. Cell Biol. 95, 82...</td>\n",
       "    </tr>\n",
       "  </tbody>\n",
       "</table>\n",
       "</div>"
      ],
      "text/plain": [
       "1                                   tissue gene name  \\\n",
       "131  Original NETs (pre-MudPIT proteomics)    UNC84B   \n",
       "132  Original NETs (pre-MudPIT proteomics)     SYNE1   \n",
       "133  Original NETs (pre-MudPIT proteomics)     SYNE2   \n",
       "134  Original NETs (pre-MudPIT proteomics)   POM121C   \n",
       "135  Original NETs (pre-MudPIT proteomics)    NUP210   \n",
       "\n",
       "1                                      alternate names  \\\n",
       "131                             SUN2, unc-84 homolog B   \n",
       "132          syne-1, nesprin 1 isoform longer, C6orf98   \n",
       "133  syne-2, spectrin repeat containing, nuclear en...   \n",
       "134          POM121, nuclear pore membrane protein 121   \n",
       "135                             gp210, nucleoporin 210   \n",
       "\n",
       "1                                    accession numbers NE:MM ratio by dNSAF  \\\n",
       "131  gi|109482575|ref|XP_001076724.1|;gi|34996501|r...                74.71   \n",
       "132  gi|119120865|ref|NP_001073154.1|;gi|23097308|r...                  INF   \n",
       "133  gi|33624848|ref|NP_055995.3|;gi|109479539|ref|...                  INF   \n",
       "134  gi|26051278|ref|NP_742017.1|;gi|16758424|ref|N...                  INF   \n",
       "135  gi|16758020|ref|NP_445774.1|;gi|9055314|ref|NP...                  INF   \n",
       "\n",
       "1                                            reference  \n",
       "131  Hodzic, D.M., et al. (2004) J. Biol. Chem. 279...  \n",
       "132  Apel, E.D., et al. (2000) J. Biol. Chem. 275, ...  \n",
       "133  Zhang, Q., et al. (2001)  J. Cell Sci. 114, 44...  \n",
       "134  Soderqvist, H., et al. (1997) Eur. J. Biochem....  \n",
       "135  Gerace, L., et al. (1982) J. Cell Biol. 95, 82...  "
      ]
     },
     "execution_count": 11,
     "metadata": {},
     "output_type": "execute_result"
    }
   ],
   "source": [
    "# df.head()\n",
    "df.tail()"
   ]
  },
  {
   "cell_type": "markdown",
   "id": "0b2e3150-3839-4a3d-869f-d964cd62cf31",
   "metadata": {},
   "source": [
    "#### Do proteins in 'Original NETs' have Nucleus locacalization in Uniprot?"
   ]
  },
  {
   "cell_type": "code",
   "execution_count": 12,
   "id": "9c2ffc3e-92c9-43d6-957f-ab2741915279",
   "metadata": {},
   "outputs": [
    {
     "data": {
      "text/plain": [
       "['TMEM43',\n",
       " 'LBR',\n",
       " 'TOR1AIP1',\n",
       " 'TMPO',\n",
       " 'EMD',\n",
       " 'NRM',\n",
       " 'LEMD3',\n",
       " 'UNC84A',\n",
       " 'UNC84B',\n",
       " 'SYNE1',\n",
       " 'SYNE2',\n",
       " 'POM121C',\n",
       " 'NUP210']"
      ]
     },
     "execution_count": 12,
     "metadata": {},
     "output_type": "execute_result"
    }
   ],
   "source": [
    "original_NETs = df[df['tissue']=='Original NETs (pre-MudPIT proteomics)']['gene name']\n",
    "original_NETs = list(original_NETs)\n",
    "original_NETs"
   ]
  },
  {
   "cell_type": "markdown",
   "id": "27f2641a-db82-4d40-98f5-7d56a56f5e9a",
   "metadata": {},
   "source": [
    "#### Do not rerun the below w/o obvious necessity"
   ]
  },
  {
   "cell_type": "code",
   "execution_count": 45,
   "id": "18c16821-db0f-40f7-8cc6-509ee26b7670",
   "metadata": {
    "collapsed": true,
    "jupyter": {
     "outputs_hidden": true
    },
    "tags": []
   },
   "outputs": [
    {
     "name": "stdout",
     "output_type": "stream",
     "text": [
      "Subcellular location [CC]\n",
      "SUBCELLULAR LOCATION: Endoplasmic reticulum membrane {ECO:0000269|PubMed:32614325}. Nucleus inner membrane; Multi-pass membrane protein. Note=Retained in the inner nuclear membrane through interaction with EMD and A- and B-lamins. The N- and C-termini are oriented towards the nucleoplasm. The majority of the hydrophilic domain resides in the endoplasmic reticulum lumen (By similarity). {ECO:0000250}.\n",
      "\n",
      "Subcellular location [CC]\n",
      "SUBCELLULAR LOCATION: Nucleus inner membrane {ECO:0000269|PubMed:8157662}; Multi-pass membrane protein {ECO:0000255}. Endoplasmic reticulum membrane {ECO:0000269|PubMed:21327084}. Cytoplasm {ECO:0000269|PubMed:21327084}. Nucleus {ECO:0000269|PubMed:21327084}. Note=Nucleus; nuclear rim. {ECO:0000269|PubMed:21327084}.\n",
      "\n",
      "Subcellular location [CC]\n",
      "SUBCELLULAR LOCATION: Nucleus inner membrane {ECO:0000269|PubMed:12061773, ECO:0000269|PubMed:24275647}; Single-pass membrane protein {ECO:0000269|PubMed:12061773, ECO:0000269|PubMed:24275647}.\n",
      "\n",
      "Subcellular location [CC]\n",
      "SUBCELLULAR LOCATION: Nucleus. Chromosome. Note=Expressed diffusely throughout the nucleus.\n",
      "\n",
      "Subcellular location [CC]\n",
      "SUBCELLULAR LOCATION: Nucleus inner membrane {ECO:0000269|PubMed:19167377}; Single-pass membrane protein; Nucleoplasmic side {ECO:0000269|PubMed:19167377}. Nucleus outer membrane. Note=Colocalized with BANF1 at the central region of the assembling nuclear rim, near spindle-attachment sites. The accumulation of different intermediates of prelamin-A/C (non-farnesylated or carboxymethylated farnesylated prelamin-A/C) in fibroblasts modify its localization in the nucleus.\n",
      "\n",
      "Subcellular location [CC]\n",
      "SUBCELLULAR LOCATION: Nucleus inner membrane {ECO:0000269|PubMed:10402458, ECO:0000269|PubMed:15542857, ECO:0000269|PubMed:23092226}; Multi-pass membrane protein {ECO:0000269|PubMed:10402458, ECO:0000269|PubMed:15542857, ECO:0000269|PubMed:23092226}.\n",
      "\n",
      "Subcellular location [CC]\n",
      "SUBCELLULAR LOCATION: Nucleus inner membrane {ECO:0000269|PubMed:15647271}; Multi-pass membrane protein {ECO:0000269|PubMed:15647271}.\n",
      "\n",
      "Subcellular location [CC]\n",
      "SUBCELLULAR LOCATION: Nucleus inner membrane {ECO:0000269|PubMed:12958361, ECO:0000269|PubMed:16445915, ECO:0000269|PubMed:17132086, ECO:0000269|PubMed:18845190, ECO:0000269|PubMed:19933576}; Single-pass type II membrane protein {ECO:0000269|PubMed:12958361, ECO:0000269|PubMed:16445915, ECO:0000269|PubMed:17132086, ECO:0000269|PubMed:18845190, ECO:0000269|PubMed:19933576}. Note=At oocyte MI stage localized around the spindle, at MII stage localized to the spindle poles. {ECO:0000250|UniProtKB:Q9D666}.\n",
      "\n",
      "Subcellular location [CC]\n",
      "SUBCELLULAR LOCATION: Nucleus inner membrane {ECO:0000269|PubMed:15082709}; Single-pass type II membrane protein {ECO:0000269|PubMed:15082709}. Nucleus envelope {ECO:0000269|PubMed:15082709, ECO:0000269|PubMed:17132086, ECO:0000269|PubMed:17724119}. Endosome membrane {ECO:0000269|PubMed:10818110}; Single-pass type II membrane protein {ECO:0000305}.\n",
      "\n",
      "Subcellular location [CC]\n",
      "SUBCELLULAR LOCATION: Nucleus outer membrane {ECO:0000305}; Single-pass type IV membrane protein {ECO:0000305}; Cytoplasmic side {ECO:0000305}. Nucleus. Nucleus envelope. Cytoplasm, cytoskeleton. Cytoplasm, myofibril, sarcomere. Note=The largest part of the protein is cytoplasmic, while its C-terminal part is associated with the nuclear envelope, most probably the outer nuclear membrane. In skeletal and smooth muscles, a significant amount is found in the sarcomeres. In myoblasts, relocalized from the nuclear envelope to the nucleus and cytoplasm during cell differentiation.; SUBCELLULAR LOCATION: [Isoform GSRP-56]: Golgi apparatus {ECO:0000269|PubMed:16875688}.\n",
      "\n",
      "Subcellular location [CC]\n",
      "SUBCELLULAR LOCATION: Nucleus outer membrane {ECO:0000305}; Single-pass type IV membrane protein {ECO:0000305}; Cytoplasmic side {ECO:0000305}. Sarcoplasmic reticulum membrane {ECO:0000305|PubMed:15671068}; Single-pass type IV membrane protein {ECO:0000305}. Cell membrane {ECO:0000305}; Single-pass membrane protein {ECO:0000305}. Cytoplasm, cytoskeleton. Mitochondrion. Nucleus, nucleoplasm. Cytoplasm, myofibril, sarcomere, Z line {ECO:0000305|PubMed:15671068}. Note=Different isoform patterns are found in the different compartments of the cell. The isoforms having the C-terminal transmembrane span can be found in several organellar membranes like the nuclear envelope, the sarcoplasmic reticulum of myoblasts, or the lamellipodia and focal adhesions at the cell membrane. The largest part of the outer nuclear membrane-associated protein is cytoplasmic, while its C-terminal part is associated with the nuclear envelope, most probably the outer nuclear membrane. Remains associated with the nuclear envelope during its breakdown in mitotic cells. Shorter soluble isoforms can be found in the cytoplasm and within the nucleus.; SUBCELLULAR LOCATION: [Isoform 8]: Cell junction, focal adhesion {ECO:0000269|PubMed:22768332}. Note=In U2OS cells. {ECO:0000269|PubMed:22768332}.\n",
      "\n",
      "Subcellular location [CC]\n",
      "SUBCELLULAR LOCATION: Nucleus, nuclear pore complex {ECO:0000269|PubMed:17900573}. Nucleus membrane {ECO:0000269|PubMed:17900573}; Single-pass membrane protein {ECO:0000269|PubMed:17900573}. Endoplasmic reticulum membrane {ECO:0000250}; Single-pass membrane protein {ECO:0000250}. Note=Stably associated with the NPC throughout interphase and the endoplasmic reticulum during metaphase. {ECO:0000250}.\n",
      "\n",
      "Subcellular location [CC]\n",
      "SUBCELLULAR LOCATION: Nucleus, nuclear pore complex {ECO:0000269|PubMed:2195063}. Nucleus membrane {ECO:0000269|PubMed:2195063}; Single-pass type I membrane protein {ECO:0000269|PubMed:2195063}. Endoplasmic reticulum membrane {ECO:0000269|PubMed:2195063}; Single-pass type I membrane protein {ECO:0000269|PubMed:2195063}.\n",
      "\n"
     ]
    }
   ],
   "source": [
    "for protein in original_NETs:\n",
    "    res = u.search(protein+'+AND+organism:' + organism_ids['Human'], \n",
    "         frmt='tab', columns='comment(SUBCELLULAR LOCATION)', limit=1)\n",
    "    print(res)"
   ]
  },
  {
   "cell_type": "markdown",
   "id": "0b18aec4-81f4-44f0-bc84-8e60a9e1c946",
   "metadata": {},
   "source": [
    "#### Thus only TMEM43 is considered an ER protein, and others are all nucleus"
   ]
  },
  {
   "cell_type": "markdown",
   "id": "8ca5a1be-23e3-42ac-b64b-29cf9c89367c",
   "metadata": {},
   "source": [
    "#### Let's keep them"
   ]
  },
  {
   "cell_type": "markdown",
   "id": "6128d997-8969-4b71-a0c7-6fe7798d4cfc",
   "metadata": {},
   "source": [
    "### 2. Link the NCBI acuniquesion numbers to Uniprot ID"
   ]
  },
  {
   "cell_type": "markdown",
   "id": "2bc371b3-ccd9-4652-8019-b09c00c55052",
   "metadata": {},
   "source": [
    "#### Firstly in human"
   ]
  },
  {
   "cell_type": "markdown",
   "id": "a869017f-2c3d-42f4-8754-62436e17ceb9",
   "metadata": {},
   "source": [
    "#### Realized that the gene #18 contains two names and only the latter VMA21 is needed\n",
    "#### thus manually replace the name"
   ]
  },
  {
   "cell_type": "code",
   "execution_count": 13,
   "id": "9249935d-f4a2-47b2-94ad-f5561c33697d",
   "metadata": {},
   "outputs": [],
   "source": [
    "df.iloc[18, 1] = 'VMA21'"
   ]
  },
  {
   "cell_type": "code",
   "execution_count": 15,
   "id": "1ff23e7a-22e9-40cb-a1f1-012fb2cc8640",
   "metadata": {
    "collapsed": true,
    "jupyter": {
     "outputs_hidden": true
    },
    "tags": []
   },
   "outputs": [
    {
     "name": "stdout",
     "output_type": "stream",
     "text": [
      "<class 'pandas.core.frame.DataFrame'>\n",
      "Int64Index: 119 entries, 3 to 135\n",
      "Data columns (total 6 columns):\n",
      " #   Column                Non-Null Count  Dtype \n",
      "---  ------                --------------  ----- \n",
      " 0   tissue                119 non-null    object\n",
      " 1   gene name             119 non-null    object\n",
      " 2   alternate names       119 non-null    object\n",
      " 3   accession numbers     119 non-null    object\n",
      " 4   NE:MM ratio by dNSAF  119 non-null    object\n",
      " 5   reference             119 non-null    object\n",
      "dtypes: object(6)\n",
      "memory usage: 6.5+ KB\n"
     ]
    }
   ],
   "source": [
    "df.info()"
   ]
  },
  {
   "cell_type": "code",
   "execution_count": 27,
   "id": "ae89a1df-4a2f-4fe3-a957-388347269833",
   "metadata": {
    "collapsed": true,
    "jupyter": {
     "outputs_hidden": true
    },
    "tags": []
   },
   "outputs": [
    {
     "name": "stdout",
     "output_type": "stream",
     "text": [
      "TMEM53 Q6P2H8\n",
      "TMEM120A Q9BXJ8\n",
      "SCARA5 Q6ZMJ2\n",
      "TMEM74 Q96NL1\n",
      "PPAPDC3 Q8NBV4\n",
      "EGFR P00533\n",
      "SLC39A14 Q15043\n",
      "SCCPDH Q8NBX0\n",
      "WDR33 Q9C0J8\n",
      "TMEM209 Q96SK2\n",
      "KIAA1967 Q8N163\n",
      "TM7SF2 O76062\n",
      "APH1B Q8WW43\n",
      "MCAT Q8IVS2\n",
      "‡SLC22A24 Q8N4F4\n",
      "TMEM38A Q9H6F2\n",
      "WFS1 O76024\n",
      "POPDC2 Q9HBU9\n",
      "VMA21 Q3ZAQ7\n",
      "KLHL31 Q9H511\n",
      "CGRRF1 Q99675\n",
      "SAMD8 Q96LT4\n",
      "ATP1B4 Q9UN42\n",
      "DNAJC16 Q9Y2G8\n",
      "TMEM57 Q8N5G2\n",
      "DTNA Q9Y4J8\n",
      "ATP1B1 P05026\n",
      "RYR1 P21817\n",
      "HVCN1 Q96D96\n",
      "TMEM63A O94886\n",
      "C9orf46 Q9HBL7\n",
      "SLC38A10  Q9HBR0\n",
      "TMEM160 Q9NX00\n",
      "C18orf19 Q96ND0\n",
      "CNNM4 Q6P4Q7\n",
      "MS4A1 P11836\n",
      "LRRC8A Q8IWT6\n",
      "FAM3C Q92520\n",
      "ABCB1 P08183\n",
      "SLC9A1 P19634\n",
      "ITPR2 Q14571\n",
      "TMEM173 Q86WV6\n",
      "TMEM126A Q9H061\n",
      "FAM62A Q9BSJ8\n",
      "C17orf62 Q9BQA9\n",
      "C20orf30 Q96A57\n",
      "SEC11C Q9BY50\n",
      "MARCHV Not_found\n",
      "FAM105A Q9NUU6\n",
      "DHRS7 Q9Y394\n",
      "SLC25A22 Q9H936\n",
      "DAK Q3LXA3\n",
      "NCLN Q969V3\n",
      "SQSTM1 Q13501\n",
      "IAG2 Q9H0U3\n",
      "TAPBPL Q9BX59\n",
      "TMUB1 Q9BVT8\n",
      "AYTL1 Q7L5N7\n",
      "C20orf3 Q9HDC9\n",
      "C17orf32 Q8N511\n",
      "C14orf1 Q9UKR5\n",
      "TOR1AIP2 Q8NFQ8\n",
      "ALG2 Q9H553\n",
      "KIAA1161 Q6NSJ0\n",
      "TMTC3 Q6ZXV5\n",
      "LRRC37A A6NMS7\n",
      "MOSPD3 O75425\n",
      "ALG10B Q5I7T1\n",
      "CRELD1 Q96HD1\n",
      "TMEM161A Q9NX61\n",
      "TMEM70 Q9BUB7\n",
      "CKAP4 Q07065\n",
      "OSTC Q9NRP0\n",
      "TXNDC13 Q9H1E5\n",
      "TMEM41A Q96HV5\n",
      "KTN1 Q86UP2\n",
      "TMEM109 Q9BVC6\n",
      "SMPD4 Q9NXE4\n",
      "TXNDC10 Q96JJ7\n",
      "CLPTM1 O96005\n",
      "CISD2 Q8N5K1\n",
      "MBOAT5 Q6P1A2\n",
      "CTAGE5 Q96PC5\n",
      "TMEM66 Q96BY9\n",
      "C14orf101 Q9NX78\n",
      "TMEM194 O14524\n",
      "ARL6IP6 Q8N6S5\n",
      "C9ORF5 Q9H330\n",
      "RHBDD1 Q8TEB9\n",
      "AADACL1 Q6PIU2\n",
      "METTL7A Q9H8H3\n",
      "C8orf55 Q8WUY1\n",
      "LPGAT1 Q92604\n",
      "ERLIN2 O94905\n",
      "ERMP1 Q7Z2K6\n",
      "ATG9A Q7Z3C6\n",
      "ERGIC1 Q969X5\n",
      "ATLA3 Q6DD88\n",
      "STT3A P46977\n",
      "TMEM201 Q5SNT2\n",
      "TMEM214 Q6NUQ4\n",
      "TMEM48 Q9BTX1\n",
      "LEMD2 Q8NC56\n",
      "TMEM14C Q9P0S9\n",
      "C14orf49 Q6ZMZ3\n",
      "DULLARD O95476\n",
      "TMEM43 Q9BTV4\n",
      "LBR Q14739\n",
      "TOR1AIP1 Q5JTV8\n",
      "TMPO P42166\n",
      "EMD P50402\n",
      "NRM Q8IXM6\n",
      "LEMD3 Q9Y2U8\n",
      "UNC84A O94901\n",
      "UNC84B Q9UH99\n",
      "SYNE1 Q8NF91\n",
      "SYNE2 Q8WXH0\n",
      "POM121C A8CG34\n",
      "NUP210 Q8TEM1\n"
     ]
    }
   ],
   "source": [
    "regex = re.compile(r'(\\n)(\\w+|\\d+)(\\n)')\n",
    "gene_name_list = list(df['gene name'].unique())\n",
    "uniprot_id_list_human = []\n",
    "for gene in gene_name_list:\n",
    "    res = u.search(gene + '+AND+organism:' + organism_ids['Human'], \n",
    "         frmt='tab', columns='id', limit=1)\n",
    "    mo = regex.search(res)\n",
    "    if mo is not None:\n",
    "        uniprot_id = mo.group(2)\n",
    "    else:\n",
    "        uniprot_id = 'Not_found'\n",
    "\n",
    "    uniprot_id_list_human.append(uniprot_id)\n",
    "    print(gene, uniprot_id)\n",
    "    \n",
    "    sleep(5)"
   ]
  },
  {
   "cell_type": "code",
   "execution_count": 28,
   "id": "7779d55a-15ea-48cf-8f83-cd6e25a67bba",
   "metadata": {},
   "outputs": [],
   "source": [
    "_df = pd.DataFrame()\n",
    "_df['gene name'] = gene_name_list\n",
    "_df['Uniprot_id'] = uniprot_id_list_human"
   ]
  },
  {
   "cell_type": "markdown",
   "id": "3878e6d8-7ac0-481c-a4c5-864c8e57b6e2",
   "metadata": {},
   "source": [
    "#### Realized that the only gene with ID not found, MARCHV, is actually MARCH5\n",
    "#### this gene has a entry on uniprot and its ID was found\n",
    "#### Thus replaced"
   ]
  },
  {
   "cell_type": "code",
   "execution_count": 31,
   "id": "92162577-918f-4776-81d7-2d53bb0d1bcd",
   "metadata": {},
   "outputs": [
    {
     "data": {
      "text/plain": [
       "Int64Index([47], dtype='int64')"
      ]
     },
     "execution_count": 31,
     "metadata": {},
     "output_type": "execute_result"
    }
   ],
   "source": [
    "_df[_df['Uniprot_id'] == 'Not_found'].index"
   ]
  },
  {
   "cell_type": "code",
   "execution_count": 33,
   "id": "76552f94-bf6f-4bc3-a039-8b3adc29022b",
   "metadata": {},
   "outputs": [
    {
     "data": {
      "text/plain": [
       "'Not_found'"
      ]
     },
     "execution_count": 33,
     "metadata": {},
     "output_type": "execute_result"
    }
   ],
   "source": [
    "_df.loc[47, 'Uniprot_id'] "
   ]
  },
  {
   "cell_type": "code",
   "execution_count": 34,
   "id": "ac120c5b-d36f-4e56-afe0-96f776ab403a",
   "metadata": {},
   "outputs": [],
   "source": [
    "_df.loc[47, 'Uniprot_id'] = 'Q9NX47'"
   ]
  },
  {
   "cell_type": "code",
   "execution_count": 35,
   "id": "67dc700c-6204-49fc-a22e-c04e08009f31",
   "metadata": {},
   "outputs": [
    {
     "data": {
      "text/plain": [
       "'Q9NX47'"
      ]
     },
     "execution_count": 35,
     "metadata": {},
     "output_type": "execute_result"
    }
   ],
   "source": [
    "_df.loc[47, 'Uniprot_id'] "
   ]
  },
  {
   "cell_type": "markdown",
   "id": "142254c4-682a-4ab5-936c-e3de20900004",
   "metadata": {},
   "source": [
    "### 3. Merge of main df with _df"
   ]
  },
  {
   "cell_type": "code",
   "execution_count": 36,
   "id": "e0679c1a-7530-452f-8e58-b7e683461db0",
   "metadata": {},
   "outputs": [],
   "source": [
    "df_output_hs = df.merge(_df, how='outer', on='gene name')"
   ]
  },
  {
   "cell_type": "code",
   "execution_count": 37,
   "id": "3486ec66-8509-4a25-a67f-abfcd911a520",
   "metadata": {},
   "outputs": [
    {
     "name": "stdout",
     "output_type": "stream",
     "text": [
      "<class 'pandas.core.frame.DataFrame'>\n",
      "Int64Index: 119 entries, 0 to 118\n",
      "Data columns (total 7 columns):\n",
      " #   Column                Non-Null Count  Dtype \n",
      "---  ------                --------------  ----- \n",
      " 0   tissue                119 non-null    object\n",
      " 1   gene name             119 non-null    object\n",
      " 2   alternate names       119 non-null    object\n",
      " 3   accession numbers     119 non-null    object\n",
      " 4   NE:MM ratio by dNSAF  119 non-null    object\n",
      " 5   reference             119 non-null    object\n",
      " 6   Uniprot_id            119 non-null    object\n",
      "dtypes: object(7)\n",
      "memory usage: 7.4+ KB\n"
     ]
    }
   ],
   "source": [
    "df_output_hs.info()"
   ]
  },
  {
   "cell_type": "code",
   "execution_count": 38,
   "id": "6cea2e9a-fb57-4219-8076-f5b7a78627e1",
   "metadata": {},
   "outputs": [],
   "source": [
    "df_output_hs.to_csv('./Output/Korfali2012_Hs.csv')"
   ]
  },
  {
   "cell_type": "code",
   "execution_count": null,
   "id": "cd006450-3d3d-4f04-926c-56f1774809da",
   "metadata": {},
   "outputs": [],
   "source": []
  }
 ],
 "metadata": {
  "kernelspec": {
   "display_name": "Python 3",
   "language": "python",
   "name": "python3"
  },
  "language_info": {
   "codemirror_mode": {
    "name": "ipython",
    "version": 3
   },
   "file_extension": ".py",
   "mimetype": "text/x-python",
   "name": "python",
   "nbconvert_exporter": "python",
   "pygments_lexer": "ipython3",
   "version": "3.8.8"
  }
 },
 "nbformat": 4,
 "nbformat_minor": 5
}
