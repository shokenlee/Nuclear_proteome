{
 "cells": [
  {
   "cell_type": "markdown",
   "id": "a441d7e3-8008-4387-9a53-2c771f6bee07",
   "metadata": {},
   "source": [
    "## Korali et al. 2012\n",
    "### Rat liver and leukocytes and human muscle cells"
   ]
  },
  {
   "cell_type": "code",
   "execution_count": 1,
   "id": "331fbfb7-9877-43cc-9a8a-421532e0c4d5",
   "metadata": {},
   "outputs": [],
   "source": [
    "import re\n",
    "import pandas as pd\n",
    "from time import sleep\n",
    "from modules.my_utils import get_url, find_duplicate\n",
    "import modules.my_config as my_config"
   ]
  },
  {
   "cell_type": "markdown",
   "id": "9de9d031-5b41-4e7c-bce2-fff452894348",
   "metadata": {},
   "source": [
    "### 1. Data import, extract data necessary cells, and rename columns"
   ]
  },
  {
   "cell_type": "code",
   "execution_count": 7,
   "id": "dc038e41-6d29-465a-b0d5-34feea54484b",
   "metadata": {},
   "outputs": [],
   "source": [
    "# S4 was extracted beforehand to a single file because the whole xlsx is extremely heavy\n",
    "df = pd.read_excel('./SourceData/Papers/Korfali2012/2012NUCLEUS0047R-SupTables_S4.xlsx')"
   ]
  },
  {
   "cell_type": "code",
   "execution_count": 8,
   "id": "e7fef4a0-ca3a-4d0d-8434-59fde76801c5",
   "metadata": {},
   "outputs": [
    {
     "name": "stdout",
     "output_type": "stream",
     "text": [
      "Table S4. Summary of NETs directly analyzed                  tissue\n",
      "Unnamed: 1                                                gene name\n",
      "Unnamed: 2                                          alternate names\n",
      "Unnamed: 3                                        accession numbers\n",
      "Unnamed: 17                                    NE:MM ratio by dNSAF\n",
      "Unnamed: 18                                               reference\n",
      "Name: 1, dtype: object\n"
     ]
    }
   ],
   "source": [
    "# prepare column names\n",
    "columns = df.iloc[1,[0,1,2,3,17,18]]\n",
    "print(columns)"
   ]
  },
  {
   "cell_type": "code",
   "execution_count": 9,
   "id": "295300d9-0a0a-4253-8aba-5d00e90582fa",
   "metadata": {
    "tags": []
   },
   "outputs": [],
   "source": [
    "# Extract necessary cells\n",
    "df = df.iloc[2:136,[0,1,2,3,17,18]]\n",
    "# rename the columns\n",
    "df.columns = columns\n",
    "# Fill in tissue data\n",
    "df['tissue'] = df['tissue'].fillna(method='ffill')\n",
    "df = df.dropna(axis=0)"
   ]
  },
  {
   "cell_type": "markdown",
   "id": "2d0efbc9-8ce1-4e9f-8bb2-36d8b7019591",
   "metadata": {},
   "source": [
    "#### How many genes?"
   ]
  },
  {
   "cell_type": "code",
   "execution_count": 10,
   "id": "0e33214e-99d7-4cc3-b5c1-52764c18be01",
   "metadata": {},
   "outputs": [
    {
     "name": "stdout",
     "output_type": "stream",
     "text": [
      "119 genes in the dataset\n"
     ]
    }
   ],
   "source": [
    "print(len(list(df['gene name'].unique())), 'genes in the dataset')"
   ]
  },
  {
   "cell_type": "markdown",
   "id": "6128d997-8969-4b71-a0c7-6fe7798d4cfc",
   "metadata": {},
   "source": [
    "### 2. Link the NCBI accession numbers to Uniprot ID"
   ]
  },
  {
   "cell_type": "markdown",
   "id": "2bc371b3-ccd9-4652-8019-b09c00c55052",
   "metadata": {},
   "source": [
    "#### Firstly let's get IDs in human\n",
    "#### Realized that the gene #18 contains two names and only the latter VMA21 is needed\n",
    "#### Thus manually replaced the name"
   ]
  },
  {
   "cell_type": "code",
   "execution_count": 11,
   "id": "9249935d-f4a2-47b2-94ad-f5561c33697d",
   "metadata": {},
   "outputs": [],
   "source": [
    "df.iloc[18, 1] = 'VMA21'"
   ]
  },
  {
   "cell_type": "markdown",
   "id": "7740657a-3f4f-4798-8467-44c4bb6ce77b",
   "metadata": {},
   "source": [
    "#### Retrieve Uniprot ID of human genes by using uniprot module"
   ]
  },
  {
   "cell_type": "code",
   "execution_count": 12,
   "id": "ae89a1df-4a2f-4fe3-a957-388347269833",
   "metadata": {
    "collapsed": true,
    "jupyter": {
     "outputs_hidden": true
    },
    "tags": []
   },
   "outputs": [
    {
     "name": "stdout",
     "output_type": "stream",
     "text": [
      "0 TMEM53 Q6P2H8 TMEM53\n",
      "10 KIAA1967 Q8N163 CCAR2\n",
      "20 CGRRF1 Q99675 CGRRF1\n",
      "30 C9orf46 Q9HBL7 PLGRKT\n",
      "40 ITPR2 Q14571 ITPR2\n",
      "Error in fetching MARCHV in index 47: list index out of range\n",
      "50 SLC25A22 Q9H936 SLC25A22\n",
      "60 C14orf1 Q9UKR5 ERG28\n",
      "70 TMEM70 Q9BUB7 TMEM70\n",
      "80 CISD2 Q8N5K1 CISD2\n",
      "90 METTL7A Q9H8H3 TMT1A\n",
      "Error in fetching ATLA3 in index 97: list index out of range\n",
      "100 TMEM214 Q6NUQ4 TMEM214\n",
      "110 EMD P50402 EMD\n"
     ]
    }
   ],
   "source": [
    "df_retrieved = pd.DataFrame(columns=['Original_Gene_Name', 'Gene_Name', 'Entry_Korfali2012'])\n",
    "\n",
    "for i in range(len(df)):\n",
    "    # default values\n",
    "    entry_converted = 'Not_found'\n",
    "    gene_obtained = 'Not_found'\n",
    "    \n",
    "    gene = df.iloc[i, 1]\n",
    "    \n",
    "    try:\n",
    "        # Query the gene name to get the Uniprot ID and the Uniprot-registered gene name\n",
    "        params = {\n",
    "        \"query\": f'gene:{gene} AND organism_id:{my_config.organism_id_list[\"Homo sapiens\"]}',\n",
    "        \"fields\": \"accession, gene_names\",\n",
    "        \"format\": \"json\"\n",
    "        }\n",
    "        \n",
    "        r = get_url(my_config.WEBSITE_API, params=params)\n",
    "        result = r.json()['results'][0]\n",
    "        entry_converted = result['primaryAccession']\n",
    "        gene_obtained = result['genes'][0].get(\"geneName\", {}).get('value', 'Not_found')\n",
    "        \n",
    "    except Exception as e:\n",
    "        print(f'Error in fetching {gene} in index {i}: {e}') \n",
    "\n",
    "    # Put the obtained Entry and gene name\n",
    "    df_retrieved.loc[i, 'Original_Gene_Name'] = gene\n",
    "    df_retrieved.loc[i, 'Entry_Korfali2012'] = entry_converted\n",
    "    df_retrieved.loc[i, 'Gene_Name'] = gene_obtained\n",
    "    \n",
    "    # Log    \n",
    "    if i % 10 == 0: print(i, gene, entry_converted, gene_obtained)\n",
    "    \n",
    "    # take a break and go next\n",
    "    sleep(1)"
   ]
  },
  {
   "cell_type": "markdown",
   "id": "3878e6d8-7ac0-481c-a4c5-864c8e57b6e2",
   "metadata": {},
   "source": [
    "#### Let's see why two genes were not found by manual checking on UniProt\n",
    "##### MARCHV has to be MARCH5\n",
    "##### ATLA3 has to be ATL3\n",
    "#### UniprotIDs for both genes were found\n",
    "#### It is impressive that all of 119 genes are still valid, isn't it?"
   ]
  },
  {
   "cell_type": "code",
   "execution_count": 16,
   "id": "76552f94-bf6f-4bc3-a039-8b3adc29022b",
   "metadata": {},
   "outputs": [],
   "source": [
    "df_retrieved.loc[47, 'Entry_Korfali2012'] = 'Q9NX47'\n",
    "df_retrieved.loc[47, 'Gene_Name'] = 'MARCHV'\n",
    "df_retrieved.loc[97, 'Entry_Korfali2012'] = 'Q6DD88'\n",
    "df_retrieved.loc[97, 'Gene_Name'] = 'ATL3'"
   ]
  },
  {
   "cell_type": "markdown",
   "id": "142254c4-682a-4ab5-936c-e3de20900004",
   "metadata": {},
   "source": [
    "#### Merge with main df to get NE:MM ratio"
   ]
  },
  {
   "cell_type": "code",
   "execution_count": 17,
   "id": "e0679c1a-7530-452f-8e58-b7e683461db0",
   "metadata": {},
   "outputs": [],
   "source": [
    "df_output = df_retrieved.merge(df, how='left', left_on='Original_Gene_Name', right_on='gene name')"
   ]
  },
  {
   "cell_type": "code",
   "execution_count": 18,
   "id": "2b2efb98",
   "metadata": {},
   "outputs": [
    {
     "data": {
      "text/plain": [
       "Index(['Original_Gene_Name', 'Gene_Name', 'Entry_Korfali2012', 'UniprotID',\n",
       "       'tissue', 'gene name', 'alternate names', 'accession numbers',\n",
       "       'NE:MM ratio by dNSAF', 'reference'],\n",
       "      dtype='object')"
      ]
     },
     "execution_count": 18,
     "metadata": {},
     "output_type": "execute_result"
    }
   ],
   "source": [
    "df_output.columns"
   ]
  },
  {
   "cell_type": "code",
   "execution_count": 19,
   "id": "223a547f",
   "metadata": {},
   "outputs": [],
   "source": [
    "df_output = df_output[['Gene_Name', 'Entry_Korfali2012', 'tissue', 'NE:MM ratio by dNSAF']]\n",
    "# rename the columns\n",
    "df_output.columns = ['Gene_Name', 'Entry_Korfali2012', 'Tissue', 'NE_MM_ratio']"
   ]
  },
  {
   "cell_type": "code",
   "execution_count": 20,
   "id": "9c0763d3",
   "metadata": {},
   "outputs": [
    {
     "name": "stdout",
     "output_type": "stream",
     "text": [
      "Number of unique genes in the dataset: 119\n"
     ]
    }
   ],
   "source": [
    "print(\"Number of unique genes in the dataset:\", len(df_output['Entry_Korfali2012'].unique()))"
   ]
  },
  {
   "cell_type": "code",
   "execution_count": 21,
   "id": "6cea2e9a-fb57-4219-8076-f5b7a78627e1",
   "metadata": {},
   "outputs": [],
   "source": [
    "df_output.to_csv('./Output/Korfali2012_Hs.csv', index=False)"
   ]
  },
  {
   "cell_type": "code",
   "execution_count": null,
   "id": "6e6061bd",
   "metadata": {},
   "outputs": [],
   "source": []
  }
 ],
 "metadata": {
  "kernelspec": {
   "display_name": "py311",
   "language": "python",
   "name": "python3"
  },
  "language_info": {
   "codemirror_mode": {
    "name": "ipython",
    "version": 3
   },
   "file_extension": ".py",
   "mimetype": "text/x-python",
   "name": "python",
   "nbconvert_exporter": "python",
   "pygments_lexer": "ipython3",
   "version": "3.11.5"
  }
 },
 "nbformat": 4,
 "nbformat_minor": 5
}
