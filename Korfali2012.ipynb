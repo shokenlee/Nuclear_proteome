{
 "cells": [
  {
   "cell_type": "code",
   "execution_count": 23,
   "id": "331fbfb7-9877-43cc-9a8a-421532e0c4d5",
   "metadata": {},
   "outputs": [],
   "source": [
    "import os, re\n",
    "import pandas as pd\n",
    "from bioservices import UniProt"
   ]
  },
  {
   "cell_type": "code",
   "execution_count": 3,
   "id": "4b06972a-54b8-49b4-bf18-1d8802e67b99",
   "metadata": {},
   "outputs": [
    {
     "name": "stdout",
     "output_type": "stream",
     "text": [
      "Creating directory /Users/ShokenLEE/Library/Caches/bioservices \n",
      "Welcome to Bioservices\n",
      "======================\n",
      "It looks like you do not have a configuration file.\n",
      "We are creating one with default values in /Users/ShokenLEE/Library/Application Support/bioservices/bioservices.cfg .\n",
      "Done\n"
     ]
    }
   ],
   "source": [
    "u = UniProt()"
   ]
  },
  {
   "cell_type": "code",
   "execution_count": 24,
   "id": "25fd0745-96b0-403d-afa1-be81816c680d",
   "metadata": {},
   "outputs": [],
   "source": [
    "organism_ids = {'Human': '9606', 'Mouse': '10090', \n",
    "                'Rat': '10116', 'Chicken': '9031',\n",
    "               'Frog': '8355', 'Zebrafish': '7955'}"
   ]
  },
  {
   "cell_type": "markdown",
   "id": "9de9d031-5b41-4e7c-bce2-fff452894348",
   "metadata": {},
   "source": [
    "### 1. Data import, extract data necessary cells, and rename columns"
   ]
  },
  {
   "cell_type": "code",
   "execution_count": 25,
   "id": "dc038e41-6d29-465a-b0d5-34feea54484b",
   "metadata": {},
   "outputs": [],
   "source": [
    "# S4 was extracted beforehand to a single file\n",
    "df = pd.read_excel('./SourceData/Papers/Korfali2012/2012NUCLEUS0047R-SupTables_S4.xlsx')"
   ]
  },
  {
   "cell_type": "code",
   "execution_count": 26,
   "id": "e7fef4a0-ca3a-4d0d-8434-59fde76801c5",
   "metadata": {},
   "outputs": [
    {
     "data": {
      "text/plain": [
       "Table S4. Summary of NETs directly analyzed                  tissue\n",
       "Unnamed: 1                                                gene name\n",
       "Unnamed: 2                                          alternate names\n",
       "Unnamed: 3                                        accession numbers\n",
       "Unnamed: 17                                    NE:MM ratio by dNSAF\n",
       "Unnamed: 18                                               reference\n",
       "Name: 1, dtype: object"
      ]
     },
     "execution_count": 26,
     "metadata": {},
     "output_type": "execute_result"
    }
   ],
   "source": [
    "# prepare column names\n",
    "columns = df.iloc[1,[0,1,2,3,17,18]]\n",
    "columns"
   ]
  },
  {
   "cell_type": "code",
   "execution_count": 56,
   "id": "f7381caf-bde5-4208-8813-4422239e9a8a",
   "metadata": {
    "tags": []
   },
   "outputs": [],
   "source": [
    "# df.head()\n",
    "# df.tail(n=30)"
   ]
  },
  {
   "cell_type": "code",
   "execution_count": 27,
   "id": "295300d9-0a0a-4253-8aba-5d00e90582fa",
   "metadata": {
    "tags": []
   },
   "outputs": [],
   "source": [
    "# Extract necessary cells\n",
    "df = df.iloc[2:136,[0,1,2,3,17,18]]\n",
    "# df.head()\n",
    "# df.tail()"
   ]
  },
  {
   "cell_type": "code",
   "execution_count": 28,
   "id": "b5bda122-2e2b-44f1-b72b-0edc1de87171",
   "metadata": {
    "tags": []
   },
   "outputs": [],
   "source": [
    "# rename the columns\n",
    "df.columns = columns\n",
    "# df.head()"
   ]
  },
  {
   "cell_type": "code",
   "execution_count": 29,
   "id": "8d89095c-dfeb-49ee-be79-9a6094cd6362",
   "metadata": {
    "tags": []
   },
   "outputs": [
    {
     "data": {
      "text/html": [
       "<div>\n",
       "<style scoped>\n",
       "    .dataframe tbody tr th:only-of-type {\n",
       "        vertical-align: middle;\n",
       "    }\n",
       "\n",
       "    .dataframe tbody tr th {\n",
       "        vertical-align: top;\n",
       "    }\n",
       "\n",
       "    .dataframe thead th {\n",
       "        text-align: right;\n",
       "    }\n",
       "</style>\n",
       "<table border=\"1\" class=\"dataframe\">\n",
       "  <thead>\n",
       "    <tr style=\"text-align: right;\">\n",
       "      <th>1</th>\n",
       "      <th>tissue</th>\n",
       "      <th>gene name</th>\n",
       "      <th>alternate names</th>\n",
       "      <th>accession numbers</th>\n",
       "      <th>NE:MM ratio by dNSAF</th>\n",
       "      <th>reference</th>\n",
       "    </tr>\n",
       "  </thead>\n",
       "  <tbody>\n",
       "    <tr>\n",
       "      <th>131</th>\n",
       "      <td>NaN</td>\n",
       "      <td>UNC84B</td>\n",
       "      <td>SUN2, unc-84 homolog B</td>\n",
       "      <td>gi|109482575|ref|XP_001076724.1|;gi|34996501|r...</td>\n",
       "      <td>74.71</td>\n",
       "      <td>Hodzic, D.M., et al. (2004) J. Biol. Chem. 279...</td>\n",
       "    </tr>\n",
       "    <tr>\n",
       "      <th>132</th>\n",
       "      <td>NaN</td>\n",
       "      <td>SYNE1</td>\n",
       "      <td>syne-1, nesprin 1 isoform longer, C6orf98</td>\n",
       "      <td>gi|119120865|ref|NP_001073154.1|;gi|23097308|r...</td>\n",
       "      <td>INF</td>\n",
       "      <td>Apel, E.D., et al. (2000) J. Biol. Chem. 275, ...</td>\n",
       "    </tr>\n",
       "    <tr>\n",
       "      <th>133</th>\n",
       "      <td>NaN</td>\n",
       "      <td>SYNE2</td>\n",
       "      <td>syne-2, spectrin repeat containing, nuclear en...</td>\n",
       "      <td>gi|33624848|ref|NP_055995.3|;gi|109479539|ref|...</td>\n",
       "      <td>INF</td>\n",
       "      <td>Zhang, Q., et al. (2001)  J. Cell Sci. 114, 44...</td>\n",
       "    </tr>\n",
       "    <tr>\n",
       "      <th>134</th>\n",
       "      <td>NaN</td>\n",
       "      <td>POM121C</td>\n",
       "      <td>POM121, nuclear pore membrane protein 121</td>\n",
       "      <td>gi|26051278|ref|NP_742017.1|;gi|16758424|ref|N...</td>\n",
       "      <td>INF</td>\n",
       "      <td>Soderqvist, H., et al. (1997) Eur. J. Biochem....</td>\n",
       "    </tr>\n",
       "    <tr>\n",
       "      <th>135</th>\n",
       "      <td>NaN</td>\n",
       "      <td>NUP210</td>\n",
       "      <td>gp210, nucleoporin 210</td>\n",
       "      <td>gi|16758020|ref|NP_445774.1|;gi|9055314|ref|NP...</td>\n",
       "      <td>INF</td>\n",
       "      <td>Gerace, L., et al. (1982) J. Cell Biol. 95, 82...</td>\n",
       "    </tr>\n",
       "  </tbody>\n",
       "</table>\n",
       "</div>"
      ],
      "text/plain": [
       "1   tissue gene name                                    alternate names  \\\n",
       "131    NaN    UNC84B                             SUN2, unc-84 homolog B   \n",
       "132    NaN     SYNE1          syne-1, nesprin 1 isoform longer, C6orf98   \n",
       "133    NaN     SYNE2  syne-2, spectrin repeat containing, nuclear en...   \n",
       "134    NaN   POM121C          POM121, nuclear pore membrane protein 121   \n",
       "135    NaN    NUP210                             gp210, nucleoporin 210   \n",
       "\n",
       "1                                    accession numbers NE:MM ratio by dNSAF  \\\n",
       "131  gi|109482575|ref|XP_001076724.1|;gi|34996501|r...                74.71   \n",
       "132  gi|119120865|ref|NP_001073154.1|;gi|23097308|r...                  INF   \n",
       "133  gi|33624848|ref|NP_055995.3|;gi|109479539|ref|...                  INF   \n",
       "134  gi|26051278|ref|NP_742017.1|;gi|16758424|ref|N...                  INF   \n",
       "135  gi|16758020|ref|NP_445774.1|;gi|9055314|ref|NP...                  INF   \n",
       "\n",
       "1                                            reference  \n",
       "131  Hodzic, D.M., et al. (2004) J. Biol. Chem. 279...  \n",
       "132  Apel, E.D., et al. (2000) J. Biol. Chem. 275, ...  \n",
       "133  Zhang, Q., et al. (2001)  J. Cell Sci. 114, 44...  \n",
       "134  Soderqvist, H., et al. (1997) Eur. J. Biochem....  \n",
       "135  Gerace, L., et al. (1982) J. Cell Biol. 95, 82...  "
      ]
     },
     "execution_count": 29,
     "metadata": {},
     "output_type": "execute_result"
    }
   ],
   "source": [
    "df.tail()"
   ]
  },
  {
   "cell_type": "code",
   "execution_count": 30,
   "id": "22b3b419-6aff-4dab-afb6-0dbc9bdd9f4e",
   "metadata": {},
   "outputs": [],
   "source": [
    "# Fill in tissue data\n",
    "df['tissue'] = df['tissue'].fillna(method='ffill')\n",
    "df = df.dropna(axis=0)"
   ]
  },
  {
   "cell_type": "code",
   "execution_count": 32,
   "id": "0a058cfe-04d4-44b6-9851-51569746f67a",
   "metadata": {},
   "outputs": [
    {
     "data": {
      "text/html": [
       "<div>\n",
       "<style scoped>\n",
       "    .dataframe tbody tr th:only-of-type {\n",
       "        vertical-align: middle;\n",
       "    }\n",
       "\n",
       "    .dataframe tbody tr th {\n",
       "        vertical-align: top;\n",
       "    }\n",
       "\n",
       "    .dataframe thead th {\n",
       "        text-align: right;\n",
       "    }\n",
       "</style>\n",
       "<table border=\"1\" class=\"dataframe\">\n",
       "  <thead>\n",
       "    <tr style=\"text-align: right;\">\n",
       "      <th>1</th>\n",
       "      <th>tissue</th>\n",
       "      <th>gene name</th>\n",
       "      <th>alternate names</th>\n",
       "      <th>accession numbers</th>\n",
       "      <th>NE:MM ratio by dNSAF</th>\n",
       "      <th>reference</th>\n",
       "    </tr>\n",
       "  </thead>\n",
       "  <tbody>\n",
       "    <tr>\n",
       "      <th>131</th>\n",
       "      <td>Original NETs (pre-MudPIT proteomics)</td>\n",
       "      <td>UNC84B</td>\n",
       "      <td>SUN2, unc-84 homolog B</td>\n",
       "      <td>gi|109482575|ref|XP_001076724.1|;gi|34996501|r...</td>\n",
       "      <td>74.71</td>\n",
       "      <td>Hodzic, D.M., et al. (2004) J. Biol. Chem. 279...</td>\n",
       "    </tr>\n",
       "    <tr>\n",
       "      <th>132</th>\n",
       "      <td>Original NETs (pre-MudPIT proteomics)</td>\n",
       "      <td>SYNE1</td>\n",
       "      <td>syne-1, nesprin 1 isoform longer, C6orf98</td>\n",
       "      <td>gi|119120865|ref|NP_001073154.1|;gi|23097308|r...</td>\n",
       "      <td>INF</td>\n",
       "      <td>Apel, E.D., et al. (2000) J. Biol. Chem. 275, ...</td>\n",
       "    </tr>\n",
       "    <tr>\n",
       "      <th>133</th>\n",
       "      <td>Original NETs (pre-MudPIT proteomics)</td>\n",
       "      <td>SYNE2</td>\n",
       "      <td>syne-2, spectrin repeat containing, nuclear en...</td>\n",
       "      <td>gi|33624848|ref|NP_055995.3|;gi|109479539|ref|...</td>\n",
       "      <td>INF</td>\n",
       "      <td>Zhang, Q., et al. (2001)  J. Cell Sci. 114, 44...</td>\n",
       "    </tr>\n",
       "    <tr>\n",
       "      <th>134</th>\n",
       "      <td>Original NETs (pre-MudPIT proteomics)</td>\n",
       "      <td>POM121C</td>\n",
       "      <td>POM121, nuclear pore membrane protein 121</td>\n",
       "      <td>gi|26051278|ref|NP_742017.1|;gi|16758424|ref|N...</td>\n",
       "      <td>INF</td>\n",
       "      <td>Soderqvist, H., et al. (1997) Eur. J. Biochem....</td>\n",
       "    </tr>\n",
       "    <tr>\n",
       "      <th>135</th>\n",
       "      <td>Original NETs (pre-MudPIT proteomics)</td>\n",
       "      <td>NUP210</td>\n",
       "      <td>gp210, nucleoporin 210</td>\n",
       "      <td>gi|16758020|ref|NP_445774.1|;gi|9055314|ref|NP...</td>\n",
       "      <td>INF</td>\n",
       "      <td>Gerace, L., et al. (1982) J. Cell Biol. 95, 82...</td>\n",
       "    </tr>\n",
       "  </tbody>\n",
       "</table>\n",
       "</div>"
      ],
      "text/plain": [
       "1                                   tissue gene name  \\\n",
       "131  Original NETs (pre-MudPIT proteomics)    UNC84B   \n",
       "132  Original NETs (pre-MudPIT proteomics)     SYNE1   \n",
       "133  Original NETs (pre-MudPIT proteomics)     SYNE2   \n",
       "134  Original NETs (pre-MudPIT proteomics)   POM121C   \n",
       "135  Original NETs (pre-MudPIT proteomics)    NUP210   \n",
       "\n",
       "1                                      alternate names  \\\n",
       "131                             SUN2, unc-84 homolog B   \n",
       "132          syne-1, nesprin 1 isoform longer, C6orf98   \n",
       "133  syne-2, spectrin repeat containing, nuclear en...   \n",
       "134          POM121, nuclear pore membrane protein 121   \n",
       "135                             gp210, nucleoporin 210   \n",
       "\n",
       "1                                    accession numbers NE:MM ratio by dNSAF  \\\n",
       "131  gi|109482575|ref|XP_001076724.1|;gi|34996501|r...                74.71   \n",
       "132  gi|119120865|ref|NP_001073154.1|;gi|23097308|r...                  INF   \n",
       "133  gi|33624848|ref|NP_055995.3|;gi|109479539|ref|...                  INF   \n",
       "134  gi|26051278|ref|NP_742017.1|;gi|16758424|ref|N...                  INF   \n",
       "135  gi|16758020|ref|NP_445774.1|;gi|9055314|ref|NP...                  INF   \n",
       "\n",
       "1                                            reference  \n",
       "131  Hodzic, D.M., et al. (2004) J. Biol. Chem. 279...  \n",
       "132  Apel, E.D., et al. (2000) J. Biol. Chem. 275, ...  \n",
       "133  Zhang, Q., et al. (2001)  J. Cell Sci. 114, 44...  \n",
       "134  Soderqvist, H., et al. (1997) Eur. J. Biochem....  \n",
       "135  Gerace, L., et al. (1982) J. Cell Biol. 95, 82...  "
      ]
     },
     "execution_count": 32,
     "metadata": {},
     "output_type": "execute_result"
    }
   ],
   "source": [
    "# df.head()\n",
    "df.tail()"
   ]
  },
  {
   "cell_type": "markdown",
   "id": "248c7fba-d01b-4e3f-b332-3af8f88542c0",
   "metadata": {},
   "source": [
    "#### Rename tissue"
   ]
  },
  {
   "cell_type": "code",
   "execution_count": 33,
   "id": "1f55c7ad-b297-476b-8d7f-46df6e80d0a7",
   "metadata": {},
   "outputs": [
    {
     "data": {
      "text/plain": [
       "array(['liver enriched', 'muscle enriched', 'blood enriched',\n",
       "       'liver and blood', 'liver and muscle', 'blood and muscle',\n",
       "       'ALL tissues', 'Original NETs (pre-MudPIT proteomics)'],\n",
       "      dtype=object)"
      ]
     },
     "execution_count": 33,
     "metadata": {},
     "output_type": "execute_result"
    }
   ],
   "source": [
    "tissues = df['tissue'].unique()\n",
    "tissues"
   ]
  },
  {
   "cell_type": "markdown",
   "id": "0b2e3150-3839-4a3d-869f-d964cd62cf31",
   "metadata": {},
   "source": [
    "#### Do proteins in 'Original NETs' have Nucleus locacalization in Uniprot?"
   ]
  },
  {
   "cell_type": "code",
   "execution_count": 37,
   "id": "9c2ffc3e-92c9-43d6-957f-ab2741915279",
   "metadata": {},
   "outputs": [
    {
     "data": {
      "text/plain": [
       "['TMEM43',\n",
       " 'LBR',\n",
       " 'TOR1AIP1',\n",
       " 'TMPO',\n",
       " 'EMD',\n",
       " 'NRM',\n",
       " 'LEMD3',\n",
       " 'UNC84A',\n",
       " 'UNC84B',\n",
       " 'SYNE1',\n",
       " 'SYNE2',\n",
       " 'POM121C',\n",
       " 'NUP210']"
      ]
     },
     "execution_count": 37,
     "metadata": {},
     "output_type": "execute_result"
    }
   ],
   "source": [
    "original_NETs = df[df['tissue']=='Original NETs (pre-MudPIT proteomics)']['gene name']\n",
    "original_NETs = list(original_NETs)\n",
    "original_NETs"
   ]
  },
  {
   "cell_type": "code",
   "execution_count": 45,
   "id": "18c16821-db0f-40f7-8cc6-509ee26b7670",
   "metadata": {
    "collapsed": true,
    "jupyter": {
     "outputs_hidden": true
    },
    "tags": []
   },
   "outputs": [
    {
     "name": "stdout",
     "output_type": "stream",
     "text": [
      "Subcellular location [CC]\n",
      "SUBCELLULAR LOCATION: Endoplasmic reticulum membrane {ECO:0000269|PubMed:32614325}. Nucleus inner membrane; Multi-pass membrane protein. Note=Retained in the inner nuclear membrane through interaction with EMD and A- and B-lamins. The N- and C-termini are oriented towards the nucleoplasm. The majority of the hydrophilic domain resides in the endoplasmic reticulum lumen (By similarity). {ECO:0000250}.\n",
      "\n",
      "Subcellular location [CC]\n",
      "SUBCELLULAR LOCATION: Nucleus inner membrane {ECO:0000269|PubMed:8157662}; Multi-pass membrane protein {ECO:0000255}. Endoplasmic reticulum membrane {ECO:0000269|PubMed:21327084}. Cytoplasm {ECO:0000269|PubMed:21327084}. Nucleus {ECO:0000269|PubMed:21327084}. Note=Nucleus; nuclear rim. {ECO:0000269|PubMed:21327084}.\n",
      "\n",
      "Subcellular location [CC]\n",
      "SUBCELLULAR LOCATION: Nucleus inner membrane {ECO:0000269|PubMed:12061773, ECO:0000269|PubMed:24275647}; Single-pass membrane protein {ECO:0000269|PubMed:12061773, ECO:0000269|PubMed:24275647}.\n",
      "\n",
      "Subcellular location [CC]\n",
      "SUBCELLULAR LOCATION: Nucleus. Chromosome. Note=Expressed diffusely throughout the nucleus.\n",
      "\n",
      "Subcellular location [CC]\n",
      "SUBCELLULAR LOCATION: Nucleus inner membrane {ECO:0000269|PubMed:19167377}; Single-pass membrane protein; Nucleoplasmic side {ECO:0000269|PubMed:19167377}. Nucleus outer membrane. Note=Colocalized with BANF1 at the central region of the assembling nuclear rim, near spindle-attachment sites. The accumulation of different intermediates of prelamin-A/C (non-farnesylated or carboxymethylated farnesylated prelamin-A/C) in fibroblasts modify its localization in the nucleus.\n",
      "\n",
      "Subcellular location [CC]\n",
      "SUBCELLULAR LOCATION: Nucleus inner membrane {ECO:0000269|PubMed:10402458, ECO:0000269|PubMed:15542857, ECO:0000269|PubMed:23092226}; Multi-pass membrane protein {ECO:0000269|PubMed:10402458, ECO:0000269|PubMed:15542857, ECO:0000269|PubMed:23092226}.\n",
      "\n",
      "Subcellular location [CC]\n",
      "SUBCELLULAR LOCATION: Nucleus inner membrane {ECO:0000269|PubMed:15647271}; Multi-pass membrane protein {ECO:0000269|PubMed:15647271}.\n",
      "\n",
      "Subcellular location [CC]\n",
      "SUBCELLULAR LOCATION: Nucleus inner membrane {ECO:0000269|PubMed:12958361, ECO:0000269|PubMed:16445915, ECO:0000269|PubMed:17132086, ECO:0000269|PubMed:18845190, ECO:0000269|PubMed:19933576}; Single-pass type II membrane protein {ECO:0000269|PubMed:12958361, ECO:0000269|PubMed:16445915, ECO:0000269|PubMed:17132086, ECO:0000269|PubMed:18845190, ECO:0000269|PubMed:19933576}. Note=At oocyte MI stage localized around the spindle, at MII stage localized to the spindle poles. {ECO:0000250|UniProtKB:Q9D666}.\n",
      "\n",
      "Subcellular location [CC]\n",
      "SUBCELLULAR LOCATION: Nucleus inner membrane {ECO:0000269|PubMed:15082709}; Single-pass type II membrane protein {ECO:0000269|PubMed:15082709}. Nucleus envelope {ECO:0000269|PubMed:15082709, ECO:0000269|PubMed:17132086, ECO:0000269|PubMed:17724119}. Endosome membrane {ECO:0000269|PubMed:10818110}; Single-pass type II membrane protein {ECO:0000305}.\n",
      "\n",
      "Subcellular location [CC]\n",
      "SUBCELLULAR LOCATION: Nucleus outer membrane {ECO:0000305}; Single-pass type IV membrane protein {ECO:0000305}; Cytoplasmic side {ECO:0000305}. Nucleus. Nucleus envelope. Cytoplasm, cytoskeleton. Cytoplasm, myofibril, sarcomere. Note=The largest part of the protein is cytoplasmic, while its C-terminal part is associated with the nuclear envelope, most probably the outer nuclear membrane. In skeletal and smooth muscles, a significant amount is found in the sarcomeres. In myoblasts, relocalized from the nuclear envelope to the nucleus and cytoplasm during cell differentiation.; SUBCELLULAR LOCATION: [Isoform GSRP-56]: Golgi apparatus {ECO:0000269|PubMed:16875688}.\n",
      "\n",
      "Subcellular location [CC]\n",
      "SUBCELLULAR LOCATION: Nucleus outer membrane {ECO:0000305}; Single-pass type IV membrane protein {ECO:0000305}; Cytoplasmic side {ECO:0000305}. Sarcoplasmic reticulum membrane {ECO:0000305|PubMed:15671068}; Single-pass type IV membrane protein {ECO:0000305}. Cell membrane {ECO:0000305}; Single-pass membrane protein {ECO:0000305}. Cytoplasm, cytoskeleton. Mitochondrion. Nucleus, nucleoplasm. Cytoplasm, myofibril, sarcomere, Z line {ECO:0000305|PubMed:15671068}. Note=Different isoform patterns are found in the different compartments of the cell. The isoforms having the C-terminal transmembrane span can be found in several organellar membranes like the nuclear envelope, the sarcoplasmic reticulum of myoblasts, or the lamellipodia and focal adhesions at the cell membrane. The largest part of the outer nuclear membrane-associated protein is cytoplasmic, while its C-terminal part is associated with the nuclear envelope, most probably the outer nuclear membrane. Remains associated with the nuclear envelope during its breakdown in mitotic cells. Shorter soluble isoforms can be found in the cytoplasm and within the nucleus.; SUBCELLULAR LOCATION: [Isoform 8]: Cell junction, focal adhesion {ECO:0000269|PubMed:22768332}. Note=In U2OS cells. {ECO:0000269|PubMed:22768332}.\n",
      "\n",
      "Subcellular location [CC]\n",
      "SUBCELLULAR LOCATION: Nucleus, nuclear pore complex {ECO:0000269|PubMed:17900573}. Nucleus membrane {ECO:0000269|PubMed:17900573}; Single-pass membrane protein {ECO:0000269|PubMed:17900573}. Endoplasmic reticulum membrane {ECO:0000250}; Single-pass membrane protein {ECO:0000250}. Note=Stably associated with the NPC throughout interphase and the endoplasmic reticulum during metaphase. {ECO:0000250}.\n",
      "\n",
      "Subcellular location [CC]\n",
      "SUBCELLULAR LOCATION: Nucleus, nuclear pore complex {ECO:0000269|PubMed:2195063}. Nucleus membrane {ECO:0000269|PubMed:2195063}; Single-pass type I membrane protein {ECO:0000269|PubMed:2195063}. Endoplasmic reticulum membrane {ECO:0000269|PubMed:2195063}; Single-pass type I membrane protein {ECO:0000269|PubMed:2195063}.\n",
      "\n"
     ]
    }
   ],
   "source": [
    "for protein in original_NETs:\n",
    "    res = u.search(protein+'+AND+organism:' + organism_ids['Human'], \n",
    "         frmt='tab', columns='comment(SUBCELLULAR LOCATION)', limit=1)\n",
    "    print(res)"
   ]
  },
  {
   "cell_type": "markdown",
   "id": "0b18aec4-81f4-44f0-bc84-8e60a9e1c946",
   "metadata": {},
   "source": [
    "#### Thus only TMEM43 is considered an ER protein, and others are all nucleus"
   ]
  },
  {
   "cell_type": "markdown",
   "id": "8ca5a1be-23e3-42ac-b64b-29cf9c89367c",
   "metadata": {},
   "source": [
    "#### Let's keep them"
   ]
  },
  {
   "cell_type": "markdown",
   "id": "6128d997-8969-4b71-a0c7-6fe7798d4cfc",
   "metadata": {},
   "source": [
    "### 2. Link the NCBI acuniquesion numbers to Uniprot ID"
   ]
  },
  {
   "cell_type": "markdown",
   "id": "2bc371b3-ccd9-4652-8019-b09c00c55052",
   "metadata": {},
   "source": [
    "#### Firstly in human"
   ]
  },
  {
   "cell_type": "markdown",
   "id": "a869017f-2c3d-42f4-8754-62436e17ceb9",
   "metadata": {},
   "source": [
    "#### Realized that the gene #18 contains two names and only the latter VMA21 is needed\n",
    "#### thus manually replace the name"
   ]
  },
  {
   "cell_type": "code",
   "execution_count": 82,
   "id": "9249935d-f4a2-47b2-94ad-f5561c33697d",
   "metadata": {},
   "outputs": [],
   "source": [
    "df.iloc[18, 1] = 'VMA21'"
   ]
  },
  {
   "cell_type": "code",
   "execution_count": 83,
   "id": "c7d0a4d3-01e8-4e9a-8100-061da80b6bc4",
   "metadata": {},
   "outputs": [
    {
     "data": {
      "text/plain": [
       "'VMA21'"
      ]
     },
     "execution_count": 83,
     "metadata": {},
     "output_type": "execute_result"
    }
   ],
   "source": [
    "df.iloc[18, 1]"
   ]
  },
  {
   "cell_type": "code",
   "execution_count": 75,
   "id": "ae89a1df-4a2f-4fe3-a957-388347269833",
   "metadata": {},
   "outputs": [
    {
     "name": "stdout",
     "output_type": "stream",
     "text": [
      "‡SLC22A24\n",
      "TMEM38A\n",
      "WFS1\n",
      "POPDC2\n",
      "LOC203547/VMA21\n",
      "KLHL31\n"
     ]
    }
   ],
   "source": [
    "regex = re.compile(r'(\\n)(\\w+|\\d+)(\\n)')\n",
    "gene_name_list = list(df['gene name'].unique())\n",
    "uniprot_id_list_human = []\n",
    "for gene in gene_name_list:\n",
    "    res = u.search(gene + '+AND+organism:' + organism_ids['Human'], \n",
    "         frmt='tab', columns='id', limit=1)\n",
    "    mo = regex.search(res)\n",
    "    if mo is not None:\n",
    "        uniprot_id = mo.group(2)\n",
    "    else:\n",
    "        uniprot_id = 'Not_found'\n",
    "\n",
    "    uniprot_id_list_human.append(uniprot_id)\n",
    "    print(gene, uniprot_id)"
   ]
  }
 ],
 "metadata": {
  "kernelspec": {
   "display_name": "Python 3",
   "language": "python",
   "name": "python3"
  },
  "language_info": {
   "codemirror_mode": {
    "name": "ipython",
    "version": 3
   },
   "file_extension": ".py",
   "mimetype": "text/x-python",
   "name": "python",
   "nbconvert_exporter": "python",
   "pygments_lexer": "ipython3",
   "version": "3.8.8"
  }
 },
 "nbformat": 4,
 "nbformat_minor": 5
}
