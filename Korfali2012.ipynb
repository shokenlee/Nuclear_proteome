{
 "cells": [
  {
   "cell_type": "code",
   "execution_count": 61,
   "id": "331fbfb7-9877-43cc-9a8a-421532e0c4d5",
   "metadata": {},
   "outputs": [],
   "source": [
    "import os, re\n",
    "import pandas as pd"
   ]
  },
  {
   "cell_type": "markdown",
   "id": "9de9d031-5b41-4e7c-bce2-fff452894348",
   "metadata": {},
   "source": [
    "### 1. Data import, extract data necessary cells, and rename columns"
   ]
  },
  {
   "cell_type": "code",
   "execution_count": 54,
   "id": "dc038e41-6d29-465a-b0d5-34feea54484b",
   "metadata": {},
   "outputs": [],
   "source": [
    "# S4 was extracted beforehand to a single file\n",
    "df = pd.read_excel('./SourceData/Papers/Korfali2012/2012NUCLEUS0047R-SupTables_S4.xlsx')"
   ]
  },
  {
   "cell_type": "code",
   "execution_count": 55,
   "id": "e7fef4a0-ca3a-4d0d-8434-59fde76801c5",
   "metadata": {},
   "outputs": [
    {
     "data": {
      "text/plain": [
       "Table S4. Summary of NETs directly analyzed                  tissue\n",
       "Unnamed: 1                                                gene name\n",
       "Unnamed: 2                                          alternate names\n",
       "Unnamed: 3                                        accession numbers\n",
       "Unnamed: 17                                    NE:MM ratio by dNSAF\n",
       "Unnamed: 18                                               reference\n",
       "Name: 1, dtype: object"
      ]
     },
     "execution_count": 55,
     "metadata": {},
     "output_type": "execute_result"
    }
   ],
   "source": [
    "# prepare column names\n",
    "columns = df.iloc[1,[0,1,2,3,17,18]]\n",
    "columns"
   ]
  },
  {
   "cell_type": "code",
   "execution_count": 56,
   "id": "f7381caf-bde5-4208-8813-4422239e9a8a",
   "metadata": {
    "tags": []
   },
   "outputs": [],
   "source": [
    "# df.head()\n",
    "# df.tail(n=30)"
   ]
  },
  {
   "cell_type": "code",
   "execution_count": 57,
   "id": "295300d9-0a0a-4253-8aba-5d00e90582fa",
   "metadata": {
    "tags": []
   },
   "outputs": [],
   "source": [
    "# Extract necessary cells\n",
    "df = df.iloc[2:136,[0,1,2,3,17,18]]\n",
    "# df.head()\n",
    "# df.tail()"
   ]
  },
  {
   "cell_type": "code",
   "execution_count": 58,
   "id": "b5bda122-2e2b-44f1-b72b-0edc1de87171",
   "metadata": {
    "tags": []
   },
   "outputs": [],
   "source": [
    "# rename the columns\n",
    "df.columns = columns\n",
    "# df.head()"
   ]
  },
  {
   "cell_type": "code",
   "execution_count": 40,
   "id": "8d89095c-dfeb-49ee-be79-9a6094cd6362",
   "metadata": {
    "collapsed": true,
    "jupyter": {
     "outputs_hidden": true
    },
    "tags": []
   },
   "outputs": [
    {
     "data": {
      "text/html": [
       "<div>\n",
       "<style scoped>\n",
       "    .dataframe tbody tr th:only-of-type {\n",
       "        vertical-align: middle;\n",
       "    }\n",
       "\n",
       "    .dataframe tbody tr th {\n",
       "        vertical-align: top;\n",
       "    }\n",
       "\n",
       "    .dataframe thead th {\n",
       "        text-align: right;\n",
       "    }\n",
       "</style>\n",
       "<table border=\"1\" class=\"dataframe\">\n",
       "  <thead>\n",
       "    <tr style=\"text-align: right;\">\n",
       "      <th>1</th>\n",
       "      <th>tissue</th>\n",
       "      <th>gene name</th>\n",
       "      <th>alternate names</th>\n",
       "      <th>accession numbers</th>\n",
       "      <th>NE:MM ratio by dNSAF</th>\n",
       "      <th>reference</th>\n",
       "    </tr>\n",
       "  </thead>\n",
       "  <tbody>\n",
       "    <tr>\n",
       "      <th>131</th>\n",
       "      <td>NaN</td>\n",
       "      <td>UNC84B</td>\n",
       "      <td>SUN2, unc-84 homolog B</td>\n",
       "      <td>gi|109482575|ref|XP_001076724.1|;gi|34996501|r...</td>\n",
       "      <td>74.71</td>\n",
       "      <td>Hodzic, D.M., et al. (2004) J. Biol. Chem. 279...</td>\n",
       "    </tr>\n",
       "    <tr>\n",
       "      <th>132</th>\n",
       "      <td>NaN</td>\n",
       "      <td>SYNE1</td>\n",
       "      <td>syne-1, nesprin 1 isoform longer, C6orf98</td>\n",
       "      <td>gi|119120865|ref|NP_001073154.1|;gi|23097308|r...</td>\n",
       "      <td>INF</td>\n",
       "      <td>Apel, E.D., et al. (2000) J. Biol. Chem. 275, ...</td>\n",
       "    </tr>\n",
       "    <tr>\n",
       "      <th>133</th>\n",
       "      <td>NaN</td>\n",
       "      <td>SYNE2</td>\n",
       "      <td>syne-2, spectrin repeat containing, nuclear en...</td>\n",
       "      <td>gi|33624848|ref|NP_055995.3|;gi|109479539|ref|...</td>\n",
       "      <td>INF</td>\n",
       "      <td>Zhang, Q., et al. (2001)  J. Cell Sci. 114, 44...</td>\n",
       "    </tr>\n",
       "    <tr>\n",
       "      <th>134</th>\n",
       "      <td>NaN</td>\n",
       "      <td>POM121C</td>\n",
       "      <td>POM121, nuclear pore membrane protein 121</td>\n",
       "      <td>gi|26051278|ref|NP_742017.1|;gi|16758424|ref|N...</td>\n",
       "      <td>INF</td>\n",
       "      <td>Soderqvist, H., et al. (1997) Eur. J. Biochem....</td>\n",
       "    </tr>\n",
       "    <tr>\n",
       "      <th>135</th>\n",
       "      <td>NaN</td>\n",
       "      <td>NUP210</td>\n",
       "      <td>gp210, nucleoporin 210</td>\n",
       "      <td>gi|16758020|ref|NP_445774.1|;gi|9055314|ref|NP...</td>\n",
       "      <td>INF</td>\n",
       "      <td>Gerace, L., et al. (1982) J. Cell Biol. 95, 82...</td>\n",
       "    </tr>\n",
       "  </tbody>\n",
       "</table>\n",
       "</div>"
      ],
      "text/plain": [
       "1   tissue gene name                                    alternate names  \\\n",
       "131    NaN    UNC84B                             SUN2, unc-84 homolog B   \n",
       "132    NaN     SYNE1          syne-1, nesprin 1 isoform longer, C6orf98   \n",
       "133    NaN     SYNE2  syne-2, spectrin repeat containing, nuclear en...   \n",
       "134    NaN   POM121C          POM121, nuclear pore membrane protein 121   \n",
       "135    NaN    NUP210                             gp210, nucleoporin 210   \n",
       "\n",
       "1                                    accession numbers NE:MM ratio by dNSAF  \\\n",
       "131  gi|109482575|ref|XP_001076724.1|;gi|34996501|r...                74.71   \n",
       "132  gi|119120865|ref|NP_001073154.1|;gi|23097308|r...                  INF   \n",
       "133  gi|33624848|ref|NP_055995.3|;gi|109479539|ref|...                  INF   \n",
       "134  gi|26051278|ref|NP_742017.1|;gi|16758424|ref|N...                  INF   \n",
       "135  gi|16758020|ref|NP_445774.1|;gi|9055314|ref|NP...                  INF   \n",
       "\n",
       "1                                            reference  \n",
       "131  Hodzic, D.M., et al. (2004) J. Biol. Chem. 279...  \n",
       "132  Apel, E.D., et al. (2000) J. Biol. Chem. 275, ...  \n",
       "133  Zhang, Q., et al. (2001)  J. Cell Sci. 114, 44...  \n",
       "134  Soderqvist, H., et al. (1997) Eur. J. Biochem....  \n",
       "135  Gerace, L., et al. (1982) J. Cell Biol. 95, 82...  "
      ]
     },
     "execution_count": 40,
     "metadata": {},
     "output_type": "execute_result"
    }
   ],
   "source": [
    "df.tail()"
   ]
  },
  {
   "cell_type": "code",
   "execution_count": 59,
   "id": "22b3b419-6aff-4dab-afb6-0dbc9bdd9f4e",
   "metadata": {},
   "outputs": [],
   "source": [
    "# Fill in tissue data\n",
    "df['tissue'] = df['tissue'].fillna(method='ffill')\n",
    "df = df.dropna(axis=0)"
   ]
  },
  {
   "cell_type": "code",
   "execution_count": 60,
   "id": "0a058cfe-04d4-44b6-9851-51569746f67a",
   "metadata": {},
   "outputs": [
    {
     "data": {
      "text/html": [
       "<div>\n",
       "<style scoped>\n",
       "    .dataframe tbody tr th:only-of-type {\n",
       "        vertical-align: middle;\n",
       "    }\n",
       "\n",
       "    .dataframe tbody tr th {\n",
       "        vertical-align: top;\n",
       "    }\n",
       "\n",
       "    .dataframe thead th {\n",
       "        text-align: right;\n",
       "    }\n",
       "</style>\n",
       "<table border=\"1\" class=\"dataframe\">\n",
       "  <thead>\n",
       "    <tr style=\"text-align: right;\">\n",
       "      <th>1</th>\n",
       "      <th>tissue</th>\n",
       "      <th>gene name</th>\n",
       "      <th>alternate names</th>\n",
       "      <th>accession numbers</th>\n",
       "      <th>NE:MM ratio by dNSAF</th>\n",
       "      <th>reference</th>\n",
       "    </tr>\n",
       "  </thead>\n",
       "  <tbody>\n",
       "    <tr>\n",
       "      <th>3</th>\n",
       "      <td>liver enriched</td>\n",
       "      <td>TMEM53</td>\n",
       "      <td>NET4, transmembrane protein 53</td>\n",
       "      <td>ref|NP_081113.1|</td>\n",
       "      <td>2.57</td>\n",
       "      <td>This study and Schirmer, E.C., et al. (2003). ...</td>\n",
       "    </tr>\n",
       "    <tr>\n",
       "      <th>4</th>\n",
       "      <td>liver enriched</td>\n",
       "      <td>TMEM120A</td>\n",
       "      <td>NET29, transmembrane protein induced by tumor ...</td>\n",
       "      <td>ref|NP_766129.1|</td>\n",
       "      <td>INF</td>\n",
       "      <td>This study and Malik, P., et al. (2010) Cell M...</td>\n",
       "    </tr>\n",
       "    <tr>\n",
       "      <th>5</th>\n",
       "      <td>liver enriched</td>\n",
       "      <td>SCARA5</td>\n",
       "      <td>NET33, PREDICTED: similar to protease, serine,...</td>\n",
       "      <td>gi|109502608|ref|XP_001066668.1|</td>\n",
       "      <td>0.1</td>\n",
       "      <td>This study and Malik, P., et al. (2010) Cell M...</td>\n",
       "    </tr>\n",
       "    <tr>\n",
       "      <th>6</th>\n",
       "      <td>liver enriched</td>\n",
       "      <td>TMEM74</td>\n",
       "      <td>NET36, PREDICTED: hypothetical protein [Rattus...</td>\n",
       "      <td>ref|XP_001063530.1|</td>\n",
       "      <td>3.36</td>\n",
       "      <td>This study and Malik, P., et al. (2010) Cell M...</td>\n",
       "    </tr>\n",
       "    <tr>\n",
       "      <th>7</th>\n",
       "      <td>liver enriched</td>\n",
       "      <td>PPAPDC3</td>\n",
       "      <td>NET39, phosphatidic acid phosphatase type 2 do...</td>\n",
       "      <td>gi|59891419|ref|NP_001012349.1|;gi|34147436|re...</td>\n",
       "      <td>4.42</td>\n",
       "      <td>This study and Schirmer, E.C., et al. (2003). ...</td>\n",
       "    </tr>\n",
       "  </tbody>\n",
       "</table>\n",
       "</div>"
      ],
      "text/plain": [
       "1          tissue gene name  \\\n",
       "3  liver enriched    TMEM53   \n",
       "4  liver enriched  TMEM120A   \n",
       "5  liver enriched    SCARA5   \n",
       "6  liver enriched    TMEM74   \n",
       "7  liver enriched   PPAPDC3   \n",
       "\n",
       "1                                    alternate names  \\\n",
       "3                     NET4, transmembrane protein 53   \n",
       "4  NET29, transmembrane protein induced by tumor ...   \n",
       "5  NET33, PREDICTED: similar to protease, serine,...   \n",
       "6  NET36, PREDICTED: hypothetical protein [Rattus...   \n",
       "7  NET39, phosphatidic acid phosphatase type 2 do...   \n",
       "\n",
       "1                                  accession numbers NE:MM ratio by dNSAF  \\\n",
       "3                                   ref|NP_081113.1|                 2.57   \n",
       "4                                   ref|NP_766129.1|                  INF   \n",
       "5                   gi|109502608|ref|XP_001066668.1|                  0.1   \n",
       "6                                ref|XP_001063530.1|                 3.36   \n",
       "7  gi|59891419|ref|NP_001012349.1|;gi|34147436|re...                 4.42   \n",
       "\n",
       "1                                          reference  \n",
       "3  This study and Schirmer, E.C., et al. (2003). ...  \n",
       "4  This study and Malik, P., et al. (2010) Cell M...  \n",
       "5  This study and Malik, P., et al. (2010) Cell M...  \n",
       "6  This study and Malik, P., et al. (2010) Cell M...  \n",
       "7  This study and Schirmer, E.C., et al. (2003). ...  "
      ]
     },
     "execution_count": 60,
     "metadata": {},
     "output_type": "execute_result"
    }
   ],
   "source": [
    "df.head()\n",
    "# df.tail()"
   ]
  },
  {
   "cell_type": "markdown",
   "id": "6128d997-8969-4b71-a0c7-6fe7798d4cfc",
   "metadata": {},
   "source": [
    "### 2. Link the NCBI accession numbers to Uniprot ID"
   ]
  },
  {
   "cell_type": "code",
   "execution_count": 70,
   "id": "4e8d68ac-f53b-421c-a956-5d85a6317da8",
   "metadata": {},
   "outputs": [],
   "source": [
    "gene_name_list = len(df['gene name'].unique())"
   ]
  },
  {
   "cell_type": "code",
   "execution_count": null,
   "id": "7ba0e935-ce45-4ca2-9769-db8d6aa61b0f",
   "metadata": {},
   "outputs": [],
   "source": [
    "gene = "
   ]
  },
  {
   "cell_type": "code",
   "execution_count": 62,
   "id": "cfecb136-ad2f-45bd-a0d5-ac94883b08d1",
   "metadata": {},
   "outputs": [],
   "source": [
    "regex = re.compile(r'(ref\\|)(NP_\\d+|XP_\\d+)')"
   ]
  },
  {
   "cell_type": "code",
   "execution_count": 65,
   "id": "6a9c770b-9e7a-4ecb-8847-66511bef8bf0",
   "metadata": {},
   "outputs": [
    {
     "data": {
      "text/plain": [
       "'ref|NP_081113.1|'"
      ]
     },
     "execution_count": 65,
     "metadata": {},
     "output_type": "execute_result"
    }
   ],
   "source": [
    "ncbi_id =df.loc[3,'accession numbers']\n",
    "ncbi_id"
   ]
  },
  {
   "cell_type": "code",
   "execution_count": 68,
   "id": "032c3590-ecad-42cf-9e0c-bb0decfb2316",
   "metadata": {},
   "outputs": [
    {
     "data": {
      "text/plain": [
       "'NP_081113'"
      ]
     },
     "execution_count": 68,
     "metadata": {},
     "output_type": "execute_result"
    }
   ],
   "source": [
    "group = regex.findall(ncbi_id)\n",
    "group[0][1]"
   ]
  },
  {
   "cell_type": "code",
   "execution_count": null,
   "id": "c54361e6-9cf8-4aee-9e58-703bb1744118",
   "metadata": {},
   "outputs": [],
   "source": []
  }
 ],
 "metadata": {
  "kernelspec": {
   "display_name": "Python 3",
   "language": "python",
   "name": "python3"
  },
  "language_info": {
   "codemirror_mode": {
    "name": "ipython",
    "version": 3
   },
   "file_extension": ".py",
   "mimetype": "text/x-python",
   "name": "python",
   "nbconvert_exporter": "python",
   "pygments_lexer": "ipython3",
   "version": "3.8.8"
  }
 },
 "nbformat": 4,
 "nbformat_minor": 5
}
