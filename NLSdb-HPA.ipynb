{
 "cells": [
  {
   "cell_type": "code",
   "execution_count": 24,
   "id": "1aa34852-fac1-45aa-b2a0-1fee84431cc3",
   "metadata": {},
   "outputs": [],
   "source": [
    "import os\n",
    "import pandas as pd\n",
    "import matplotlib as mpl\n",
    "import matplotlib.pyplot as plt\n",
    "import seaborn as sns\n",
    "from matplotlib.colors import ListedColormap"
   ]
  },
  {
   "cell_type": "code",
   "execution_count": 91,
   "id": "957365d9-6eaa-40e5-9d77-458df33e7415",
   "metadata": {},
   "outputs": [],
   "source": [
    "font = {'family': 'Arial', 'size': 20}\n",
    "mpl.rc('font', **font)"
   ]
  },
  {
   "cell_type": "markdown",
   "id": "311ee9ee-918c-4098-a060-aad741c01c65",
   "metadata": {},
   "source": [
    "## 1. Prepare the datasets"
   ]
  },
  {
   "cell_type": "markdown",
   "id": "e3db5988-d5c6-4cae-9a25-0ff9dda2a67f",
   "metadata": {},
   "source": [
    "### 1-1. Prepare HPA dataset"
   ]
  },
  {
   "cell_type": "markdown",
   "id": "cebe6b45-6ac1-4d1e-9cf7-5aa03d7357de",
   "metadata": {},
   "source": [
    "#### Import HPA: my processed dataset"
   ]
  },
  {
   "cell_type": "code",
   "execution_count": 2,
   "id": "0616a761-c412-4822-95c2-5cd1bedd6500",
   "metadata": {
    "collapsed": true,
    "jupyter": {
     "outputs_hidden": true
    },
    "tags": []
   },
   "outputs": [
    {
     "data": {
      "text/html": [
       "<div>\n",
       "<style scoped>\n",
       "    .dataframe tbody tr th:only-of-type {\n",
       "        vertical-align: middle;\n",
       "    }\n",
       "\n",
       "    .dataframe tbody tr th {\n",
       "        vertical-align: top;\n",
       "    }\n",
       "\n",
       "    .dataframe thead th {\n",
       "        text-align: right;\n",
       "    }\n",
       "</style>\n",
       "<table border=\"1\" class=\"dataframe\">\n",
       "  <thead>\n",
       "    <tr style=\"text-align: right;\">\n",
       "      <th></th>\n",
       "      <th>Unnamed: 0</th>\n",
       "      <th>Gene_name</th>\n",
       "      <th>Subcellular_loc_HPA</th>\n",
       "      <th>EvidenceLevel_HPA</th>\n",
       "      <th>Subcellular_location</th>\n",
       "      <th>Uniprot_id</th>\n",
       "    </tr>\n",
       "  </thead>\n",
       "  <tbody>\n",
       "    <tr>\n",
       "      <th>0</th>\n",
       "      <td>0</td>\n",
       "      <td>TPR</td>\n",
       "      <td>['Nuclear membrane']</td>\n",
       "      <td>Enhanced</td>\n",
       "      <td>Nuclear_membrane</td>\n",
       "      <td>P12270</td>\n",
       "    </tr>\n",
       "    <tr>\n",
       "      <th>1</th>\n",
       "      <td>1</td>\n",
       "      <td>XPO1</td>\n",
       "      <td>['Nucleoplasm', 'Nuclear membrane']</td>\n",
       "      <td>Enhanced</td>\n",
       "      <td>Nuclear_membrane</td>\n",
       "      <td>O14980</td>\n",
       "    </tr>\n",
       "    <tr>\n",
       "      <th>2</th>\n",
       "      <td>2</td>\n",
       "      <td>NUP50</td>\n",
       "      <td>['Nucleoplasm', 'Nuclear membrane']</td>\n",
       "      <td>Enhanced</td>\n",
       "      <td>Nuclear_membrane</td>\n",
       "      <td>Q9UKX7</td>\n",
       "    </tr>\n",
       "    <tr>\n",
       "      <th>3</th>\n",
       "      <td>3</td>\n",
       "      <td>RANGAP1</td>\n",
       "      <td>['Nuclear membrane']</td>\n",
       "      <td>Enhanced</td>\n",
       "      <td>Nuclear_membrane</td>\n",
       "      <td>P46060</td>\n",
       "    </tr>\n",
       "    <tr>\n",
       "      <th>4</th>\n",
       "      <td>4</td>\n",
       "      <td>EMD</td>\n",
       "      <td>['Nuclear membrane']</td>\n",
       "      <td>Enhanced</td>\n",
       "      <td>Nuclear_membrane</td>\n",
       "      <td>P50402</td>\n",
       "    </tr>\n",
       "  </tbody>\n",
       "</table>\n",
       "</div>"
      ],
      "text/plain": [
       "   Unnamed: 0 Gene_name                  Subcellular_loc_HPA  \\\n",
       "0           0       TPR                 ['Nuclear membrane']   \n",
       "1           1      XPO1  ['Nucleoplasm', 'Nuclear membrane']   \n",
       "2           2     NUP50  ['Nucleoplasm', 'Nuclear membrane']   \n",
       "3           3   RANGAP1                 ['Nuclear membrane']   \n",
       "4           4       EMD                 ['Nuclear membrane']   \n",
       "\n",
       "  EvidenceLevel_HPA Subcellular_location Uniprot_id  \n",
       "0          Enhanced     Nuclear_membrane     P12270  \n",
       "1          Enhanced     Nuclear_membrane     O14980  \n",
       "2          Enhanced     Nuclear_membrane     Q9UKX7  \n",
       "3          Enhanced     Nuclear_membrane     P46060  \n",
       "4          Enhanced     Nuclear_membrane     P50402  "
      ]
     },
     "execution_count": 2,
     "metadata": {},
     "output_type": "execute_result"
    }
   ],
   "source": [
    "df_HPA = pd.read_csv('./Output/HPA_NE-NP-ER_Hs.csv')\n",
    "df_HPA.head()"
   ]
  },
  {
   "cell_type": "code",
   "execution_count": 4,
   "id": "c5f313ec-c01b-4638-be6a-ae3790e6f247",
   "metadata": {},
   "outputs": [
    {
     "data": {
      "text/plain": [
       "array(['Nuclear_membrane', 'Nucleoplasm', 'ER'], dtype=object)"
      ]
     },
     "execution_count": 4,
     "metadata": {},
     "output_type": "execute_result"
    }
   ],
   "source": [
    "df_HPA['Subcellular_location'].unique()"
   ]
  },
  {
   "cell_type": "markdown",
   "id": "0214bd13-724e-4300-9668-f2aad5f6ca99",
   "metadata": {},
   "source": [
    "#### Import HPA: table S6, which is more covenient"
   ]
  },
  {
   "cell_type": "code",
   "execution_count": 2,
   "id": "3dc277ff-797f-4994-a97e-84c84aaf5f66",
   "metadata": {
    "collapsed": true,
    "jupyter": {
     "outputs_hidden": true
    },
    "tags": []
   },
   "outputs": [
    {
     "name": "stdout",
     "output_type": "stream",
     "text": [
      "<class 'pandas.core.frame.DataFrame'>\n",
      "RangeIndex: 12003 entries, 0 to 12002\n",
      "Data columns (total 37 columns):\n",
      " #   Column                          Non-Null Count  Dtype \n",
      "---  ------                          --------------  ----- \n",
      " 0   ENSG                            12003 non-null  object\n",
      " 1   Gene                            12003 non-null  object\n",
      " 2   Uniprot                         11854 non-null  object\n",
      " 3   Nucleus                         12003 non-null  int64 \n",
      " 4   Nucleoplasm                     12003 non-null  int64 \n",
      " 5   Nuclear bodies                  12003 non-null  int64 \n",
      " 6   Nuclear speckles                12003 non-null  int64 \n",
      " 7   Nuclear membrane                12003 non-null  int64 \n",
      " 8   Nucleoli                        12003 non-null  int64 \n",
      " 9   Nucleoli (Fibrillar center)     12003 non-null  int64 \n",
      " 10  Cytosol                         12003 non-null  int64 \n",
      " 11  Cytoplasmic bodies              12003 non-null  int64 \n",
      " 12  Rods and Rings                  12003 non-null  int64 \n",
      " 13  Lipid droplets                  12003 non-null  int64 \n",
      " 14  Aggresome                       12003 non-null  int64 \n",
      " 15  Mitochondria                    12003 non-null  int64 \n",
      " 16  Microtubules                    12003 non-null  int64 \n",
      " 17  Microtubule ends                12003 non-null  int64 \n",
      " 18  Microtubule organizing center   12003 non-null  int64 \n",
      " 19  Centrosome                      12003 non-null  int64 \n",
      " 20  Mitotic spindle                 12003 non-null  int64 \n",
      " 21  Cytokinetic bridge              12003 non-null  int64 \n",
      " 22  Midbody                         12003 non-null  int64 \n",
      " 23  Midbody ring                    12003 non-null  int64 \n",
      " 24  Intermediate filaments          12003 non-null  int64 \n",
      " 25  Actin filaments                 12003 non-null  int64 \n",
      " 26  Focal Adhesions                 12003 non-null  int64 \n",
      " 27  Endoplasmic reticulum           12003 non-null  int64 \n",
      " 28  Golgi apparatus                 12003 non-null  int64 \n",
      " 29  Vesicles                        12003 non-null  int64 \n",
      " 30  Plasma membrane                 12003 non-null  int64 \n",
      " 31  Cell Junctions                  12003 non-null  int64 \n",
      " 32  Reliability                     12003 non-null  object\n",
      " 33  IF location score               12003 non-null  object\n",
      " 34  IF main protein location        12003 non-null  object\n",
      " 35  IF additional protein location  3884 non-null   object\n",
      " 36  HyperLOPIT location             4143 non-null   object\n",
      "dtypes: int64(29), object(8)\n",
      "memory usage: 3.4+ MB\n"
     ]
    },
    {
     "name": "stderr",
     "output_type": "stream",
     "text": [
      "/Users/ShokenLEE/opt/anaconda3/lib/python3.8/site-packages/openpyxl/worksheet/_reader.py:312: UserWarning: Unknown extension is not supported and will be removed\n",
      "  warn(msg)\n"
     ]
    }
   ],
   "source": [
    "df_HPA_all = pd.read_excel('./SourceData/HPA/aal3321_thul_sm_table_s6.xlsx')\n",
    "df_HPA_all.info()"
   ]
  },
  {
   "cell_type": "code",
   "execution_count": 3,
   "id": "40bd6d99-2cf9-400e-899f-6a4a65fb264d",
   "metadata": {
    "tags": []
   },
   "outputs": [
    {
     "data": {
      "text/html": [
       "<div>\n",
       "<style scoped>\n",
       "    .dataframe tbody tr th:only-of-type {\n",
       "        vertical-align: middle;\n",
       "    }\n",
       "\n",
       "    .dataframe tbody tr th {\n",
       "        vertical-align: top;\n",
       "    }\n",
       "\n",
       "    .dataframe thead th {\n",
       "        text-align: right;\n",
       "    }\n",
       "</style>\n",
       "<table border=\"1\" class=\"dataframe\">\n",
       "  <thead>\n",
       "    <tr style=\"text-align: right;\">\n",
       "      <th></th>\n",
       "      <th>ENSG</th>\n",
       "      <th>Gene</th>\n",
       "      <th>Uniprot</th>\n",
       "      <th>Nucleus</th>\n",
       "      <th>Nucleoplasm</th>\n",
       "      <th>Nuclear bodies</th>\n",
       "      <th>Nuclear speckles</th>\n",
       "      <th>Nuclear membrane</th>\n",
       "      <th>Nucleoli</th>\n",
       "      <th>Nucleoli (Fibrillar center)</th>\n",
       "      <th>...</th>\n",
       "      <th>Endoplasmic reticulum</th>\n",
       "      <th>Golgi apparatus</th>\n",
       "      <th>Vesicles</th>\n",
       "      <th>Plasma membrane</th>\n",
       "      <th>Cell Junctions</th>\n",
       "      <th>Reliability</th>\n",
       "      <th>IF location score</th>\n",
       "      <th>IF main protein location</th>\n",
       "      <th>IF additional protein location</th>\n",
       "      <th>HyperLOPIT location</th>\n",
       "    </tr>\n",
       "  </thead>\n",
       "  <tbody>\n",
       "    <tr>\n",
       "      <th>0</th>\n",
       "      <td>ENSG00000148584</td>\n",
       "      <td>A1CF</td>\n",
       "      <td>Q9NQ94</td>\n",
       "      <td>0</td>\n",
       "      <td>1</td>\n",
       "      <td>0</td>\n",
       "      <td>0</td>\n",
       "      <td>0</td>\n",
       "      <td>0</td>\n",
       "      <td>0</td>\n",
       "      <td>...</td>\n",
       "      <td>0</td>\n",
       "      <td>0</td>\n",
       "      <td>0</td>\n",
       "      <td>0</td>\n",
       "      <td>0</td>\n",
       "      <td>Supported</td>\n",
       "      <td>Nucleoplasm: Supported</td>\n",
       "      <td>Nucleoplasm</td>\n",
       "      <td>NaN</td>\n",
       "      <td>NaN</td>\n",
       "    </tr>\n",
       "    <tr>\n",
       "      <th>1</th>\n",
       "      <td>ENSG00000128274</td>\n",
       "      <td>A4GALT</td>\n",
       "      <td>Q9NPC4</td>\n",
       "      <td>0</td>\n",
       "      <td>0</td>\n",
       "      <td>0</td>\n",
       "      <td>0</td>\n",
       "      <td>0</td>\n",
       "      <td>0</td>\n",
       "      <td>0</td>\n",
       "      <td>...</td>\n",
       "      <td>0</td>\n",
       "      <td>0</td>\n",
       "      <td>0</td>\n",
       "      <td>0</td>\n",
       "      <td>0</td>\n",
       "      <td>Supported</td>\n",
       "      <td>Mitochondria: Supported</td>\n",
       "      <td>Mitochondria</td>\n",
       "      <td>NaN</td>\n",
       "      <td>NaN</td>\n",
       "    </tr>\n",
       "    <tr>\n",
       "      <th>2</th>\n",
       "      <td>ENSG00000094914</td>\n",
       "      <td>AAAS</td>\n",
       "      <td>Q9NRG9</td>\n",
       "      <td>0</td>\n",
       "      <td>0</td>\n",
       "      <td>0</td>\n",
       "      <td>0</td>\n",
       "      <td>1</td>\n",
       "      <td>0</td>\n",
       "      <td>0</td>\n",
       "      <td>...</td>\n",
       "      <td>0</td>\n",
       "      <td>0</td>\n",
       "      <td>0</td>\n",
       "      <td>0</td>\n",
       "      <td>0</td>\n",
       "      <td>Approved</td>\n",
       "      <td>Nuclear membrane: Approved;Centrosome: Approve...</td>\n",
       "      <td>Nuclear membrane</td>\n",
       "      <td>Centrosome;Cytosol</td>\n",
       "      <td>unknown</td>\n",
       "    </tr>\n",
       "    <tr>\n",
       "      <th>3</th>\n",
       "      <td>ENSG00000081760</td>\n",
       "      <td>AACS</td>\n",
       "      <td>Q86V21</td>\n",
       "      <td>0</td>\n",
       "      <td>0</td>\n",
       "      <td>0</td>\n",
       "      <td>0</td>\n",
       "      <td>0</td>\n",
       "      <td>0</td>\n",
       "      <td>0</td>\n",
       "      <td>...</td>\n",
       "      <td>0</td>\n",
       "      <td>0</td>\n",
       "      <td>1</td>\n",
       "      <td>0</td>\n",
       "      <td>0</td>\n",
       "      <td>Approved</td>\n",
       "      <td>Vesicles: Approved</td>\n",
       "      <td>Vesicles</td>\n",
       "      <td>NaN</td>\n",
       "      <td>unknown</td>\n",
       "    </tr>\n",
       "    <tr>\n",
       "      <th>4</th>\n",
       "      <td>ENSG00000109576</td>\n",
       "      <td>AADAT</td>\n",
       "      <td>Q8N5Z0</td>\n",
       "      <td>0</td>\n",
       "      <td>0</td>\n",
       "      <td>0</td>\n",
       "      <td>0</td>\n",
       "      <td>0</td>\n",
       "      <td>0</td>\n",
       "      <td>0</td>\n",
       "      <td>...</td>\n",
       "      <td>0</td>\n",
       "      <td>0</td>\n",
       "      <td>1</td>\n",
       "      <td>1</td>\n",
       "      <td>0</td>\n",
       "      <td>Approved</td>\n",
       "      <td>Vesicles: Approved;Plasma membrane: Approved</td>\n",
       "      <td>Plasma membrane</td>\n",
       "      <td>Vesicles</td>\n",
       "      <td>NaN</td>\n",
       "    </tr>\n",
       "  </tbody>\n",
       "</table>\n",
       "<p>5 rows × 37 columns</p>\n",
       "</div>"
      ],
      "text/plain": [
       "              ENSG    Gene Uniprot  Nucleus  Nucleoplasm  Nuclear bodies  \\\n",
       "0  ENSG00000148584    A1CF  Q9NQ94        0            1               0   \n",
       "1  ENSG00000128274  A4GALT  Q9NPC4        0            0               0   \n",
       "2  ENSG00000094914    AAAS  Q9NRG9        0            0               0   \n",
       "3  ENSG00000081760    AACS  Q86V21        0            0               0   \n",
       "4  ENSG00000109576   AADAT  Q8N5Z0        0            0               0   \n",
       "\n",
       "   Nuclear speckles  Nuclear membrane  Nucleoli  Nucleoli (Fibrillar center)  \\\n",
       "0                 0                 0         0                            0   \n",
       "1                 0                 0         0                            0   \n",
       "2                 0                 1         0                            0   \n",
       "3                 0                 0         0                            0   \n",
       "4                 0                 0         0                            0   \n",
       "\n",
       "   ...  Endoplasmic reticulum  Golgi apparatus  Vesicles  Plasma membrane  \\\n",
       "0  ...                      0                0         0                0   \n",
       "1  ...                      0                0         0                0   \n",
       "2  ...                      0                0         0                0   \n",
       "3  ...                      0                0         1                0   \n",
       "4  ...                      0                0         1                1   \n",
       "\n",
       "   Cell Junctions  Reliability  \\\n",
       "0               0    Supported   \n",
       "1               0    Supported   \n",
       "2               0     Approved   \n",
       "3               0     Approved   \n",
       "4               0     Approved   \n",
       "\n",
       "                                   IF location score  \\\n",
       "0                             Nucleoplasm: Supported   \n",
       "1                            Mitochondria: Supported   \n",
       "2  Nuclear membrane: Approved;Centrosome: Approve...   \n",
       "3                                 Vesicles: Approved   \n",
       "4       Vesicles: Approved;Plasma membrane: Approved   \n",
       "\n",
       "   IF main protein location  IF additional protein location  \\\n",
       "0               Nucleoplasm                             NaN   \n",
       "1              Mitochondria                             NaN   \n",
       "2          Nuclear membrane              Centrosome;Cytosol   \n",
       "3                  Vesicles                             NaN   \n",
       "4           Plasma membrane                        Vesicles   \n",
       "\n",
       "   HyperLOPIT location  \n",
       "0                  NaN  \n",
       "1                  NaN  \n",
       "2              unknown  \n",
       "3              unknown  \n",
       "4                  NaN  \n",
       "\n",
       "[5 rows x 37 columns]"
      ]
     },
     "execution_count": 3,
     "metadata": {},
     "output_type": "execute_result"
    }
   ],
   "source": [
    "df_HPA_all.head()"
   ]
  },
  {
   "cell_type": "code",
   "execution_count": 32,
   "id": "dd566830-64e6-46a6-ab21-2f5598ec0ab6",
   "metadata": {},
   "outputs": [],
   "source": [
    "category_reliability = ['Validated', 'Supported', 'Approved', 'Uncertain']"
   ]
  },
  {
   "cell_type": "code",
   "execution_count": 94,
   "id": "88634017-7e80-4d1b-9996-35ecf5b51f29",
   "metadata": {},
   "outputs": [
    {
     "data": {
      "image/png": "[encoded data removed]",
      "text/plain": [
       "<Figure size 432x288 with 1 Axes>"
      ]
     },
     "metadata": {
      "needs_background": "light"
     },
     "output_type": "display_data"
    }
   ],
   "source": []
  },
  {
   "cell_type": "code",
   "execution_count": 98,
   "id": "eaa58ad9-a74d-49c1-9c1c-845f5cab53b5",
   "metadata": {},
   "outputs": [
    {
     "data": {
      "text/plain": [
       "Text(0.5, 1.0, 'HPA localization reliablity')"
      ]
     },
     "execution_count": 98,
     "metadata": {},
     "output_type": "execute_result"
    },
    {
     "data": {
      "image/png": "[encoded data removed]",
      "text/plain": [
       "<Figure size 72x432 with 1 Axes>"
      ]
     },
     "metadata": {
      "needs_background": "light"
     },
     "output_type": "display_data"
    }
   ],
   "source": [
    "fig = plt.figure()\n",
    "ax = fig.add_axes([0.1, 0.1, 0.8, 0.8])\n",
    "\n",
    "# make a dataframe for plotting\n",
    "df = pd.DataFrame()\n",
    "for category in category_reliability:\n",
    "    df.loc[\" \", category] = len(df_HPA_all[df_HPA_all['Reliability'] == category])\n",
    "    \n",
    "# plot\n",
    "df.plot(kind='bar', ax=ax, stacked=True, figsize=(1,6), colormap=\"Blues_r\")\n",
    "plt.ylabel('# of proteins')\n",
    "plt.legend(bbox_to_anchor=(1.05, 1), loc='upper left', borderaxespad=0)\n",
    "plt.title('HPA localization reliablity')"
   ]
  },
  {
   "cell_type": "code",
   "execution_count": 99,
   "id": "7ba57344-a2fd-4b2d-8d34-b722eb35ff83",
   "metadata": {},
   "outputs": [],
   "source": [
    "fig.savefig('./Output/HPA_by_reliability.jpg', bbox_inches='tight')"
   ]
  },
  {
   "cell_type": "markdown",
   "id": "5661f73d-ae5d-472b-b532-04ab23703e92",
   "metadata": {},
   "source": [
    "#### Keep only \"Validated\" or \"Supported\""
   ]
  },
  {
   "cell_type": "code",
   "execution_count": 79,
   "id": "a32dee0d-e4c9-45d7-8b1d-eee175803ff6",
   "metadata": {
    "collapsed": true,
    "jupyter": {
     "outputs_hidden": true
    },
    "tags": []
   },
   "outputs": [
    {
     "name": "stdout",
     "output_type": "stream",
     "text": [
      "<class 'pandas.core.frame.DataFrame'>\n",
      "Int64Index: 5148 entries, 0 to 12000\n",
      "Data columns (total 37 columns):\n",
      " #   Column                          Non-Null Count  Dtype \n",
      "---  ------                          --------------  ----- \n",
      " 0   ENSG                            5148 non-null   object\n",
      " 1   Gene                            5148 non-null   object\n",
      " 2   Uniprot                         5129 non-null   object\n",
      " 3   Nucleus                         5148 non-null   int64 \n",
      " 4   Nucleoplasm                     5148 non-null   int64 \n",
      " 5   Nuclear bodies                  5148 non-null   int64 \n",
      " 6   Nuclear speckles                5148 non-null   int64 \n",
      " 7   Nuclear membrane                5148 non-null   int64 \n",
      " 8   Nucleoli                        5148 non-null   int64 \n",
      " 9   Nucleoli (Fibrillar center)     5148 non-null   int64 \n",
      " 10  Cytosol                         5148 non-null   int64 \n",
      " 11  Cytoplasmic bodies              5148 non-null   int64 \n",
      " 12  Rods and Rings                  5148 non-null   int64 \n",
      " 13  Lipid droplets                  5148 non-null   int64 \n",
      " 14  Aggresome                       5148 non-null   int64 \n",
      " 15  Mitochondria                    5148 non-null   int64 \n",
      " 16  Microtubules                    5148 non-null   int64 \n",
      " 17  Microtubule ends                5148 non-null   int64 \n",
      " 18  Microtubule organizing center   5148 non-null   int64 \n",
      " 19  Centrosome                      5148 non-null   int64 \n",
      " 20  Mitotic spindle                 5148 non-null   int64 \n",
      " 21  Cytokinetic bridge              5148 non-null   int64 \n",
      " 22  Midbody                         5148 non-null   int64 \n",
      " 23  Midbody ring                    5148 non-null   int64 \n",
      " 24  Intermediate filaments          5148 non-null   int64 \n",
      " 25  Actin filaments                 5148 non-null   int64 \n",
      " 26  Focal Adhesions                 5148 non-null   int64 \n",
      " 27  Endoplasmic reticulum           5148 non-null   int64 \n",
      " 28  Golgi apparatus                 5148 non-null   int64 \n",
      " 29  Vesicles                        5148 non-null   int64 \n",
      " 30  Plasma membrane                 5148 non-null   int64 \n",
      " 31  Cell Junctions                  5148 non-null   int64 \n",
      " 32  Reliability                     5148 non-null   object\n",
      " 33  IF location score               5148 non-null   object\n",
      " 34  IF main protein location        5148 non-null   object\n",
      " 35  IF additional protein location  1576 non-null   object\n",
      " 36  HyperLOPIT location             2521 non-null   object\n",
      "dtypes: int64(29), object(8)\n",
      "memory usage: 1.5+ MB\n"
     ]
    }
   ],
   "source": [
    "df_HPA_VorS = df_HPA_all[(df_HPA_all['Reliability'] == 'Validated')|(df_HPA_all['Reliability'] == 'Supported')]\n",
    "df_HPA_VorS.info()"
   ]
  },
  {
   "cell_type": "markdown",
   "id": "23b72a66-49e0-496d-813a-a85baaf511e9",
   "metadata": {},
   "source": [
    "#### Among them, nuclear proteins and else"
   ]
  },
  {
   "cell_type": "code",
   "execution_count": 80,
   "id": "37051f8f-db13-44fe-846c-2d820a751371",
   "metadata": {
    "tags": []
   },
   "outputs": [],
   "source": [
    "df_HPA_VorS_Nuc = df_HPA_VorS[df_HPA_VorS['IF location score'].str.contains('Nucle')]\n",
    "df_HPA_VorS_non_Nuc = df_HPA_VorS[~df_HPA_VorS['IF location score'].str.contains('Nucle')]"
   ]
  },
  {
   "cell_type": "markdown",
   "id": "ebbb7f56-527a-41ea-ab00-317feae5af36",
   "metadata": {},
   "source": [
    "### 1-2. Prepare NLSdb dataset"
   ]
  },
  {
   "cell_type": "markdown",
   "id": "b2124591-4ab6-4d64-ad24-1d3639c89b68",
   "metadata": {},
   "source": [
    "#### Import NLSdb"
   ]
  },
  {
   "cell_type": "code",
   "execution_count": 81,
   "id": "942729d8-7bee-42d8-a9d4-784a7f182bdb",
   "metadata": {},
   "outputs": [],
   "source": [
    "df_NLSdb = pd.read_csv('./Output/Hs_proteome_w_NLS_by_NLSdb.csv')"
   ]
  },
  {
   "cell_type": "code",
   "execution_count": 7,
   "id": "9e89aff2-3e92-4334-aebc-392cc706a4d2",
   "metadata": {
    "collapsed": true,
    "jupyter": {
     "outputs_hidden": true
    },
    "tags": []
   },
   "outputs": [
    {
     "data": {
      "text/html": [
       "<div>\n",
       "<style scoped>\n",
       "    .dataframe tbody tr th:only-of-type {\n",
       "        vertical-align: middle;\n",
       "    }\n",
       "\n",
       "    .dataframe tbody tr th {\n",
       "        vertical-align: top;\n",
       "    }\n",
       "\n",
       "    .dataframe thead th {\n",
       "        text-align: right;\n",
       "    }\n",
       "</style>\n",
       "<table border=\"1\" class=\"dataframe\">\n",
       "  <thead>\n",
       "    <tr style=\"text-align: right;\">\n",
       "      <th></th>\n",
       "      <th>Entry</th>\n",
       "      <th>Protein names</th>\n",
       "      <th>Gene names</th>\n",
       "      <th>Annotation</th>\n",
       "      <th>Status</th>\n",
       "      <th>Sequence</th>\n",
       "      <th>NLS locations</th>\n",
       "    </tr>\n",
       "  </thead>\n",
       "  <tbody>\n",
       "    <tr>\n",
       "      <th>0</th>\n",
       "      <td>A6H8Y1</td>\n",
       "      <td>Transcription factor TFIIIB component B'' homo...</td>\n",
       "      <td>BDP1 KIAA1241 KIAA1689 TFNR</td>\n",
       "      <td>5 out of 5</td>\n",
       "      <td>reviewed</td>\n",
       "      <td>MFRRARLSVKPNVRPGVGARGSTASNPQRGRESPRPPDPATDSASK...</td>\n",
       "      <td>{'KKRRRK': 461, 'KRPKP': 1438, 'SKKEPR': 1853}</td>\n",
       "    </tr>\n",
       "    <tr>\n",
       "      <th>1</th>\n",
       "      <td>O60885</td>\n",
       "      <td>Bromodomain-containing protein 4 (Protein HUNK1)</td>\n",
       "      <td>BRD4 HUNK1</td>\n",
       "      <td>5 out of 5</td>\n",
       "      <td>reviewed</td>\n",
       "      <td>MSAESGPGTRLRNLPVMGDGLETSQMSTTQAQAQPQPANAASTNPP...</td>\n",
       "      <td>{'AKGRGR': 175, 'GVKRKA': 286, 'HKRKE': 550, '...</td>\n",
       "    </tr>\n",
       "    <tr>\n",
       "      <th>2</th>\n",
       "      <td>P22223</td>\n",
       "      <td>Cadherin-3 (Placental cadherin) (P-cadherin)</td>\n",
       "      <td>CDH3 CDHP</td>\n",
       "      <td>5 out of 5</td>\n",
       "      <td>reviewed</td>\n",
       "      <td>MGLPRGPLASLLLLQVCWLQCAASEPCRAVFREAEVTLEAGGAEQE...</td>\n",
       "      <td>{'KKRKIK': 678}</td>\n",
       "    </tr>\n",
       "    <tr>\n",
       "      <th>3</th>\n",
       "      <td>Q01518</td>\n",
       "      <td>Adenylyl cyclase-associated protein 1 (CAP 1)</td>\n",
       "      <td>CAP1 CAP</td>\n",
       "      <td>5 out of 5</td>\n",
       "      <td>reviewed</td>\n",
       "      <td>MADMQNLVERLERAVGRLEAVSHTSDMHRGYADSPSKAGAAPYVQA...</td>\n",
       "      <td>{'RATKK': 312}</td>\n",
       "    </tr>\n",
       "    <tr>\n",
       "      <th>4</th>\n",
       "      <td>Q53TQ3</td>\n",
       "      <td>INO80 complex subunit D</td>\n",
       "      <td>INO80D</td>\n",
       "      <td>5 out of 5</td>\n",
       "      <td>reviewed</td>\n",
       "      <td>MYEGKHIHFSEVDNKPLCSYSPKLCKQRRLNGYAFCIRHVLEDKTA...</td>\n",
       "      <td>{'HAKKM': 509, 'RRRGPR': 550}</td>\n",
       "    </tr>\n",
       "  </tbody>\n",
       "</table>\n",
       "</div>"
      ],
      "text/plain": [
       "    Entry                                      Protein names  \\\n",
       "0  A6H8Y1  Transcription factor TFIIIB component B'' homo...   \n",
       "1  O60885   Bromodomain-containing protein 4 (Protein HUNK1)   \n",
       "2  P22223       Cadherin-3 (Placental cadherin) (P-cadherin)   \n",
       "3  Q01518      Adenylyl cyclase-associated protein 1 (CAP 1)   \n",
       "4  Q53TQ3                            INO80 complex subunit D   \n",
       "\n",
       "                    Gene names  Annotation    Status  \\\n",
       "0  BDP1 KIAA1241 KIAA1689 TFNR  5 out of 5  reviewed   \n",
       "1                   BRD4 HUNK1  5 out of 5  reviewed   \n",
       "2                    CDH3 CDHP  5 out of 5  reviewed   \n",
       "3                     CAP1 CAP  5 out of 5  reviewed   \n",
       "4                       INO80D  5 out of 5  reviewed   \n",
       "\n",
       "                                            Sequence  \\\n",
       "0  MFRRARLSVKPNVRPGVGARGSTASNPQRGRESPRPPDPATDSASK...   \n",
       "1  MSAESGPGTRLRNLPVMGDGLETSQMSTTQAQAQPQPANAASTNPP...   \n",
       "2  MGLPRGPLASLLLLQVCWLQCAASEPCRAVFREAEVTLEAGGAEQE...   \n",
       "3  MADMQNLVERLERAVGRLEAVSHTSDMHRGYADSPSKAGAAPYVQA...   \n",
       "4  MYEGKHIHFSEVDNKPLCSYSPKLCKQRRLNGYAFCIRHVLEDKTA...   \n",
       "\n",
       "                                       NLS locations  \n",
       "0     {'KKRRRK': 461, 'KRPKP': 1438, 'SKKEPR': 1853}  \n",
       "1  {'AKGRGR': 175, 'GVKRKA': 286, 'HKRKE': 550, '...  \n",
       "2                                    {'KKRKIK': 678}  \n",
       "3                                     {'RATKK': 312}  \n",
       "4                      {'HAKKM': 509, 'RRRGPR': 550}  "
      ]
     },
     "execution_count": 7,
     "metadata": {},
     "output_type": "execute_result"
    }
   ],
   "source": [
    "df_NLSdb.head()"
   ]
  },
  {
   "cell_type": "markdown",
   "id": "213e3b43-886e-4144-a302-66cd9360b0fe",
   "metadata": {},
   "source": [
    "## 2. How many of Nuclear and Non-nuclear proteins in HPA are found in NLSdb?"
   ]
  },
  {
   "cell_type": "code",
   "execution_count": 82,
   "id": "b5eacead-5b8a-4a5d-8d5d-06babd595e58",
   "metadata": {},
   "outputs": [],
   "source": [
    "def howManyInNLSdb(_df, UPidName):\n",
    "    \"\"\"\n",
    "    Count how many proteins in a given dataset is found in NLSdb\n",
    "    _df: query dataframe e.g. df_HPA_...\n",
    "    UPidName: Name of the column that contains uniprot IDs in query df\n",
    "    \n",
    "    returns: number of overlap b/w query df and df_NLSdb\n",
    "    \n",
    "    \"\"\"\n",
    "    \n",
    "    _df_merge = _df.merge(df_NLSdb, how='inner', left_on = UPidName,\n",
    "                              right_on = 'Entry')\n",
    "    return len(_df_merge)"
   ]
  },
  {
   "cell_type": "markdown",
   "id": "dbb0bebc-ddc5-4650-bab4-0acbf91c3930",
   "metadata": {},
   "source": [
    "### ***As shown below, it appears nuclear proteins in HPA enriches proteins with NLS from NLSdb***"
   ]
  },
  {
   "cell_type": "code",
   "execution_count": 36,
   "id": "14ab547d-c982-4e58-b58e-76d262b51871",
   "metadata": {},
   "outputs": [
    {
     "name": "stdout",
     "output_type": "stream",
     "text": [
      "0.34449138771530713\n"
     ]
    }
   ],
   "source": [
    "# fraction of NLSdb proteins found in nuclear proteins from HPA\n",
    "print(howManyInNLSdb(df_HPA_VorS_Nuc, 'Uniprot') / len(df_HPA_VorS_Nuc))"
   ]
  },
  {
   "cell_type": "code",
   "execution_count": 100,
   "id": "37424704-e0e9-4485-9cc1-05fed537c769",
   "metadata": {},
   "outputs": [
    {
     "data": {
      "text/plain": [
       "Text(0.5, 1.0, 'Nuclear protein in HPA: \\nfound in NLSdb or Not')"
      ]
     },
     "execution_count": 100,
     "metadata": {},
     "output_type": "execute_result"
    },
    {
     "data": {
      "image/png": "[encoded data removed]",
      "text/plain": [
       "<Figure size 72x432 with 1 Axes>"
      ]
     },
     "metadata": {
      "needs_background": "light"
     },
     "output_type": "display_data"
    }
   ],
   "source": [
    "df = pd.DataFrame()\n",
    "df.loc[0, \"In NLSdb\"] = (howManyInNLSdb(df_HPA_VorS_Nuc, 'Uniprot') / len(df_HPA_VorS_Nuc)) * 100\n",
    "df.loc[0, \"Not in NLSdb\"] = 100 - (howManyInNLSdb(df_HPA_VorS_Nuc, 'Uniprot') / len(df_HPA_VorS_Nuc)) * 100\n",
    "    \n",
    "# plot\n",
    "fig = plt.figure()\n",
    "ax = fig.add_axes([0.1, 0.1, 0.8, 0.8])\n",
    "\n",
    "df.plot(kind='bar', ax=ax, stacked=True, figsize=(1,6), colormap=\"Blues_r\")\n",
    "plt.ylabel('%')\n",
    "plt.legend(bbox_to_anchor=(1.05, 1), loc='upper left', borderaxespad=0)\n",
    "plt.title('Nuclear protein in HPA: \\nfound in NLSdb or Not')"
   ]
  },
  {
   "cell_type": "code",
   "execution_count": 101,
   "id": "91af3dc1-9429-4b0b-ad67-a8230197825a",
   "metadata": {},
   "outputs": [],
   "source": [
    "fig.savefig('./Output/HPA-nuclear_inNLSdb.jpg', bbox_inches='tight')"
   ]
  },
  {
   "cell_type": "code",
   "execution_count": 38,
   "id": "19d62944-58d3-4802-859d-46ab5349f85b",
   "metadata": {},
   "outputs": [
    {
     "name": "stdout",
     "output_type": "stream",
     "text": [
      "0.06856591018831483\n"
     ]
    }
   ],
   "source": [
    "# fraction of NLSdb proteins found in non-nuclear proteins from HPA\n",
    "print(howManyInNLSdb(df_HPA_VorS_non_Nuc, 'Uniprot') / len(df_HPA_VorS_non_Nuc))"
   ]
  },
  {
   "cell_type": "code",
   "execution_count": 102,
   "id": "5389b934-8411-472d-806f-a680cebc683d",
   "metadata": {},
   "outputs": [
    {
     "data": {
      "text/plain": [
       "Text(0.5, 1.0, 'Non-nuclear protein in HPA: \\nfound in NLSdb or Not')"
      ]
     },
     "execution_count": 102,
     "metadata": {},
     "output_type": "execute_result"
    },
    {
     "data": {
      "image/png": "[encoded data removed]",
      "text/plain": [
       "<Figure size 72x432 with 1 Axes>"
      ]
     },
     "metadata": {
      "needs_background": "light"
     },
     "output_type": "display_data"
    }
   ],
   "source": [
    "df = pd.DataFrame()\n",
    "df.loc[0, \"In NLSdb\"] = (howManyInNLSdb(df_HPA_VorS_non_Nuc, 'Uniprot') / len(df_HPA_VorS_non_Nuc)) * 100\n",
    "df.loc[0, \"Not in NLSdb\"] = 100 - (howManyInNLSdb(df_HPA_VorS_non_Nuc, 'Uniprot') / len(df_HPA_VorS_non_Nuc)) * 100\n",
    "    \n",
    "# plot\n",
    "fig = plt.figure()\n",
    "ax = fig.add_axes([0.1, 0.1, 0.8, 0.8])\n",
    "\n",
    "df.plot(kind='bar', ax=ax, stacked=True, figsize=(1,6), colormap=\"Blues_r\")\n",
    "plt.ylabel('%')\n",
    "plt.legend(bbox_to_anchor=(1.05, 1), loc='upper left', borderaxespad=0)\n",
    "plt.title('Non-nuclear protein in HPA: \\nfound in NLSdb or Not')"
   ]
  },
  {
   "cell_type": "code",
   "execution_count": 103,
   "id": "80ccab78-ddb4-4df3-93f1-dfe408e269c2",
   "metadata": {},
   "outputs": [],
   "source": [
    "fig.savefig('./Output/HPA-non-nuclear_inNLSdb.jpg', bbox_inches='tight')"
   ]
  },
  {
   "cell_type": "code",
   "execution_count": null,
   "id": "95fbb8b4-04ac-4580-827f-e07ad73be501",
   "metadata": {},
   "outputs": [],
   "source": []
  }
 ],
 "metadata": {
  "kernelspec": {
   "display_name": "Python 3",
   "language": "python",
   "name": "python3"
  },
  "language_info": {
   "codemirror_mode": {
    "name": "ipython",
    "version": 3
   },
   "file_extension": ".py",
   "mimetype": "text/x-python",
   "name": "python",
   "nbconvert_exporter": "python",
   "pygments_lexer": "ipython3",
   "version": "3.8.8"
  }
 },
 "nbformat": 4,
 "nbformat_minor": 5
}
