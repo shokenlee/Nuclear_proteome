{
 "cells": [
  {
   "cell_type": "code",
   "execution_count": 1,
   "id": "c9fc2680-0a60-46f3-aac9-f4b5aa7e7f3c",
   "metadata": {
    "tags": []
   },
   "outputs": [],
   "source": [
    "import pandas as pd"
   ]
  },
  {
   "cell_type": "code",
   "execution_count": 2,
   "id": "eae4d525-c458-4d7b-ab60-b082304e27fa",
   "metadata": {},
   "outputs": [],
   "source": [
    "df = pd.read_csv('./Output/Proteomics-HPA_Merged.csv')\n",
    "df_uniprot = pd.read_csv('./Output/Uniprot_judgements.csv')"
   ]
  },
  {
   "cell_type": "code",
   "execution_count": 3,
   "id": "623f0ce6-a089-43da-ba1b-b2d103dd73f8",
   "metadata": {
    "tags": []
   },
   "outputs": [],
   "source": [
    "df_merged = df.merge(df_uniprot, on=\"UniprotID\", how=\"inner\")"
   ]
  },
  {
   "cell_type": "code",
   "execution_count": 4,
   "id": "e1bdcf5e-0199-4e98-ba40-232aba05d3f8",
   "metadata": {
    "tags": []
   },
   "outputs": [
    {
     "name": "stdout",
     "output_type": "stream",
     "text": [
      "410\n"
     ]
    }
   ],
   "source": [
    "multi_paper = len(df_merged[df_merged[\"#ProteomePapers\"] >= 2])\n",
    "\n",
    "single_paper_HPAorUP = len(df_merged[\n",
    "    (df_merged[\"#ProteomePapers\"] == 1) \n",
    "    & ((df_merged.HPA == 1) | (df_merged.Uniprot_NEorER == 1))\n",
    "    ])\n",
    "\n",
    "single_paper_alone = len(df_merged[\n",
    "    (df_merged[\"#ProteomePapers\"] == 1) \n",
    "    & ((df_merged.HPA == 0) & (df_merged.Uniprot_NEorER == 0))\n",
    "    ])\n",
    "\n",
    "print(multi_paper + single_paper_HPAorUP + single_paper_alone)"
   ]
  },
  {
   "cell_type": "code",
   "execution_count": 10,
   "id": "72599513-12b2-43e6-a65d-e0331ceacd03",
   "metadata": {
    "tags": []
   },
   "outputs": [
    {
     "name": "stdout",
     "output_type": "stream",
     "text": [
      "# of proteins with two or more papers:  119\n",
      "# of proteins with a single proteome paper and with a support from HPA or UP:  162\n",
      "Summing the two above, # of nuclear membrane proteins :  281\n",
      "\n",
      "\n",
      "# of proteins with a single proteome paper BUT without a support from HPA or UP:  129\n"
     ]
    }
   ],
   "source": [
    "print(\"# of proteins with two or more papers: \", multi_paper)\n",
    "\n",
    "print(\n",
    "    \"# of proteins with a single proteome paper and with a support from HPA or UP: \", \n",
    "    single_paper_HPAorUP)\n",
    "\n",
    "print(\n",
    "    \"Summing the two above, # of nuclear membrane proteins : \",\n",
    "    multi_paper + single_paper_HPAorUP)\n",
    "\n",
    "print(\"\\n\")\n",
    "\n",
    "print(\n",
    "    \"# of proteins with a single proteome paper BUT without a support from HPA or UP: \",\n",
    "    single_paper_alone)"
   ]
  },
  {
   "cell_type": "code",
   "execution_count": 6,
   "id": "dc7b8d25-0fbb-4be5-b9e2-0688da591efe",
   "metadata": {
    "tags": []
   },
   "outputs": [],
   "source": [
    "df_NE = df_merged[\n",
    "    (df_merged[\"#ProteomePapers\"] >= 2) |\n",
    "    ((df_merged[\"#ProteomePapers\"] == 1) \n",
    "    & ((df_merged.HPA == 1) | (df_merged.Uniprot_NEorER == 1)))\n",
    "]"
   ]
  },
  {
   "cell_type": "code",
   "execution_count": 7,
   "id": "c5895b9e-73a9-4df5-9450-c524121e6d24",
   "metadata": {
    "tags": []
   },
   "outputs": [],
   "source": [
    "df_NE.to_csv('./Output/Final_NE_proteins.csv', index=False)"
   ]
  },
  {
   "cell_type": "code",
   "execution_count": null,
   "id": "3ad5c421-72be-425b-ab73-ca2848f18c87",
   "metadata": {},
   "outputs": [],
   "source": []
  }
 ],
 "metadata": {
  "kernelspec": {
   "display_name": "Python 3 (ipykernel)",
   "language": "python",
   "name": "python3"
  },
  "language_info": {
   "codemirror_mode": {
    "name": "ipython",
    "version": 3
   },
   "file_extension": ".py",
   "mimetype": "text/x-python",
   "name": "python",
   "nbconvert_exporter": "python",
   "pygments_lexer": "ipython3",
   "version": "3.11.3"
  }
 },
 "nbformat": 4,
 "nbformat_minor": 5
}
