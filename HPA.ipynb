{
 "cells": [
  {
   "cell_type": "code",
   "execution_count": 66,
   "id": "5e722194-23d7-485b-8f10-90ae7f4b3e8c",
   "metadata": {},
   "outputs": [],
   "source": [
    "import os, glob, json\n",
    "import numpy as np\n",
    "import pandas as pd\n",
    "import matplotlib.pyplot as plt\n",
    "from time import sleep"
   ]
  },
  {
   "cell_type": "code",
   "execution_count": 57,
   "id": "e35831cf-5eea-4bb4-a5fe-d6c23ffca98b",
   "metadata": {},
   "outputs": [],
   "source": [
    "from bioservices import UniProt"
   ]
  },
  {
   "cell_type": "markdown",
   "id": "0814e1ea-abf4-4274-8129-51e02783388f",
   "metadata": {},
   "source": [
    "### 1. Data import"
   ]
  },
  {
   "cell_type": "code",
   "execution_count": 2,
   "id": "c0a02937-2ba9-4ab9-a4b1-2d6adb3f7154",
   "metadata": {},
   "outputs": [],
   "source": [
    "# protein list from HPA\n",
    "# downloaded 3/14/22\n",
    "data_NE = 'subcell_location_Nuclear.json'\n",
    "# data_nucleoli = 'subcell_location_Nucleoli_Nucleoli.json' # Skipped cause Uniprot ID not present\n",
    "data_nucleoplasm = 'subcell_location_Nucleoplasm_Nuclear.json'\n",
    "data_ER = 'subcell_location_Endoplasmic.json'"
   ]
  },
  {
   "cell_type": "code",
   "execution_count": 42,
   "id": "82bf6d1f-b516-4d11-b0a2-4bf10f05a55a",
   "metadata": {},
   "outputs": [],
   "source": [
    "# Empty dataFrame\n",
    "df = pd.DataFrame()"
   ]
  },
  {
   "cell_type": "markdown",
   "id": "1a304469-3179-4963-b1d4-b6b36471fac2",
   "metadata": {},
   "source": [
    "#### Extract wanted data pieces from each json and put them into a dataframe"
   ]
  },
  {
   "cell_type": "code",
   "execution_count": 43,
   "id": "5fd1fb9b-c888-4a28-a8d2-469f910b69b8",
   "metadata": {},
   "outputs": [
    {
     "name": "stdout",
     "output_type": "stream",
     "text": [
      "subcell_location_Nuclear.json 278\n",
      "subcell_location_Nucleoplasm_Nuclear.json 6784\n",
      "subcell_location_Endoplasmic.json 523\n"
     ]
    }
   ],
   "source": [
    "for filename in [data_NE, data_nucleoplasm, data_ER]:\n",
    "    with open('./SourceData/HPA/' + filename, 'r') as f:\n",
    "        data = json.load(f)\n",
    "\n",
    "    print(filename, len(data))\n",
    "    \n",
    "    # Prepare empty lists\n",
    "    gene_name_list = []\n",
    "    uniprot_ID_list = []\n",
    "    subcell_loc_list = []\n",
    "    evidence_IF_list = []\n",
    "    \n",
    "    # For each set of gene information in json, extract wanted pieces: gene name, uniprotID, subcell_loc and its data reliability\n",
    "    for gene in data:\n",
    "        gene_name_list.append(gene['Gene'])\n",
    "        uniprot_id = gene['Uniprot']\n",
    "        uniprot_ID_list.append(uniprot_id)\n",
    "        subcell_loc_list.append(gene['Subcellular main location'])\n",
    "        evidence_IF_list.append(gene['Reliability (IF)'])\n",
    "    \n",
    "    # Prepare a temporary data frame to which the above items are stored\n",
    "    _df = pd.DataFrame()\n",
    "    _df['Gene_name'] = gene_name_list\n",
    "    _df['Uniprot_id'] = uniprot_ID_list\n",
    "    _df['Subcellular_loc_HPA'] = subcell_loc_list\n",
    "    _df['EvidenceLevel_HPA'] = evidence_IF_list\n",
    "    _df['Filename'] = filename\n",
    "    \n",
    "    # Temporary dataframe is merged to the main dataframe\n",
    "    df = pd.concat([df, _df], axis=0)"
   ]
  },
  {
   "cell_type": "code",
   "execution_count": 44,
   "id": "d8368ffc-2a17-436f-bfc7-cb9ee6c2e118",
   "metadata": {},
   "outputs": [
    {
     "name": "stdout",
     "output_type": "stream",
     "text": [
      "<class 'pandas.core.frame.DataFrame'>\n",
      "Int64Index: 7585 entries, 0 to 522\n",
      "Data columns (total 5 columns):\n",
      " #   Column               Non-Null Count  Dtype \n",
      "---  ------               --------------  ----- \n",
      " 0   Gene_name            7585 non-null   object\n",
      " 1   Uniprot_id           7585 non-null   object\n",
      " 2   Subcellular_loc_HPA  7585 non-null   object\n",
      " 3   EvidenceLevel_HPA    7585 non-null   object\n",
      " 4   Filename             7585 non-null   object\n",
      "dtypes: object(5)\n",
      "memory usage: 355.5+ KB\n"
     ]
    }
   ],
   "source": [
    "df.info()"
   ]
  },
  {
   "cell_type": "code",
   "execution_count": 45,
   "id": "d3f2dbe3-7c46-4cf4-98eb-31c0ea196550",
   "metadata": {},
   "outputs": [],
   "source": [
    "# Put \"Subcellular location\" column based on the filenames\n",
    "df.loc[df['Filename'].str.contains(data_NE),'Subcellular_location'] = 'Nuclear_membrane'\n",
    "df.loc[df['Filename'].str.contains(data_nucleoplasm),'Subcellular_location'] = 'Nucleoplasm'\n",
    "df.loc[df['Filename'].str.contains(data_ER),'Subcellular_location'] = 'ER'"
   ]
  },
  {
   "cell_type": "code",
   "execution_count": 46,
   "id": "08b73f2a-f33e-46cb-8090-c78876dc957e",
   "metadata": {},
   "outputs": [],
   "source": [
    "# Clean up\n",
    "df = df.drop(['Filename'], axis=1)\n",
    "df = df.reset_index(drop=True)"
   ]
  },
  {
   "cell_type": "code",
   "execution_count": 47,
   "id": "c37db55a-32bd-468c-86da-b23c159c2f18",
   "metadata": {},
   "outputs": [
    {
     "data": {
      "text/html": [
       "<div>\n",
       "<style scoped>\n",
       "    .dataframe tbody tr th:only-of-type {\n",
       "        vertical-align: middle;\n",
       "    }\n",
       "\n",
       "    .dataframe tbody tr th {\n",
       "        vertical-align: top;\n",
       "    }\n",
       "\n",
       "    .dataframe thead th {\n",
       "        text-align: right;\n",
       "    }\n",
       "</style>\n",
       "<table border=\"1\" class=\"dataframe\">\n",
       "  <thead>\n",
       "    <tr style=\"text-align: right;\">\n",
       "      <th></th>\n",
       "      <th>Gene_name</th>\n",
       "      <th>Uniprot_id</th>\n",
       "      <th>Subcellular_loc_HPA</th>\n",
       "      <th>EvidenceLevel_HPA</th>\n",
       "      <th>Subcellular_location</th>\n",
       "    </tr>\n",
       "  </thead>\n",
       "  <tbody>\n",
       "    <tr>\n",
       "      <th>7580</th>\n",
       "      <td>ZNF33B</td>\n",
       "      <td>[Q06732]</td>\n",
       "      <td>[Nucleoli fibrillar center, Endoplasmic reticu...</td>\n",
       "      <td>Approved</td>\n",
       "      <td>ER</td>\n",
       "    </tr>\n",
       "    <tr>\n",
       "      <th>7581</th>\n",
       "      <td>ZNF501</td>\n",
       "      <td>[Q96CX3]</td>\n",
       "      <td>[Endoplasmic reticulum]</td>\n",
       "      <td>Approved</td>\n",
       "      <td>ER</td>\n",
       "    </tr>\n",
       "    <tr>\n",
       "      <th>7582</th>\n",
       "      <td>ZNF804A</td>\n",
       "      <td>[Q7Z570]</td>\n",
       "      <td>[Endoplasmic reticulum]</td>\n",
       "      <td>Approved</td>\n",
       "      <td>ER</td>\n",
       "    </tr>\n",
       "    <tr>\n",
       "      <th>7583</th>\n",
       "      <td>ZSCAN21</td>\n",
       "      <td>[Q9Y5A6]</td>\n",
       "      <td>[Endoplasmic reticulum]</td>\n",
       "      <td>Approved</td>\n",
       "      <td>ER</td>\n",
       "    </tr>\n",
       "    <tr>\n",
       "      <th>7584</th>\n",
       "      <td>ZW10</td>\n",
       "      <td>[O43264]</td>\n",
       "      <td>[Endoplasmic reticulum, Cytosol]</td>\n",
       "      <td>Supported</td>\n",
       "      <td>ER</td>\n",
       "    </tr>\n",
       "  </tbody>\n",
       "</table>\n",
       "</div>"
      ],
      "text/plain": [
       "     Gene_name Uniprot_id                                Subcellular_loc_HPA  \\\n",
       "7580    ZNF33B   [Q06732]  [Nucleoli fibrillar center, Endoplasmic reticu...   \n",
       "7581    ZNF501   [Q96CX3]                            [Endoplasmic reticulum]   \n",
       "7582   ZNF804A   [Q7Z570]                            [Endoplasmic reticulum]   \n",
       "7583   ZSCAN21   [Q9Y5A6]                            [Endoplasmic reticulum]   \n",
       "7584      ZW10   [O43264]                   [Endoplasmic reticulum, Cytosol]   \n",
       "\n",
       "     EvidenceLevel_HPA Subcellular_location  \n",
       "7580          Approved                   ER  \n",
       "7581          Approved                   ER  \n",
       "7582          Approved                   ER  \n",
       "7583          Approved                   ER  \n",
       "7584         Supported                   ER  "
      ]
     },
     "execution_count": 47,
     "metadata": {},
     "output_type": "execute_result"
    }
   ],
   "source": [
    "# df.head()\n",
    "df.tail()"
   ]
  },
  {
   "cell_type": "markdown",
   "id": "069d9ff0-9cd3-4e7d-b726-dead5f7788fb",
   "metadata": {},
   "source": [
    "### 2. Tidy Uniprot ID"
   ]
  },
  {
   "cell_type": "markdown",
   "id": "c9c91861-8924-4304-9df4-2ae761bc0740",
   "metadata": {},
   "source": [
    "#### Apparently there are genes with no or multiple uniprot IDs assigned\n",
    "#### Thus need to retrive a uniprot ID by gene name from Uniprot,\n",
    "#### Or split multiple IDs to separate rows"
   ]
  },
  {
   "cell_type": "code",
   "execution_count": 162,
   "id": "dc8eea3d-5221-4772-ae10-70f91a05d72a",
   "metadata": {},
   "outputs": [],
   "source": [
    "# for splitting the df based on the number of IDs per gene\n",
    "df['Length of ID'] = df['Uniprot_id'].apply(len)"
   ]
  },
  {
   "cell_type": "markdown",
   "id": "6d5ceac4-0d68-45a4-aaac-953b1d89d845",
   "metadata": {},
   "source": [
    "#### 2-1. Genes with no IDs assigned"
   ]
  },
  {
   "cell_type": "code",
   "execution_count": 79,
   "id": "7c699576-f93e-41d5-941f-77039e09d855",
   "metadata": {},
   "outputs": [],
   "source": [
    "df_no_id = df[df['Length of ID'] == 0]"
   ]
  },
  {
   "cell_type": "code",
   "execution_count": 80,
   "id": "f5122369-bec1-4e8b-839e-de4ec3548437",
   "metadata": {
    "collapsed": true,
    "jupyter": {
     "outputs_hidden": true
    },
    "tags": []
   },
   "outputs": [
    {
     "data": {
      "text/html": [
       "<div>\n",
       "<style scoped>\n",
       "    .dataframe tbody tr th:only-of-type {\n",
       "        vertical-align: middle;\n",
       "    }\n",
       "\n",
       "    .dataframe tbody tr th {\n",
       "        vertical-align: top;\n",
       "    }\n",
       "\n",
       "    .dataframe thead th {\n",
       "        text-align: right;\n",
       "    }\n",
       "</style>\n",
       "<table border=\"1\" class=\"dataframe\">\n",
       "  <thead>\n",
       "    <tr style=\"text-align: right;\">\n",
       "      <th></th>\n",
       "      <th>Gene_name</th>\n",
       "      <th>Uniprot_id</th>\n",
       "      <th>Subcellular_loc_HPA</th>\n",
       "      <th>EvidenceLevel_HPA</th>\n",
       "      <th>Subcellular_location</th>\n",
       "      <th>Length of ID</th>\n",
       "    </tr>\n",
       "  </thead>\n",
       "  <tbody>\n",
       "    <tr>\n",
       "      <th>262</th>\n",
       "      <td>ZNF487</td>\n",
       "      <td>[]</td>\n",
       "      <td>[Nuclear membrane]</td>\n",
       "      <td>Approved</td>\n",
       "      <td>Nuclear_membrane</td>\n",
       "      <td>0</td>\n",
       "    </tr>\n",
       "    <tr>\n",
       "      <th>263</th>\n",
       "      <td>FXYD6-FXYD2</td>\n",
       "      <td>[]</td>\n",
       "      <td>[Nuclear membrane, Vesicles]</td>\n",
       "      <td>Approved</td>\n",
       "      <td>Nuclear_membrane</td>\n",
       "      <td>0</td>\n",
       "    </tr>\n",
       "    <tr>\n",
       "      <th>265</th>\n",
       "      <td>AC010422.5</td>\n",
       "      <td>[]</td>\n",
       "      <td>[Nuclear membrane, Endoplasmic reticulum]</td>\n",
       "      <td>Approved</td>\n",
       "      <td>Nuclear_membrane</td>\n",
       "      <td>0</td>\n",
       "    </tr>\n",
       "    <tr>\n",
       "      <th>277</th>\n",
       "      <td>AC010319.2</td>\n",
       "      <td>[]</td>\n",
       "      <td>[Nuclear membrane]</td>\n",
       "      <td>Uncertain</td>\n",
       "      <td>Nuclear_membrane</td>\n",
       "      <td>0</td>\n",
       "    </tr>\n",
       "    <tr>\n",
       "      <th>318</th>\n",
       "      <td>AC003006.1</td>\n",
       "      <td>[]</td>\n",
       "      <td>[Nucleoplasm]</td>\n",
       "      <td>Approved</td>\n",
       "      <td>Nucleoplasm</td>\n",
       "      <td>0</td>\n",
       "    </tr>\n",
       "    <tr>\n",
       "      <th>...</th>\n",
       "      <td>...</td>\n",
       "      <td>...</td>\n",
       "      <td>...</td>\n",
       "      <td>...</td>\n",
       "      <td>...</td>\n",
       "      <td>...</td>\n",
       "    </tr>\n",
       "    <tr>\n",
       "      <th>7095</th>\n",
       "      <td>AP001781.2</td>\n",
       "      <td>[]</td>\n",
       "      <td>[Endoplasmic reticulum]</td>\n",
       "      <td>Approved</td>\n",
       "      <td>ER</td>\n",
       "      <td>0</td>\n",
       "    </tr>\n",
       "    <tr>\n",
       "      <th>7236</th>\n",
       "      <td>GIMAP1-GIMAP5</td>\n",
       "      <td>[]</td>\n",
       "      <td>[Endoplasmic reticulum]</td>\n",
       "      <td>Supported</td>\n",
       "      <td>ER</td>\n",
       "      <td>0</td>\n",
       "    </tr>\n",
       "    <tr>\n",
       "      <th>7410</th>\n",
       "      <td>RPL17-C18orf32</td>\n",
       "      <td>[]</td>\n",
       "      <td>[Endoplasmic reticulum, Cytosol]</td>\n",
       "      <td>Supported</td>\n",
       "      <td>ER</td>\n",
       "      <td>0</td>\n",
       "    </tr>\n",
       "    <tr>\n",
       "      <th>7426</th>\n",
       "      <td>RPL36A-HNRNPH2</td>\n",
       "      <td>[]</td>\n",
       "      <td>[Endoplasmic reticulum, Cytosol]</td>\n",
       "      <td>Approved</td>\n",
       "      <td>ER</td>\n",
       "      <td>0</td>\n",
       "    </tr>\n",
       "    <tr>\n",
       "      <th>7455</th>\n",
       "      <td>RPS27AP5</td>\n",
       "      <td>[]</td>\n",
       "      <td>[Nucleoli, Endoplasmic reticulum, Cytosol]</td>\n",
       "      <td>Approved</td>\n",
       "      <td>ER</td>\n",
       "      <td>0</td>\n",
       "    </tr>\n",
       "  </tbody>\n",
       "</table>\n",
       "<p>117 rows × 6 columns</p>\n",
       "</div>"
      ],
      "text/plain": [
       "           Gene_name Uniprot_id                         Subcellular_loc_HPA  \\\n",
       "262           ZNF487         []                          [Nuclear membrane]   \n",
       "263      FXYD6-FXYD2         []                [Nuclear membrane, Vesicles]   \n",
       "265       AC010422.5         []   [Nuclear membrane, Endoplasmic reticulum]   \n",
       "277       AC010319.2         []                          [Nuclear membrane]   \n",
       "318       AC003006.1         []                               [Nucleoplasm]   \n",
       "...              ...        ...                                         ...   \n",
       "7095      AP001781.2         []                     [Endoplasmic reticulum]   \n",
       "7236   GIMAP1-GIMAP5         []                     [Endoplasmic reticulum]   \n",
       "7410  RPL17-C18orf32         []            [Endoplasmic reticulum, Cytosol]   \n",
       "7426  RPL36A-HNRNPH2         []            [Endoplasmic reticulum, Cytosol]   \n",
       "7455        RPS27AP5         []  [Nucleoli, Endoplasmic reticulum, Cytosol]   \n",
       "\n",
       "     EvidenceLevel_HPA Subcellular_location  Length of ID  \n",
       "262           Approved     Nuclear_membrane             0  \n",
       "263           Approved     Nuclear_membrane             0  \n",
       "265           Approved     Nuclear_membrane             0  \n",
       "277          Uncertain     Nuclear_membrane             0  \n",
       "318           Approved          Nucleoplasm             0  \n",
       "...                ...                  ...           ...  \n",
       "7095          Approved                   ER             0  \n",
       "7236         Supported                   ER             0  \n",
       "7410         Supported                   ER             0  \n",
       "7426          Approved                   ER             0  \n",
       "7455          Approved                   ER             0  \n",
       "\n",
       "[117 rows x 6 columns]"
      ]
     },
     "execution_count": 80,
     "metadata": {},
     "output_type": "execute_result"
    }
   ],
   "source": [
    "df_no_id"
   ]
  },
  {
   "cell_type": "markdown",
   "id": "5421f12c-9ca8-473e-ab49-5e0e8516771d",
   "metadata": {},
   "source": [
    "##### Retrieve uniprot IDs from uniprot based on the gene name and organism ID wherever possible"
   ]
  },
  {
   "cell_type": "code",
   "execution_count": 81,
   "id": "0879c99d-041a-438e-bca0-8429d0a38ead",
   "metadata": {
    "collapsed": true,
    "jupyter": {
     "outputs_hidden": true
    },
    "tags": []
   },
   "outputs": [],
   "source": [
    "u = UniProt()\n",
    "\n",
    "for i in range(len(df_no_id)):\n",
    "    # get a gene name from df_no_id\n",
    "    gene = df_no_id.iloc[i, 0]\n",
    "    \n",
    "    # search Uniprot with organism being H sapiens 9606\n",
    "    res = u.search(gene +'+AND+organism:9606', frmt='tab', limit=1, columns='id')\n",
    "    \n",
    "    # split the tab fmt to a list\n",
    "    res_split = res.split('\\n')\n",
    "    \n",
    "    # if res contains ID, the split generates a list with 3 items 'Entry', id, and a space\n",
    "    if len(res_split) == 3:\n",
    "        print(res)\n",
    "        uniprot_id = res_split[1]\n",
    "    else:\n",
    "        print('ID not found')\n",
    "        uniprot_id = 'Not_found'\n",
    "    \n",
    "    sleep(3)\n",
    "    \n",
    "    # replace the Uniprot ID cell with the ID found\n",
    "    df_no_id.iloc[i, 1] = uniprot_id"
   ]
  },
  {
   "cell_type": "code",
   "execution_count": 158,
   "id": "0de6dccc-9f28-4a1f-b2b9-c5995100f5dc",
   "metadata": {},
   "outputs": [],
   "source": [
    "df_no_id = df_no_id.drop(['Length of ID'], axis=1)"
   ]
  },
  {
   "cell_type": "markdown",
   "id": "1359e0a2-542a-4a41-90f2-a7f3e0474b78",
   "metadata": {},
   "source": [
    "#### 2-2. Genes with multiple IDs"
   ]
  },
  {
   "cell_type": "code",
   "execution_count": 141,
   "id": "9da30cf4-cd15-4270-834c-4886749f20c7",
   "metadata": {},
   "outputs": [],
   "source": [
    "df_multi_id = df[df['Length of ID'] >= 2]"
   ]
  },
  {
   "cell_type": "code",
   "execution_count": 142,
   "id": "79299a8f-0d50-4fd6-9889-66e6264a6800",
   "metadata": {},
   "outputs": [],
   "source": [
    "df_multi_id = df_multi_id.reset_index(drop=True)"
   ]
  },
  {
   "cell_type": "markdown",
   "id": "a17ad4cc-c465-4dd8-af40-3f4ed4e39fbf",
   "metadata": {},
   "source": [
    "##### Generate a dictionary to which additional IDs are stored, tied with its gene name"
   ]
  },
  {
   "cell_type": "code",
   "execution_count": 143,
   "id": "f7d7c076-a919-4c4e-bd05-7ec0136e266b",
   "metadata": {},
   "outputs": [
    {
     "name": "stdout",
     "output_type": "stream",
     "text": [
      "['P42166', 'P42167']\n",
      "['Q5XKL5', 'Q9UPP5']\n",
      "['P39880', 'Q13948']\n",
      "['P0DP91', 'Q03468']\n",
      "['O95467', 'P63092', 'P84996', 'Q5JWF2']\n",
      "['O96007', 'O96033']\n",
      "['Q8IXS6', 'Q9Y2D5']\n",
      "['P0DPB5', 'P0DPB6']\n",
      "['P0CAP2', 'Q6EEV4']\n",
      "['O43236', 'Q8NEP4']\n",
      "['L0R6Q1', 'Q96G79']\n",
      "['P35544', 'P62861']\n",
      "['Q8NFQ8', 'Q9H496']\n",
      "['Q5JU69', 'Q8N2E6']\n"
     ]
    }
   ],
   "source": [
    "_dict = {'Gene_name': [], 'Uniprot_id': []}\n",
    "for i in range(len(df_multi_id)):\n",
    "    id_list = df_multi_id.iloc[i, 1]\n",
    "    print(id_list)\n",
    "    first_id = id_list[0]\n",
    "    df_multi_id.iloc[i, 1] = first_id\n",
    "    for j in range(1, len(id_list)):\n",
    "        additional_id = id_list[j]\n",
    "        _dict['Gene_name'].append(df_multi_id.iloc[i, 0])\n",
    "        _dict['Uniprot_id'].append(additional_id)"
   ]
  },
  {
   "cell_type": "markdown",
   "id": "b2023d42-66be-4f51-a36a-be44252c3d05",
   "metadata": {},
   "source": [
    "##### This is concatenated as to the main df_multi_id"
   ]
  },
  {
   "cell_type": "code",
   "execution_count": 144,
   "id": "2d2a175d-5e38-410e-8016-e5a807a30b44",
   "metadata": {},
   "outputs": [],
   "source": [
    "_df = pd.DataFrame(_dict)\n",
    "\n",
    "df_multi_id = pd.concat([df_multi_id, _df], axis=0)"
   ]
  },
  {
   "cell_type": "markdown",
   "id": "ab199dad-a93f-4181-8706-195a685752ea",
   "metadata": {},
   "source": [
    "##### Then sorted by Length of ID as well as Gene name so filled rows come to top of each gene and ffill can be applied"
   ]
  },
  {
   "cell_type": "code",
   "execution_count": 145,
   "id": "16a2e0ae-3439-46c4-93ef-8f08fc9398c0",
   "metadata": {},
   "outputs": [],
   "source": [
    "df_multi_id = df_multi_id.sort_values(by=['Gene_name', 'Length of ID'])\n",
    "\n",
    "df_multi_id = df_multi_id.fillna(method='ffill')"
   ]
  },
  {
   "cell_type": "markdown",
   "id": "e76850e3-1ccb-4033-9bfc-7da12944370e",
   "metadata": {},
   "source": [
    "##### Cleanup"
   ]
  },
  {
   "cell_type": "code",
   "execution_count": 146,
   "id": "3c5adb67-f6ee-4e61-b0ba-a46ef3d29678",
   "metadata": {},
   "outputs": [],
   "source": [
    "df_multi_id = df_multi_id.drop(['Length of ID'], axis=1)"
   ]
  },
  {
   "cell_type": "code",
   "execution_count": 147,
   "id": "62161625-a84d-4da7-814b-1d83bc2ea793",
   "metadata": {
    "collapsed": true,
    "jupyter": {
     "outputs_hidden": true
    },
    "tags": []
   },
   "outputs": [
    {
     "data": {
      "text/html": [
       "<div>\n",
       "<style scoped>\n",
       "    .dataframe tbody tr th:only-of-type {\n",
       "        vertical-align: middle;\n",
       "    }\n",
       "\n",
       "    .dataframe tbody tr th {\n",
       "        vertical-align: top;\n",
       "    }\n",
       "\n",
       "    .dataframe thead th {\n",
       "        text-align: right;\n",
       "    }\n",
       "</style>\n",
       "<table border=\"1\" class=\"dataframe\">\n",
       "  <thead>\n",
       "    <tr style=\"text-align: right;\">\n",
       "      <th></th>\n",
       "      <th>Gene_name</th>\n",
       "      <th>Uniprot_id</th>\n",
       "      <th>Subcellular_loc_HPA</th>\n",
       "      <th>EvidenceLevel_HPA</th>\n",
       "      <th>Subcellular_location</th>\n",
       "    </tr>\n",
       "  </thead>\n",
       "  <tbody>\n",
       "    <tr>\n",
       "      <th>1</th>\n",
       "      <td>BTBD8</td>\n",
       "      <td>Q5XKL5</td>\n",
       "      <td>[Nucleoplasm]</td>\n",
       "      <td>Supported</td>\n",
       "      <td>Nucleoplasm</td>\n",
       "    </tr>\n",
       "    <tr>\n",
       "      <th>1</th>\n",
       "      <td>BTBD8</td>\n",
       "      <td>Q9UPP5</td>\n",
       "      <td>[Nucleoplasm]</td>\n",
       "      <td>Supported</td>\n",
       "      <td>Nucleoplasm</td>\n",
       "    </tr>\n",
       "    <tr>\n",
       "      <th>2</th>\n",
       "      <td>CUX1</td>\n",
       "      <td>P39880</td>\n",
       "      <td>[Nucleoplasm, Golgi apparatus]</td>\n",
       "      <td>Supported</td>\n",
       "      <td>Nucleoplasm</td>\n",
       "    </tr>\n",
       "    <tr>\n",
       "      <th>2</th>\n",
       "      <td>CUX1</td>\n",
       "      <td>Q13948</td>\n",
       "      <td>[Nucleoplasm, Golgi apparatus]</td>\n",
       "      <td>Supported</td>\n",
       "      <td>Nucleoplasm</td>\n",
       "    </tr>\n",
       "    <tr>\n",
       "      <th>3</th>\n",
       "      <td>ERCC6</td>\n",
       "      <td>P0DP91</td>\n",
       "      <td>[Nucleoplasm]</td>\n",
       "      <td>Approved</td>\n",
       "      <td>Nucleoplasm</td>\n",
       "    </tr>\n",
       "    <tr>\n",
       "      <th>3</th>\n",
       "      <td>ERCC6</td>\n",
       "      <td>Q03468</td>\n",
       "      <td>[Nucleoplasm]</td>\n",
       "      <td>Approved</td>\n",
       "      <td>Nucleoplasm</td>\n",
       "    </tr>\n",
       "    <tr>\n",
       "      <th>11</th>\n",
       "      <td>FAU</td>\n",
       "      <td>P35544</td>\n",
       "      <td>[Endoplasmic reticulum, Cytosol]</td>\n",
       "      <td>Enhanced</td>\n",
       "      <td>ER</td>\n",
       "    </tr>\n",
       "    <tr>\n",
       "      <th>13</th>\n",
       "      <td>FAU</td>\n",
       "      <td>P62861</td>\n",
       "      <td>[Endoplasmic reticulum, Cytosol]</td>\n",
       "      <td>Enhanced</td>\n",
       "      <td>ER</td>\n",
       "    </tr>\n",
       "    <tr>\n",
       "      <th>4</th>\n",
       "      <td>GNAS</td>\n",
       "      <td>O95467</td>\n",
       "      <td>[Nucleoplasm]</td>\n",
       "      <td>Approved</td>\n",
       "      <td>Nucleoplasm</td>\n",
       "    </tr>\n",
       "    <tr>\n",
       "      <th>4</th>\n",
       "      <td>GNAS</td>\n",
       "      <td>P63092</td>\n",
       "      <td>[Nucleoplasm]</td>\n",
       "      <td>Approved</td>\n",
       "      <td>Nucleoplasm</td>\n",
       "    </tr>\n",
       "    <tr>\n",
       "      <th>5</th>\n",
       "      <td>GNAS</td>\n",
       "      <td>P84996</td>\n",
       "      <td>[Nucleoplasm]</td>\n",
       "      <td>Approved</td>\n",
       "      <td>Nucleoplasm</td>\n",
       "    </tr>\n",
       "    <tr>\n",
       "      <th>6</th>\n",
       "      <td>GNAS</td>\n",
       "      <td>Q5JWF2</td>\n",
       "      <td>[Nucleoplasm]</td>\n",
       "      <td>Approved</td>\n",
       "      <td>Nucleoplasm</td>\n",
       "    </tr>\n",
       "    <tr>\n",
       "      <th>5</th>\n",
       "      <td>MOCS2</td>\n",
       "      <td>O96007</td>\n",
       "      <td>[Cytosol]</td>\n",
       "      <td>Supported</td>\n",
       "      <td>Nucleoplasm</td>\n",
       "    </tr>\n",
       "    <tr>\n",
       "      <th>7</th>\n",
       "      <td>MOCS2</td>\n",
       "      <td>O96033</td>\n",
       "      <td>[Cytosol]</td>\n",
       "      <td>Supported</td>\n",
       "      <td>Nucleoplasm</td>\n",
       "    </tr>\n",
       "    <tr>\n",
       "      <th>6</th>\n",
       "      <td>PALM2AKAP2</td>\n",
       "      <td>Q8IXS6</td>\n",
       "      <td>[Plasma membrane]</td>\n",
       "      <td>Approved</td>\n",
       "      <td>Nucleoplasm</td>\n",
       "    </tr>\n",
       "    <tr>\n",
       "      <th>8</th>\n",
       "      <td>PALM2AKAP2</td>\n",
       "      <td>Q9Y2D5</td>\n",
       "      <td>[Plasma membrane]</td>\n",
       "      <td>Approved</td>\n",
       "      <td>Nucleoplasm</td>\n",
       "    </tr>\n",
       "    <tr>\n",
       "      <th>7</th>\n",
       "      <td>POLR1D</td>\n",
       "      <td>P0DPB5</td>\n",
       "      <td>[Nucleoplasm, Golgi apparatus]</td>\n",
       "      <td>Approved</td>\n",
       "      <td>Nucleoplasm</td>\n",
       "    </tr>\n",
       "    <tr>\n",
       "      <th>9</th>\n",
       "      <td>POLR1D</td>\n",
       "      <td>P0DPB6</td>\n",
       "      <td>[Nucleoplasm, Golgi apparatus]</td>\n",
       "      <td>Approved</td>\n",
       "      <td>Nucleoplasm</td>\n",
       "    </tr>\n",
       "    <tr>\n",
       "      <th>8</th>\n",
       "      <td>POLR2M</td>\n",
       "      <td>P0CAP2</td>\n",
       "      <td>[Nucleoplasm]</td>\n",
       "      <td>Approved</td>\n",
       "      <td>Nucleoplasm</td>\n",
       "    </tr>\n",
       "    <tr>\n",
       "      <th>10</th>\n",
       "      <td>POLR2M</td>\n",
       "      <td>Q6EEV4</td>\n",
       "      <td>[Nucleoplasm]</td>\n",
       "      <td>Approved</td>\n",
       "      <td>Nucleoplasm</td>\n",
       "    </tr>\n",
       "    <tr>\n",
       "      <th>9</th>\n",
       "      <td>SEPTIN4</td>\n",
       "      <td>O43236</td>\n",
       "      <td>[Nucleoplasm]</td>\n",
       "      <td>Supported</td>\n",
       "      <td>Nucleoplasm</td>\n",
       "    </tr>\n",
       "    <tr>\n",
       "      <th>11</th>\n",
       "      <td>SEPTIN4</td>\n",
       "      <td>Q8NEP4</td>\n",
       "      <td>[Nucleoplasm]</td>\n",
       "      <td>Supported</td>\n",
       "      <td>Nucleoplasm</td>\n",
       "    </tr>\n",
       "    <tr>\n",
       "      <th>10</th>\n",
       "      <td>SLC35A4</td>\n",
       "      <td>L0R6Q1</td>\n",
       "      <td>[Nucleoplasm]</td>\n",
       "      <td>Approved</td>\n",
       "      <td>Nucleoplasm</td>\n",
       "    </tr>\n",
       "    <tr>\n",
       "      <th>12</th>\n",
       "      <td>SLC35A4</td>\n",
       "      <td>Q96G79</td>\n",
       "      <td>[Nucleoplasm]</td>\n",
       "      <td>Approved</td>\n",
       "      <td>Nucleoplasm</td>\n",
       "    </tr>\n",
       "    <tr>\n",
       "      <th>0</th>\n",
       "      <td>TMPO</td>\n",
       "      <td>P42166</td>\n",
       "      <td>[Nuclear membrane]</td>\n",
       "      <td>Enhanced</td>\n",
       "      <td>Nuclear_membrane</td>\n",
       "    </tr>\n",
       "    <tr>\n",
       "      <th>0</th>\n",
       "      <td>TMPO</td>\n",
       "      <td>P42167</td>\n",
       "      <td>[Nuclear membrane]</td>\n",
       "      <td>Enhanced</td>\n",
       "      <td>Nuclear_membrane</td>\n",
       "    </tr>\n",
       "    <tr>\n",
       "      <th>12</th>\n",
       "      <td>TOR1AIP2</td>\n",
       "      <td>Q8NFQ8</td>\n",
       "      <td>[Endoplasmic reticulum]</td>\n",
       "      <td>Enhanced</td>\n",
       "      <td>ER</td>\n",
       "    </tr>\n",
       "    <tr>\n",
       "      <th>14</th>\n",
       "      <td>TOR1AIP2</td>\n",
       "      <td>Q9H496</td>\n",
       "      <td>[Endoplasmic reticulum]</td>\n",
       "      <td>Enhanced</td>\n",
       "      <td>ER</td>\n",
       "    </tr>\n",
       "    <tr>\n",
       "      <th>13</th>\n",
       "      <td>TOR2A</td>\n",
       "      <td>Q5JU69</td>\n",
       "      <td>[Endoplasmic reticulum, Plasma membrane]</td>\n",
       "      <td>Uncertain</td>\n",
       "      <td>ER</td>\n",
       "    </tr>\n",
       "    <tr>\n",
       "      <th>15</th>\n",
       "      <td>TOR2A</td>\n",
       "      <td>Q8N2E6</td>\n",
       "      <td>[Endoplasmic reticulum, Plasma membrane]</td>\n",
       "      <td>Uncertain</td>\n",
       "      <td>ER</td>\n",
       "    </tr>\n",
       "  </tbody>\n",
       "</table>\n",
       "</div>"
      ],
      "text/plain": [
       "     Gene_name Uniprot_id                       Subcellular_loc_HPA  \\\n",
       "1        BTBD8     Q5XKL5                             [Nucleoplasm]   \n",
       "1        BTBD8     Q9UPP5                             [Nucleoplasm]   \n",
       "2         CUX1     P39880            [Nucleoplasm, Golgi apparatus]   \n",
       "2         CUX1     Q13948            [Nucleoplasm, Golgi apparatus]   \n",
       "3        ERCC6     P0DP91                             [Nucleoplasm]   \n",
       "3        ERCC6     Q03468                             [Nucleoplasm]   \n",
       "11         FAU     P35544          [Endoplasmic reticulum, Cytosol]   \n",
       "13         FAU     P62861          [Endoplasmic reticulum, Cytosol]   \n",
       "4         GNAS     O95467                             [Nucleoplasm]   \n",
       "4         GNAS     P63092                             [Nucleoplasm]   \n",
       "5         GNAS     P84996                             [Nucleoplasm]   \n",
       "6         GNAS     Q5JWF2                             [Nucleoplasm]   \n",
       "5        MOCS2     O96007                                 [Cytosol]   \n",
       "7        MOCS2     O96033                                 [Cytosol]   \n",
       "6   PALM2AKAP2     Q8IXS6                         [Plasma membrane]   \n",
       "8   PALM2AKAP2     Q9Y2D5                         [Plasma membrane]   \n",
       "7       POLR1D     P0DPB5            [Nucleoplasm, Golgi apparatus]   \n",
       "9       POLR1D     P0DPB6            [Nucleoplasm, Golgi apparatus]   \n",
       "8       POLR2M     P0CAP2                             [Nucleoplasm]   \n",
       "10      POLR2M     Q6EEV4                             [Nucleoplasm]   \n",
       "9      SEPTIN4     O43236                             [Nucleoplasm]   \n",
       "11     SEPTIN4     Q8NEP4                             [Nucleoplasm]   \n",
       "10     SLC35A4     L0R6Q1                             [Nucleoplasm]   \n",
       "12     SLC35A4     Q96G79                             [Nucleoplasm]   \n",
       "0         TMPO     P42166                        [Nuclear membrane]   \n",
       "0         TMPO     P42167                        [Nuclear membrane]   \n",
       "12    TOR1AIP2     Q8NFQ8                   [Endoplasmic reticulum]   \n",
       "14    TOR1AIP2     Q9H496                   [Endoplasmic reticulum]   \n",
       "13       TOR2A     Q5JU69  [Endoplasmic reticulum, Plasma membrane]   \n",
       "15       TOR2A     Q8N2E6  [Endoplasmic reticulum, Plasma membrane]   \n",
       "\n",
       "   EvidenceLevel_HPA Subcellular_location  \n",
       "1          Supported          Nucleoplasm  \n",
       "1          Supported          Nucleoplasm  \n",
       "2          Supported          Nucleoplasm  \n",
       "2          Supported          Nucleoplasm  \n",
       "3           Approved          Nucleoplasm  \n",
       "3           Approved          Nucleoplasm  \n",
       "11          Enhanced                   ER  \n",
       "13          Enhanced                   ER  \n",
       "4           Approved          Nucleoplasm  \n",
       "4           Approved          Nucleoplasm  \n",
       "5           Approved          Nucleoplasm  \n",
       "6           Approved          Nucleoplasm  \n",
       "5          Supported          Nucleoplasm  \n",
       "7          Supported          Nucleoplasm  \n",
       "6           Approved          Nucleoplasm  \n",
       "8           Approved          Nucleoplasm  \n",
       "7           Approved          Nucleoplasm  \n",
       "9           Approved          Nucleoplasm  \n",
       "8           Approved          Nucleoplasm  \n",
       "10          Approved          Nucleoplasm  \n",
       "9          Supported          Nucleoplasm  \n",
       "11         Supported          Nucleoplasm  \n",
       "10          Approved          Nucleoplasm  \n",
       "12          Approved          Nucleoplasm  \n",
       "0           Enhanced     Nuclear_membrane  \n",
       "0           Enhanced     Nuclear_membrane  \n",
       "12          Enhanced                   ER  \n",
       "14          Enhanced                   ER  \n",
       "13         Uncertain                   ER  \n",
       "15         Uncertain                   ER  "
      ]
     },
     "execution_count": 147,
     "metadata": {},
     "output_type": "execute_result"
    }
   ],
   "source": [
    "df_multi_id"
   ]
  },
  {
   "cell_type": "markdown",
   "id": "3a35ba79-1f72-4dac-8ab9-649aeee75a62",
   "metadata": {},
   "source": [
    "### 3. Concatanate all dfs of zero or multiple IDs to a df of single ID"
   ]
  },
  {
   "cell_type": "code",
   "execution_count": 148,
   "id": "4ed2dcc3-3069-48fd-bd2f-b66c4aa9ff81",
   "metadata": {
    "collapsed": true,
    "jupyter": {
     "outputs_hidden": true
    },
    "tags": []
   },
   "outputs": [
    {
     "data": {
      "text/html": [
       "<div>\n",
       "<style scoped>\n",
       "    .dataframe tbody tr th:only-of-type {\n",
       "        vertical-align: middle;\n",
       "    }\n",
       "\n",
       "    .dataframe tbody tr th {\n",
       "        vertical-align: top;\n",
       "    }\n",
       "\n",
       "    .dataframe thead th {\n",
       "        text-align: right;\n",
       "    }\n",
       "</style>\n",
       "<table border=\"1\" class=\"dataframe\">\n",
       "  <thead>\n",
       "    <tr style=\"text-align: right;\">\n",
       "      <th></th>\n",
       "      <th>Gene_name</th>\n",
       "      <th>Uniprot_id</th>\n",
       "      <th>Subcellular_loc_HPA</th>\n",
       "      <th>EvidenceLevel_HPA</th>\n",
       "      <th>Subcellular_location</th>\n",
       "      <th>Length of ID</th>\n",
       "    </tr>\n",
       "  </thead>\n",
       "  <tbody>\n",
       "    <tr>\n",
       "      <th>0</th>\n",
       "      <td>TPR</td>\n",
       "      <td>[P12270]</td>\n",
       "      <td>[Nuclear membrane]</td>\n",
       "      <td>Enhanced</td>\n",
       "      <td>Nuclear_membrane</td>\n",
       "      <td>1</td>\n",
       "    </tr>\n",
       "    <tr>\n",
       "      <th>1</th>\n",
       "      <td>XPO1</td>\n",
       "      <td>[O14980]</td>\n",
       "      <td>[Nucleoplasm, Nuclear membrane]</td>\n",
       "      <td>Enhanced</td>\n",
       "      <td>Nuclear_membrane</td>\n",
       "      <td>1</td>\n",
       "    </tr>\n",
       "    <tr>\n",
       "      <th>2</th>\n",
       "      <td>NUP50</td>\n",
       "      <td>[Q9UKX7]</td>\n",
       "      <td>[Nucleoplasm, Nuclear membrane]</td>\n",
       "      <td>Enhanced</td>\n",
       "      <td>Nuclear_membrane</td>\n",
       "      <td>1</td>\n",
       "    </tr>\n",
       "    <tr>\n",
       "      <th>3</th>\n",
       "      <td>RANGAP1</td>\n",
       "      <td>[P46060]</td>\n",
       "      <td>[Nuclear membrane]</td>\n",
       "      <td>Enhanced</td>\n",
       "      <td>Nuclear_membrane</td>\n",
       "      <td>1</td>\n",
       "    </tr>\n",
       "    <tr>\n",
       "      <th>4</th>\n",
       "      <td>EMD</td>\n",
       "      <td>[P50402]</td>\n",
       "      <td>[Nuclear membrane]</td>\n",
       "      <td>Enhanced</td>\n",
       "      <td>Nuclear_membrane</td>\n",
       "      <td>1</td>\n",
       "    </tr>\n",
       "  </tbody>\n",
       "</table>\n",
       "</div>"
      ],
      "text/plain": [
       "  Gene_name Uniprot_id              Subcellular_loc_HPA EvidenceLevel_HPA  \\\n",
       "0       TPR   [P12270]               [Nuclear membrane]          Enhanced   \n",
       "1      XPO1   [O14980]  [Nucleoplasm, Nuclear membrane]          Enhanced   \n",
       "2     NUP50   [Q9UKX7]  [Nucleoplasm, Nuclear membrane]          Enhanced   \n",
       "3   RANGAP1   [P46060]               [Nuclear membrane]          Enhanced   \n",
       "4       EMD   [P50402]               [Nuclear membrane]          Enhanced   \n",
       "\n",
       "  Subcellular_location  Length of ID  \n",
       "0     Nuclear_membrane             1  \n",
       "1     Nuclear_membrane             1  \n",
       "2     Nuclear_membrane             1  \n",
       "3     Nuclear_membrane             1  \n",
       "4     Nuclear_membrane             1  "
      ]
     },
     "execution_count": 148,
     "metadata": {},
     "output_type": "execute_result"
    }
   ],
   "source": [
    "df.head()"
   ]
  },
  {
   "cell_type": "code",
   "execution_count": 149,
   "id": "d4d656a4-7805-48a1-b383-c4175539776c",
   "metadata": {},
   "outputs": [],
   "source": [
    "df_single_id = df[df['Length of ID'] == 1]"
   ]
  },
  {
   "cell_type": "markdown",
   "id": "d48101a7-5e8a-467e-9c3d-6ac1fd3e7231",
   "metadata": {},
   "source": [
    "##### Turn the list fmt to string fmt in Uniprot_id"
   ]
  },
  {
   "cell_type": "code",
   "execution_count": 150,
   "id": "85ecbfcd-17f3-4adb-9049-203e1a54d1c9",
   "metadata": {},
   "outputs": [],
   "source": [
    "def list_to_str(_list):\n",
    "    _str = _list[0]\n",
    "    return _str"
   ]
  },
  {
   "cell_type": "code",
   "execution_count": 151,
   "id": "d960185e-a955-4171-8fec-19c08bbd6905",
   "metadata": {},
   "outputs": [
    {
     "name": "stderr",
     "output_type": "stream",
     "text": [
      "<ipython-input-151-c8cecc54f6ca>:1: SettingWithCopyWarning: \n",
      "A value is trying to be set on a copy of a slice from a DataFrame.\n",
      "Try using .loc[row_indexer,col_indexer] = value instead\n",
      "\n",
      "See the caveats in the documentation: https://pandas.pydata.org/pandas-docs/stable/user_guide/indexing.html#returning-a-view-versus-a-copy\n",
      "  df_single_id['Uniprot_id_str'] = df_single_id['Uniprot_id'].apply(list_to_str)\n"
     ]
    }
   ],
   "source": [
    "df_single_id['Uniprot_id_str'] = df_single_id['Uniprot_id'].apply(list_to_str)"
   ]
  },
  {
   "cell_type": "code",
   "execution_count": 152,
   "id": "bd137f20-e40f-4f71-8efb-649a1e91cdc9",
   "metadata": {
    "collapsed": true,
    "jupyter": {
     "outputs_hidden": true
    },
    "tags": []
   },
   "outputs": [
    {
     "data": {
      "text/html": [
       "<div>\n",
       "<style scoped>\n",
       "    .dataframe tbody tr th:only-of-type {\n",
       "        vertical-align: middle;\n",
       "    }\n",
       "\n",
       "    .dataframe tbody tr th {\n",
       "        vertical-align: top;\n",
       "    }\n",
       "\n",
       "    .dataframe thead th {\n",
       "        text-align: right;\n",
       "    }\n",
       "</style>\n",
       "<table border=\"1\" class=\"dataframe\">\n",
       "  <thead>\n",
       "    <tr style=\"text-align: right;\">\n",
       "      <th></th>\n",
       "      <th>Gene_name</th>\n",
       "      <th>Uniprot_id</th>\n",
       "      <th>Subcellular_loc_HPA</th>\n",
       "      <th>EvidenceLevel_HPA</th>\n",
       "      <th>Subcellular_location</th>\n",
       "      <th>Length of ID</th>\n",
       "      <th>Uniprot_id_str</th>\n",
       "    </tr>\n",
       "  </thead>\n",
       "  <tbody>\n",
       "    <tr>\n",
       "      <th>0</th>\n",
       "      <td>TPR</td>\n",
       "      <td>[P12270]</td>\n",
       "      <td>[Nuclear membrane]</td>\n",
       "      <td>Enhanced</td>\n",
       "      <td>Nuclear_membrane</td>\n",
       "      <td>1</td>\n",
       "      <td>P12270</td>\n",
       "    </tr>\n",
       "    <tr>\n",
       "      <th>1</th>\n",
       "      <td>XPO1</td>\n",
       "      <td>[O14980]</td>\n",
       "      <td>[Nucleoplasm, Nuclear membrane]</td>\n",
       "      <td>Enhanced</td>\n",
       "      <td>Nuclear_membrane</td>\n",
       "      <td>1</td>\n",
       "      <td>O14980</td>\n",
       "    </tr>\n",
       "    <tr>\n",
       "      <th>2</th>\n",
       "      <td>NUP50</td>\n",
       "      <td>[Q9UKX7]</td>\n",
       "      <td>[Nucleoplasm, Nuclear membrane]</td>\n",
       "      <td>Enhanced</td>\n",
       "      <td>Nuclear_membrane</td>\n",
       "      <td>1</td>\n",
       "      <td>Q9UKX7</td>\n",
       "    </tr>\n",
       "    <tr>\n",
       "      <th>3</th>\n",
       "      <td>RANGAP1</td>\n",
       "      <td>[P46060]</td>\n",
       "      <td>[Nuclear membrane]</td>\n",
       "      <td>Enhanced</td>\n",
       "      <td>Nuclear_membrane</td>\n",
       "      <td>1</td>\n",
       "      <td>P46060</td>\n",
       "    </tr>\n",
       "    <tr>\n",
       "      <th>4</th>\n",
       "      <td>EMD</td>\n",
       "      <td>[P50402]</td>\n",
       "      <td>[Nuclear membrane]</td>\n",
       "      <td>Enhanced</td>\n",
       "      <td>Nuclear_membrane</td>\n",
       "      <td>1</td>\n",
       "      <td>P50402</td>\n",
       "    </tr>\n",
       "  </tbody>\n",
       "</table>\n",
       "</div>"
      ],
      "text/plain": [
       "  Gene_name Uniprot_id              Subcellular_loc_HPA EvidenceLevel_HPA  \\\n",
       "0       TPR   [P12270]               [Nuclear membrane]          Enhanced   \n",
       "1      XPO1   [O14980]  [Nucleoplasm, Nuclear membrane]          Enhanced   \n",
       "2     NUP50   [Q9UKX7]  [Nucleoplasm, Nuclear membrane]          Enhanced   \n",
       "3   RANGAP1   [P46060]               [Nuclear membrane]          Enhanced   \n",
       "4       EMD   [P50402]               [Nuclear membrane]          Enhanced   \n",
       "\n",
       "  Subcellular_location  Length of ID Uniprot_id_str  \n",
       "0     Nuclear_membrane             1         P12270  \n",
       "1     Nuclear_membrane             1         O14980  \n",
       "2     Nuclear_membrane             1         Q9UKX7  \n",
       "3     Nuclear_membrane             1         P46060  \n",
       "4     Nuclear_membrane             1         P50402  "
      ]
     },
     "execution_count": 152,
     "metadata": {},
     "output_type": "execute_result"
    }
   ],
   "source": [
    "df_single_id.head()"
   ]
  },
  {
   "cell_type": "code",
   "execution_count": 153,
   "id": "e6b22fd6-efd0-4ff5-a2b7-61a9b719ce84",
   "metadata": {},
   "outputs": [],
   "source": [
    "df_single_id = df_single_id.drop(['Uniprot_id'], axis=1)\n",
    "df_single_id = df_single_id.rename(columns={'Uniprot_id_str': 'Uniprot_id'})"
   ]
  },
  {
   "cell_type": "code",
   "execution_count": 154,
   "id": "6583c0fe-8bfc-4c69-aad2-14e8bd52a4d8",
   "metadata": {
    "collapsed": true,
    "jupyter": {
     "outputs_hidden": true
    },
    "tags": []
   },
   "outputs": [
    {
     "data": {
      "text/html": [
       "<div>\n",
       "<style scoped>\n",
       "    .dataframe tbody tr th:only-of-type {\n",
       "        vertical-align: middle;\n",
       "    }\n",
       "\n",
       "    .dataframe tbody tr th {\n",
       "        vertical-align: top;\n",
       "    }\n",
       "\n",
       "    .dataframe thead th {\n",
       "        text-align: right;\n",
       "    }\n",
       "</style>\n",
       "<table border=\"1\" class=\"dataframe\">\n",
       "  <thead>\n",
       "    <tr style=\"text-align: right;\">\n",
       "      <th></th>\n",
       "      <th>Gene_name</th>\n",
       "      <th>Subcellular_loc_HPA</th>\n",
       "      <th>EvidenceLevel_HPA</th>\n",
       "      <th>Subcellular_location</th>\n",
       "      <th>Length of ID</th>\n",
       "      <th>Uniprot_id</th>\n",
       "    </tr>\n",
       "  </thead>\n",
       "  <tbody>\n",
       "    <tr>\n",
       "      <th>0</th>\n",
       "      <td>TPR</td>\n",
       "      <td>[Nuclear membrane]</td>\n",
       "      <td>Enhanced</td>\n",
       "      <td>Nuclear_membrane</td>\n",
       "      <td>1</td>\n",
       "      <td>P12270</td>\n",
       "    </tr>\n",
       "    <tr>\n",
       "      <th>1</th>\n",
       "      <td>XPO1</td>\n",
       "      <td>[Nucleoplasm, Nuclear membrane]</td>\n",
       "      <td>Enhanced</td>\n",
       "      <td>Nuclear_membrane</td>\n",
       "      <td>1</td>\n",
       "      <td>O14980</td>\n",
       "    </tr>\n",
       "    <tr>\n",
       "      <th>2</th>\n",
       "      <td>NUP50</td>\n",
       "      <td>[Nucleoplasm, Nuclear membrane]</td>\n",
       "      <td>Enhanced</td>\n",
       "      <td>Nuclear_membrane</td>\n",
       "      <td>1</td>\n",
       "      <td>Q9UKX7</td>\n",
       "    </tr>\n",
       "    <tr>\n",
       "      <th>3</th>\n",
       "      <td>RANGAP1</td>\n",
       "      <td>[Nuclear membrane]</td>\n",
       "      <td>Enhanced</td>\n",
       "      <td>Nuclear_membrane</td>\n",
       "      <td>1</td>\n",
       "      <td>P46060</td>\n",
       "    </tr>\n",
       "    <tr>\n",
       "      <th>4</th>\n",
       "      <td>EMD</td>\n",
       "      <td>[Nuclear membrane]</td>\n",
       "      <td>Enhanced</td>\n",
       "      <td>Nuclear_membrane</td>\n",
       "      <td>1</td>\n",
       "      <td>P50402</td>\n",
       "    </tr>\n",
       "  </tbody>\n",
       "</table>\n",
       "</div>"
      ],
      "text/plain": [
       "  Gene_name              Subcellular_loc_HPA EvidenceLevel_HPA  \\\n",
       "0       TPR               [Nuclear membrane]          Enhanced   \n",
       "1      XPO1  [Nucleoplasm, Nuclear membrane]          Enhanced   \n",
       "2     NUP50  [Nucleoplasm, Nuclear membrane]          Enhanced   \n",
       "3   RANGAP1               [Nuclear membrane]          Enhanced   \n",
       "4       EMD               [Nuclear membrane]          Enhanced   \n",
       "\n",
       "  Subcellular_location  Length of ID Uniprot_id  \n",
       "0     Nuclear_membrane             1     P12270  \n",
       "1     Nuclear_membrane             1     O14980  \n",
       "2     Nuclear_membrane             1     Q9UKX7  \n",
       "3     Nuclear_membrane             1     P46060  \n",
       "4     Nuclear_membrane             1     P50402  "
      ]
     },
     "execution_count": 154,
     "metadata": {},
     "output_type": "execute_result"
    }
   ],
   "source": [
    "df_single_id.head()"
   ]
  },
  {
   "cell_type": "markdown",
   "id": "863493ab-9840-4e1e-86d9-a648aeb4d4c9",
   "metadata": {},
   "source": [
    "##### Clean up before concat"
   ]
  },
  {
   "cell_type": "code",
   "execution_count": 156,
   "id": "4addf89e-47f0-409f-a1f7-bb95f2107322",
   "metadata": {},
   "outputs": [],
   "source": [
    "df_single_id = df_single_id.drop(['Length of ID'], axis=1)"
   ]
  },
  {
   "cell_type": "markdown",
   "id": "35e002f1-0490-4e60-8202-296b4f9bca14",
   "metadata": {},
   "source": [
    "##### Concat three dfs"
   ]
  },
  {
   "cell_type": "code",
   "execution_count": 159,
   "id": "46975898-ed96-4bb5-961d-2930b346c30e",
   "metadata": {},
   "outputs": [],
   "source": [
    "df_clean = pd.concat([df_single_id, df_multi_id, df_no_id])"
   ]
  },
  {
   "cell_type": "code",
   "execution_count": 160,
   "id": "0e25f2cf-a4dd-4122-ba89-0545ea8b3063",
   "metadata": {},
   "outputs": [
    {
     "name": "stdout",
     "output_type": "stream",
     "text": [
      "<class 'pandas.core.frame.DataFrame'>\n",
      "Int64Index: 7601 entries, 0 to 7455\n",
      "Data columns (total 5 columns):\n",
      " #   Column                Non-Null Count  Dtype \n",
      "---  ------                --------------  ----- \n",
      " 0   Gene_name             7601 non-null   object\n",
      " 1   Subcellular_loc_HPA   7601 non-null   object\n",
      " 2   EvidenceLevel_HPA     7601 non-null   object\n",
      " 3   Subcellular_location  7601 non-null   object\n",
      " 4   Uniprot_id            7601 non-null   object\n",
      "dtypes: object(5)\n",
      "memory usage: 356.3+ KB\n"
     ]
    }
   ],
   "source": [
    "df_clean.info()"
   ]
  },
  {
   "cell_type": "markdown",
   "id": "01b676bc-4a0b-4272-91d2-4db25bf1fe88",
   "metadata": {},
   "source": [
    "### 4. Export"
   ]
  },
  {
   "cell_type": "code",
   "execution_count": 161,
   "id": "06a50dca-5985-4b41-94aa-f3f81d1ea847",
   "metadata": {},
   "outputs": [],
   "source": [
    "df_clean.to_csv('./Output/HPA_NE-NP-ER_Hs.csv')"
   ]
  },
  {
   "cell_type": "code",
   "execution_count": null,
   "id": "d9e2c84e-eb4b-47de-bc82-8e64c53bf39a",
   "metadata": {},
   "outputs": [],
   "source": []
  }
 ],
 "metadata": {
  "kernelspec": {
   "display_name": "Python 3",
   "language": "python",
   "name": "python3"
  },
  "language_info": {
   "codemirror_mode": {
    "name": "ipython",
    "version": 3
   },
   "file_extension": ".py",
   "mimetype": "text/x-python",
   "name": "python",
   "nbconvert_exporter": "python",
   "pygments_lexer": "ipython3",
   "version": "3.8.8"
  }
 },
 "nbformat": 4,
 "nbformat_minor": 5
}
