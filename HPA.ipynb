{
 "cells": [
  {
   "cell_type": "code",
   "execution_count": 1,
   "id": "5e722194-23d7-485b-8f10-90ae7f4b3e8c",
   "metadata": {},
   "outputs": [],
   "source": [
    "import os, glob, json\n",
    "import numpy as np\n",
    "import pandas as pd\n",
    "import matplotlib.pyplot as plt"
   ]
  },
  {
   "cell_type": "markdown",
   "id": "0814e1ea-abf4-4274-8129-51e02783388f",
   "metadata": {},
   "source": [
    "### 1. Data import"
   ]
  },
  {
   "cell_type": "code",
   "execution_count": 2,
   "id": "c0a02937-2ba9-4ab9-a4b1-2d6adb3f7154",
   "metadata": {},
   "outputs": [],
   "source": [
    "# protein list from HPA\n",
    "# downloaded 3/14/22\n",
    "data_NE = 'subcell_location_Nuclear.json'\n",
    "# data_nucleoli = 'subcell_location_Nucleoli_Nucleoli.json' # Skipped cause Uniprot ID not present\n",
    "data_nucleoplasm = 'subcell_location_Nucleoplasm_Nuclear.json'\n",
    "data_ER = 'subcell_location_Endoplasmic.json'"
   ]
  },
  {
   "cell_type": "code",
   "execution_count": 21,
   "id": "82bf6d1f-b516-4d11-b0a2-4bf10f05a55a",
   "metadata": {},
   "outputs": [],
   "source": [
    "# Empty dataFrame\n",
    "df = pd.DataFrame()"
   ]
  },
  {
   "cell_type": "code",
   "execution_count": 22,
   "id": "5fd1fb9b-c888-4a28-a8d2-469f910b69b8",
   "metadata": {},
   "outputs": [
    {
     "name": "stdout",
     "output_type": "stream",
     "text": [
      "subcell_location_Nuclear.json 278\n",
      "subcell_location_Nucleoplasm_Nuclear.json 6784\n",
      "subcell_location_Endoplasmic.json 523\n"
     ]
    }
   ],
   "source": [
    "for filename in [data_NE, data_nucleoplasm, data_ER]:\n",
    "    with open('./SourceData/HPA/' + filename, 'r') as f:\n",
    "        data = json.load(f)\n",
    "\n",
    "    print(filename, len(data))\n",
    "\n",
    "    gene_name_list = []\n",
    "    uniprot_ID_list = []\n",
    "    subcell_loc_list = []\n",
    "    evidence_IF_list = []\n",
    "    \n",
    "    for gene in data:\n",
    "        gene_name_list.append(gene['Gene'])\n",
    "        uniprot_id = gene['Uniprot']\n",
    "        uniprot_ID_list.append(uniprot_id)\n",
    "        subcell_loc_list.append(gene['Subcellular main location'])\n",
    "        evidence_IF_list.append(gene['Reliability (IF)'])\n",
    "\n",
    "    _df = pd.DataFrame()\n",
    "    _df['Gene_name'] = gene_name_list\n",
    "    _df['Uniprot_id'] = uniprot_ID_list\n",
    "    _df['Subcellular_loc_HPA'] = subcell_loc_list\n",
    "    _df['EvidenceLevel_HPA'] = evidence_IF_list\n",
    "    _df['Filename'] = filename\n",
    "    \n",
    "    df = pd.concat([df, _df], axis=0)"
   ]
  },
  {
   "cell_type": "code",
   "execution_count": 23,
   "id": "d8368ffc-2a17-436f-bfc7-cb9ee6c2e118",
   "metadata": {},
   "outputs": [
    {
     "name": "stdout",
     "output_type": "stream",
     "text": [
      "<class 'pandas.core.frame.DataFrame'>\n",
      "Int64Index: 7585 entries, 0 to 522\n",
      "Data columns (total 5 columns):\n",
      " #   Column               Non-Null Count  Dtype \n",
      "---  ------               --------------  ----- \n",
      " 0   Gene_name            7585 non-null   object\n",
      " 1   Uniprot_id           7585 non-null   object\n",
      " 2   Subcellular_loc_HPA  7585 non-null   object\n",
      " 3   EvidenceLevel_HPA    7585 non-null   object\n",
      " 4   Filename             7585 non-null   object\n",
      "dtypes: object(5)\n",
      "memory usage: 355.5+ KB\n"
     ]
    }
   ],
   "source": [
    "df.info()"
   ]
  },
  {
   "cell_type": "code",
   "execution_count": 6,
   "id": "d3f2dbe3-7c46-4cf4-98eb-31c0ea196550",
   "metadata": {},
   "outputs": [],
   "source": [
    "# Put \"Subcellular location\" column based on the filenames\n",
    "df.loc[df['Filename'].str.contains(data_NE),'Subcellular_location'] = 'Nuclear_membrane'\n",
    "df.loc[df['Filename'].str.contains(data_nucleoplasm),'Subcellular_location'] = 'Nucleoplasm'\n",
    "df.loc[df['Filename'].str.contains(data_ER),'Subcellular_location'] = 'ER'"
   ]
  },
  {
   "cell_type": "code",
   "execution_count": 25,
   "id": "08b73f2a-f33e-46cb-8090-c78876dc957e",
   "metadata": {},
   "outputs": [],
   "source": [
    "# Clean up\n",
    "df = df.drop(['Filename'], axis=1)\n",
    "df = df.reset_index()"
   ]
  },
  {
   "cell_type": "code",
   "execution_count": 26,
   "id": "c37db55a-32bd-468c-86da-b23c159c2f18",
   "metadata": {},
   "outputs": [
    {
     "data": {
      "text/html": [
       "<div>\n",
       "<style scoped>\n",
       "    .dataframe tbody tr th:only-of-type {\n",
       "        vertical-align: middle;\n",
       "    }\n",
       "\n",
       "    .dataframe tbody tr th {\n",
       "        vertical-align: top;\n",
       "    }\n",
       "\n",
       "    .dataframe thead th {\n",
       "        text-align: right;\n",
       "    }\n",
       "</style>\n",
       "<table border=\"1\" class=\"dataframe\">\n",
       "  <thead>\n",
       "    <tr style=\"text-align: right;\">\n",
       "      <th></th>\n",
       "      <th>index</th>\n",
       "      <th>Gene_name</th>\n",
       "      <th>Uniprot_id</th>\n",
       "      <th>Subcellular_loc_HPA</th>\n",
       "      <th>EvidenceLevel_HPA</th>\n",
       "    </tr>\n",
       "  </thead>\n",
       "  <tbody>\n",
       "    <tr>\n",
       "      <th>7580</th>\n",
       "      <td>518</td>\n",
       "      <td>ZNF33B</td>\n",
       "      <td>[Q06732]</td>\n",
       "      <td>[Nucleoli fibrillar center, Endoplasmic reticu...</td>\n",
       "      <td>Approved</td>\n",
       "    </tr>\n",
       "    <tr>\n",
       "      <th>7581</th>\n",
       "      <td>519</td>\n",
       "      <td>ZNF501</td>\n",
       "      <td>[Q96CX3]</td>\n",
       "      <td>[Endoplasmic reticulum]</td>\n",
       "      <td>Approved</td>\n",
       "    </tr>\n",
       "    <tr>\n",
       "      <th>7582</th>\n",
       "      <td>520</td>\n",
       "      <td>ZNF804A</td>\n",
       "      <td>[Q7Z570]</td>\n",
       "      <td>[Endoplasmic reticulum]</td>\n",
       "      <td>Approved</td>\n",
       "    </tr>\n",
       "    <tr>\n",
       "      <th>7583</th>\n",
       "      <td>521</td>\n",
       "      <td>ZSCAN21</td>\n",
       "      <td>[Q9Y5A6]</td>\n",
       "      <td>[Endoplasmic reticulum]</td>\n",
       "      <td>Approved</td>\n",
       "    </tr>\n",
       "    <tr>\n",
       "      <th>7584</th>\n",
       "      <td>522</td>\n",
       "      <td>ZW10</td>\n",
       "      <td>[O43264]</td>\n",
       "      <td>[Endoplasmic reticulum, Cytosol]</td>\n",
       "      <td>Supported</td>\n",
       "    </tr>\n",
       "  </tbody>\n",
       "</table>\n",
       "</div>"
      ],
      "text/plain": [
       "      index Gene_name Uniprot_id  \\\n",
       "7580    518    ZNF33B   [Q06732]   \n",
       "7581    519    ZNF501   [Q96CX3]   \n",
       "7582    520   ZNF804A   [Q7Z570]   \n",
       "7583    521   ZSCAN21   [Q9Y5A6]   \n",
       "7584    522      ZW10   [O43264]   \n",
       "\n",
       "                                    Subcellular_loc_HPA EvidenceLevel_HPA  \n",
       "7580  [Nucleoli fibrillar center, Endoplasmic reticu...          Approved  \n",
       "7581                            [Endoplasmic reticulum]          Approved  \n",
       "7582                            [Endoplasmic reticulum]          Approved  \n",
       "7583                            [Endoplasmic reticulum]          Approved  \n",
       "7584                   [Endoplasmic reticulum, Cytosol]         Supported  "
      ]
     },
     "execution_count": 26,
     "metadata": {},
     "output_type": "execute_result"
    }
   ],
   "source": [
    "# Add\n",
    "# df.head()\n",
    "df.tail()"
   ]
  },
  {
   "cell_type": "code",
   "execution_count": null,
   "id": "a622537e-35d1-453d-acb0-d8893b4b3b30",
   "metadata": {},
   "outputs": [],
   "source": []
  }
 ],
 "metadata": {
  "kernelspec": {
   "display_name": "Python 3",
   "language": "python",
   "name": "python3"
  },
  "language_info": {
   "codemirror_mode": {
    "name": "ipython",
    "version": 3
   },
   "file_extension": ".py",
   "mimetype": "text/x-python",
   "name": "python",
   "nbconvert_exporter": "python",
   "pygments_lexer": "ipython3",
   "version": "3.8.8"
  }
 },
 "nbformat": 4,
 "nbformat_minor": 5
}
