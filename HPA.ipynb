{
 "cells": [
  {
   "cell_type": "code",
   "execution_count": 2,
   "id": "5e722194-23d7-485b-8f10-90ae7f4b3e8c",
   "metadata": {},
   "outputs": [],
   "source": [
    "import os, glob, json\n",
    "import numpy as np\n",
    "import pandas as pd\n",
    "import matplotlib.pyplot as plt"
   ]
  },
  {
   "cell_type": "markdown",
   "id": "0814e1ea-abf4-4274-8129-51e02783388f",
   "metadata": {},
   "source": [
    "### 1. Data import"
   ]
  },
  {
   "cell_type": "code",
   "execution_count": 1,
   "id": "c0a02937-2ba9-4ab9-a4b1-2d6adb3f7154",
   "metadata": {},
   "outputs": [],
   "source": [
    "# protein list from HPA\n",
    "# \n",
    "# downloaded 3/11/22\n",
    "file = 'subcell_location_Nuclear.json'"
   ]
  },
  {
   "cell_type": "code",
   "execution_count": 4,
   "id": "ef23d866-54ab-4292-9d06-07908a707e28",
   "metadata": {},
   "outputs": [
    {
     "data": {
      "text/plain": [
       "'/Users/ShokenLEE/Desktop/Codes/git/Nuclear_proteome'"
      ]
     },
     "execution_count": 4,
     "metadata": {},
     "output_type": "execute_result"
    }
   ],
   "source": [
    "os.getcwd()"
   ]
  },
  {
   "cell_type": "code",
   "execution_count": 5,
   "id": "5fd1fb9b-c888-4a28-a8d2-469f910b69b8",
   "metadata": {},
   "outputs": [],
   "source": [
    "with open('./SourceData/' + file, 'r') as f:\n",
    "  data = json.load(f)"
   ]
  },
  {
   "cell_type": "code",
   "execution_count": 9,
   "id": "4997de7d-1b36-4082-a53f-d6d66755cd45",
   "metadata": {},
   "outputs": [
    {
     "data": {
      "text/plain": [
       "278"
      ]
     },
     "execution_count": 9,
     "metadata": {},
     "output_type": "execute_result"
    }
   ],
   "source": [
    "# type(data)\n",
    "len(data)"
   ]
  },
  {
   "cell_type": "code",
   "execution_count": null,
   "id": "2b2a6937-efbd-4cd5-8793-4179cc455e6a",
   "metadata": {},
   "outputs": [],
   "source": []
  }
 ],
 "metadata": {
  "kernelspec": {
   "display_name": "Python 3",
   "language": "python",
   "name": "python3"
  },
  "language_info": {
   "codemirror_mode": {
    "name": "ipython",
    "version": 3
   },
   "file_extension": ".py",
   "mimetype": "text/x-python",
   "name": "python",
   "nbconvert_exporter": "python",
   "pygments_lexer": "ipython3",
   "version": "3.8.8"
  }
 },
 "nbformat": 4,
 "nbformat_minor": 5
}
