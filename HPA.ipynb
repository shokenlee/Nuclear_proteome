{
 "cells": [
  {
   "cell_type": "code",
   "execution_count": 3,
   "id": "5e722194-23d7-485b-8f10-90ae7f4b3e8c",
   "metadata": {},
   "outputs": [],
   "source": [
    "import os, glob, json\n",
    "import numpy as np\n",
    "import pandas as pd\n",
    "import matplotlib.pyplot as plt"
   ]
  },
  {
   "cell_type": "markdown",
   "id": "0814e1ea-abf4-4274-8129-51e02783388f",
   "metadata": {},
   "source": [
    "### 1. Data import"
   ]
  },
  {
   "cell_type": "code",
   "execution_count": 1,
   "id": "c0a02937-2ba9-4ab9-a4b1-2d6adb3f7154",
   "metadata": {},
   "outputs": [],
   "source": [
    "# protein list from HPA\n",
    "# downloaded 3/14/22\n",
    "data_NE = 'subcell_location_Nuclear.json'\n",
    "# data_nucleoli = 'subcell_location_Nucleoli_Nucleoli.json' # Skipped cause Uniprot ID not present\n",
    "data_nucleoplasm = 'subcell_location_Nucleoplasm_Nuclear.json'\n",
    "data_ER = 'subcell_location_Endoplasmic.json'"
   ]
  },
  {
   "cell_type": "code",
   "execution_count": 33,
   "id": "82bf6d1f-b516-4d11-b0a2-4bf10f05a55a",
   "metadata": {},
   "outputs": [],
   "source": [
    "# Empty dataFrame\n",
    "df = pd.DataFrame()"
   ]
  },
  {
   "cell_type": "code",
   "execution_count": 34,
   "id": "5fd1fb9b-c888-4a28-a8d2-469f910b69b8",
   "metadata": {},
   "outputs": [
    {
     "name": "stdout",
     "output_type": "stream",
     "text": [
      "subcell_location_Nuclear.json 278\n",
      "subcell_location_Nucleoplasm_Nuclear.json 6784\n",
      "subcell_location_Endoplasmic.json 523\n"
     ]
    }
   ],
   "source": [
    "for filename in [data_NE, data_nucleoplasm, data_ER]:\n",
    "    with open('./SourceData/' + filename, 'r') as f:\n",
    "        data = json.load(f)\n",
    "\n",
    "    print(filename, len(data))\n",
    "\n",
    "    gene_names = []\n",
    "    uniprot_ids = []\n",
    "    \n",
    "    for gene in data:\n",
    "        gene_names.append(gene['Gene'])\n",
    "        uniprot_id = gene['Uniprot']\n",
    "        uniprot_ids.append(uniprot_id)\n",
    "\n",
    "    _df = pd.DataFrame()\n",
    "    _df['Gene_name'] = gene_names\n",
    "    _df['Uniprot_id'] = uniprot_ids\n",
    "    _df['Filename'] = filename\n",
    "    \n",
    "    df = pd.concat([df, _df], axis=0)"
   ]
  },
  {
   "cell_type": "code",
   "execution_count": 35,
   "id": "d8368ffc-2a17-436f-bfc7-cb9ee6c2e118",
   "metadata": {},
   "outputs": [
    {
     "name": "stdout",
     "output_type": "stream",
     "text": [
      "<class 'pandas.core.frame.DataFrame'>\n",
      "Int64Index: 7585 entries, 0 to 522\n",
      "Data columns (total 3 columns):\n",
      " #   Column      Non-Null Count  Dtype \n",
      "---  ------      --------------  ----- \n",
      " 0   Gene_name   7585 non-null   object\n",
      " 1   Uniprot_id  7585 non-null   object\n",
      " 2   Filename    7585 non-null   object\n",
      "dtypes: object(3)\n",
      "memory usage: 237.0+ KB\n"
     ]
    }
   ],
   "source": [
    "df.info()"
   ]
  },
  {
   "cell_type": "code",
   "execution_count": 38,
   "id": "d3f2dbe3-7c46-4cf4-98eb-31c0ea196550",
   "metadata": {},
   "outputs": [],
   "source": [
    "# Put \"Subcellular location\" column based on the filenames\n",
    "df.loc[df['Filename'].str.contains(data_NE),'Subcellular_location'] = 'Nuclear_membrane'\n",
    "df.loc[df['Filename'].str.contains(data_nucleoplasm),'Subcellular_location'] = 'Nucleoplasm'\n",
    "df.loc[df['Filename'].str.contains(data_ER),'Subcellular_location'] = 'ER'"
   ]
  },
  {
   "cell_type": "code",
   "execution_count": 43,
   "id": "08b73f2a-f33e-46cb-8090-c78876dc957e",
   "metadata": {},
   "outputs": [],
   "source": [
    "# Clean up\n",
    "df = df.drop(['Filename'], axis=1)\n",
    "df = df.reset_index()"
   ]
  },
  {
   "cell_type": "code",
   "execution_count": null,
   "id": "c37db55a-32bd-468c-86da-b23c159c2f18",
   "metadata": {},
   "outputs": [],
   "source": []
  }
 ],
 "metadata": {
  "kernelspec": {
   "display_name": "Python 3",
   "language": "python",
   "name": "python3"
  },
  "language_info": {
   "codemirror_mode": {
    "name": "ipython",
    "version": 3
   },
   "file_extension": ".py",
   "mimetype": "text/x-python",
   "name": "python",
   "nbconvert_exporter": "python",
   "pygments_lexer": "ipython3",
   "version": "3.8.8"
  }
 },
 "nbformat": 4,
 "nbformat_minor": 5
}
